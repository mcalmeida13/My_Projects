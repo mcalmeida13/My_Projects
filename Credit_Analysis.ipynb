{
  "nbformat": 4,
  "nbformat_minor": 0,
  "metadata": {
    "colab": {
      "name": "Credit Analysis",
      "provenance": [],
      "authorship_tag": "ABX9TyPuof3Putoi00sDNaASPK3e",
      "include_colab_link": true
    },
    "kernelspec": {
      "name": "python3",
      "display_name": "Python 3"
    }
  },
  "cells": [
    {
      "cell_type": "markdown",
      "metadata": {
        "id": "view-in-github",
        "colab_type": "text"
      },
      "source": [
        "<a href=\"https://colab.research.google.com/github/mcalmeida13/My_Projects/blob/master/Credit_Analysis.ipynb\" target=\"_parent\"><img src=\"https://colab.research.google.com/assets/colab-badge.svg\" alt=\"Open In Colab\"/></a>"
      ]
    },
    {
      "cell_type": "markdown",
      "metadata": {
        "id": "nUJGSiE_kECm",
        "colab_type": "text"
      },
      "source": [
        "#Análise de crédito\n",
        "\n",
        "Concender crédito a um cliente não é tarefa fácil. Nessa hora, a tomada de decisão correta é imprescindível para que a empresa não tenha prejuízos catastróficos. Esse notebook fez parte de um processo seletivo para empresa Créditas."
      ]
    },
    {
      "cell_type": "code",
      "metadata": {
        "id": "oDs2AqP7VkSS",
        "colab_type": "code",
        "colab": {}
      },
      "source": [
        "import numpy as np # linear algebra\n",
        "import pandas as pd # data processing, CSV file I/O (e.g. pd.read_csv)\n",
        "import seaborn as sns\n",
        "import matplotlib\n",
        "import matplotlib.pyplot as plt\n",
        "import json\n",
        "# Input data files are available in the \"../input/\" directory.\n",
        "# For example, running this (by clicking run or pressing Shift+Enter) will list all files under the input directory"
      ],
      "execution_count": 61,
      "outputs": []
    },
    {
      "cell_type": "markdown",
      "metadata": {
        "id": "Jcu4ZFl5lE7S",
        "colab_type": "text"
      },
      "source": [
        "#Importanto dados\n",
        "\n",
        "Os dados foram concedidos pela própria empresa e eu coloquei no meu github para poder fazer a análise nesse notebook"
      ]
    },
    {
      "cell_type": "code",
      "metadata": {
        "id": "HIMu4nGbUgBX",
        "colab_type": "code",
        "colab": {
          "base_uri": "https://localhost:8080/",
          "height": 427
        },
        "outputId": "1147acbf-e72b-436d-b321-967347accf70"
      },
      "source": [
        "filename = \"https://raw.githubusercontent.com/mcalmeida13/interview/master/database%20-%20DataBase.csv\"\n",
        "df = pd.read_csv(filename)\n",
        "df"
      ],
      "execution_count": 62,
      "outputs": [
        {
          "output_type": "execute_result",
          "data": {
            "text/html": [
              "<div>\n",
              "<style scoped>\n",
              "    .dataframe tbody tr th:only-of-type {\n",
              "        vertical-align: middle;\n",
              "    }\n",
              "\n",
              "    .dataframe tbody tr th {\n",
              "        vertical-align: top;\n",
              "    }\n",
              "\n",
              "    .dataframe thead th {\n",
              "        text-align: right;\n",
              "    }\n",
              "</style>\n",
              "<table border=\"1\" class=\"dataframe\">\n",
              "  <thead>\n",
              "    <tr style=\"text-align: right;\">\n",
              "      <th></th>\n",
              "      <th>id</th>\n",
              "      <th>specific_type</th>\n",
              "      <th>created_at</th>\n",
              "      <th>gender</th>\n",
              "      <th>birth_date</th>\n",
              "      <th>phone_code</th>\n",
              "      <th>monthly_income</th>\n",
              "      <th>state</th>\n",
              "      <th>cpf_restriction</th>\n",
              "      <th>registration_form_closed</th>\n",
              "      <th>brand</th>\n",
              "      <th>model_year</th>\n",
              "      <th>auto_value</th>\n",
              "      <th>auto_debt</th>\n",
              "      <th>loan_amount</th>\n",
              "      <th>declares_income_tax</th>\n",
              "      <th>operation_status</th>\n",
              "    </tr>\n",
              "  </thead>\n",
              "  <tbody>\n",
              "    <tr>\n",
              "      <th>0</th>\n",
              "      <td>126413</td>\n",
              "      <td>Auto Equity</td>\n",
              "      <td>9/28/2013</td>\n",
              "      <td>male</td>\n",
              "      <td>11/13/1971</td>\n",
              "      <td>85.0</td>\n",
              "      <td>4000</td>\n",
              "      <td>NaN</td>\n",
              "      <td>NaN</td>\n",
              "      <td>0</td>\n",
              "      <td>wokvagem</td>\n",
              "      <td>1995.0</td>\n",
              "      <td>7000</td>\n",
              "      <td>0</td>\n",
              "      <td>NaN</td>\n",
              "      <td>0.0</td>\n",
              "      <td>NaN</td>\n",
              "    </tr>\n",
              "    <tr>\n",
              "      <th>1</th>\n",
              "      <td>125610</td>\n",
              "      <td>Auto Equity</td>\n",
              "      <td>7/22/2013</td>\n",
              "      <td>NaN</td>\n",
              "      <td>5/17/1991</td>\n",
              "      <td>31.0</td>\n",
              "      <td>900</td>\n",
              "      <td>NaN</td>\n",
              "      <td>NaN</td>\n",
              "      <td>0</td>\n",
              "      <td>fiat</td>\n",
              "      <td>1999.0</td>\n",
              "      <td>NaN</td>\n",
              "      <td>NaN</td>\n",
              "      <td>NaN</td>\n",
              "      <td>1.0</td>\n",
              "      <td>NaN</td>\n",
              "    </tr>\n",
              "    <tr>\n",
              "      <th>2</th>\n",
              "      <td>126523</td>\n",
              "      <td>Auto Equity</td>\n",
              "      <td>10/3/2013</td>\n",
              "      <td>female</td>\n",
              "      <td>1/14/1984</td>\n",
              "      <td>22.0</td>\n",
              "      <td>1000</td>\n",
              "      <td>NaN</td>\n",
              "      <td>NaN</td>\n",
              "      <td>0</td>\n",
              "      <td>honda</td>\n",
              "      <td>2011.0</td>\n",
              "      <td>NaN</td>\n",
              "      <td>0</td>\n",
              "      <td>NaN</td>\n",
              "      <td>0.0</td>\n",
              "      <td>NaN</td>\n",
              "    </tr>\n",
              "    <tr>\n",
              "      <th>3</th>\n",
              "      <td>125820</td>\n",
              "      <td>Auto Equity</td>\n",
              "      <td>8/12/2013</td>\n",
              "      <td>female</td>\n",
              "      <td>7/7/1995</td>\n",
              "      <td>81.0</td>\n",
              "      <td>700</td>\n",
              "      <td>NaN</td>\n",
              "      <td>NaN</td>\n",
              "      <td>0</td>\n",
              "      <td>fiat</td>\n",
              "      <td>2013.0</td>\n",
              "      <td>NaN</td>\n",
              "      <td>0</td>\n",
              "      <td>NaN</td>\n",
              "      <td>1.0</td>\n",
              "      <td>NaN</td>\n",
              "    </tr>\n",
              "    <tr>\n",
              "      <th>4</th>\n",
              "      <td>125863</td>\n",
              "      <td>Auto Equity</td>\n",
              "      <td>8/16/2013</td>\n",
              "      <td>male</td>\n",
              "      <td>12/23/1991</td>\n",
              "      <td>11.0</td>\n",
              "      <td>2500</td>\n",
              "      <td>NaN</td>\n",
              "      <td>NaN</td>\n",
              "      <td>0</td>\n",
              "      <td>volkswagen</td>\n",
              "      <td>2008.0</td>\n",
              "      <td>NaN</td>\n",
              "      <td>0</td>\n",
              "      <td>NaN</td>\n",
              "      <td>0.0</td>\n",
              "      <td>NaN</td>\n",
              "    </tr>\n",
              "    <tr>\n",
              "      <th>...</th>\n",
              "      <td>...</td>\n",
              "      <td>...</td>\n",
              "      <td>...</td>\n",
              "      <td>...</td>\n",
              "      <td>...</td>\n",
              "      <td>...</td>\n",
              "      <td>...</td>\n",
              "      <td>...</td>\n",
              "      <td>...</td>\n",
              "      <td>...</td>\n",
              "      <td>...</td>\n",
              "      <td>...</td>\n",
              "      <td>...</td>\n",
              "      <td>...</td>\n",
              "      <td>...</td>\n",
              "      <td>...</td>\n",
              "      <td>...</td>\n",
              "    </tr>\n",
              "    <tr>\n",
              "      <th>57177</th>\n",
              "      <td>637329</td>\n",
              "      <td>Auto Equity</td>\n",
              "      <td>2/11/2015</td>\n",
              "      <td>NaN</td>\n",
              "      <td>5/27/1989</td>\n",
              "      <td>31.0</td>\n",
              "      <td>NaN</td>\n",
              "      <td>SP</td>\n",
              "      <td>NaN</td>\n",
              "      <td>0</td>\n",
              "      <td>NaN</td>\n",
              "      <td>NaN</td>\n",
              "      <td>NaN</td>\n",
              "      <td>NaN</td>\n",
              "      <td>NaN</td>\n",
              "      <td>NaN</td>\n",
              "      <td>NaN</td>\n",
              "    </tr>\n",
              "    <tr>\n",
              "      <th>57178</th>\n",
              "      <td>637370</td>\n",
              "      <td>Auto Equity</td>\n",
              "      <td>2/11/2015</td>\n",
              "      <td>NaN</td>\n",
              "      <td>5/26/1952</td>\n",
              "      <td>41.0</td>\n",
              "      <td>NaN</td>\n",
              "      <td>PE</td>\n",
              "      <td>NaN</td>\n",
              "      <td>0</td>\n",
              "      <td>NaN</td>\n",
              "      <td>NaN</td>\n",
              "      <td>NaN</td>\n",
              "      <td>NaN</td>\n",
              "      <td>NaN</td>\n",
              "      <td>NaN</td>\n",
              "      <td>NaN</td>\n",
              "    </tr>\n",
              "    <tr>\n",
              "      <th>57179</th>\n",
              "      <td>637375</td>\n",
              "      <td>Auto Equity</td>\n",
              "      <td>2/11/2015</td>\n",
              "      <td>NaN</td>\n",
              "      <td>11/22/1983</td>\n",
              "      <td>41.0</td>\n",
              "      <td>NaN</td>\n",
              "      <td>SP</td>\n",
              "      <td>NaN</td>\n",
              "      <td>0</td>\n",
              "      <td>NaN</td>\n",
              "      <td>NaN</td>\n",
              "      <td>NaN</td>\n",
              "      <td>NaN</td>\n",
              "      <td>NaN</td>\n",
              "      <td>NaN</td>\n",
              "      <td>NaN</td>\n",
              "    </tr>\n",
              "    <tr>\n",
              "      <th>57180</th>\n",
              "      <td>1025857</td>\n",
              "      <td>Auto Equity</td>\n",
              "      <td>3/3/2016</td>\n",
              "      <td>male</td>\n",
              "      <td>11/20/1954</td>\n",
              "      <td>11.0</td>\n",
              "      <td>1300</td>\n",
              "      <td>NaN</td>\n",
              "      <td>NaN</td>\n",
              "      <td>1</td>\n",
              "      <td>Ford</td>\n",
              "      <td>2010.0</td>\n",
              "      <td>NaN</td>\n",
              "      <td>NaN</td>\n",
              "      <td>10000</td>\n",
              "      <td>NaN</td>\n",
              "      <td>NaN</td>\n",
              "    </tr>\n",
              "    <tr>\n",
              "      <th>57181</th>\n",
              "      <td>998011</td>\n",
              "      <td>Auto Equity</td>\n",
              "      <td>2/11/2016</td>\n",
              "      <td>male</td>\n",
              "      <td>5/14/1988</td>\n",
              "      <td>54.0</td>\n",
              "      <td>5000</td>\n",
              "      <td>RS</td>\n",
              "      <td>0.0</td>\n",
              "      <td>1</td>\n",
              "      <td>Fiat</td>\n",
              "      <td>2012.0</td>\n",
              "      <td>28500</td>\n",
              "      <td>0</td>\n",
              "      <td>25000</td>\n",
              "      <td>NaN</td>\n",
              "      <td>no_closed</td>\n",
              "    </tr>\n",
              "  </tbody>\n",
              "</table>\n",
              "<p>57182 rows × 17 columns</p>\n",
              "</div>"
            ],
            "text/plain": [
              "            id specific_type  ... declares_income_tax operation_status\n",
              "0       126413   Auto Equity  ...                 0.0              NaN\n",
              "1       125610   Auto Equity  ...                 1.0              NaN\n",
              "2       126523   Auto Equity  ...                 0.0              NaN\n",
              "3       125820   Auto Equity  ...                 1.0              NaN\n",
              "4       125863   Auto Equity  ...                 0.0              NaN\n",
              "...        ...           ...  ...                 ...              ...\n",
              "57177   637329   Auto Equity  ...                 NaN              NaN\n",
              "57178   637370   Auto Equity  ...                 NaN              NaN\n",
              "57179   637375   Auto Equity  ...                 NaN              NaN\n",
              "57180  1025857   Auto Equity  ...                 NaN              NaN\n",
              "57181   998011   Auto Equity  ...                 NaN        no_closed\n",
              "\n",
              "[57182 rows x 17 columns]"
            ]
          },
          "metadata": {
            "tags": []
          },
          "execution_count": 62
        }
      ]
    },
    {
      "cell_type": "markdown",
      "metadata": {
        "id": "WMYTejximsms",
        "colab_type": "text"
      },
      "source": [
        "Por conta da conversão do Excel, as variáveis ficaram no formato string, então para realizarmos cálculos, é necessário converter. Além disso, precisamos converter as datas em formato data"
      ]
    },
    {
      "cell_type": "code",
      "metadata": {
        "id": "43pi_yiSm9OO",
        "colab_type": "code",
        "colab": {}
      },
      "source": [
        "df['auto_value'] = pd.to_numeric(df['auto_value'],errors='coerce')\n",
        "df['loan_amount'] = pd.to_numeric(df['loan_amount'],errors='coerce')\n",
        "df['auto_debt'] = pd.to_numeric(df['auto_debt'],errors='coerce')\n",
        "df['monthly_income'] = pd.to_numeric(df['monthly_income'],errors='coerce')\n",
        "df['operation_status'] = df['operation_status'].fillna('no_closed')\n",
        "df['created_at'] = pd.to_datetime(df['created_at'])"
      ],
      "execution_count": 63,
      "outputs": []
    },
    {
      "cell_type": "markdown",
      "metadata": {
        "id": "dT_xe-mjlZ3Y",
        "colab_type": "text"
      },
      "source": [
        "Vemos que temos várias variáveis como 'NaN', algumas bem importantes como 'monthly_income', 'operation_status', 'cpf_restriction'\n",
        "\n",
        "\n",
        "Vamos preencher esses valores da seguinte forma\n",
        "\n",
        "\n",
        "*   Salário não declarado, valor do automóvel, débito, montante pedido será considerado 0\n",
        "*   CPF não regstrado será considerado CPF com restrição (1)\n",
        "*   Estado não declarado será considerado 'NO_STATE'\n",
        "*   Registration form NaN será considerado um formulário não terminado\n",
        "\n",
        "\n"
      ]
    },
    {
      "cell_type": "code",
      "metadata": {
        "id": "vGSnSqdlREUQ",
        "colab_type": "code",
        "colab": {}
      },
      "source": [
        "df['monthly_income'] = df['monthly_income'].fillna(0)\n",
        "df['cpf_restriction'] = df['cpf_restriction'].fillna(1)\n",
        "df['auto_value'] = df['auto_value'].fillna(0)\n",
        "df['loan_amount'] = df['loan_amount'].fillna(0)\n",
        "df['auto_debt'] = df['auto_debt'].fillna(0)\n",
        "df['monthly_income'] = df['monthly_income'].fillna(0)\n",
        "df['state'] = df['state'].fillna('NO_STATE')\n",
        "df['brand'] = df['brand'].fillna(0)\n",
        "df['registration_form_closed'] = df['registration_form_closed'].fillna(0)"
      ],
      "execution_count": 64,
      "outputs": []
    },
    {
      "cell_type": "code",
      "metadata": {
        "id": "H40mdKDlTFQs",
        "colab_type": "code",
        "colab": {
          "base_uri": "https://localhost:8080/",
          "height": 427
        },
        "outputId": "d0bef638-0a15-46bd-ef71-47d0004adaa1"
      },
      "source": [
        "df"
      ],
      "execution_count": 65,
      "outputs": [
        {
          "output_type": "execute_result",
          "data": {
            "text/html": [
              "<div>\n",
              "<style scoped>\n",
              "    .dataframe tbody tr th:only-of-type {\n",
              "        vertical-align: middle;\n",
              "    }\n",
              "\n",
              "    .dataframe tbody tr th {\n",
              "        vertical-align: top;\n",
              "    }\n",
              "\n",
              "    .dataframe thead th {\n",
              "        text-align: right;\n",
              "    }\n",
              "</style>\n",
              "<table border=\"1\" class=\"dataframe\">\n",
              "  <thead>\n",
              "    <tr style=\"text-align: right;\">\n",
              "      <th></th>\n",
              "      <th>id</th>\n",
              "      <th>specific_type</th>\n",
              "      <th>created_at</th>\n",
              "      <th>gender</th>\n",
              "      <th>birth_date</th>\n",
              "      <th>phone_code</th>\n",
              "      <th>monthly_income</th>\n",
              "      <th>state</th>\n",
              "      <th>cpf_restriction</th>\n",
              "      <th>registration_form_closed</th>\n",
              "      <th>brand</th>\n",
              "      <th>model_year</th>\n",
              "      <th>auto_value</th>\n",
              "      <th>auto_debt</th>\n",
              "      <th>loan_amount</th>\n",
              "      <th>declares_income_tax</th>\n",
              "      <th>operation_status</th>\n",
              "    </tr>\n",
              "  </thead>\n",
              "  <tbody>\n",
              "    <tr>\n",
              "      <th>0</th>\n",
              "      <td>126413</td>\n",
              "      <td>Auto Equity</td>\n",
              "      <td>2013-09-28</td>\n",
              "      <td>male</td>\n",
              "      <td>11/13/1971</td>\n",
              "      <td>85.0</td>\n",
              "      <td>4000.0</td>\n",
              "      <td>NO_STATE</td>\n",
              "      <td>1.0</td>\n",
              "      <td>0</td>\n",
              "      <td>wokvagem</td>\n",
              "      <td>1995.0</td>\n",
              "      <td>7000.0</td>\n",
              "      <td>0.0</td>\n",
              "      <td>0.0</td>\n",
              "      <td>0.0</td>\n",
              "      <td>no_closed</td>\n",
              "    </tr>\n",
              "    <tr>\n",
              "      <th>1</th>\n",
              "      <td>125610</td>\n",
              "      <td>Auto Equity</td>\n",
              "      <td>2013-07-22</td>\n",
              "      <td>NaN</td>\n",
              "      <td>5/17/1991</td>\n",
              "      <td>31.0</td>\n",
              "      <td>900.0</td>\n",
              "      <td>NO_STATE</td>\n",
              "      <td>1.0</td>\n",
              "      <td>0</td>\n",
              "      <td>fiat</td>\n",
              "      <td>1999.0</td>\n",
              "      <td>0.0</td>\n",
              "      <td>0.0</td>\n",
              "      <td>0.0</td>\n",
              "      <td>1.0</td>\n",
              "      <td>no_closed</td>\n",
              "    </tr>\n",
              "    <tr>\n",
              "      <th>2</th>\n",
              "      <td>126523</td>\n",
              "      <td>Auto Equity</td>\n",
              "      <td>2013-10-03</td>\n",
              "      <td>female</td>\n",
              "      <td>1/14/1984</td>\n",
              "      <td>22.0</td>\n",
              "      <td>1000.0</td>\n",
              "      <td>NO_STATE</td>\n",
              "      <td>1.0</td>\n",
              "      <td>0</td>\n",
              "      <td>honda</td>\n",
              "      <td>2011.0</td>\n",
              "      <td>0.0</td>\n",
              "      <td>0.0</td>\n",
              "      <td>0.0</td>\n",
              "      <td>0.0</td>\n",
              "      <td>no_closed</td>\n",
              "    </tr>\n",
              "    <tr>\n",
              "      <th>3</th>\n",
              "      <td>125820</td>\n",
              "      <td>Auto Equity</td>\n",
              "      <td>2013-08-12</td>\n",
              "      <td>female</td>\n",
              "      <td>7/7/1995</td>\n",
              "      <td>81.0</td>\n",
              "      <td>700.0</td>\n",
              "      <td>NO_STATE</td>\n",
              "      <td>1.0</td>\n",
              "      <td>0</td>\n",
              "      <td>fiat</td>\n",
              "      <td>2013.0</td>\n",
              "      <td>0.0</td>\n",
              "      <td>0.0</td>\n",
              "      <td>0.0</td>\n",
              "      <td>1.0</td>\n",
              "      <td>no_closed</td>\n",
              "    </tr>\n",
              "    <tr>\n",
              "      <th>4</th>\n",
              "      <td>125863</td>\n",
              "      <td>Auto Equity</td>\n",
              "      <td>2013-08-16</td>\n",
              "      <td>male</td>\n",
              "      <td>12/23/1991</td>\n",
              "      <td>11.0</td>\n",
              "      <td>2500.0</td>\n",
              "      <td>NO_STATE</td>\n",
              "      <td>1.0</td>\n",
              "      <td>0</td>\n",
              "      <td>volkswagen</td>\n",
              "      <td>2008.0</td>\n",
              "      <td>0.0</td>\n",
              "      <td>0.0</td>\n",
              "      <td>0.0</td>\n",
              "      <td>0.0</td>\n",
              "      <td>no_closed</td>\n",
              "    </tr>\n",
              "    <tr>\n",
              "      <th>...</th>\n",
              "      <td>...</td>\n",
              "      <td>...</td>\n",
              "      <td>...</td>\n",
              "      <td>...</td>\n",
              "      <td>...</td>\n",
              "      <td>...</td>\n",
              "      <td>...</td>\n",
              "      <td>...</td>\n",
              "      <td>...</td>\n",
              "      <td>...</td>\n",
              "      <td>...</td>\n",
              "      <td>...</td>\n",
              "      <td>...</td>\n",
              "      <td>...</td>\n",
              "      <td>...</td>\n",
              "      <td>...</td>\n",
              "      <td>...</td>\n",
              "    </tr>\n",
              "    <tr>\n",
              "      <th>57177</th>\n",
              "      <td>637329</td>\n",
              "      <td>Auto Equity</td>\n",
              "      <td>2015-02-11</td>\n",
              "      <td>NaN</td>\n",
              "      <td>5/27/1989</td>\n",
              "      <td>31.0</td>\n",
              "      <td>0.0</td>\n",
              "      <td>SP</td>\n",
              "      <td>1.0</td>\n",
              "      <td>0</td>\n",
              "      <td>0</td>\n",
              "      <td>NaN</td>\n",
              "      <td>0.0</td>\n",
              "      <td>0.0</td>\n",
              "      <td>0.0</td>\n",
              "      <td>NaN</td>\n",
              "      <td>no_closed</td>\n",
              "    </tr>\n",
              "    <tr>\n",
              "      <th>57178</th>\n",
              "      <td>637370</td>\n",
              "      <td>Auto Equity</td>\n",
              "      <td>2015-02-11</td>\n",
              "      <td>NaN</td>\n",
              "      <td>5/26/1952</td>\n",
              "      <td>41.0</td>\n",
              "      <td>0.0</td>\n",
              "      <td>PE</td>\n",
              "      <td>1.0</td>\n",
              "      <td>0</td>\n",
              "      <td>0</td>\n",
              "      <td>NaN</td>\n",
              "      <td>0.0</td>\n",
              "      <td>0.0</td>\n",
              "      <td>0.0</td>\n",
              "      <td>NaN</td>\n",
              "      <td>no_closed</td>\n",
              "    </tr>\n",
              "    <tr>\n",
              "      <th>57179</th>\n",
              "      <td>637375</td>\n",
              "      <td>Auto Equity</td>\n",
              "      <td>2015-02-11</td>\n",
              "      <td>NaN</td>\n",
              "      <td>11/22/1983</td>\n",
              "      <td>41.0</td>\n",
              "      <td>0.0</td>\n",
              "      <td>SP</td>\n",
              "      <td>1.0</td>\n",
              "      <td>0</td>\n",
              "      <td>0</td>\n",
              "      <td>NaN</td>\n",
              "      <td>0.0</td>\n",
              "      <td>0.0</td>\n",
              "      <td>0.0</td>\n",
              "      <td>NaN</td>\n",
              "      <td>no_closed</td>\n",
              "    </tr>\n",
              "    <tr>\n",
              "      <th>57180</th>\n",
              "      <td>1025857</td>\n",
              "      <td>Auto Equity</td>\n",
              "      <td>2016-03-03</td>\n",
              "      <td>male</td>\n",
              "      <td>11/20/1954</td>\n",
              "      <td>11.0</td>\n",
              "      <td>1300.0</td>\n",
              "      <td>NO_STATE</td>\n",
              "      <td>1.0</td>\n",
              "      <td>1</td>\n",
              "      <td>Ford</td>\n",
              "      <td>2010.0</td>\n",
              "      <td>0.0</td>\n",
              "      <td>0.0</td>\n",
              "      <td>10000.0</td>\n",
              "      <td>NaN</td>\n",
              "      <td>no_closed</td>\n",
              "    </tr>\n",
              "    <tr>\n",
              "      <th>57181</th>\n",
              "      <td>998011</td>\n",
              "      <td>Auto Equity</td>\n",
              "      <td>2016-02-11</td>\n",
              "      <td>male</td>\n",
              "      <td>5/14/1988</td>\n",
              "      <td>54.0</td>\n",
              "      <td>5000.0</td>\n",
              "      <td>RS</td>\n",
              "      <td>0.0</td>\n",
              "      <td>1</td>\n",
              "      <td>Fiat</td>\n",
              "      <td>2012.0</td>\n",
              "      <td>28500.0</td>\n",
              "      <td>0.0</td>\n",
              "      <td>25000.0</td>\n",
              "      <td>NaN</td>\n",
              "      <td>no_closed</td>\n",
              "    </tr>\n",
              "  </tbody>\n",
              "</table>\n",
              "<p>57182 rows × 17 columns</p>\n",
              "</div>"
            ],
            "text/plain": [
              "            id specific_type  ... declares_income_tax operation_status\n",
              "0       126413   Auto Equity  ...                 0.0        no_closed\n",
              "1       125610   Auto Equity  ...                 1.0        no_closed\n",
              "2       126523   Auto Equity  ...                 0.0        no_closed\n",
              "3       125820   Auto Equity  ...                 1.0        no_closed\n",
              "4       125863   Auto Equity  ...                 0.0        no_closed\n",
              "...        ...           ...  ...                 ...              ...\n",
              "57177   637329   Auto Equity  ...                 NaN        no_closed\n",
              "57178   637370   Auto Equity  ...                 NaN        no_closed\n",
              "57179   637375   Auto Equity  ...                 NaN        no_closed\n",
              "57180  1025857   Auto Equity  ...                 NaN        no_closed\n",
              "57181   998011   Auto Equity  ...                 NaN        no_closed\n",
              "\n",
              "[57182 rows x 17 columns]"
            ]
          },
          "metadata": {
            "tags": []
          },
          "execution_count": 65
        }
      ]
    },
    {
      "cell_type": "markdown",
      "metadata": {
        "id": "5wsnRZ05oHls",
        "colab_type": "text"
      },
      "source": [
        "# Análise do Status da operação \n",
        "\n",
        "Vamos verificar alguns pontos da coluna 'operation_status'. Primeiro vamos ver se tem algum valor NaN"
      ]
    },
    {
      "cell_type": "code",
      "metadata": {
        "id": "21rVxcAnN4iK",
        "colab_type": "code",
        "colab": {
          "base_uri": "https://localhost:8080/",
          "height": 33
        },
        "outputId": "94421072-88d3-4627-bedb-16612e8e2168"
      },
      "source": [
        "df['operation_status'].isnull().sum()"
      ],
      "execution_count": 66,
      "outputs": [
        {
          "output_type": "execute_result",
          "data": {
            "text/plain": [
              "0"
            ]
          },
          "metadata": {
            "tags": []
          },
          "execution_count": 66
        }
      ]
    },
    {
      "cell_type": "markdown",
      "metadata": {
        "id": "oXqzOrRkp_kJ",
        "colab_type": "text"
      },
      "source": [
        "Como esperado, não temos valores NaN porque todos foram convertidos a 'no_closed'. Vamos descrever quantos valores existem nessa categora para cada subcategoria"
      ]
    },
    {
      "cell_type": "code",
      "metadata": {
        "id": "eohBj9Kq-vUP",
        "colab_type": "code",
        "colab": {
          "base_uri": "https://localhost:8080/",
          "height": 83
        },
        "outputId": "a3ae504c-9aae-4df0-c735-2d1941f7407c"
      },
      "source": [
        "df['operation_status'].value_counts()"
      ],
      "execution_count": 67,
      "outputs": [
        {
          "output_type": "execute_result",
          "data": {
            "text/plain": [
              "no_closed    54311\n",
              "ongoing       2232\n",
              "closed         639\n",
              "Name: operation_status, dtype: int64"
            ]
          },
          "metadata": {
            "tags": []
          },
          "execution_count": 67
        }
      ]
    },
    {
      "cell_type": "markdown",
      "metadata": {
        "id": "VTb2m6ICqVa6",
        "colab_type": "text"
      },
      "source": [
        "Vemos que apenas 639 tiveram ele aprovado, 2232 estão em andamento e 51576 tiveram seus creditos negados, uma proporção muito pequena é aprovada"
      ]
    },
    {
      "cell_type": "markdown",
      "metadata": {
        "id": "KKC_yOA_oajF",
        "colab_type": "text"
      },
      "source": [
        "# Coluna salary e coluna car\n",
        "\n",
        "As vezes não é valor que importa, mas sim se ele é diferente de zero. Portanto vamos criar duas novas colunas para indicar que\n",
        "\n",
        "*  Cliente possuir carro (1) ou não (0)\n",
        "*  Cliente recebe salário (1) ou não(0)"
      ]
    },
    {
      "cell_type": "code",
      "metadata": {
        "id": "20csFG3ImXVe",
        "colab_type": "code",
        "colab": {}
      },
      "source": [
        "df['car'] = df.brand.apply(lambda x: 0 if  x == 0 else 1)\n",
        "df['salary'] = df.monthly_income.apply(lambda x: 0 if  x == 0 else 1)"
      ],
      "execution_count": 68,
      "outputs": []
    },
    {
      "cell_type": "markdown",
      "metadata": {
        "id": "oWe_2egRvvOe",
        "colab_type": "text"
      },
      "source": [
        "#Índice de dívidas\n",
        "\n",
        "Eu criei uma nova coluna chamada index que calcula quanto o cliente tem menos o quanto ele deve (seja real, debito no automovel, ou potencial, o quanto ele quer pedir de credito)\n"
      ]
    },
    {
      "cell_type": "code",
      "metadata": {
        "id": "0QWu5q4VZWOi",
        "colab_type": "code",
        "colab": {
          "base_uri": "https://localhost:8080/",
          "height": 427
        },
        "outputId": "b6299534-77fe-4edf-c70b-dc7daca608eb"
      },
      "source": [
        "df['index'] = (df['auto_value'] + df['monthly_income']) -(df['auto_debt'] + df['loan_amount'])\n",
        "df"
      ],
      "execution_count": 69,
      "outputs": [
        {
          "output_type": "execute_result",
          "data": {
            "text/html": [
              "<div>\n",
              "<style scoped>\n",
              "    .dataframe tbody tr th:only-of-type {\n",
              "        vertical-align: middle;\n",
              "    }\n",
              "\n",
              "    .dataframe tbody tr th {\n",
              "        vertical-align: top;\n",
              "    }\n",
              "\n",
              "    .dataframe thead th {\n",
              "        text-align: right;\n",
              "    }\n",
              "</style>\n",
              "<table border=\"1\" class=\"dataframe\">\n",
              "  <thead>\n",
              "    <tr style=\"text-align: right;\">\n",
              "      <th></th>\n",
              "      <th>id</th>\n",
              "      <th>specific_type</th>\n",
              "      <th>created_at</th>\n",
              "      <th>gender</th>\n",
              "      <th>birth_date</th>\n",
              "      <th>phone_code</th>\n",
              "      <th>monthly_income</th>\n",
              "      <th>state</th>\n",
              "      <th>cpf_restriction</th>\n",
              "      <th>registration_form_closed</th>\n",
              "      <th>brand</th>\n",
              "      <th>model_year</th>\n",
              "      <th>auto_value</th>\n",
              "      <th>auto_debt</th>\n",
              "      <th>loan_amount</th>\n",
              "      <th>declares_income_tax</th>\n",
              "      <th>operation_status</th>\n",
              "      <th>car</th>\n",
              "      <th>salary</th>\n",
              "      <th>index</th>\n",
              "    </tr>\n",
              "  </thead>\n",
              "  <tbody>\n",
              "    <tr>\n",
              "      <th>0</th>\n",
              "      <td>126413</td>\n",
              "      <td>Auto Equity</td>\n",
              "      <td>2013-09-28</td>\n",
              "      <td>male</td>\n",
              "      <td>11/13/1971</td>\n",
              "      <td>85.0</td>\n",
              "      <td>4000.0</td>\n",
              "      <td>NO_STATE</td>\n",
              "      <td>1.0</td>\n",
              "      <td>0</td>\n",
              "      <td>wokvagem</td>\n",
              "      <td>1995.0</td>\n",
              "      <td>7000.0</td>\n",
              "      <td>0.0</td>\n",
              "      <td>0.0</td>\n",
              "      <td>0.0</td>\n",
              "      <td>no_closed</td>\n",
              "      <td>1</td>\n",
              "      <td>1</td>\n",
              "      <td>11000.0</td>\n",
              "    </tr>\n",
              "    <tr>\n",
              "      <th>1</th>\n",
              "      <td>125610</td>\n",
              "      <td>Auto Equity</td>\n",
              "      <td>2013-07-22</td>\n",
              "      <td>NaN</td>\n",
              "      <td>5/17/1991</td>\n",
              "      <td>31.0</td>\n",
              "      <td>900.0</td>\n",
              "      <td>NO_STATE</td>\n",
              "      <td>1.0</td>\n",
              "      <td>0</td>\n",
              "      <td>fiat</td>\n",
              "      <td>1999.0</td>\n",
              "      <td>0.0</td>\n",
              "      <td>0.0</td>\n",
              "      <td>0.0</td>\n",
              "      <td>1.0</td>\n",
              "      <td>no_closed</td>\n",
              "      <td>1</td>\n",
              "      <td>1</td>\n",
              "      <td>900.0</td>\n",
              "    </tr>\n",
              "    <tr>\n",
              "      <th>2</th>\n",
              "      <td>126523</td>\n",
              "      <td>Auto Equity</td>\n",
              "      <td>2013-10-03</td>\n",
              "      <td>female</td>\n",
              "      <td>1/14/1984</td>\n",
              "      <td>22.0</td>\n",
              "      <td>1000.0</td>\n",
              "      <td>NO_STATE</td>\n",
              "      <td>1.0</td>\n",
              "      <td>0</td>\n",
              "      <td>honda</td>\n",
              "      <td>2011.0</td>\n",
              "      <td>0.0</td>\n",
              "      <td>0.0</td>\n",
              "      <td>0.0</td>\n",
              "      <td>0.0</td>\n",
              "      <td>no_closed</td>\n",
              "      <td>1</td>\n",
              "      <td>1</td>\n",
              "      <td>1000.0</td>\n",
              "    </tr>\n",
              "    <tr>\n",
              "      <th>3</th>\n",
              "      <td>125820</td>\n",
              "      <td>Auto Equity</td>\n",
              "      <td>2013-08-12</td>\n",
              "      <td>female</td>\n",
              "      <td>7/7/1995</td>\n",
              "      <td>81.0</td>\n",
              "      <td>700.0</td>\n",
              "      <td>NO_STATE</td>\n",
              "      <td>1.0</td>\n",
              "      <td>0</td>\n",
              "      <td>fiat</td>\n",
              "      <td>2013.0</td>\n",
              "      <td>0.0</td>\n",
              "      <td>0.0</td>\n",
              "      <td>0.0</td>\n",
              "      <td>1.0</td>\n",
              "      <td>no_closed</td>\n",
              "      <td>1</td>\n",
              "      <td>1</td>\n",
              "      <td>700.0</td>\n",
              "    </tr>\n",
              "    <tr>\n",
              "      <th>4</th>\n",
              "      <td>125863</td>\n",
              "      <td>Auto Equity</td>\n",
              "      <td>2013-08-16</td>\n",
              "      <td>male</td>\n",
              "      <td>12/23/1991</td>\n",
              "      <td>11.0</td>\n",
              "      <td>2500.0</td>\n",
              "      <td>NO_STATE</td>\n",
              "      <td>1.0</td>\n",
              "      <td>0</td>\n",
              "      <td>volkswagen</td>\n",
              "      <td>2008.0</td>\n",
              "      <td>0.0</td>\n",
              "      <td>0.0</td>\n",
              "      <td>0.0</td>\n",
              "      <td>0.0</td>\n",
              "      <td>no_closed</td>\n",
              "      <td>1</td>\n",
              "      <td>1</td>\n",
              "      <td>2500.0</td>\n",
              "    </tr>\n",
              "    <tr>\n",
              "      <th>...</th>\n",
              "      <td>...</td>\n",
              "      <td>...</td>\n",
              "      <td>...</td>\n",
              "      <td>...</td>\n",
              "      <td>...</td>\n",
              "      <td>...</td>\n",
              "      <td>...</td>\n",
              "      <td>...</td>\n",
              "      <td>...</td>\n",
              "      <td>...</td>\n",
              "      <td>...</td>\n",
              "      <td>...</td>\n",
              "      <td>...</td>\n",
              "      <td>...</td>\n",
              "      <td>...</td>\n",
              "      <td>...</td>\n",
              "      <td>...</td>\n",
              "      <td>...</td>\n",
              "      <td>...</td>\n",
              "      <td>...</td>\n",
              "    </tr>\n",
              "    <tr>\n",
              "      <th>57177</th>\n",
              "      <td>637329</td>\n",
              "      <td>Auto Equity</td>\n",
              "      <td>2015-02-11</td>\n",
              "      <td>NaN</td>\n",
              "      <td>5/27/1989</td>\n",
              "      <td>31.0</td>\n",
              "      <td>0.0</td>\n",
              "      <td>SP</td>\n",
              "      <td>1.0</td>\n",
              "      <td>0</td>\n",
              "      <td>0</td>\n",
              "      <td>NaN</td>\n",
              "      <td>0.0</td>\n",
              "      <td>0.0</td>\n",
              "      <td>0.0</td>\n",
              "      <td>NaN</td>\n",
              "      <td>no_closed</td>\n",
              "      <td>0</td>\n",
              "      <td>0</td>\n",
              "      <td>0.0</td>\n",
              "    </tr>\n",
              "    <tr>\n",
              "      <th>57178</th>\n",
              "      <td>637370</td>\n",
              "      <td>Auto Equity</td>\n",
              "      <td>2015-02-11</td>\n",
              "      <td>NaN</td>\n",
              "      <td>5/26/1952</td>\n",
              "      <td>41.0</td>\n",
              "      <td>0.0</td>\n",
              "      <td>PE</td>\n",
              "      <td>1.0</td>\n",
              "      <td>0</td>\n",
              "      <td>0</td>\n",
              "      <td>NaN</td>\n",
              "      <td>0.0</td>\n",
              "      <td>0.0</td>\n",
              "      <td>0.0</td>\n",
              "      <td>NaN</td>\n",
              "      <td>no_closed</td>\n",
              "      <td>0</td>\n",
              "      <td>0</td>\n",
              "      <td>0.0</td>\n",
              "    </tr>\n",
              "    <tr>\n",
              "      <th>57179</th>\n",
              "      <td>637375</td>\n",
              "      <td>Auto Equity</td>\n",
              "      <td>2015-02-11</td>\n",
              "      <td>NaN</td>\n",
              "      <td>11/22/1983</td>\n",
              "      <td>41.0</td>\n",
              "      <td>0.0</td>\n",
              "      <td>SP</td>\n",
              "      <td>1.0</td>\n",
              "      <td>0</td>\n",
              "      <td>0</td>\n",
              "      <td>NaN</td>\n",
              "      <td>0.0</td>\n",
              "      <td>0.0</td>\n",
              "      <td>0.0</td>\n",
              "      <td>NaN</td>\n",
              "      <td>no_closed</td>\n",
              "      <td>0</td>\n",
              "      <td>0</td>\n",
              "      <td>0.0</td>\n",
              "    </tr>\n",
              "    <tr>\n",
              "      <th>57180</th>\n",
              "      <td>1025857</td>\n",
              "      <td>Auto Equity</td>\n",
              "      <td>2016-03-03</td>\n",
              "      <td>male</td>\n",
              "      <td>11/20/1954</td>\n",
              "      <td>11.0</td>\n",
              "      <td>1300.0</td>\n",
              "      <td>NO_STATE</td>\n",
              "      <td>1.0</td>\n",
              "      <td>1</td>\n",
              "      <td>Ford</td>\n",
              "      <td>2010.0</td>\n",
              "      <td>0.0</td>\n",
              "      <td>0.0</td>\n",
              "      <td>10000.0</td>\n",
              "      <td>NaN</td>\n",
              "      <td>no_closed</td>\n",
              "      <td>1</td>\n",
              "      <td>1</td>\n",
              "      <td>-8700.0</td>\n",
              "    </tr>\n",
              "    <tr>\n",
              "      <th>57181</th>\n",
              "      <td>998011</td>\n",
              "      <td>Auto Equity</td>\n",
              "      <td>2016-02-11</td>\n",
              "      <td>male</td>\n",
              "      <td>5/14/1988</td>\n",
              "      <td>54.0</td>\n",
              "      <td>5000.0</td>\n",
              "      <td>RS</td>\n",
              "      <td>0.0</td>\n",
              "      <td>1</td>\n",
              "      <td>Fiat</td>\n",
              "      <td>2012.0</td>\n",
              "      <td>28500.0</td>\n",
              "      <td>0.0</td>\n",
              "      <td>25000.0</td>\n",
              "      <td>NaN</td>\n",
              "      <td>no_closed</td>\n",
              "      <td>1</td>\n",
              "      <td>1</td>\n",
              "      <td>8500.0</td>\n",
              "    </tr>\n",
              "  </tbody>\n",
              "</table>\n",
              "<p>57182 rows × 20 columns</p>\n",
              "</div>"
            ],
            "text/plain": [
              "            id specific_type created_at  ... car salary    index\n",
              "0       126413   Auto Equity 2013-09-28  ...   1      1  11000.0\n",
              "1       125610   Auto Equity 2013-07-22  ...   1      1    900.0\n",
              "2       126523   Auto Equity 2013-10-03  ...   1      1   1000.0\n",
              "3       125820   Auto Equity 2013-08-12  ...   1      1    700.0\n",
              "4       125863   Auto Equity 2013-08-16  ...   1      1   2500.0\n",
              "...        ...           ...        ...  ...  ..    ...      ...\n",
              "57177   637329   Auto Equity 2015-02-11  ...   0      0      0.0\n",
              "57178   637370   Auto Equity 2015-02-11  ...   0      0      0.0\n",
              "57179   637375   Auto Equity 2015-02-11  ...   0      0      0.0\n",
              "57180  1025857   Auto Equity 2016-03-03  ...   1      1  -8700.0\n",
              "57181   998011   Auto Equity 2016-02-11  ...   1      1   8500.0\n",
              "\n",
              "[57182 rows x 20 columns]"
            ]
          },
          "metadata": {
            "tags": []
          },
          "execution_count": 69
        }
      ]
    },
    {
      "cell_type": "markdown",
      "metadata": {
        "id": "WHef7ytfwGxm",
        "colab_type": "text"
      },
      "source": [
        "# Inspecionando os aprovados\n",
        "\n",
        "Vamos inspiecionar agora o subconjunto dos verdadeiros aprovados, clineters com valor 'operation_status' = 'closed'"
      ]
    },
    {
      "cell_type": "code",
      "metadata": {
        "id": "EALhepX4NXDC",
        "colab_type": "code",
        "colab": {
          "base_uri": "https://localhost:8080/",
          "height": 477
        },
        "outputId": "d9bd07d1-cce8-4f2e-b0ee-aba505054ee7"
      },
      "source": [
        "true_close = df[df['operation_status']=='closed']\n",
        "true_close"
      ],
      "execution_count": 70,
      "outputs": [
        {
          "output_type": "execute_result",
          "data": {
            "text/html": [
              "<div>\n",
              "<style scoped>\n",
              "    .dataframe tbody tr th:only-of-type {\n",
              "        vertical-align: middle;\n",
              "    }\n",
              "\n",
              "    .dataframe tbody tr th {\n",
              "        vertical-align: top;\n",
              "    }\n",
              "\n",
              "    .dataframe thead th {\n",
              "        text-align: right;\n",
              "    }\n",
              "</style>\n",
              "<table border=\"1\" class=\"dataframe\">\n",
              "  <thead>\n",
              "    <tr style=\"text-align: right;\">\n",
              "      <th></th>\n",
              "      <th>id</th>\n",
              "      <th>specific_type</th>\n",
              "      <th>created_at</th>\n",
              "      <th>gender</th>\n",
              "      <th>birth_date</th>\n",
              "      <th>phone_code</th>\n",
              "      <th>monthly_income</th>\n",
              "      <th>state</th>\n",
              "      <th>cpf_restriction</th>\n",
              "      <th>registration_form_closed</th>\n",
              "      <th>brand</th>\n",
              "      <th>model_year</th>\n",
              "      <th>auto_value</th>\n",
              "      <th>auto_debt</th>\n",
              "      <th>loan_amount</th>\n",
              "      <th>declares_income_tax</th>\n",
              "      <th>operation_status</th>\n",
              "      <th>car</th>\n",
              "      <th>salary</th>\n",
              "      <th>index</th>\n",
              "    </tr>\n",
              "  </thead>\n",
              "  <tbody>\n",
              "    <tr>\n",
              "      <th>31893</th>\n",
              "      <td>503222</td>\n",
              "      <td>Auto Equity</td>\n",
              "      <td>2014-08-22</td>\n",
              "      <td>female</td>\n",
              "      <td>12/16/1981</td>\n",
              "      <td>19.0</td>\n",
              "      <td>4500.0</td>\n",
              "      <td>SP</td>\n",
              "      <td>0.0</td>\n",
              "      <td>0</td>\n",
              "      <td>VW - VolksWagen</td>\n",
              "      <td>2011.0</td>\n",
              "      <td>32000.0</td>\n",
              "      <td>0.0</td>\n",
              "      <td>5000.0</td>\n",
              "      <td>NaN</td>\n",
              "      <td>closed</td>\n",
              "      <td>1</td>\n",
              "      <td>1</td>\n",
              "      <td>31500.0</td>\n",
              "    </tr>\n",
              "    <tr>\n",
              "      <th>31976</th>\n",
              "      <td>1033156</td>\n",
              "      <td>Auto Equity</td>\n",
              "      <td>2016-03-09</td>\n",
              "      <td>female</td>\n",
              "      <td>3/22/1981</td>\n",
              "      <td>11.0</td>\n",
              "      <td>2100.0</td>\n",
              "      <td>SP</td>\n",
              "      <td>0.0</td>\n",
              "      <td>1</td>\n",
              "      <td>Nissan</td>\n",
              "      <td>2012.0</td>\n",
              "      <td>27000.0</td>\n",
              "      <td>0.0</td>\n",
              "      <td>5000.0</td>\n",
              "      <td>NaN</td>\n",
              "      <td>closed</td>\n",
              "      <td>1</td>\n",
              "      <td>1</td>\n",
              "      <td>24100.0</td>\n",
              "    </tr>\n",
              "    <tr>\n",
              "      <th>32028</th>\n",
              "      <td>865736</td>\n",
              "      <td>Auto Equity</td>\n",
              "      <td>2015-09-04</td>\n",
              "      <td>male</td>\n",
              "      <td>12/4/1987</td>\n",
              "      <td>11.0</td>\n",
              "      <td>1800.0</td>\n",
              "      <td>SP</td>\n",
              "      <td>0.0</td>\n",
              "      <td>0</td>\n",
              "      <td>Renault</td>\n",
              "      <td>2011.0</td>\n",
              "      <td>25000.0</td>\n",
              "      <td>0.0</td>\n",
              "      <td>5000.0</td>\n",
              "      <td>NaN</td>\n",
              "      <td>closed</td>\n",
              "      <td>1</td>\n",
              "      <td>1</td>\n",
              "      <td>21800.0</td>\n",
              "    </tr>\n",
              "    <tr>\n",
              "      <th>32073</th>\n",
              "      <td>788593</td>\n",
              "      <td>Auto Equity</td>\n",
              "      <td>2015-05-27</td>\n",
              "      <td>male</td>\n",
              "      <td>1/17/1985</td>\n",
              "      <td>31.0</td>\n",
              "      <td>2675.0</td>\n",
              "      <td>MG</td>\n",
              "      <td>0.0</td>\n",
              "      <td>0</td>\n",
              "      <td>GM - Chevrolet</td>\n",
              "      <td>2011.0</td>\n",
              "      <td>23500.0</td>\n",
              "      <td>0.0</td>\n",
              "      <td>5000.0</td>\n",
              "      <td>NaN</td>\n",
              "      <td>closed</td>\n",
              "      <td>1</td>\n",
              "      <td>1</td>\n",
              "      <td>21175.0</td>\n",
              "    </tr>\n",
              "    <tr>\n",
              "      <th>32141</th>\n",
              "      <td>595237</td>\n",
              "      <td>Auto Equity</td>\n",
              "      <td>2014-12-16</td>\n",
              "      <td>male</td>\n",
              "      <td>9/7/1965</td>\n",
              "      <td>92.0</td>\n",
              "      <td>1980.0</td>\n",
              "      <td>AM</td>\n",
              "      <td>0.0</td>\n",
              "      <td>0</td>\n",
              "      <td>Peugeot</td>\n",
              "      <td>2011.0</td>\n",
              "      <td>21000.0</td>\n",
              "      <td>0.0</td>\n",
              "      <td>5000.0</td>\n",
              "      <td>NaN</td>\n",
              "      <td>closed</td>\n",
              "      <td>1</td>\n",
              "      <td>1</td>\n",
              "      <td>17980.0</td>\n",
              "    </tr>\n",
              "    <tr>\n",
              "      <th>...</th>\n",
              "      <td>...</td>\n",
              "      <td>...</td>\n",
              "      <td>...</td>\n",
              "      <td>...</td>\n",
              "      <td>...</td>\n",
              "      <td>...</td>\n",
              "      <td>...</td>\n",
              "      <td>...</td>\n",
              "      <td>...</td>\n",
              "      <td>...</td>\n",
              "      <td>...</td>\n",
              "      <td>...</td>\n",
              "      <td>...</td>\n",
              "      <td>...</td>\n",
              "      <td>...</td>\n",
              "      <td>...</td>\n",
              "      <td>...</td>\n",
              "      <td>...</td>\n",
              "      <td>...</td>\n",
              "      <td>...</td>\n",
              "    </tr>\n",
              "    <tr>\n",
              "      <th>56323</th>\n",
              "      <td>563243</td>\n",
              "      <td>Auto Equity</td>\n",
              "      <td>2014-10-31</td>\n",
              "      <td>NaN</td>\n",
              "      <td>8/28/1990</td>\n",
              "      <td>19.0</td>\n",
              "      <td>15000.0</td>\n",
              "      <td>SP</td>\n",
              "      <td>0.0</td>\n",
              "      <td>0</td>\n",
              "      <td>GM - Chevrolet</td>\n",
              "      <td>2014.0</td>\n",
              "      <td>80000.0</td>\n",
              "      <td>0.0</td>\n",
              "      <td>72000.0</td>\n",
              "      <td>NaN</td>\n",
              "      <td>closed</td>\n",
              "      <td>1</td>\n",
              "      <td>1</td>\n",
              "      <td>23000.0</td>\n",
              "    </tr>\n",
              "    <tr>\n",
              "      <th>56335</th>\n",
              "      <td>797169</td>\n",
              "      <td>Auto Equity</td>\n",
              "      <td>2015-06-06</td>\n",
              "      <td>male</td>\n",
              "      <td>9/24/1972</td>\n",
              "      <td>51.0</td>\n",
              "      <td>0.0</td>\n",
              "      <td>RS</td>\n",
              "      <td>0.0</td>\n",
              "      <td>0</td>\n",
              "      <td>Toyota</td>\n",
              "      <td>2007.0</td>\n",
              "      <td>84000.0</td>\n",
              "      <td>0.0</td>\n",
              "      <td>75600.0</td>\n",
              "      <td>NaN</td>\n",
              "      <td>closed</td>\n",
              "      <td>1</td>\n",
              "      <td>0</td>\n",
              "      <td>8400.0</td>\n",
              "    </tr>\n",
              "    <tr>\n",
              "      <th>56369</th>\n",
              "      <td>978186</td>\n",
              "      <td>Auto Equity</td>\n",
              "      <td>2016-01-26</td>\n",
              "      <td>male</td>\n",
              "      <td>4/12/1975</td>\n",
              "      <td>11.0</td>\n",
              "      <td>20000.0</td>\n",
              "      <td>SP</td>\n",
              "      <td>0.0</td>\n",
              "      <td>1</td>\n",
              "      <td>Kia Motors</td>\n",
              "      <td>2012.0</td>\n",
              "      <td>90000.0</td>\n",
              "      <td>0.0</td>\n",
              "      <td>81000.0</td>\n",
              "      <td>NaN</td>\n",
              "      <td>closed</td>\n",
              "      <td>1</td>\n",
              "      <td>1</td>\n",
              "      <td>29000.0</td>\n",
              "    </tr>\n",
              "    <tr>\n",
              "      <th>56514</th>\n",
              "      <td>836145</td>\n",
              "      <td>Auto Equity</td>\n",
              "      <td>2015-07-28</td>\n",
              "      <td>male</td>\n",
              "      <td>12/6/1959</td>\n",
              "      <td>11.0</td>\n",
              "      <td>0.0</td>\n",
              "      <td>SP</td>\n",
              "      <td>0.0</td>\n",
              "      <td>0</td>\n",
              "      <td>Mitsubishi</td>\n",
              "      <td>2014.0</td>\n",
              "      <td>158000.0</td>\n",
              "      <td>0.0</td>\n",
              "      <td>142200.0</td>\n",
              "      <td>NaN</td>\n",
              "      <td>closed</td>\n",
              "      <td>1</td>\n",
              "      <td>0</td>\n",
              "      <td>15800.0</td>\n",
              "    </tr>\n",
              "    <tr>\n",
              "      <th>56545</th>\n",
              "      <td>152370</td>\n",
              "      <td>Auto Equity</td>\n",
              "      <td>2013-08-28</td>\n",
              "      <td>NaN</td>\n",
              "      <td>8/3/1967</td>\n",
              "      <td>61.0</td>\n",
              "      <td>21000.0</td>\n",
              "      <td>DF</td>\n",
              "      <td>1.0</td>\n",
              "      <td>0</td>\n",
              "      <td>toyota</td>\n",
              "      <td>2006.0</td>\n",
              "      <td>0.0</td>\n",
              "      <td>0.0</td>\n",
              "      <td>0.0</td>\n",
              "      <td>0.0</td>\n",
              "      <td>closed</td>\n",
              "      <td>1</td>\n",
              "      <td>1</td>\n",
              "      <td>21000.0</td>\n",
              "    </tr>\n",
              "  </tbody>\n",
              "</table>\n",
              "<p>639 rows × 20 columns</p>\n",
              "</div>"
            ],
            "text/plain": [
              "            id specific_type created_at  ... car salary    index\n",
              "31893   503222   Auto Equity 2014-08-22  ...   1      1  31500.0\n",
              "31976  1033156   Auto Equity 2016-03-09  ...   1      1  24100.0\n",
              "32028   865736   Auto Equity 2015-09-04  ...   1      1  21800.0\n",
              "32073   788593   Auto Equity 2015-05-27  ...   1      1  21175.0\n",
              "32141   595237   Auto Equity 2014-12-16  ...   1      1  17980.0\n",
              "...        ...           ...        ...  ...  ..    ...      ...\n",
              "56323   563243   Auto Equity 2014-10-31  ...   1      1  23000.0\n",
              "56335   797169   Auto Equity 2015-06-06  ...   1      0   8400.0\n",
              "56369   978186   Auto Equity 2016-01-26  ...   1      1  29000.0\n",
              "56514   836145   Auto Equity 2015-07-28  ...   1      0  15800.0\n",
              "56545   152370   Auto Equity 2013-08-28  ...   1      1  21000.0\n",
              "\n",
              "[639 rows x 20 columns]"
            ]
          },
          "metadata": {
            "tags": []
          },
          "execution_count": 70
        }
      ]
    },
    {
      "cell_type": "markdown",
      "metadata": {
        "id": "ppuw-8LNZrOU",
        "colab_type": "text"
      },
      "source": [
        "### Correlação CPF vs Fechamento"
      ]
    },
    {
      "cell_type": "markdown",
      "metadata": {
        "id": "QGhOyPEdaCcQ",
        "colab_type": "text"
      },
      "source": [
        "Intuitivamente, o CPF irregular é um indicativo de não aprovação imediata para crédito do cliente"
      ]
    },
    {
      "cell_type": "code",
      "metadata": {
        "id": "kPV1jgTnZ6B0",
        "colab_type": "code",
        "colab": {
          "base_uri": "https://localhost:8080/",
          "height": 67
        },
        "outputId": "8dc77d60-699b-4abf-f307-dcd3f8bbe68f"
      },
      "source": [
        "true_close['cpf_restriction'].value_counts()"
      ],
      "execution_count": 71,
      "outputs": [
        {
          "output_type": "execute_result",
          "data": {
            "text/plain": [
              "0.0    570\n",
              "1.0     69\n",
              "Name: cpf_restriction, dtype: int64"
            ]
          },
          "metadata": {
            "tags": []
          },
          "execution_count": 71
        }
      ]
    },
    {
      "cell_type": "markdown",
      "metadata": {
        "id": "MA504i9naABN",
        "colab_type": "text"
      },
      "source": [
        "Vemos que o CPF limpo é um bom critério, ainda temos 69 clientes com CPF irregular. Vamos inspecionar esses clientes"
      ]
    },
    {
      "cell_type": "code",
      "metadata": {
        "id": "cg9iG-2hb4M4",
        "colab_type": "code",
        "colab": {
          "base_uri": "https://localhost:8080/",
          "height": 460
        },
        "outputId": "0d88fd1f-ab43-4bf9-9c10-b1d3d23fca5d"
      },
      "source": [
        "true_close[true_close['cpf_restriction'] == 1]"
      ],
      "execution_count": 72,
      "outputs": [
        {
          "output_type": "execute_result",
          "data": {
            "text/html": [
              "<div>\n",
              "<style scoped>\n",
              "    .dataframe tbody tr th:only-of-type {\n",
              "        vertical-align: middle;\n",
              "    }\n",
              "\n",
              "    .dataframe tbody tr th {\n",
              "        vertical-align: top;\n",
              "    }\n",
              "\n",
              "    .dataframe thead th {\n",
              "        text-align: right;\n",
              "    }\n",
              "</style>\n",
              "<table border=\"1\" class=\"dataframe\">\n",
              "  <thead>\n",
              "    <tr style=\"text-align: right;\">\n",
              "      <th></th>\n",
              "      <th>id</th>\n",
              "      <th>specific_type</th>\n",
              "      <th>created_at</th>\n",
              "      <th>gender</th>\n",
              "      <th>birth_date</th>\n",
              "      <th>phone_code</th>\n",
              "      <th>monthly_income</th>\n",
              "      <th>state</th>\n",
              "      <th>cpf_restriction</th>\n",
              "      <th>registration_form_closed</th>\n",
              "      <th>brand</th>\n",
              "      <th>model_year</th>\n",
              "      <th>auto_value</th>\n",
              "      <th>auto_debt</th>\n",
              "      <th>loan_amount</th>\n",
              "      <th>declares_income_tax</th>\n",
              "      <th>operation_status</th>\n",
              "      <th>car</th>\n",
              "      <th>salary</th>\n",
              "      <th>index</th>\n",
              "    </tr>\n",
              "  </thead>\n",
              "  <tbody>\n",
              "    <tr>\n",
              "      <th>33881</th>\n",
              "      <td>983808</td>\n",
              "      <td>Auto Equity</td>\n",
              "      <td>2016-01-29</td>\n",
              "      <td>male</td>\n",
              "      <td>7/27/1968</td>\n",
              "      <td>11.0</td>\n",
              "      <td>1400.0</td>\n",
              "      <td>SP</td>\n",
              "      <td>1.0</td>\n",
              "      <td>1</td>\n",
              "      <td>VW - VolksWagen</td>\n",
              "      <td>2012.0</td>\n",
              "      <td>30000.0</td>\n",
              "      <td>0.0</td>\n",
              "      <td>5000.0</td>\n",
              "      <td>NaN</td>\n",
              "      <td>closed</td>\n",
              "      <td>1</td>\n",
              "      <td>1</td>\n",
              "      <td>26400.0</td>\n",
              "    </tr>\n",
              "    <tr>\n",
              "      <th>36314</th>\n",
              "      <td>1030536</td>\n",
              "      <td>Auto Equity</td>\n",
              "      <td>2016-03-08</td>\n",
              "      <td>female</td>\n",
              "      <td>1/23/1965</td>\n",
              "      <td>11.0</td>\n",
              "      <td>8000.0</td>\n",
              "      <td>SP</td>\n",
              "      <td>1.0</td>\n",
              "      <td>0</td>\n",
              "      <td>Ford</td>\n",
              "      <td>2010.0</td>\n",
              "      <td>19000.0</td>\n",
              "      <td>0.0</td>\n",
              "      <td>7000.0</td>\n",
              "      <td>NaN</td>\n",
              "      <td>closed</td>\n",
              "      <td>1</td>\n",
              "      <td>1</td>\n",
              "      <td>20000.0</td>\n",
              "    </tr>\n",
              "    <tr>\n",
              "      <th>37543</th>\n",
              "      <td>796508</td>\n",
              "      <td>Auto Equity</td>\n",
              "      <td>2015-06-05</td>\n",
              "      <td>male</td>\n",
              "      <td>11/12/1971</td>\n",
              "      <td>12.0</td>\n",
              "      <td>4000.0</td>\n",
              "      <td>SP</td>\n",
              "      <td>1.0</td>\n",
              "      <td>0</td>\n",
              "      <td>GM - Chevrolet</td>\n",
              "      <td>1998.0</td>\n",
              "      <td>13000.0</td>\n",
              "      <td>0.0</td>\n",
              "      <td>9000.0</td>\n",
              "      <td>NaN</td>\n",
              "      <td>closed</td>\n",
              "      <td>1</td>\n",
              "      <td>1</td>\n",
              "      <td>8000.0</td>\n",
              "    </tr>\n",
              "    <tr>\n",
              "      <th>38535</th>\n",
              "      <td>337263</td>\n",
              "      <td>Auto Equity</td>\n",
              "      <td>2014-04-09</td>\n",
              "      <td>female</td>\n",
              "      <td>8/25/1982</td>\n",
              "      <td>41.0</td>\n",
              "      <td>25000.0</td>\n",
              "      <td>PR</td>\n",
              "      <td>1.0</td>\n",
              "      <td>0</td>\n",
              "      <td>Fiat</td>\n",
              "      <td>NaN</td>\n",
              "      <td>20000.0</td>\n",
              "      <td>0.0</td>\n",
              "      <td>10000.0</td>\n",
              "      <td>NaN</td>\n",
              "      <td>closed</td>\n",
              "      <td>1</td>\n",
              "      <td>1</td>\n",
              "      <td>35000.0</td>\n",
              "    </tr>\n",
              "    <tr>\n",
              "      <th>38536</th>\n",
              "      <td>374640</td>\n",
              "      <td>Auto Equity</td>\n",
              "      <td>2014-05-19</td>\n",
              "      <td>male</td>\n",
              "      <td>1/1/1960</td>\n",
              "      <td>85.0</td>\n",
              "      <td>10000.0</td>\n",
              "      <td>CE</td>\n",
              "      <td>1.0</td>\n",
              "      <td>0</td>\n",
              "      <td>Renault</td>\n",
              "      <td>NaN</td>\n",
              "      <td>20000.0</td>\n",
              "      <td>0.0</td>\n",
              "      <td>10000.0</td>\n",
              "      <td>NaN</td>\n",
              "      <td>closed</td>\n",
              "      <td>1</td>\n",
              "      <td>1</td>\n",
              "      <td>20000.0</td>\n",
              "    </tr>\n",
              "    <tr>\n",
              "      <th>...</th>\n",
              "      <td>...</td>\n",
              "      <td>...</td>\n",
              "      <td>...</td>\n",
              "      <td>...</td>\n",
              "      <td>...</td>\n",
              "      <td>...</td>\n",
              "      <td>...</td>\n",
              "      <td>...</td>\n",
              "      <td>...</td>\n",
              "      <td>...</td>\n",
              "      <td>...</td>\n",
              "      <td>...</td>\n",
              "      <td>...</td>\n",
              "      <td>...</td>\n",
              "      <td>...</td>\n",
              "      <td>...</td>\n",
              "      <td>...</td>\n",
              "      <td>...</td>\n",
              "      <td>...</td>\n",
              "      <td>...</td>\n",
              "    </tr>\n",
              "    <tr>\n",
              "      <th>55876</th>\n",
              "      <td>128335</td>\n",
              "      <td>Auto Equity</td>\n",
              "      <td>2013-02-15</td>\n",
              "      <td>NaN</td>\n",
              "      <td>NaN</td>\n",
              "      <td>61.0</td>\n",
              "      <td>25000.0</td>\n",
              "      <td>DF</td>\n",
              "      <td>1.0</td>\n",
              "      <td>0</td>\n",
              "      <td>Kia2400</td>\n",
              "      <td>2010.0</td>\n",
              "      <td>0.0</td>\n",
              "      <td>0.0</td>\n",
              "      <td>50000.0</td>\n",
              "      <td>1.0</td>\n",
              "      <td>closed</td>\n",
              "      <td>1</td>\n",
              "      <td>1</td>\n",
              "      <td>-25000.0</td>\n",
              "    </tr>\n",
              "    <tr>\n",
              "      <th>55973</th>\n",
              "      <td>125980</td>\n",
              "      <td>Auto Equity</td>\n",
              "      <td>2013-08-28</td>\n",
              "      <td>NaN</td>\n",
              "      <td>8/3/1967</td>\n",
              "      <td>61.0</td>\n",
              "      <td>21000.0</td>\n",
              "      <td>DF</td>\n",
              "      <td>1.0</td>\n",
              "      <td>0</td>\n",
              "      <td>toyota</td>\n",
              "      <td>2006.0</td>\n",
              "      <td>60000.0</td>\n",
              "      <td>0.0</td>\n",
              "      <td>54000.0</td>\n",
              "      <td>1.0</td>\n",
              "      <td>closed</td>\n",
              "      <td>1</td>\n",
              "      <td>1</td>\n",
              "      <td>27000.0</td>\n",
              "    </tr>\n",
              "    <tr>\n",
              "      <th>56155</th>\n",
              "      <td>126973</td>\n",
              "      <td>Auto Equity</td>\n",
              "      <td>2013-01-22</td>\n",
              "      <td>NaN</td>\n",
              "      <td>NaN</td>\n",
              "      <td>11.0</td>\n",
              "      <td>2500.0</td>\n",
              "      <td>SP</td>\n",
              "      <td>1.0</td>\n",
              "      <td>0</td>\n",
              "      <td>hyundai</td>\n",
              "      <td>2011.0</td>\n",
              "      <td>0.0</td>\n",
              "      <td>0.0</td>\n",
              "      <td>60000.0</td>\n",
              "      <td>1.0</td>\n",
              "      <td>closed</td>\n",
              "      <td>1</td>\n",
              "      <td>1</td>\n",
              "      <td>-57500.0</td>\n",
              "    </tr>\n",
              "    <tr>\n",
              "      <th>56273</th>\n",
              "      <td>128392</td>\n",
              "      <td>Auto Equity</td>\n",
              "      <td>2013-02-18</td>\n",
              "      <td>NaN</td>\n",
              "      <td>NaN</td>\n",
              "      <td>11.0</td>\n",
              "      <td>8000.0</td>\n",
              "      <td>SP</td>\n",
              "      <td>1.0</td>\n",
              "      <td>0</td>\n",
              "      <td>mitsubishi</td>\n",
              "      <td>2011.0</td>\n",
              "      <td>0.0</td>\n",
              "      <td>0.0</td>\n",
              "      <td>70000.0</td>\n",
              "      <td>1.0</td>\n",
              "      <td>closed</td>\n",
              "      <td>1</td>\n",
              "      <td>1</td>\n",
              "      <td>-62000.0</td>\n",
              "    </tr>\n",
              "    <tr>\n",
              "      <th>56545</th>\n",
              "      <td>152370</td>\n",
              "      <td>Auto Equity</td>\n",
              "      <td>2013-08-28</td>\n",
              "      <td>NaN</td>\n",
              "      <td>8/3/1967</td>\n",
              "      <td>61.0</td>\n",
              "      <td>21000.0</td>\n",
              "      <td>DF</td>\n",
              "      <td>1.0</td>\n",
              "      <td>0</td>\n",
              "      <td>toyota</td>\n",
              "      <td>2006.0</td>\n",
              "      <td>0.0</td>\n",
              "      <td>0.0</td>\n",
              "      <td>0.0</td>\n",
              "      <td>0.0</td>\n",
              "      <td>closed</td>\n",
              "      <td>1</td>\n",
              "      <td>1</td>\n",
              "      <td>21000.0</td>\n",
              "    </tr>\n",
              "  </tbody>\n",
              "</table>\n",
              "<p>69 rows × 20 columns</p>\n",
              "</div>"
            ],
            "text/plain": [
              "            id specific_type created_at  ... car salary    index\n",
              "33881   983808   Auto Equity 2016-01-29  ...   1      1  26400.0\n",
              "36314  1030536   Auto Equity 2016-03-08  ...   1      1  20000.0\n",
              "37543   796508   Auto Equity 2015-06-05  ...   1      1   8000.0\n",
              "38535   337263   Auto Equity 2014-04-09  ...   1      1  35000.0\n",
              "38536   374640   Auto Equity 2014-05-19  ...   1      1  20000.0\n",
              "...        ...           ...        ...  ...  ..    ...      ...\n",
              "55876   128335   Auto Equity 2013-02-15  ...   1      1 -25000.0\n",
              "55973   125980   Auto Equity 2013-08-28  ...   1      1  27000.0\n",
              "56155   126973   Auto Equity 2013-01-22  ...   1      1 -57500.0\n",
              "56273   128392   Auto Equity 2013-02-18  ...   1      1 -62000.0\n",
              "56545   152370   Auto Equity 2013-08-28  ...   1      1  21000.0\n",
              "\n",
              "[69 rows x 20 columns]"
            ]
          },
          "metadata": {
            "tags": []
          },
          "execution_count": 72
        }
      ]
    },
    {
      "cell_type": "markdown",
      "metadata": {
        "id": "pYwqozO2b2dH",
        "colab_type": "text"
      },
      "source": [
        "Vemos que a maioria são os primeiros clientes da Créditas"
      ]
    },
    {
      "cell_type": "markdown",
      "metadata": {
        "id": "6O1MiAizYxWA",
        "colab_type": "text"
      },
      "source": [
        "### Correlação Salário vs Fechamento"
      ]
    },
    {
      "cell_type": "code",
      "metadata": {
        "id": "sKssvwLDcKXD",
        "colab_type": "code",
        "colab": {
          "base_uri": "https://localhost:8080/",
          "height": 33
        },
        "outputId": "664d42d6-a709-4e5e-c7bc-8599525c587c"
      },
      "source": [
        "true_close[true_close['monthly_income'] == 0].shape"
      ],
      "execution_count": 73,
      "outputs": [
        {
          "output_type": "execute_result",
          "data": {
            "text/plain": [
              "(6, 20)"
            ]
          },
          "metadata": {
            "tags": []
          },
          "execution_count": 73
        }
      ]
    },
    {
      "cell_type": "markdown",
      "metadata": {
        "id": "pcLVqqI5eJMz",
        "colab_type": "text"
      },
      "source": [
        "Apenas 6 dos clientes não possuem renda mensal. Vamos inspecioná-los"
      ]
    },
    {
      "cell_type": "code",
      "metadata": {
        "id": "dH4HXbtYeW0m",
        "colab_type": "code",
        "colab": {
          "base_uri": "https://localhost:8080/",
          "height": 264
        },
        "outputId": "953d960d-32cb-40ed-e4cf-e2390999bf25"
      },
      "source": [
        "true_close[true_close['monthly_income'] == 0]"
      ],
      "execution_count": 74,
      "outputs": [
        {
          "output_type": "execute_result",
          "data": {
            "text/html": [
              "<div>\n",
              "<style scoped>\n",
              "    .dataframe tbody tr th:only-of-type {\n",
              "        vertical-align: middle;\n",
              "    }\n",
              "\n",
              "    .dataframe tbody tr th {\n",
              "        vertical-align: top;\n",
              "    }\n",
              "\n",
              "    .dataframe thead th {\n",
              "        text-align: right;\n",
              "    }\n",
              "</style>\n",
              "<table border=\"1\" class=\"dataframe\">\n",
              "  <thead>\n",
              "    <tr style=\"text-align: right;\">\n",
              "      <th></th>\n",
              "      <th>id</th>\n",
              "      <th>specific_type</th>\n",
              "      <th>created_at</th>\n",
              "      <th>gender</th>\n",
              "      <th>birth_date</th>\n",
              "      <th>phone_code</th>\n",
              "      <th>monthly_income</th>\n",
              "      <th>state</th>\n",
              "      <th>cpf_restriction</th>\n",
              "      <th>registration_form_closed</th>\n",
              "      <th>brand</th>\n",
              "      <th>model_year</th>\n",
              "      <th>auto_value</th>\n",
              "      <th>auto_debt</th>\n",
              "      <th>loan_amount</th>\n",
              "      <th>declares_income_tax</th>\n",
              "      <th>operation_status</th>\n",
              "      <th>car</th>\n",
              "      <th>salary</th>\n",
              "      <th>index</th>\n",
              "    </tr>\n",
              "  </thead>\n",
              "  <tbody>\n",
              "    <tr>\n",
              "      <th>38393</th>\n",
              "      <td>951836</td>\n",
              "      <td>Auto Equity</td>\n",
              "      <td>2015-12-28</td>\n",
              "      <td>female</td>\n",
              "      <td>8/6/1978</td>\n",
              "      <td>11.0</td>\n",
              "      <td>0.0</td>\n",
              "      <td>SP</td>\n",
              "      <td>0.0</td>\n",
              "      <td>0</td>\n",
              "      <td>Fiat</td>\n",
              "      <td>2010.0</td>\n",
              "      <td>25000.0</td>\n",
              "      <td>0.0</td>\n",
              "      <td>10000.0</td>\n",
              "      <td>NaN</td>\n",
              "      <td>closed</td>\n",
              "      <td>1</td>\n",
              "      <td>0</td>\n",
              "      <td>15000.0</td>\n",
              "    </tr>\n",
              "    <tr>\n",
              "      <th>54197</th>\n",
              "      <td>1043654</td>\n",
              "      <td>Auto Equity</td>\n",
              "      <td>2016-03-16</td>\n",
              "      <td>NaN</td>\n",
              "      <td>1/28/1957</td>\n",
              "      <td>21.0</td>\n",
              "      <td>0.0</td>\n",
              "      <td>RJ</td>\n",
              "      <td>0.0</td>\n",
              "      <td>0</td>\n",
              "      <td>Hyundai</td>\n",
              "      <td>2010.0</td>\n",
              "      <td>35000.0</td>\n",
              "      <td>0.0</td>\n",
              "      <td>31500.0</td>\n",
              "      <td>NaN</td>\n",
              "      <td>closed</td>\n",
              "      <td>1</td>\n",
              "      <td>0</td>\n",
              "      <td>3500.0</td>\n",
              "    </tr>\n",
              "    <tr>\n",
              "      <th>55827</th>\n",
              "      <td>941886</td>\n",
              "      <td>Auto Equity</td>\n",
              "      <td>2015-12-14</td>\n",
              "      <td>male</td>\n",
              "      <td>7/2/1972</td>\n",
              "      <td>13.0</td>\n",
              "      <td>0.0</td>\n",
              "      <td>SP</td>\n",
              "      <td>0.0</td>\n",
              "      <td>0</td>\n",
              "      <td>Hyundai</td>\n",
              "      <td>2012.0</td>\n",
              "      <td>86000.0</td>\n",
              "      <td>0.0</td>\n",
              "      <td>50000.0</td>\n",
              "      <td>NaN</td>\n",
              "      <td>closed</td>\n",
              "      <td>1</td>\n",
              "      <td>0</td>\n",
              "      <td>36000.0</td>\n",
              "    </tr>\n",
              "    <tr>\n",
              "      <th>56166</th>\n",
              "      <td>1038585</td>\n",
              "      <td>Auto Equity</td>\n",
              "      <td>2016-03-13</td>\n",
              "      <td>NaN</td>\n",
              "      <td>2/20/1980</td>\n",
              "      <td>11.0</td>\n",
              "      <td>0.0</td>\n",
              "      <td>SP</td>\n",
              "      <td>0.0</td>\n",
              "      <td>0</td>\n",
              "      <td>VW - VolksWagen</td>\n",
              "      <td>2013.0</td>\n",
              "      <td>100000.0</td>\n",
              "      <td>0.0</td>\n",
              "      <td>60000.0</td>\n",
              "      <td>NaN</td>\n",
              "      <td>closed</td>\n",
              "      <td>1</td>\n",
              "      <td>0</td>\n",
              "      <td>40000.0</td>\n",
              "    </tr>\n",
              "    <tr>\n",
              "      <th>56335</th>\n",
              "      <td>797169</td>\n",
              "      <td>Auto Equity</td>\n",
              "      <td>2015-06-06</td>\n",
              "      <td>male</td>\n",
              "      <td>9/24/1972</td>\n",
              "      <td>51.0</td>\n",
              "      <td>0.0</td>\n",
              "      <td>RS</td>\n",
              "      <td>0.0</td>\n",
              "      <td>0</td>\n",
              "      <td>Toyota</td>\n",
              "      <td>2007.0</td>\n",
              "      <td>84000.0</td>\n",
              "      <td>0.0</td>\n",
              "      <td>75600.0</td>\n",
              "      <td>NaN</td>\n",
              "      <td>closed</td>\n",
              "      <td>1</td>\n",
              "      <td>0</td>\n",
              "      <td>8400.0</td>\n",
              "    </tr>\n",
              "    <tr>\n",
              "      <th>56514</th>\n",
              "      <td>836145</td>\n",
              "      <td>Auto Equity</td>\n",
              "      <td>2015-07-28</td>\n",
              "      <td>male</td>\n",
              "      <td>12/6/1959</td>\n",
              "      <td>11.0</td>\n",
              "      <td>0.0</td>\n",
              "      <td>SP</td>\n",
              "      <td>0.0</td>\n",
              "      <td>0</td>\n",
              "      <td>Mitsubishi</td>\n",
              "      <td>2014.0</td>\n",
              "      <td>158000.0</td>\n",
              "      <td>0.0</td>\n",
              "      <td>142200.0</td>\n",
              "      <td>NaN</td>\n",
              "      <td>closed</td>\n",
              "      <td>1</td>\n",
              "      <td>0</td>\n",
              "      <td>15800.0</td>\n",
              "    </tr>\n",
              "  </tbody>\n",
              "</table>\n",
              "</div>"
            ],
            "text/plain": [
              "            id specific_type created_at  ... car salary    index\n",
              "38393   951836   Auto Equity 2015-12-28  ...   1      0  15000.0\n",
              "54197  1043654   Auto Equity 2016-03-16  ...   1      0   3500.0\n",
              "55827   941886   Auto Equity 2015-12-14  ...   1      0  36000.0\n",
              "56166  1038585   Auto Equity 2016-03-13  ...   1      0  40000.0\n",
              "56335   797169   Auto Equity 2015-06-06  ...   1      0   8400.0\n",
              "56514   836145   Auto Equity 2015-07-28  ...   1      0  15800.0\n",
              "\n",
              "[6 rows x 20 columns]"
            ]
          },
          "metadata": {
            "tags": []
          },
          "execution_count": 74
        }
      ]
    },
    {
      "cell_type": "markdown",
      "metadata": {
        "id": "T9dumdFaeSk3",
        "colab_type": "text"
      },
      "source": [
        "Podemos ver que apesar de não possuirem renda mensal, os clientes possuem automóvel e o valor pedido para crédito é inferior ao valor do carro.\n",
        "\n",
        "O que podemos concluir é que ter salário é importante, mas caso o cliente não possua pois está abrindo um negócio, por exemplo, ele pode usar seu carro como garantia. Então ter carro é um fator determinante;"
      ]
    },
    {
      "cell_type": "markdown",
      "metadata": {
        "id": "3AWmjwHVYus9",
        "colab_type": "text"
      },
      "source": [
        "### Correlação Carro vs Fechamento"
      ]
    },
    {
      "cell_type": "code",
      "metadata": {
        "id": "gJMWteAfdJd9",
        "colab_type": "code",
        "colab": {
          "base_uri": "https://localhost:8080/",
          "height": 33
        },
        "outputId": "df09f747-7eff-441e-daed-4828c2a0b86b"
      },
      "source": [
        "true_close[true_close['brand'] == 0].shape"
      ],
      "execution_count": 75,
      "outputs": [
        {
          "output_type": "execute_result",
          "data": {
            "text/plain": [
              "(0, 20)"
            ]
          },
          "metadata": {
            "tags": []
          },
          "execution_count": 75
        }
      ]
    },
    {
      "cell_type": "markdown",
      "metadata": {
        "id": "hwZZ9AdLdjd4",
        "colab_type": "text"
      },
      "source": [
        "Vemos que todos os aprovados tem carro, então é uma variável relevante, afinal, é o que será utilizado como garantia de crédito."
      ]
    },
    {
      "cell_type": "code",
      "metadata": {
        "id": "4EXatAucNhqT",
        "colab_type": "code",
        "colab": {
          "base_uri": "https://localhost:8080/",
          "height": 33
        },
        "outputId": "1723332a-3e79-44ea-cd7b-c0101ea2c1a3"
      },
      "source": [
        "true_close[true_close['auto_value'] == 0].shape"
      ],
      "execution_count": 76,
      "outputs": [
        {
          "output_type": "execute_result",
          "data": {
            "text/plain": [
              "(35, 20)"
            ]
          },
          "metadata": {
            "tags": []
          },
          "execution_count": 76
        }
      ]
    },
    {
      "cell_type": "markdown",
      "metadata": {
        "id": "V2FEtki2VPSy",
        "colab_type": "text"
      },
      "source": [
        "Vemos que o valor do carro é importante, afinal, estamos lidando com empréstimo onde a garantia é o automóvel"
      ]
    },
    {
      "cell_type": "code",
      "metadata": {
        "id": "E0tnjsp0e8Xj",
        "colab_type": "code",
        "colab": {
          "base_uri": "https://localhost:8080/",
          "height": 33
        },
        "outputId": "992c73dd-9d90-4cd9-b997-019279202aa0"
      },
      "source": [
        "true_close[true_close['auto_debt'] == 0].shape"
      ],
      "execution_count": 77,
      "outputs": [
        {
          "output_type": "execute_result",
          "data": {
            "text/plain": [
              "(606, 20)"
            ]
          },
          "metadata": {
            "tags": []
          },
          "execution_count": 77
        }
      ]
    },
    {
      "cell_type": "markdown",
      "metadata": {
        "id": "O8OhyZUOfAQp",
        "colab_type": "text"
      },
      "source": [
        "Novamente, a maioria dos clientes não tem débitos nos seus carros."
      ]
    },
    {
      "cell_type": "markdown",
      "metadata": {
        "id": "oWxJM1HcfUm3",
        "colab_type": "text"
      },
      "source": [
        "### Correlação Índice vs Fechamento\n",
        "\n",
        "Motivada pelas análises anteriores, vamos inspecionar se o 'index' dos clientes ser positivo é um fator relevante"
      ]
    },
    {
      "cell_type": "code",
      "metadata": {
        "id": "HiNpKnBDfjTR",
        "colab_type": "code",
        "colab": {
          "base_uri": "https://localhost:8080/",
          "height": 33
        },
        "outputId": "dd5a7791-6dc5-47d9-9fba-536f01f6914e"
      },
      "source": [
        "true_close[true_close['index']>=0].shape"
      ],
      "execution_count": 78,
      "outputs": [
        {
          "output_type": "execute_result",
          "data": {
            "text/plain": [
              "(601, 20)"
            ]
          },
          "metadata": {
            "tags": []
          },
          "execution_count": 78
        }
      ]
    },
    {
      "cell_type": "markdown",
      "metadata": {
        "id": "5aqgQGLrfsSL",
        "colab_type": "text"
      },
      "source": [
        "Vemos que a maioria tem um indice maior que zero. Vamos inspecionar explicitamente os negativos"
      ]
    },
    {
      "cell_type": "code",
      "metadata": {
        "id": "oZfbwocwf13K",
        "colab_type": "code",
        "colab": {
          "base_uri": "https://localhost:8080/",
          "height": 1000
        },
        "outputId": "12c563c7-2e62-49f0-b76a-487335df7126"
      },
      "source": [
        "true_close[true_close['index']< 0]"
      ],
      "execution_count": 79,
      "outputs": [
        {
          "output_type": "execute_result",
          "data": {
            "text/html": [
              "<div>\n",
              "<style scoped>\n",
              "    .dataframe tbody tr th:only-of-type {\n",
              "        vertical-align: middle;\n",
              "    }\n",
              "\n",
              "    .dataframe tbody tr th {\n",
              "        vertical-align: top;\n",
              "    }\n",
              "\n",
              "    .dataframe thead th {\n",
              "        text-align: right;\n",
              "    }\n",
              "</style>\n",
              "<table border=\"1\" class=\"dataframe\">\n",
              "  <thead>\n",
              "    <tr style=\"text-align: right;\">\n",
              "      <th></th>\n",
              "      <th>id</th>\n",
              "      <th>specific_type</th>\n",
              "      <th>created_at</th>\n",
              "      <th>gender</th>\n",
              "      <th>birth_date</th>\n",
              "      <th>phone_code</th>\n",
              "      <th>monthly_income</th>\n",
              "      <th>state</th>\n",
              "      <th>cpf_restriction</th>\n",
              "      <th>registration_form_closed</th>\n",
              "      <th>brand</th>\n",
              "      <th>model_year</th>\n",
              "      <th>auto_value</th>\n",
              "      <th>auto_debt</th>\n",
              "      <th>loan_amount</th>\n",
              "      <th>declares_income_tax</th>\n",
              "      <th>operation_status</th>\n",
              "      <th>car</th>\n",
              "      <th>salary</th>\n",
              "      <th>index</th>\n",
              "    </tr>\n",
              "  </thead>\n",
              "  <tbody>\n",
              "    <tr>\n",
              "      <th>43954</th>\n",
              "      <td>126969</td>\n",
              "      <td>Auto Equity</td>\n",
              "      <td>2013-02-10</td>\n",
              "      <td>NaN</td>\n",
              "      <td>NaN</td>\n",
              "      <td>11.0</td>\n",
              "      <td>1800.0</td>\n",
              "      <td>SP</td>\n",
              "      <td>1.0</td>\n",
              "      <td>0</td>\n",
              "      <td>fiat uno</td>\n",
              "      <td>2004.0</td>\n",
              "      <td>0.0</td>\n",
              "      <td>0.0</td>\n",
              "      <td>15000.0</td>\n",
              "      <td>1.0</td>\n",
              "      <td>closed</td>\n",
              "      <td>1</td>\n",
              "      <td>1</td>\n",
              "      <td>-13200.0</td>\n",
              "    </tr>\n",
              "    <tr>\n",
              "      <th>44258</th>\n",
              "      <td>126956</td>\n",
              "      <td>Auto Equity</td>\n",
              "      <td>2013-02-14</td>\n",
              "      <td>NaN</td>\n",
              "      <td>NaN</td>\n",
              "      <td>11.0</td>\n",
              "      <td>2000.0</td>\n",
              "      <td>SP</td>\n",
              "      <td>1.0</td>\n",
              "      <td>0</td>\n",
              "      <td>fiat</td>\n",
              "      <td>2006.0</td>\n",
              "      <td>0.0</td>\n",
              "      <td>0.0</td>\n",
              "      <td>15000.0</td>\n",
              "      <td>1.0</td>\n",
              "      <td>closed</td>\n",
              "      <td>1</td>\n",
              "      <td>1</td>\n",
              "      <td>-13000.0</td>\n",
              "    </tr>\n",
              "    <tr>\n",
              "      <th>44358</th>\n",
              "      <td>126966</td>\n",
              "      <td>Auto Equity</td>\n",
              "      <td>2013-02-19</td>\n",
              "      <td>NaN</td>\n",
              "      <td>NaN</td>\n",
              "      <td>41.0</td>\n",
              "      <td>1800.0</td>\n",
              "      <td>PR</td>\n",
              "      <td>1.0</td>\n",
              "      <td>0</td>\n",
              "      <td>wolksvagem</td>\n",
              "      <td>2006.0</td>\n",
              "      <td>0.0</td>\n",
              "      <td>0.0</td>\n",
              "      <td>15000.0</td>\n",
              "      <td>1.0</td>\n",
              "      <td>closed</td>\n",
              "      <td>1</td>\n",
              "      <td>1</td>\n",
              "      <td>-13200.0</td>\n",
              "    </tr>\n",
              "    <tr>\n",
              "      <th>44520</th>\n",
              "      <td>126952</td>\n",
              "      <td>Auto Equity</td>\n",
              "      <td>2013-03-15</td>\n",
              "      <td>NaN</td>\n",
              "      <td>NaN</td>\n",
              "      <td>81.0</td>\n",
              "      <td>2500.0</td>\n",
              "      <td>PE</td>\n",
              "      <td>1.0</td>\n",
              "      <td>0</td>\n",
              "      <td>VOLKSWAGEM</td>\n",
              "      <td>2007.0</td>\n",
              "      <td>0.0</td>\n",
              "      <td>0.0</td>\n",
              "      <td>15000.0</td>\n",
              "      <td>1.0</td>\n",
              "      <td>closed</td>\n",
              "      <td>1</td>\n",
              "      <td>1</td>\n",
              "      <td>-12500.0</td>\n",
              "    </tr>\n",
              "    <tr>\n",
              "      <th>44661</th>\n",
              "      <td>126960</td>\n",
              "      <td>Auto Equity</td>\n",
              "      <td>2013-03-04</td>\n",
              "      <td>NaN</td>\n",
              "      <td>NaN</td>\n",
              "      <td>11.0</td>\n",
              "      <td>3900.0</td>\n",
              "      <td>SP</td>\n",
              "      <td>1.0</td>\n",
              "      <td>0</td>\n",
              "      <td>Peugeot</td>\n",
              "      <td>2008.0</td>\n",
              "      <td>0.0</td>\n",
              "      <td>0.0</td>\n",
              "      <td>15000.0</td>\n",
              "      <td>1.0</td>\n",
              "      <td>closed</td>\n",
              "      <td>1</td>\n",
              "      <td>1</td>\n",
              "      <td>-11100.0</td>\n",
              "    </tr>\n",
              "    <tr>\n",
              "      <th>44757</th>\n",
              "      <td>152367</td>\n",
              "      <td>Auto Equity</td>\n",
              "      <td>2013-05-09</td>\n",
              "      <td>NaN</td>\n",
              "      <td>NaN</td>\n",
              "      <td>11.0</td>\n",
              "      <td>6000.0</td>\n",
              "      <td>SP</td>\n",
              "      <td>1.0</td>\n",
              "      <td>0</td>\n",
              "      <td>Ford</td>\n",
              "      <td>2009.0</td>\n",
              "      <td>0.0</td>\n",
              "      <td>0.0</td>\n",
              "      <td>15000.0</td>\n",
              "      <td>1.0</td>\n",
              "      <td>closed</td>\n",
              "      <td>1</td>\n",
              "      <td>1</td>\n",
              "      <td>-9000.0</td>\n",
              "    </tr>\n",
              "    <tr>\n",
              "      <th>44833</th>\n",
              "      <td>126971</td>\n",
              "      <td>Auto Equity</td>\n",
              "      <td>2013-01-26</td>\n",
              "      <td>NaN</td>\n",
              "      <td>NaN</td>\n",
              "      <td>41.0</td>\n",
              "      <td>8000.0</td>\n",
              "      <td>PR</td>\n",
              "      <td>1.0</td>\n",
              "      <td>0</td>\n",
              "      <td>CELTA</td>\n",
              "      <td>2010.0</td>\n",
              "      <td>0.0</td>\n",
              "      <td>0.0</td>\n",
              "      <td>15000.0</td>\n",
              "      <td>1.0</td>\n",
              "      <td>closed</td>\n",
              "      <td>1</td>\n",
              "      <td>1</td>\n",
              "      <td>-7000.0</td>\n",
              "    </tr>\n",
              "    <tr>\n",
              "      <th>44845</th>\n",
              "      <td>126967</td>\n",
              "      <td>Auto Equity</td>\n",
              "      <td>2013-02-18</td>\n",
              "      <td>NaN</td>\n",
              "      <td>NaN</td>\n",
              "      <td>11.0</td>\n",
              "      <td>5000.0</td>\n",
              "      <td>SP</td>\n",
              "      <td>1.0</td>\n",
              "      <td>0</td>\n",
              "      <td>CHEVROLET</td>\n",
              "      <td>2010.0</td>\n",
              "      <td>0.0</td>\n",
              "      <td>0.0</td>\n",
              "      <td>15000.0</td>\n",
              "      <td>1.0</td>\n",
              "      <td>closed</td>\n",
              "      <td>1</td>\n",
              "      <td>1</td>\n",
              "      <td>-10000.0</td>\n",
              "    </tr>\n",
              "    <tr>\n",
              "      <th>44882</th>\n",
              "      <td>127009</td>\n",
              "      <td>Auto Equity</td>\n",
              "      <td>2013-01-03</td>\n",
              "      <td>NaN</td>\n",
              "      <td>NaN</td>\n",
              "      <td>11.0</td>\n",
              "      <td>4000.0</td>\n",
              "      <td>SP</td>\n",
              "      <td>1.0</td>\n",
              "      <td>0</td>\n",
              "      <td>GM-CHEVROLET</td>\n",
              "      <td>2010.0</td>\n",
              "      <td>0.0</td>\n",
              "      <td>0.0</td>\n",
              "      <td>15000.0</td>\n",
              "      <td>1.0</td>\n",
              "      <td>closed</td>\n",
              "      <td>1</td>\n",
              "      <td>1</td>\n",
              "      <td>-11000.0</td>\n",
              "    </tr>\n",
              "    <tr>\n",
              "      <th>44884</th>\n",
              "      <td>128560</td>\n",
              "      <td>Auto Equity</td>\n",
              "      <td>2013-02-25</td>\n",
              "      <td>NaN</td>\n",
              "      <td>NaN</td>\n",
              "      <td>61.0</td>\n",
              "      <td>2100.0</td>\n",
              "      <td>DF</td>\n",
              "      <td>1.0</td>\n",
              "      <td>0</td>\n",
              "      <td>GOL 1.6 Power</td>\n",
              "      <td>2010.0</td>\n",
              "      <td>0.0</td>\n",
              "      <td>0.0</td>\n",
              "      <td>15000.0</td>\n",
              "      <td>1.0</td>\n",
              "      <td>closed</td>\n",
              "      <td>1</td>\n",
              "      <td>1</td>\n",
              "      <td>-12900.0</td>\n",
              "    </tr>\n",
              "    <tr>\n",
              "      <th>45087</th>\n",
              "      <td>128353</td>\n",
              "      <td>Auto Equity</td>\n",
              "      <td>2013-02-16</td>\n",
              "      <td>NaN</td>\n",
              "      <td>NaN</td>\n",
              "      <td>87.0</td>\n",
              "      <td>2700.0</td>\n",
              "      <td>PE</td>\n",
              "      <td>1.0</td>\n",
              "      <td>0</td>\n",
              "      <td>fiat</td>\n",
              "      <td>2012.0</td>\n",
              "      <td>0.0</td>\n",
              "      <td>0.0</td>\n",
              "      <td>15000.0</td>\n",
              "      <td>1.0</td>\n",
              "      <td>closed</td>\n",
              "      <td>1</td>\n",
              "      <td>1</td>\n",
              "      <td>-12300.0</td>\n",
              "    </tr>\n",
              "    <tr>\n",
              "      <th>46193</th>\n",
              "      <td>128668</td>\n",
              "      <td>Auto Equity</td>\n",
              "      <td>2013-02-28</td>\n",
              "      <td>NaN</td>\n",
              "      <td>NaN</td>\n",
              "      <td>61.0</td>\n",
              "      <td>3500.0</td>\n",
              "      <td>DF</td>\n",
              "      <td>1.0</td>\n",
              "      <td>0</td>\n",
              "      <td>peugeot</td>\n",
              "      <td>2006.0</td>\n",
              "      <td>0.0</td>\n",
              "      <td>0.0</td>\n",
              "      <td>16000.0</td>\n",
              "      <td>1.0</td>\n",
              "      <td>closed</td>\n",
              "      <td>1</td>\n",
              "      <td>1</td>\n",
              "      <td>-12500.0</td>\n",
              "    </tr>\n",
              "    <tr>\n",
              "      <th>48593</th>\n",
              "      <td>126972</td>\n",
              "      <td>Auto Equity</td>\n",
              "      <td>2013-01-26</td>\n",
              "      <td>NaN</td>\n",
              "      <td>NaN</td>\n",
              "      <td>41.0</td>\n",
              "      <td>4684.0</td>\n",
              "      <td>PR</td>\n",
              "      <td>1.0</td>\n",
              "      <td>0</td>\n",
              "      <td>Chevrolet</td>\n",
              "      <td>2008.0</td>\n",
              "      <td>0.0</td>\n",
              "      <td>0.0</td>\n",
              "      <td>19000.0</td>\n",
              "      <td>1.0</td>\n",
              "      <td>closed</td>\n",
              "      <td>1</td>\n",
              "      <td>1</td>\n",
              "      <td>-14316.0</td>\n",
              "    </tr>\n",
              "    <tr>\n",
              "      <th>49333</th>\n",
              "      <td>126962</td>\n",
              "      <td>Auto Equity</td>\n",
              "      <td>2013-02-20</td>\n",
              "      <td>NaN</td>\n",
              "      <td>NaN</td>\n",
              "      <td>41.0</td>\n",
              "      <td>8000.0</td>\n",
              "      <td>PR</td>\n",
              "      <td>1.0</td>\n",
              "      <td>0</td>\n",
              "      <td>ford</td>\n",
              "      <td>2006.0</td>\n",
              "      <td>0.0</td>\n",
              "      <td>0.0</td>\n",
              "      <td>20000.0</td>\n",
              "      <td>1.0</td>\n",
              "      <td>closed</td>\n",
              "      <td>1</td>\n",
              "      <td>1</td>\n",
              "      <td>-12000.0</td>\n",
              "    </tr>\n",
              "    <tr>\n",
              "      <th>49384</th>\n",
              "      <td>126957</td>\n",
              "      <td>Auto Equity</td>\n",
              "      <td>2013-03-11</td>\n",
              "      <td>NaN</td>\n",
              "      <td>NaN</td>\n",
              "      <td>11.0</td>\n",
              "      <td>5700.0</td>\n",
              "      <td>SP</td>\n",
              "      <td>1.0</td>\n",
              "      <td>0</td>\n",
              "      <td>VW</td>\n",
              "      <td>2007.0</td>\n",
              "      <td>0.0</td>\n",
              "      <td>0.0</td>\n",
              "      <td>20000.0</td>\n",
              "      <td>1.0</td>\n",
              "      <td>closed</td>\n",
              "      <td>1</td>\n",
              "      <td>1</td>\n",
              "      <td>-14300.0</td>\n",
              "    </tr>\n",
              "    <tr>\n",
              "      <th>49432</th>\n",
              "      <td>126953</td>\n",
              "      <td>Auto Equity</td>\n",
              "      <td>2013-03-12</td>\n",
              "      <td>NaN</td>\n",
              "      <td>NaN</td>\n",
              "      <td>94.0</td>\n",
              "      <td>4000.0</td>\n",
              "      <td>MG</td>\n",
              "      <td>1.0</td>\n",
              "      <td>0</td>\n",
              "      <td>Mitsubishi</td>\n",
              "      <td>2008.0</td>\n",
              "      <td>0.0</td>\n",
              "      <td>0.0</td>\n",
              "      <td>20000.0</td>\n",
              "      <td>1.0</td>\n",
              "      <td>closed</td>\n",
              "      <td>1</td>\n",
              "      <td>1</td>\n",
              "      <td>-16000.0</td>\n",
              "    </tr>\n",
              "    <tr>\n",
              "      <th>49487</th>\n",
              "      <td>126968</td>\n",
              "      <td>Auto Equity</td>\n",
              "      <td>2013-02-14</td>\n",
              "      <td>NaN</td>\n",
              "      <td>NaN</td>\n",
              "      <td>11.0</td>\n",
              "      <td>3500.0</td>\n",
              "      <td>SP</td>\n",
              "      <td>1.0</td>\n",
              "      <td>0</td>\n",
              "      <td>FORD FISTA 1.6 FLEX</td>\n",
              "      <td>2009.0</td>\n",
              "      <td>0.0</td>\n",
              "      <td>0.0</td>\n",
              "      <td>20000.0</td>\n",
              "      <td>1.0</td>\n",
              "      <td>closed</td>\n",
              "      <td>1</td>\n",
              "      <td>1</td>\n",
              "      <td>-16500.0</td>\n",
              "    </tr>\n",
              "    <tr>\n",
              "      <th>49567</th>\n",
              "      <td>126963</td>\n",
              "      <td>Auto Equity</td>\n",
              "      <td>2013-01-08</td>\n",
              "      <td>NaN</td>\n",
              "      <td>NaN</td>\n",
              "      <td>11.0</td>\n",
              "      <td>2000.0</td>\n",
              "      <td>SP</td>\n",
              "      <td>1.0</td>\n",
              "      <td>0</td>\n",
              "      <td>Chevrolet</td>\n",
              "      <td>2011.0</td>\n",
              "      <td>0.0</td>\n",
              "      <td>0.0</td>\n",
              "      <td>20000.0</td>\n",
              "      <td>1.0</td>\n",
              "      <td>closed</td>\n",
              "      <td>1</td>\n",
              "      <td>1</td>\n",
              "      <td>-18000.0</td>\n",
              "    </tr>\n",
              "    <tr>\n",
              "      <th>49601</th>\n",
              "      <td>127014</td>\n",
              "      <td>Auto Equity</td>\n",
              "      <td>2013-01-03</td>\n",
              "      <td>NaN</td>\n",
              "      <td>NaN</td>\n",
              "      <td>41.0</td>\n",
              "      <td>7800.0</td>\n",
              "      <td>PR</td>\n",
              "      <td>1.0</td>\n",
              "      <td>0</td>\n",
              "      <td>Hyundai</td>\n",
              "      <td>2011.0</td>\n",
              "      <td>0.0</td>\n",
              "      <td>0.0</td>\n",
              "      <td>20000.0</td>\n",
              "      <td>1.0</td>\n",
              "      <td>closed</td>\n",
              "      <td>1</td>\n",
              "      <td>1</td>\n",
              "      <td>-12200.0</td>\n",
              "    </tr>\n",
              "    <tr>\n",
              "      <th>49608</th>\n",
              "      <td>126964</td>\n",
              "      <td>Auto Equity</td>\n",
              "      <td>2013-03-03</td>\n",
              "      <td>NaN</td>\n",
              "      <td>NaN</td>\n",
              "      <td>11.0</td>\n",
              "      <td>1972.0</td>\n",
              "      <td>SP</td>\n",
              "      <td>1.0</td>\n",
              "      <td>0</td>\n",
              "      <td>RENAULT</td>\n",
              "      <td>2011.0</td>\n",
              "      <td>0.0</td>\n",
              "      <td>0.0</td>\n",
              "      <td>20000.0</td>\n",
              "      <td>1.0</td>\n",
              "      <td>closed</td>\n",
              "      <td>1</td>\n",
              "      <td>1</td>\n",
              "      <td>-18028.0</td>\n",
              "    </tr>\n",
              "    <tr>\n",
              "      <th>49635</th>\n",
              "      <td>152378</td>\n",
              "      <td>Auto Equity</td>\n",
              "      <td>2013-04-23</td>\n",
              "      <td>NaN</td>\n",
              "      <td>NaN</td>\n",
              "      <td>11.0</td>\n",
              "      <td>4000.0</td>\n",
              "      <td>SP</td>\n",
              "      <td>1.0</td>\n",
              "      <td>0</td>\n",
              "      <td>chevrolet</td>\n",
              "      <td>2012.0</td>\n",
              "      <td>0.0</td>\n",
              "      <td>0.0</td>\n",
              "      <td>20000.0</td>\n",
              "      <td>1.0</td>\n",
              "      <td>closed</td>\n",
              "      <td>1</td>\n",
              "      <td>1</td>\n",
              "      <td>-16000.0</td>\n",
              "    </tr>\n",
              "    <tr>\n",
              "      <th>51439</th>\n",
              "      <td>128691</td>\n",
              "      <td>Auto Equity</td>\n",
              "      <td>2013-03-01</td>\n",
              "      <td>NaN</td>\n",
              "      <td>NaN</td>\n",
              "      <td>11.0</td>\n",
              "      <td>1590.0</td>\n",
              "      <td>SP</td>\n",
              "      <td>1.0</td>\n",
              "      <td>0</td>\n",
              "      <td>Peugeot</td>\n",
              "      <td>2007.0</td>\n",
              "      <td>0.0</td>\n",
              "      <td>0.0</td>\n",
              "      <td>22800.0</td>\n",
              "      <td>1.0</td>\n",
              "      <td>closed</td>\n",
              "      <td>1</td>\n",
              "      <td>1</td>\n",
              "      <td>-21210.0</td>\n",
              "    </tr>\n",
              "    <tr>\n",
              "      <th>52054</th>\n",
              "      <td>128366</td>\n",
              "      <td>Auto Equity</td>\n",
              "      <td>2013-02-17</td>\n",
              "      <td>NaN</td>\n",
              "      <td>NaN</td>\n",
              "      <td>61.0</td>\n",
              "      <td>3500.0</td>\n",
              "      <td>DF</td>\n",
              "      <td>1.0</td>\n",
              "      <td>0</td>\n",
              "      <td>chevrolet</td>\n",
              "      <td>2006.0</td>\n",
              "      <td>0.0</td>\n",
              "      <td>0.0</td>\n",
              "      <td>25000.0</td>\n",
              "      <td>1.0</td>\n",
              "      <td>closed</td>\n",
              "      <td>1</td>\n",
              "      <td>1</td>\n",
              "      <td>-21500.0</td>\n",
              "    </tr>\n",
              "    <tr>\n",
              "      <th>52134</th>\n",
              "      <td>126954</td>\n",
              "      <td>Auto Equity</td>\n",
              "      <td>2013-03-21</td>\n",
              "      <td>NaN</td>\n",
              "      <td>NaN</td>\n",
              "      <td>92.0</td>\n",
              "      <td>1500.0</td>\n",
              "      <td>AM</td>\n",
              "      <td>1.0</td>\n",
              "      <td>0</td>\n",
              "      <td>vw voyage comfortiline 1,6</td>\n",
              "      <td>2009.0</td>\n",
              "      <td>0.0</td>\n",
              "      <td>0.0</td>\n",
              "      <td>25000.0</td>\n",
              "      <td>1.0</td>\n",
              "      <td>closed</td>\n",
              "      <td>1</td>\n",
              "      <td>1</td>\n",
              "      <td>-23500.0</td>\n",
              "    </tr>\n",
              "    <tr>\n",
              "      <th>52805</th>\n",
              "      <td>126961</td>\n",
              "      <td>Auto Equity</td>\n",
              "      <td>2013-02-26</td>\n",
              "      <td>NaN</td>\n",
              "      <td>NaN</td>\n",
              "      <td>11.0</td>\n",
              "      <td>12800.0</td>\n",
              "      <td>SP</td>\n",
              "      <td>1.0</td>\n",
              "      <td>0</td>\n",
              "      <td>Honda</td>\n",
              "      <td>2011.0</td>\n",
              "      <td>0.0</td>\n",
              "      <td>0.0</td>\n",
              "      <td>27000.0</td>\n",
              "      <td>1.0</td>\n",
              "      <td>closed</td>\n",
              "      <td>1</td>\n",
              "      <td>1</td>\n",
              "      <td>-14200.0</td>\n",
              "    </tr>\n",
              "    <tr>\n",
              "      <th>53587</th>\n",
              "      <td>125612</td>\n",
              "      <td>Auto Equity</td>\n",
              "      <td>2013-07-23</td>\n",
              "      <td>NaN</td>\n",
              "      <td>5/25/1984</td>\n",
              "      <td>11.0</td>\n",
              "      <td>5000.0</td>\n",
              "      <td>SP</td>\n",
              "      <td>1.0</td>\n",
              "      <td>0</td>\n",
              "      <td>Celta</td>\n",
              "      <td>2003.0</td>\n",
              "      <td>15000.0</td>\n",
              "      <td>0.0</td>\n",
              "      <td>30000.0</td>\n",
              "      <td>0.0</td>\n",
              "      <td>closed</td>\n",
              "      <td>1</td>\n",
              "      <td>1</td>\n",
              "      <td>-10000.0</td>\n",
              "    </tr>\n",
              "    <tr>\n",
              "      <th>53593</th>\n",
              "      <td>126970</td>\n",
              "      <td>Auto Equity</td>\n",
              "      <td>2013-01-30</td>\n",
              "      <td>NaN</td>\n",
              "      <td>NaN</td>\n",
              "      <td>41.0</td>\n",
              "      <td>4500.0</td>\n",
              "      <td>PR</td>\n",
              "      <td>1.0</td>\n",
              "      <td>0</td>\n",
              "      <td>CARGO VOLKS</td>\n",
              "      <td>2004.0</td>\n",
              "      <td>0.0</td>\n",
              "      <td>0.0</td>\n",
              "      <td>30000.0</td>\n",
              "      <td>1.0</td>\n",
              "      <td>closed</td>\n",
              "      <td>1</td>\n",
              "      <td>1</td>\n",
              "      <td>-25500.0</td>\n",
              "    </tr>\n",
              "    <tr>\n",
              "      <th>54636</th>\n",
              "      <td>126958</td>\n",
              "      <td>Auto Equity</td>\n",
              "      <td>2013-02-26</td>\n",
              "      <td>NaN</td>\n",
              "      <td>NaN</td>\n",
              "      <td>92.0</td>\n",
              "      <td>4000.0</td>\n",
              "      <td>AM</td>\n",
              "      <td>1.0</td>\n",
              "      <td>0</td>\n",
              "      <td>Audi</td>\n",
              "      <td>2005.0</td>\n",
              "      <td>0.0</td>\n",
              "      <td>0.0</td>\n",
              "      <td>35000.0</td>\n",
              "      <td>1.0</td>\n",
              "      <td>closed</td>\n",
              "      <td>1</td>\n",
              "      <td>1</td>\n",
              "      <td>-31000.0</td>\n",
              "    </tr>\n",
              "    <tr>\n",
              "      <th>54687</th>\n",
              "      <td>126955</td>\n",
              "      <td>Auto Equity</td>\n",
              "      <td>2013-03-21</td>\n",
              "      <td>NaN</td>\n",
              "      <td>NaN</td>\n",
              "      <td>11.0</td>\n",
              "      <td>12000.0</td>\n",
              "      <td>SP</td>\n",
              "      <td>1.0</td>\n",
              "      <td>0</td>\n",
              "      <td>Suzuki</td>\n",
              "      <td>2012.0</td>\n",
              "      <td>0.0</td>\n",
              "      <td>0.0</td>\n",
              "      <td>35000.0</td>\n",
              "      <td>0.0</td>\n",
              "      <td>closed</td>\n",
              "      <td>1</td>\n",
              "      <td>1</td>\n",
              "      <td>-23000.0</td>\n",
              "    </tr>\n",
              "    <tr>\n",
              "      <th>54688</th>\n",
              "      <td>126959</td>\n",
              "      <td>Auto Equity</td>\n",
              "      <td>2013-03-07</td>\n",
              "      <td>NaN</td>\n",
              "      <td>NaN</td>\n",
              "      <td>41.0</td>\n",
              "      <td>4706.0</td>\n",
              "      <td>PR</td>\n",
              "      <td>1.0</td>\n",
              "      <td>0</td>\n",
              "      <td>VOLKSWAGEN</td>\n",
              "      <td>2012.0</td>\n",
              "      <td>0.0</td>\n",
              "      <td>0.0</td>\n",
              "      <td>35000.0</td>\n",
              "      <td>1.0</td>\n",
              "      <td>closed</td>\n",
              "      <td>1</td>\n",
              "      <td>1</td>\n",
              "      <td>-30294.0</td>\n",
              "    </tr>\n",
              "    <tr>\n",
              "      <th>54742</th>\n",
              "      <td>885791</td>\n",
              "      <td>Auto Equity</td>\n",
              "      <td>2015-09-27</td>\n",
              "      <td>male</td>\n",
              "      <td>6/16/1986</td>\n",
              "      <td>11.0</td>\n",
              "      <td>5500.0</td>\n",
              "      <td>SP</td>\n",
              "      <td>0.0</td>\n",
              "      <td>0</td>\n",
              "      <td>VW - VolksWagen</td>\n",
              "      <td>2011.0</td>\n",
              "      <td>39000.0</td>\n",
              "      <td>12000.0</td>\n",
              "      <td>35100.0</td>\n",
              "      <td>NaN</td>\n",
              "      <td>closed</td>\n",
              "      <td>1</td>\n",
              "      <td>1</td>\n",
              "      <td>-2600.0</td>\n",
              "    </tr>\n",
              "    <tr>\n",
              "      <th>55241</th>\n",
              "      <td>126965</td>\n",
              "      <td>Auto Equity</td>\n",
              "      <td>2013-02-19</td>\n",
              "      <td>NaN</td>\n",
              "      <td>NaN</td>\n",
              "      <td>41.0</td>\n",
              "      <td>8000.0</td>\n",
              "      <td>PR</td>\n",
              "      <td>1.0</td>\n",
              "      <td>0</td>\n",
              "      <td>volvo</td>\n",
              "      <td>2010.0</td>\n",
              "      <td>0.0</td>\n",
              "      <td>0.0</td>\n",
              "      <td>40000.0</td>\n",
              "      <td>1.0</td>\n",
              "      <td>closed</td>\n",
              "      <td>1</td>\n",
              "      <td>1</td>\n",
              "      <td>-32000.0</td>\n",
              "    </tr>\n",
              "    <tr>\n",
              "      <th>55282</th>\n",
              "      <td>431186</td>\n",
              "      <td>Auto Equity</td>\n",
              "      <td>2014-07-11</td>\n",
              "      <td>male</td>\n",
              "      <td>8/3/1971</td>\n",
              "      <td>41.0</td>\n",
              "      <td>10000.0</td>\n",
              "      <td>PR</td>\n",
              "      <td>0.0</td>\n",
              "      <td>0</td>\n",
              "      <td>Kia Motors</td>\n",
              "      <td>2008.0</td>\n",
              "      <td>45000.0</td>\n",
              "      <td>40000.0</td>\n",
              "      <td>40000.0</td>\n",
              "      <td>NaN</td>\n",
              "      <td>closed</td>\n",
              "      <td>1</td>\n",
              "      <td>1</td>\n",
              "      <td>-25000.0</td>\n",
              "    </tr>\n",
              "    <tr>\n",
              "      <th>55875</th>\n",
              "      <td>127882</td>\n",
              "      <td>Auto Equity</td>\n",
              "      <td>2013-01-14</td>\n",
              "      <td>NaN</td>\n",
              "      <td>NaN</td>\n",
              "      <td>61.0</td>\n",
              "      <td>7800.0</td>\n",
              "      <td>DF</td>\n",
              "      <td>1.0</td>\n",
              "      <td>0</td>\n",
              "      <td>KIA</td>\n",
              "      <td>2010.0</td>\n",
              "      <td>0.0</td>\n",
              "      <td>0.0</td>\n",
              "      <td>50000.0</td>\n",
              "      <td>1.0</td>\n",
              "      <td>closed</td>\n",
              "      <td>1</td>\n",
              "      <td>1</td>\n",
              "      <td>-42200.0</td>\n",
              "    </tr>\n",
              "    <tr>\n",
              "      <th>55876</th>\n",
              "      <td>128335</td>\n",
              "      <td>Auto Equity</td>\n",
              "      <td>2013-02-15</td>\n",
              "      <td>NaN</td>\n",
              "      <td>NaN</td>\n",
              "      <td>61.0</td>\n",
              "      <td>25000.0</td>\n",
              "      <td>DF</td>\n",
              "      <td>1.0</td>\n",
              "      <td>0</td>\n",
              "      <td>Kia2400</td>\n",
              "      <td>2010.0</td>\n",
              "      <td>0.0</td>\n",
              "      <td>0.0</td>\n",
              "      <td>50000.0</td>\n",
              "      <td>1.0</td>\n",
              "      <td>closed</td>\n",
              "      <td>1</td>\n",
              "      <td>1</td>\n",
              "      <td>-25000.0</td>\n",
              "    </tr>\n",
              "    <tr>\n",
              "      <th>56107</th>\n",
              "      <td>557520</td>\n",
              "      <td>Auto Equity</td>\n",
              "      <td>2014-10-24</td>\n",
              "      <td>male</td>\n",
              "      <td>7/24/1981</td>\n",
              "      <td>51.0</td>\n",
              "      <td>8000.0</td>\n",
              "      <td>RS</td>\n",
              "      <td>0.0</td>\n",
              "      <td>0</td>\n",
              "      <td>Honda</td>\n",
              "      <td>2014.0</td>\n",
              "      <td>65000.0</td>\n",
              "      <td>18789.0</td>\n",
              "      <td>58500.0</td>\n",
              "      <td>NaN</td>\n",
              "      <td>closed</td>\n",
              "      <td>1</td>\n",
              "      <td>1</td>\n",
              "      <td>-4289.0</td>\n",
              "    </tr>\n",
              "    <tr>\n",
              "      <th>56155</th>\n",
              "      <td>126973</td>\n",
              "      <td>Auto Equity</td>\n",
              "      <td>2013-01-22</td>\n",
              "      <td>NaN</td>\n",
              "      <td>NaN</td>\n",
              "      <td>11.0</td>\n",
              "      <td>2500.0</td>\n",
              "      <td>SP</td>\n",
              "      <td>1.0</td>\n",
              "      <td>0</td>\n",
              "      <td>hyundai</td>\n",
              "      <td>2011.0</td>\n",
              "      <td>0.0</td>\n",
              "      <td>0.0</td>\n",
              "      <td>60000.0</td>\n",
              "      <td>1.0</td>\n",
              "      <td>closed</td>\n",
              "      <td>1</td>\n",
              "      <td>1</td>\n",
              "      <td>-57500.0</td>\n",
              "    </tr>\n",
              "    <tr>\n",
              "      <th>56273</th>\n",
              "      <td>128392</td>\n",
              "      <td>Auto Equity</td>\n",
              "      <td>2013-02-18</td>\n",
              "      <td>NaN</td>\n",
              "      <td>NaN</td>\n",
              "      <td>11.0</td>\n",
              "      <td>8000.0</td>\n",
              "      <td>SP</td>\n",
              "      <td>1.0</td>\n",
              "      <td>0</td>\n",
              "      <td>mitsubishi</td>\n",
              "      <td>2011.0</td>\n",
              "      <td>0.0</td>\n",
              "      <td>0.0</td>\n",
              "      <td>70000.0</td>\n",
              "      <td>1.0</td>\n",
              "      <td>closed</td>\n",
              "      <td>1</td>\n",
              "      <td>1</td>\n",
              "      <td>-62000.0</td>\n",
              "    </tr>\n",
              "  </tbody>\n",
              "</table>\n",
              "</div>"
            ],
            "text/plain": [
              "           id specific_type created_at  ... car salary    index\n",
              "43954  126969   Auto Equity 2013-02-10  ...   1      1 -13200.0\n",
              "44258  126956   Auto Equity 2013-02-14  ...   1      1 -13000.0\n",
              "44358  126966   Auto Equity 2013-02-19  ...   1      1 -13200.0\n",
              "44520  126952   Auto Equity 2013-03-15  ...   1      1 -12500.0\n",
              "44661  126960   Auto Equity 2013-03-04  ...   1      1 -11100.0\n",
              "44757  152367   Auto Equity 2013-05-09  ...   1      1  -9000.0\n",
              "44833  126971   Auto Equity 2013-01-26  ...   1      1  -7000.0\n",
              "44845  126967   Auto Equity 2013-02-18  ...   1      1 -10000.0\n",
              "44882  127009   Auto Equity 2013-01-03  ...   1      1 -11000.0\n",
              "44884  128560   Auto Equity 2013-02-25  ...   1      1 -12900.0\n",
              "45087  128353   Auto Equity 2013-02-16  ...   1      1 -12300.0\n",
              "46193  128668   Auto Equity 2013-02-28  ...   1      1 -12500.0\n",
              "48593  126972   Auto Equity 2013-01-26  ...   1      1 -14316.0\n",
              "49333  126962   Auto Equity 2013-02-20  ...   1      1 -12000.0\n",
              "49384  126957   Auto Equity 2013-03-11  ...   1      1 -14300.0\n",
              "49432  126953   Auto Equity 2013-03-12  ...   1      1 -16000.0\n",
              "49487  126968   Auto Equity 2013-02-14  ...   1      1 -16500.0\n",
              "49567  126963   Auto Equity 2013-01-08  ...   1      1 -18000.0\n",
              "49601  127014   Auto Equity 2013-01-03  ...   1      1 -12200.0\n",
              "49608  126964   Auto Equity 2013-03-03  ...   1      1 -18028.0\n",
              "49635  152378   Auto Equity 2013-04-23  ...   1      1 -16000.0\n",
              "51439  128691   Auto Equity 2013-03-01  ...   1      1 -21210.0\n",
              "52054  128366   Auto Equity 2013-02-17  ...   1      1 -21500.0\n",
              "52134  126954   Auto Equity 2013-03-21  ...   1      1 -23500.0\n",
              "52805  126961   Auto Equity 2013-02-26  ...   1      1 -14200.0\n",
              "53587  125612   Auto Equity 2013-07-23  ...   1      1 -10000.0\n",
              "53593  126970   Auto Equity 2013-01-30  ...   1      1 -25500.0\n",
              "54636  126958   Auto Equity 2013-02-26  ...   1      1 -31000.0\n",
              "54687  126955   Auto Equity 2013-03-21  ...   1      1 -23000.0\n",
              "54688  126959   Auto Equity 2013-03-07  ...   1      1 -30294.0\n",
              "54742  885791   Auto Equity 2015-09-27  ...   1      1  -2600.0\n",
              "55241  126965   Auto Equity 2013-02-19  ...   1      1 -32000.0\n",
              "55282  431186   Auto Equity 2014-07-11  ...   1      1 -25000.0\n",
              "55875  127882   Auto Equity 2013-01-14  ...   1      1 -42200.0\n",
              "55876  128335   Auto Equity 2013-02-15  ...   1      1 -25000.0\n",
              "56107  557520   Auto Equity 2014-10-24  ...   1      1  -4289.0\n",
              "56155  126973   Auto Equity 2013-01-22  ...   1      1 -57500.0\n",
              "56273  128392   Auto Equity 2013-02-18  ...   1      1 -62000.0\n",
              "\n",
              "[38 rows x 20 columns]"
            ]
          },
          "metadata": {
            "tags": []
          },
          "execution_count": 79
        }
      ]
    },
    {
      "cell_type": "markdown",
      "metadata": {
        "id": "h-T8TtiZgBPn",
        "colab_type": "text"
      },
      "source": [
        "Vemos que as pessoas com índice negativo, possuem uma boa renda mensal, mas alguns não possuem carro, negativando seu índice. Porém a pessoa possue capacidade clara de arcar com a dívida."
      ]
    },
    {
      "cell_type": "markdown",
      "metadata": {
        "id": "GPVUm8WJYqrP",
        "colab_type": "text"
      },
      "source": [
        "### Correlação Estado vs Fechamento"
      ]
    },
    {
      "cell_type": "code",
      "metadata": {
        "id": "Ub41xWKNW4PD",
        "colab_type": "code",
        "colab": {
          "base_uri": "https://localhost:8080/",
          "height": 367
        },
        "outputId": "3b88014d-5013-4da4-d0a9-12f36fda3aee"
      },
      "source": [
        "true_close['state'].value_counts()"
      ],
      "execution_count": 80,
      "outputs": [
        {
          "output_type": "execute_result",
          "data": {
            "text/plain": [
              "SP    411\n",
              "MG     43\n",
              "PR     41\n",
              "DF     33\n",
              "RJ     31\n",
              "RS     15\n",
              "PE     14\n",
              "CE     12\n",
              "BA      9\n",
              "AM      7\n",
              "GO      6\n",
              "SC      4\n",
              "MS      4\n",
              "RN      3\n",
              "PB      1\n",
              "MA      1\n",
              "PA      1\n",
              "SE      1\n",
              "ES      1\n",
              "TO      1\n",
              "Name: state, dtype: int64"
            ]
          },
          "metadata": {
            "tags": []
          },
          "execution_count": 80
        }
      ]
    },
    {
      "cell_type": "markdown",
      "metadata": {
        "id": "muOM24IUWPD1",
        "colab_type": "text"
      },
      "source": [
        "A distribuição estadual de clientes está concentrada na região Sudeste,provavelmente porque lá a Créditas foi fundada."
      ]
    },
    {
      "cell_type": "code",
      "metadata": {
        "id": "4lKTJPoR-OfR",
        "colab_type": "code",
        "colab": {
          "base_uri": "https://localhost:8080/",
          "height": 677
        },
        "outputId": "3df34d94-6840-4bc7-a40a-393ebe29edc2"
      },
      "source": [
        "true_close.groupby('state').sum()"
      ],
      "execution_count": 81,
      "outputs": [
        {
          "output_type": "execute_result",
          "data": {
            "text/html": [
              "<div>\n",
              "<style scoped>\n",
              "    .dataframe tbody tr th:only-of-type {\n",
              "        vertical-align: middle;\n",
              "    }\n",
              "\n",
              "    .dataframe tbody tr th {\n",
              "        vertical-align: top;\n",
              "    }\n",
              "\n",
              "    .dataframe thead th {\n",
              "        text-align: right;\n",
              "    }\n",
              "</style>\n",
              "<table border=\"1\" class=\"dataframe\">\n",
              "  <thead>\n",
              "    <tr style=\"text-align: right;\">\n",
              "      <th></th>\n",
              "      <th>id</th>\n",
              "      <th>phone_code</th>\n",
              "      <th>monthly_income</th>\n",
              "      <th>cpf_restriction</th>\n",
              "      <th>registration_form_closed</th>\n",
              "      <th>model_year</th>\n",
              "      <th>auto_value</th>\n",
              "      <th>auto_debt</th>\n",
              "      <th>loan_amount</th>\n",
              "      <th>declares_income_tax</th>\n",
              "      <th>car</th>\n",
              "      <th>salary</th>\n",
              "      <th>index</th>\n",
              "    </tr>\n",
              "    <tr>\n",
              "      <th>state</th>\n",
              "      <th></th>\n",
              "      <th></th>\n",
              "      <th></th>\n",
              "      <th></th>\n",
              "      <th></th>\n",
              "      <th></th>\n",
              "      <th></th>\n",
              "      <th></th>\n",
              "      <th></th>\n",
              "      <th></th>\n",
              "      <th></th>\n",
              "      <th></th>\n",
              "      <th></th>\n",
              "    </tr>\n",
              "  </thead>\n",
              "  <tbody>\n",
              "    <tr>\n",
              "      <th>AM</th>\n",
              "      <td>4011886</td>\n",
              "      <td>644.0</td>\n",
              "      <td>25460.0</td>\n",
              "      <td>2.0</td>\n",
              "      <td>1</td>\n",
              "      <td>14062.0</td>\n",
              "      <td>112000.0</td>\n",
              "      <td>0.0</td>\n",
              "      <td>126300.0</td>\n",
              "      <td>2.0</td>\n",
              "      <td>7</td>\n",
              "      <td>7</td>\n",
              "      <td>11160.0</td>\n",
              "    </tr>\n",
              "    <tr>\n",
              "      <th>BA</th>\n",
              "      <td>6205548</td>\n",
              "      <td>639.0</td>\n",
              "      <td>71600.0</td>\n",
              "      <td>1.0</td>\n",
              "      <td>0</td>\n",
              "      <td>18100.0</td>\n",
              "      <td>313000.0</td>\n",
              "      <td>600.0</td>\n",
              "      <td>210556.0</td>\n",
              "      <td>0.0</td>\n",
              "      <td>9</td>\n",
              "      <td>9</td>\n",
              "      <td>173444.0</td>\n",
              "    </tr>\n",
              "    <tr>\n",
              "      <th>CE</th>\n",
              "      <td>8310801</td>\n",
              "      <td>1020.0</td>\n",
              "      <td>91029.0</td>\n",
              "      <td>1.0</td>\n",
              "      <td>1</td>\n",
              "      <td>22129.0</td>\n",
              "      <td>359000.0</td>\n",
              "      <td>0.0</td>\n",
              "      <td>156750.0</td>\n",
              "      <td>0.0</td>\n",
              "      <td>12</td>\n",
              "      <td>12</td>\n",
              "      <td>293279.0</td>\n",
              "    </tr>\n",
              "    <tr>\n",
              "      <th>DF</th>\n",
              "      <td>20069400</td>\n",
              "      <td>2013.0</td>\n",
              "      <td>283620.0</td>\n",
              "      <td>9.0</td>\n",
              "      <td>5</td>\n",
              "      <td>66310.0</td>\n",
              "      <td>879710.0</td>\n",
              "      <td>1100.0</td>\n",
              "      <td>734260.0</td>\n",
              "      <td>7.0</td>\n",
              "      <td>33</td>\n",
              "      <td>33</td>\n",
              "      <td>427970.0</td>\n",
              "    </tr>\n",
              "    <tr>\n",
              "      <th>ES</th>\n",
              "      <td>1050551</td>\n",
              "      <td>27.0</td>\n",
              "      <td>10000.0</td>\n",
              "      <td>0.0</td>\n",
              "      <td>0</td>\n",
              "      <td>2013.0</td>\n",
              "      <td>27000.0</td>\n",
              "      <td>0.0</td>\n",
              "      <td>18000.0</td>\n",
              "      <td>0.0</td>\n",
              "      <td>1</td>\n",
              "      <td>1</td>\n",
              "      <td>19000.0</td>\n",
              "    </tr>\n",
              "    <tr>\n",
              "      <th>GO</th>\n",
              "      <td>4344509</td>\n",
              "      <td>371.0</td>\n",
              "      <td>20900.0</td>\n",
              "      <td>0.0</td>\n",
              "      <td>1</td>\n",
              "      <td>12053.0</td>\n",
              "      <td>174000.0</td>\n",
              "      <td>0.0</td>\n",
              "      <td>87500.0</td>\n",
              "      <td>0.0</td>\n",
              "      <td>6</td>\n",
              "      <td>6</td>\n",
              "      <td>107400.0</td>\n",
              "    </tr>\n",
              "    <tr>\n",
              "      <th>MA</th>\n",
              "      <td>775194</td>\n",
              "      <td>98.0</td>\n",
              "      <td>6500.0</td>\n",
              "      <td>0.0</td>\n",
              "      <td>0</td>\n",
              "      <td>2010.0</td>\n",
              "      <td>20000.0</td>\n",
              "      <td>0.0</td>\n",
              "      <td>12000.0</td>\n",
              "      <td>0.0</td>\n",
              "      <td>1</td>\n",
              "      <td>1</td>\n",
              "      <td>14500.0</td>\n",
              "    </tr>\n",
              "    <tr>\n",
              "      <th>MG</th>\n",
              "      <td>28652840</td>\n",
              "      <td>1417.0</td>\n",
              "      <td>253459.0</td>\n",
              "      <td>2.0</td>\n",
              "      <td>2</td>\n",
              "      <td>84443.0</td>\n",
              "      <td>1327110.0</td>\n",
              "      <td>25100.0</td>\n",
              "      <td>826423.0</td>\n",
              "      <td>1.0</td>\n",
              "      <td>43</td>\n",
              "      <td>43</td>\n",
              "      <td>729046.0</td>\n",
              "    </tr>\n",
              "    <tr>\n",
              "      <th>MS</th>\n",
              "      <td>3529737</td>\n",
              "      <td>268.0</td>\n",
              "      <td>19300.0</td>\n",
              "      <td>0.0</td>\n",
              "      <td>1</td>\n",
              "      <td>8040.0</td>\n",
              "      <td>138000.0</td>\n",
              "      <td>0.0</td>\n",
              "      <td>93900.0</td>\n",
              "      <td>0.0</td>\n",
              "      <td>4</td>\n",
              "      <td>4</td>\n",
              "      <td>63400.0</td>\n",
              "    </tr>\n",
              "    <tr>\n",
              "      <th>PA</th>\n",
              "      <td>822194</td>\n",
              "      <td>94.0</td>\n",
              "      <td>3568.0</td>\n",
              "      <td>0.0</td>\n",
              "      <td>0</td>\n",
              "      <td>2012.0</td>\n",
              "      <td>26500.0</td>\n",
              "      <td>0.0</td>\n",
              "      <td>13000.0</td>\n",
              "      <td>0.0</td>\n",
              "      <td>1</td>\n",
              "      <td>1</td>\n",
              "      <td>17068.0</td>\n",
              "    </tr>\n",
              "    <tr>\n",
              "      <th>PB</th>\n",
              "      <td>843908</td>\n",
              "      <td>83.0</td>\n",
              "      <td>10000.0</td>\n",
              "      <td>0.0</td>\n",
              "      <td>0</td>\n",
              "      <td>2010.0</td>\n",
              "      <td>60000.0</td>\n",
              "      <td>0.0</td>\n",
              "      <td>54000.0</td>\n",
              "      <td>0.0</td>\n",
              "      <td>1</td>\n",
              "      <td>1</td>\n",
              "      <td>16000.0</td>\n",
              "    </tr>\n",
              "    <tr>\n",
              "      <th>PE</th>\n",
              "      <td>8751413</td>\n",
              "      <td>1146.0</td>\n",
              "      <td>84300.0</td>\n",
              "      <td>4.0</td>\n",
              "      <td>0</td>\n",
              "      <td>24130.0</td>\n",
              "      <td>440000.0</td>\n",
              "      <td>15000.0</td>\n",
              "      <td>337900.0</td>\n",
              "      <td>2.0</td>\n",
              "      <td>14</td>\n",
              "      <td>14</td>\n",
              "      <td>171400.0</td>\n",
              "    </tr>\n",
              "    <tr>\n",
              "      <th>PR</th>\n",
              "      <td>22614217</td>\n",
              "      <td>1693.0</td>\n",
              "      <td>280051.0</td>\n",
              "      <td>12.0</td>\n",
              "      <td>0</td>\n",
              "      <td>78376.0</td>\n",
              "      <td>932657.0</td>\n",
              "      <td>86440.0</td>\n",
              "      <td>709813.0</td>\n",
              "      <td>10.0</td>\n",
              "      <td>41</td>\n",
              "      <td>41</td>\n",
              "      <td>416455.0</td>\n",
              "    </tr>\n",
              "    <tr>\n",
              "      <th>RJ</th>\n",
              "      <td>24410321</td>\n",
              "      <td>658.0</td>\n",
              "      <td>225825.0</td>\n",
              "      <td>1.0</td>\n",
              "      <td>2</td>\n",
              "      <td>60317.0</td>\n",
              "      <td>868776.0</td>\n",
              "      <td>6641.0</td>\n",
              "      <td>653660.0</td>\n",
              "      <td>0.0</td>\n",
              "      <td>31</td>\n",
              "      <td>30</td>\n",
              "      <td>434300.0</td>\n",
              "    </tr>\n",
              "    <tr>\n",
              "      <th>RN</th>\n",
              "      <td>1802837</td>\n",
              "      <td>252.0</td>\n",
              "      <td>18000.0</td>\n",
              "      <td>0.0</td>\n",
              "      <td>0</td>\n",
              "      <td>6029.0</td>\n",
              "      <td>142000.0</td>\n",
              "      <td>0.0</td>\n",
              "      <td>69194.0</td>\n",
              "      <td>0.0</td>\n",
              "      <td>3</td>\n",
              "      <td>3</td>\n",
              "      <td>90806.0</td>\n",
              "    </tr>\n",
              "    <tr>\n",
              "      <th>RS</th>\n",
              "      <td>11760980</td>\n",
              "      <td>784.0</td>\n",
              "      <td>79052.0</td>\n",
              "      <td>0.0</td>\n",
              "      <td>5</td>\n",
              "      <td>30156.0</td>\n",
              "      <td>542672.0</td>\n",
              "      <td>20189.0</td>\n",
              "      <td>326692.0</td>\n",
              "      <td>0.0</td>\n",
              "      <td>15</td>\n",
              "      <td>14</td>\n",
              "      <td>274843.0</td>\n",
              "    </tr>\n",
              "    <tr>\n",
              "      <th>SC</th>\n",
              "      <td>3300611</td>\n",
              "      <td>189.0</td>\n",
              "      <td>14120.0</td>\n",
              "      <td>0.0</td>\n",
              "      <td>1</td>\n",
              "      <td>8038.0</td>\n",
              "      <td>87000.0</td>\n",
              "      <td>0.0</td>\n",
              "      <td>40000.0</td>\n",
              "      <td>0.0</td>\n",
              "      <td>4</td>\n",
              "      <td>4</td>\n",
              "      <td>61120.0</td>\n",
              "    </tr>\n",
              "    <tr>\n",
              "      <th>SE</th>\n",
              "      <td>840810</td>\n",
              "      <td>79.0</td>\n",
              "      <td>4800.0</td>\n",
              "      <td>0.0</td>\n",
              "      <td>1</td>\n",
              "      <td>2014.0</td>\n",
              "      <td>38000.0</td>\n",
              "      <td>0.0</td>\n",
              "      <td>5000.0</td>\n",
              "      <td>0.0</td>\n",
              "      <td>1</td>\n",
              "      <td>1</td>\n",
              "      <td>37800.0</td>\n",
              "    </tr>\n",
              "    <tr>\n",
              "      <th>SP</th>\n",
              "      <td>307185968</td>\n",
              "      <td>4966.0</td>\n",
              "      <td>2766675.0</td>\n",
              "      <td>37.0</td>\n",
              "      <td>62</td>\n",
              "      <td>817918.0</td>\n",
              "      <td>12189181.0</td>\n",
              "      <td>99760.0</td>\n",
              "      <td>7749148.0</td>\n",
              "      <td>21.0</td>\n",
              "      <td>411</td>\n",
              "      <td>407</td>\n",
              "      <td>7106948.0</td>\n",
              "    </tr>\n",
              "    <tr>\n",
              "      <th>TO</th>\n",
              "      <td>820222</td>\n",
              "      <td>63.0</td>\n",
              "      <td>3037.0</td>\n",
              "      <td>0.0</td>\n",
              "      <td>0</td>\n",
              "      <td>2011.0</td>\n",
              "      <td>31000.0</td>\n",
              "      <td>0.0</td>\n",
              "      <td>16000.0</td>\n",
              "      <td>0.0</td>\n",
              "      <td>1</td>\n",
              "      <td>1</td>\n",
              "      <td>18037.0</td>\n",
              "    </tr>\n",
              "  </tbody>\n",
              "</table>\n",
              "</div>"
            ],
            "text/plain": [
              "              id  phone_code  monthly_income  ...  car  salary      index\n",
              "state                                         ...                        \n",
              "AM       4011886       644.0         25460.0  ...    7       7    11160.0\n",
              "BA       6205548       639.0         71600.0  ...    9       9   173444.0\n",
              "CE       8310801      1020.0         91029.0  ...   12      12   293279.0\n",
              "DF      20069400      2013.0        283620.0  ...   33      33   427970.0\n",
              "ES       1050551        27.0         10000.0  ...    1       1    19000.0\n",
              "GO       4344509       371.0         20900.0  ...    6       6   107400.0\n",
              "MA        775194        98.0          6500.0  ...    1       1    14500.0\n",
              "MG      28652840      1417.0        253459.0  ...   43      43   729046.0\n",
              "MS       3529737       268.0         19300.0  ...    4       4    63400.0\n",
              "PA        822194        94.0          3568.0  ...    1       1    17068.0\n",
              "PB        843908        83.0         10000.0  ...    1       1    16000.0\n",
              "PE       8751413      1146.0         84300.0  ...   14      14   171400.0\n",
              "PR      22614217      1693.0        280051.0  ...   41      41   416455.0\n",
              "RJ      24410321       658.0        225825.0  ...   31      30   434300.0\n",
              "RN       1802837       252.0         18000.0  ...    3       3    90806.0\n",
              "RS      11760980       784.0         79052.0  ...   15      14   274843.0\n",
              "SC       3300611       189.0         14120.0  ...    4       4    61120.0\n",
              "SE        840810        79.0          4800.0  ...    1       1    37800.0\n",
              "SP     307185968      4966.0       2766675.0  ...  411     407  7106948.0\n",
              "TO        820222        63.0          3037.0  ...    1       1    18037.0\n",
              "\n",
              "[20 rows x 13 columns]"
            ]
          },
          "metadata": {
            "tags": []
          },
          "execution_count": 81
        }
      ]
    },
    {
      "cell_type": "markdown",
      "metadata": {
        "id": "v84MWm4eWoBF",
        "colab_type": "text"
      },
      "source": [
        "### Correlação Index vs Fechamento"
      ]
    },
    {
      "cell_type": "code",
      "metadata": {
        "id": "OKxU8B3Ka-Kl",
        "colab_type": "code",
        "colab": {
          "base_uri": "https://localhost:8080/",
          "height": 33
        },
        "outputId": "16fc9be5-e3ad-4d74-aa35-ad38edbe062b"
      },
      "source": [
        "true_close[true_close['index']>0].shape"
      ],
      "execution_count": 82,
      "outputs": [
        {
          "output_type": "execute_result",
          "data": {
            "text/plain": [
              "(601, 20)"
            ]
          },
          "metadata": {
            "tags": []
          },
          "execution_count": 82
        }
      ]
    },
    {
      "cell_type": "markdown",
      "metadata": {
        "id": "NNDwc002W1GR",
        "colab_type": "text"
      },
      "source": [
        "Acredito que o índice é um bom parâmetro, afinal, quase todos os clientes com status 'closed' tem ele maior que zero. Isso indica que sua capacidade de pagar é maior que sua dívida total."
      ]
    },
    {
      "cell_type": "code",
      "metadata": {
        "id": "wqaAYxCtRy7T",
        "colab_type": "code",
        "colab": {
          "base_uri": "https://localhost:8080/",
          "height": 33
        },
        "outputId": "d6fe3072-8862-41b9-b416-547da16fb365"
      },
      "source": [
        "true_close[true_close['index'] < 0].shape"
      ],
      "execution_count": 83,
      "outputs": [
        {
          "output_type": "execute_result",
          "data": {
            "text/plain": [
              "(38, 20)"
            ]
          },
          "metadata": {
            "tags": []
          },
          "execution_count": 83
        }
      ]
    },
    {
      "cell_type": "markdown",
      "metadata": {
        "id": "VHBTKtsOZXSN",
        "colab_type": "text"
      },
      "source": [
        "Vamos inspecionar esses 38 clientes explicitamente"
      ]
    },
    {
      "cell_type": "code",
      "metadata": {
        "id": "SB3OItVcaccL",
        "colab_type": "code",
        "colab": {
          "base_uri": "https://localhost:8080/",
          "height": 1000
        },
        "outputId": "78561a65-254d-46fb-905a-bbaae1841cd7"
      },
      "source": [
        "true_close[true_close['index'] < 0]"
      ],
      "execution_count": 84,
      "outputs": [
        {
          "output_type": "execute_result",
          "data": {
            "text/html": [
              "<div>\n",
              "<style scoped>\n",
              "    .dataframe tbody tr th:only-of-type {\n",
              "        vertical-align: middle;\n",
              "    }\n",
              "\n",
              "    .dataframe tbody tr th {\n",
              "        vertical-align: top;\n",
              "    }\n",
              "\n",
              "    .dataframe thead th {\n",
              "        text-align: right;\n",
              "    }\n",
              "</style>\n",
              "<table border=\"1\" class=\"dataframe\">\n",
              "  <thead>\n",
              "    <tr style=\"text-align: right;\">\n",
              "      <th></th>\n",
              "      <th>id</th>\n",
              "      <th>specific_type</th>\n",
              "      <th>created_at</th>\n",
              "      <th>gender</th>\n",
              "      <th>birth_date</th>\n",
              "      <th>phone_code</th>\n",
              "      <th>monthly_income</th>\n",
              "      <th>state</th>\n",
              "      <th>cpf_restriction</th>\n",
              "      <th>registration_form_closed</th>\n",
              "      <th>brand</th>\n",
              "      <th>model_year</th>\n",
              "      <th>auto_value</th>\n",
              "      <th>auto_debt</th>\n",
              "      <th>loan_amount</th>\n",
              "      <th>declares_income_tax</th>\n",
              "      <th>operation_status</th>\n",
              "      <th>car</th>\n",
              "      <th>salary</th>\n",
              "      <th>index</th>\n",
              "    </tr>\n",
              "  </thead>\n",
              "  <tbody>\n",
              "    <tr>\n",
              "      <th>43954</th>\n",
              "      <td>126969</td>\n",
              "      <td>Auto Equity</td>\n",
              "      <td>2013-02-10</td>\n",
              "      <td>NaN</td>\n",
              "      <td>NaN</td>\n",
              "      <td>11.0</td>\n",
              "      <td>1800.0</td>\n",
              "      <td>SP</td>\n",
              "      <td>1.0</td>\n",
              "      <td>0</td>\n",
              "      <td>fiat uno</td>\n",
              "      <td>2004.0</td>\n",
              "      <td>0.0</td>\n",
              "      <td>0.0</td>\n",
              "      <td>15000.0</td>\n",
              "      <td>1.0</td>\n",
              "      <td>closed</td>\n",
              "      <td>1</td>\n",
              "      <td>1</td>\n",
              "      <td>-13200.0</td>\n",
              "    </tr>\n",
              "    <tr>\n",
              "      <th>44258</th>\n",
              "      <td>126956</td>\n",
              "      <td>Auto Equity</td>\n",
              "      <td>2013-02-14</td>\n",
              "      <td>NaN</td>\n",
              "      <td>NaN</td>\n",
              "      <td>11.0</td>\n",
              "      <td>2000.0</td>\n",
              "      <td>SP</td>\n",
              "      <td>1.0</td>\n",
              "      <td>0</td>\n",
              "      <td>fiat</td>\n",
              "      <td>2006.0</td>\n",
              "      <td>0.0</td>\n",
              "      <td>0.0</td>\n",
              "      <td>15000.0</td>\n",
              "      <td>1.0</td>\n",
              "      <td>closed</td>\n",
              "      <td>1</td>\n",
              "      <td>1</td>\n",
              "      <td>-13000.0</td>\n",
              "    </tr>\n",
              "    <tr>\n",
              "      <th>44358</th>\n",
              "      <td>126966</td>\n",
              "      <td>Auto Equity</td>\n",
              "      <td>2013-02-19</td>\n",
              "      <td>NaN</td>\n",
              "      <td>NaN</td>\n",
              "      <td>41.0</td>\n",
              "      <td>1800.0</td>\n",
              "      <td>PR</td>\n",
              "      <td>1.0</td>\n",
              "      <td>0</td>\n",
              "      <td>wolksvagem</td>\n",
              "      <td>2006.0</td>\n",
              "      <td>0.0</td>\n",
              "      <td>0.0</td>\n",
              "      <td>15000.0</td>\n",
              "      <td>1.0</td>\n",
              "      <td>closed</td>\n",
              "      <td>1</td>\n",
              "      <td>1</td>\n",
              "      <td>-13200.0</td>\n",
              "    </tr>\n",
              "    <tr>\n",
              "      <th>44520</th>\n",
              "      <td>126952</td>\n",
              "      <td>Auto Equity</td>\n",
              "      <td>2013-03-15</td>\n",
              "      <td>NaN</td>\n",
              "      <td>NaN</td>\n",
              "      <td>81.0</td>\n",
              "      <td>2500.0</td>\n",
              "      <td>PE</td>\n",
              "      <td>1.0</td>\n",
              "      <td>0</td>\n",
              "      <td>VOLKSWAGEM</td>\n",
              "      <td>2007.0</td>\n",
              "      <td>0.0</td>\n",
              "      <td>0.0</td>\n",
              "      <td>15000.0</td>\n",
              "      <td>1.0</td>\n",
              "      <td>closed</td>\n",
              "      <td>1</td>\n",
              "      <td>1</td>\n",
              "      <td>-12500.0</td>\n",
              "    </tr>\n",
              "    <tr>\n",
              "      <th>44661</th>\n",
              "      <td>126960</td>\n",
              "      <td>Auto Equity</td>\n",
              "      <td>2013-03-04</td>\n",
              "      <td>NaN</td>\n",
              "      <td>NaN</td>\n",
              "      <td>11.0</td>\n",
              "      <td>3900.0</td>\n",
              "      <td>SP</td>\n",
              "      <td>1.0</td>\n",
              "      <td>0</td>\n",
              "      <td>Peugeot</td>\n",
              "      <td>2008.0</td>\n",
              "      <td>0.0</td>\n",
              "      <td>0.0</td>\n",
              "      <td>15000.0</td>\n",
              "      <td>1.0</td>\n",
              "      <td>closed</td>\n",
              "      <td>1</td>\n",
              "      <td>1</td>\n",
              "      <td>-11100.0</td>\n",
              "    </tr>\n",
              "    <tr>\n",
              "      <th>44757</th>\n",
              "      <td>152367</td>\n",
              "      <td>Auto Equity</td>\n",
              "      <td>2013-05-09</td>\n",
              "      <td>NaN</td>\n",
              "      <td>NaN</td>\n",
              "      <td>11.0</td>\n",
              "      <td>6000.0</td>\n",
              "      <td>SP</td>\n",
              "      <td>1.0</td>\n",
              "      <td>0</td>\n",
              "      <td>Ford</td>\n",
              "      <td>2009.0</td>\n",
              "      <td>0.0</td>\n",
              "      <td>0.0</td>\n",
              "      <td>15000.0</td>\n",
              "      <td>1.0</td>\n",
              "      <td>closed</td>\n",
              "      <td>1</td>\n",
              "      <td>1</td>\n",
              "      <td>-9000.0</td>\n",
              "    </tr>\n",
              "    <tr>\n",
              "      <th>44833</th>\n",
              "      <td>126971</td>\n",
              "      <td>Auto Equity</td>\n",
              "      <td>2013-01-26</td>\n",
              "      <td>NaN</td>\n",
              "      <td>NaN</td>\n",
              "      <td>41.0</td>\n",
              "      <td>8000.0</td>\n",
              "      <td>PR</td>\n",
              "      <td>1.0</td>\n",
              "      <td>0</td>\n",
              "      <td>CELTA</td>\n",
              "      <td>2010.0</td>\n",
              "      <td>0.0</td>\n",
              "      <td>0.0</td>\n",
              "      <td>15000.0</td>\n",
              "      <td>1.0</td>\n",
              "      <td>closed</td>\n",
              "      <td>1</td>\n",
              "      <td>1</td>\n",
              "      <td>-7000.0</td>\n",
              "    </tr>\n",
              "    <tr>\n",
              "      <th>44845</th>\n",
              "      <td>126967</td>\n",
              "      <td>Auto Equity</td>\n",
              "      <td>2013-02-18</td>\n",
              "      <td>NaN</td>\n",
              "      <td>NaN</td>\n",
              "      <td>11.0</td>\n",
              "      <td>5000.0</td>\n",
              "      <td>SP</td>\n",
              "      <td>1.0</td>\n",
              "      <td>0</td>\n",
              "      <td>CHEVROLET</td>\n",
              "      <td>2010.0</td>\n",
              "      <td>0.0</td>\n",
              "      <td>0.0</td>\n",
              "      <td>15000.0</td>\n",
              "      <td>1.0</td>\n",
              "      <td>closed</td>\n",
              "      <td>1</td>\n",
              "      <td>1</td>\n",
              "      <td>-10000.0</td>\n",
              "    </tr>\n",
              "    <tr>\n",
              "      <th>44882</th>\n",
              "      <td>127009</td>\n",
              "      <td>Auto Equity</td>\n",
              "      <td>2013-01-03</td>\n",
              "      <td>NaN</td>\n",
              "      <td>NaN</td>\n",
              "      <td>11.0</td>\n",
              "      <td>4000.0</td>\n",
              "      <td>SP</td>\n",
              "      <td>1.0</td>\n",
              "      <td>0</td>\n",
              "      <td>GM-CHEVROLET</td>\n",
              "      <td>2010.0</td>\n",
              "      <td>0.0</td>\n",
              "      <td>0.0</td>\n",
              "      <td>15000.0</td>\n",
              "      <td>1.0</td>\n",
              "      <td>closed</td>\n",
              "      <td>1</td>\n",
              "      <td>1</td>\n",
              "      <td>-11000.0</td>\n",
              "    </tr>\n",
              "    <tr>\n",
              "      <th>44884</th>\n",
              "      <td>128560</td>\n",
              "      <td>Auto Equity</td>\n",
              "      <td>2013-02-25</td>\n",
              "      <td>NaN</td>\n",
              "      <td>NaN</td>\n",
              "      <td>61.0</td>\n",
              "      <td>2100.0</td>\n",
              "      <td>DF</td>\n",
              "      <td>1.0</td>\n",
              "      <td>0</td>\n",
              "      <td>GOL 1.6 Power</td>\n",
              "      <td>2010.0</td>\n",
              "      <td>0.0</td>\n",
              "      <td>0.0</td>\n",
              "      <td>15000.0</td>\n",
              "      <td>1.0</td>\n",
              "      <td>closed</td>\n",
              "      <td>1</td>\n",
              "      <td>1</td>\n",
              "      <td>-12900.0</td>\n",
              "    </tr>\n",
              "    <tr>\n",
              "      <th>45087</th>\n",
              "      <td>128353</td>\n",
              "      <td>Auto Equity</td>\n",
              "      <td>2013-02-16</td>\n",
              "      <td>NaN</td>\n",
              "      <td>NaN</td>\n",
              "      <td>87.0</td>\n",
              "      <td>2700.0</td>\n",
              "      <td>PE</td>\n",
              "      <td>1.0</td>\n",
              "      <td>0</td>\n",
              "      <td>fiat</td>\n",
              "      <td>2012.0</td>\n",
              "      <td>0.0</td>\n",
              "      <td>0.0</td>\n",
              "      <td>15000.0</td>\n",
              "      <td>1.0</td>\n",
              "      <td>closed</td>\n",
              "      <td>1</td>\n",
              "      <td>1</td>\n",
              "      <td>-12300.0</td>\n",
              "    </tr>\n",
              "    <tr>\n",
              "      <th>46193</th>\n",
              "      <td>128668</td>\n",
              "      <td>Auto Equity</td>\n",
              "      <td>2013-02-28</td>\n",
              "      <td>NaN</td>\n",
              "      <td>NaN</td>\n",
              "      <td>61.0</td>\n",
              "      <td>3500.0</td>\n",
              "      <td>DF</td>\n",
              "      <td>1.0</td>\n",
              "      <td>0</td>\n",
              "      <td>peugeot</td>\n",
              "      <td>2006.0</td>\n",
              "      <td>0.0</td>\n",
              "      <td>0.0</td>\n",
              "      <td>16000.0</td>\n",
              "      <td>1.0</td>\n",
              "      <td>closed</td>\n",
              "      <td>1</td>\n",
              "      <td>1</td>\n",
              "      <td>-12500.0</td>\n",
              "    </tr>\n",
              "    <tr>\n",
              "      <th>48593</th>\n",
              "      <td>126972</td>\n",
              "      <td>Auto Equity</td>\n",
              "      <td>2013-01-26</td>\n",
              "      <td>NaN</td>\n",
              "      <td>NaN</td>\n",
              "      <td>41.0</td>\n",
              "      <td>4684.0</td>\n",
              "      <td>PR</td>\n",
              "      <td>1.0</td>\n",
              "      <td>0</td>\n",
              "      <td>Chevrolet</td>\n",
              "      <td>2008.0</td>\n",
              "      <td>0.0</td>\n",
              "      <td>0.0</td>\n",
              "      <td>19000.0</td>\n",
              "      <td>1.0</td>\n",
              "      <td>closed</td>\n",
              "      <td>1</td>\n",
              "      <td>1</td>\n",
              "      <td>-14316.0</td>\n",
              "    </tr>\n",
              "    <tr>\n",
              "      <th>49333</th>\n",
              "      <td>126962</td>\n",
              "      <td>Auto Equity</td>\n",
              "      <td>2013-02-20</td>\n",
              "      <td>NaN</td>\n",
              "      <td>NaN</td>\n",
              "      <td>41.0</td>\n",
              "      <td>8000.0</td>\n",
              "      <td>PR</td>\n",
              "      <td>1.0</td>\n",
              "      <td>0</td>\n",
              "      <td>ford</td>\n",
              "      <td>2006.0</td>\n",
              "      <td>0.0</td>\n",
              "      <td>0.0</td>\n",
              "      <td>20000.0</td>\n",
              "      <td>1.0</td>\n",
              "      <td>closed</td>\n",
              "      <td>1</td>\n",
              "      <td>1</td>\n",
              "      <td>-12000.0</td>\n",
              "    </tr>\n",
              "    <tr>\n",
              "      <th>49384</th>\n",
              "      <td>126957</td>\n",
              "      <td>Auto Equity</td>\n",
              "      <td>2013-03-11</td>\n",
              "      <td>NaN</td>\n",
              "      <td>NaN</td>\n",
              "      <td>11.0</td>\n",
              "      <td>5700.0</td>\n",
              "      <td>SP</td>\n",
              "      <td>1.0</td>\n",
              "      <td>0</td>\n",
              "      <td>VW</td>\n",
              "      <td>2007.0</td>\n",
              "      <td>0.0</td>\n",
              "      <td>0.0</td>\n",
              "      <td>20000.0</td>\n",
              "      <td>1.0</td>\n",
              "      <td>closed</td>\n",
              "      <td>1</td>\n",
              "      <td>1</td>\n",
              "      <td>-14300.0</td>\n",
              "    </tr>\n",
              "    <tr>\n",
              "      <th>49432</th>\n",
              "      <td>126953</td>\n",
              "      <td>Auto Equity</td>\n",
              "      <td>2013-03-12</td>\n",
              "      <td>NaN</td>\n",
              "      <td>NaN</td>\n",
              "      <td>94.0</td>\n",
              "      <td>4000.0</td>\n",
              "      <td>MG</td>\n",
              "      <td>1.0</td>\n",
              "      <td>0</td>\n",
              "      <td>Mitsubishi</td>\n",
              "      <td>2008.0</td>\n",
              "      <td>0.0</td>\n",
              "      <td>0.0</td>\n",
              "      <td>20000.0</td>\n",
              "      <td>1.0</td>\n",
              "      <td>closed</td>\n",
              "      <td>1</td>\n",
              "      <td>1</td>\n",
              "      <td>-16000.0</td>\n",
              "    </tr>\n",
              "    <tr>\n",
              "      <th>49487</th>\n",
              "      <td>126968</td>\n",
              "      <td>Auto Equity</td>\n",
              "      <td>2013-02-14</td>\n",
              "      <td>NaN</td>\n",
              "      <td>NaN</td>\n",
              "      <td>11.0</td>\n",
              "      <td>3500.0</td>\n",
              "      <td>SP</td>\n",
              "      <td>1.0</td>\n",
              "      <td>0</td>\n",
              "      <td>FORD FISTA 1.6 FLEX</td>\n",
              "      <td>2009.0</td>\n",
              "      <td>0.0</td>\n",
              "      <td>0.0</td>\n",
              "      <td>20000.0</td>\n",
              "      <td>1.0</td>\n",
              "      <td>closed</td>\n",
              "      <td>1</td>\n",
              "      <td>1</td>\n",
              "      <td>-16500.0</td>\n",
              "    </tr>\n",
              "    <tr>\n",
              "      <th>49567</th>\n",
              "      <td>126963</td>\n",
              "      <td>Auto Equity</td>\n",
              "      <td>2013-01-08</td>\n",
              "      <td>NaN</td>\n",
              "      <td>NaN</td>\n",
              "      <td>11.0</td>\n",
              "      <td>2000.0</td>\n",
              "      <td>SP</td>\n",
              "      <td>1.0</td>\n",
              "      <td>0</td>\n",
              "      <td>Chevrolet</td>\n",
              "      <td>2011.0</td>\n",
              "      <td>0.0</td>\n",
              "      <td>0.0</td>\n",
              "      <td>20000.0</td>\n",
              "      <td>1.0</td>\n",
              "      <td>closed</td>\n",
              "      <td>1</td>\n",
              "      <td>1</td>\n",
              "      <td>-18000.0</td>\n",
              "    </tr>\n",
              "    <tr>\n",
              "      <th>49601</th>\n",
              "      <td>127014</td>\n",
              "      <td>Auto Equity</td>\n",
              "      <td>2013-01-03</td>\n",
              "      <td>NaN</td>\n",
              "      <td>NaN</td>\n",
              "      <td>41.0</td>\n",
              "      <td>7800.0</td>\n",
              "      <td>PR</td>\n",
              "      <td>1.0</td>\n",
              "      <td>0</td>\n",
              "      <td>Hyundai</td>\n",
              "      <td>2011.0</td>\n",
              "      <td>0.0</td>\n",
              "      <td>0.0</td>\n",
              "      <td>20000.0</td>\n",
              "      <td>1.0</td>\n",
              "      <td>closed</td>\n",
              "      <td>1</td>\n",
              "      <td>1</td>\n",
              "      <td>-12200.0</td>\n",
              "    </tr>\n",
              "    <tr>\n",
              "      <th>49608</th>\n",
              "      <td>126964</td>\n",
              "      <td>Auto Equity</td>\n",
              "      <td>2013-03-03</td>\n",
              "      <td>NaN</td>\n",
              "      <td>NaN</td>\n",
              "      <td>11.0</td>\n",
              "      <td>1972.0</td>\n",
              "      <td>SP</td>\n",
              "      <td>1.0</td>\n",
              "      <td>0</td>\n",
              "      <td>RENAULT</td>\n",
              "      <td>2011.0</td>\n",
              "      <td>0.0</td>\n",
              "      <td>0.0</td>\n",
              "      <td>20000.0</td>\n",
              "      <td>1.0</td>\n",
              "      <td>closed</td>\n",
              "      <td>1</td>\n",
              "      <td>1</td>\n",
              "      <td>-18028.0</td>\n",
              "    </tr>\n",
              "    <tr>\n",
              "      <th>49635</th>\n",
              "      <td>152378</td>\n",
              "      <td>Auto Equity</td>\n",
              "      <td>2013-04-23</td>\n",
              "      <td>NaN</td>\n",
              "      <td>NaN</td>\n",
              "      <td>11.0</td>\n",
              "      <td>4000.0</td>\n",
              "      <td>SP</td>\n",
              "      <td>1.0</td>\n",
              "      <td>0</td>\n",
              "      <td>chevrolet</td>\n",
              "      <td>2012.0</td>\n",
              "      <td>0.0</td>\n",
              "      <td>0.0</td>\n",
              "      <td>20000.0</td>\n",
              "      <td>1.0</td>\n",
              "      <td>closed</td>\n",
              "      <td>1</td>\n",
              "      <td>1</td>\n",
              "      <td>-16000.0</td>\n",
              "    </tr>\n",
              "    <tr>\n",
              "      <th>51439</th>\n",
              "      <td>128691</td>\n",
              "      <td>Auto Equity</td>\n",
              "      <td>2013-03-01</td>\n",
              "      <td>NaN</td>\n",
              "      <td>NaN</td>\n",
              "      <td>11.0</td>\n",
              "      <td>1590.0</td>\n",
              "      <td>SP</td>\n",
              "      <td>1.0</td>\n",
              "      <td>0</td>\n",
              "      <td>Peugeot</td>\n",
              "      <td>2007.0</td>\n",
              "      <td>0.0</td>\n",
              "      <td>0.0</td>\n",
              "      <td>22800.0</td>\n",
              "      <td>1.0</td>\n",
              "      <td>closed</td>\n",
              "      <td>1</td>\n",
              "      <td>1</td>\n",
              "      <td>-21210.0</td>\n",
              "    </tr>\n",
              "    <tr>\n",
              "      <th>52054</th>\n",
              "      <td>128366</td>\n",
              "      <td>Auto Equity</td>\n",
              "      <td>2013-02-17</td>\n",
              "      <td>NaN</td>\n",
              "      <td>NaN</td>\n",
              "      <td>61.0</td>\n",
              "      <td>3500.0</td>\n",
              "      <td>DF</td>\n",
              "      <td>1.0</td>\n",
              "      <td>0</td>\n",
              "      <td>chevrolet</td>\n",
              "      <td>2006.0</td>\n",
              "      <td>0.0</td>\n",
              "      <td>0.0</td>\n",
              "      <td>25000.0</td>\n",
              "      <td>1.0</td>\n",
              "      <td>closed</td>\n",
              "      <td>1</td>\n",
              "      <td>1</td>\n",
              "      <td>-21500.0</td>\n",
              "    </tr>\n",
              "    <tr>\n",
              "      <th>52134</th>\n",
              "      <td>126954</td>\n",
              "      <td>Auto Equity</td>\n",
              "      <td>2013-03-21</td>\n",
              "      <td>NaN</td>\n",
              "      <td>NaN</td>\n",
              "      <td>92.0</td>\n",
              "      <td>1500.0</td>\n",
              "      <td>AM</td>\n",
              "      <td>1.0</td>\n",
              "      <td>0</td>\n",
              "      <td>vw voyage comfortiline 1,6</td>\n",
              "      <td>2009.0</td>\n",
              "      <td>0.0</td>\n",
              "      <td>0.0</td>\n",
              "      <td>25000.0</td>\n",
              "      <td>1.0</td>\n",
              "      <td>closed</td>\n",
              "      <td>1</td>\n",
              "      <td>1</td>\n",
              "      <td>-23500.0</td>\n",
              "    </tr>\n",
              "    <tr>\n",
              "      <th>52805</th>\n",
              "      <td>126961</td>\n",
              "      <td>Auto Equity</td>\n",
              "      <td>2013-02-26</td>\n",
              "      <td>NaN</td>\n",
              "      <td>NaN</td>\n",
              "      <td>11.0</td>\n",
              "      <td>12800.0</td>\n",
              "      <td>SP</td>\n",
              "      <td>1.0</td>\n",
              "      <td>0</td>\n",
              "      <td>Honda</td>\n",
              "      <td>2011.0</td>\n",
              "      <td>0.0</td>\n",
              "      <td>0.0</td>\n",
              "      <td>27000.0</td>\n",
              "      <td>1.0</td>\n",
              "      <td>closed</td>\n",
              "      <td>1</td>\n",
              "      <td>1</td>\n",
              "      <td>-14200.0</td>\n",
              "    </tr>\n",
              "    <tr>\n",
              "      <th>53587</th>\n",
              "      <td>125612</td>\n",
              "      <td>Auto Equity</td>\n",
              "      <td>2013-07-23</td>\n",
              "      <td>NaN</td>\n",
              "      <td>5/25/1984</td>\n",
              "      <td>11.0</td>\n",
              "      <td>5000.0</td>\n",
              "      <td>SP</td>\n",
              "      <td>1.0</td>\n",
              "      <td>0</td>\n",
              "      <td>Celta</td>\n",
              "      <td>2003.0</td>\n",
              "      <td>15000.0</td>\n",
              "      <td>0.0</td>\n",
              "      <td>30000.0</td>\n",
              "      <td>0.0</td>\n",
              "      <td>closed</td>\n",
              "      <td>1</td>\n",
              "      <td>1</td>\n",
              "      <td>-10000.0</td>\n",
              "    </tr>\n",
              "    <tr>\n",
              "      <th>53593</th>\n",
              "      <td>126970</td>\n",
              "      <td>Auto Equity</td>\n",
              "      <td>2013-01-30</td>\n",
              "      <td>NaN</td>\n",
              "      <td>NaN</td>\n",
              "      <td>41.0</td>\n",
              "      <td>4500.0</td>\n",
              "      <td>PR</td>\n",
              "      <td>1.0</td>\n",
              "      <td>0</td>\n",
              "      <td>CARGO VOLKS</td>\n",
              "      <td>2004.0</td>\n",
              "      <td>0.0</td>\n",
              "      <td>0.0</td>\n",
              "      <td>30000.0</td>\n",
              "      <td>1.0</td>\n",
              "      <td>closed</td>\n",
              "      <td>1</td>\n",
              "      <td>1</td>\n",
              "      <td>-25500.0</td>\n",
              "    </tr>\n",
              "    <tr>\n",
              "      <th>54636</th>\n",
              "      <td>126958</td>\n",
              "      <td>Auto Equity</td>\n",
              "      <td>2013-02-26</td>\n",
              "      <td>NaN</td>\n",
              "      <td>NaN</td>\n",
              "      <td>92.0</td>\n",
              "      <td>4000.0</td>\n",
              "      <td>AM</td>\n",
              "      <td>1.0</td>\n",
              "      <td>0</td>\n",
              "      <td>Audi</td>\n",
              "      <td>2005.0</td>\n",
              "      <td>0.0</td>\n",
              "      <td>0.0</td>\n",
              "      <td>35000.0</td>\n",
              "      <td>1.0</td>\n",
              "      <td>closed</td>\n",
              "      <td>1</td>\n",
              "      <td>1</td>\n",
              "      <td>-31000.0</td>\n",
              "    </tr>\n",
              "    <tr>\n",
              "      <th>54687</th>\n",
              "      <td>126955</td>\n",
              "      <td>Auto Equity</td>\n",
              "      <td>2013-03-21</td>\n",
              "      <td>NaN</td>\n",
              "      <td>NaN</td>\n",
              "      <td>11.0</td>\n",
              "      <td>12000.0</td>\n",
              "      <td>SP</td>\n",
              "      <td>1.0</td>\n",
              "      <td>0</td>\n",
              "      <td>Suzuki</td>\n",
              "      <td>2012.0</td>\n",
              "      <td>0.0</td>\n",
              "      <td>0.0</td>\n",
              "      <td>35000.0</td>\n",
              "      <td>0.0</td>\n",
              "      <td>closed</td>\n",
              "      <td>1</td>\n",
              "      <td>1</td>\n",
              "      <td>-23000.0</td>\n",
              "    </tr>\n",
              "    <tr>\n",
              "      <th>54688</th>\n",
              "      <td>126959</td>\n",
              "      <td>Auto Equity</td>\n",
              "      <td>2013-03-07</td>\n",
              "      <td>NaN</td>\n",
              "      <td>NaN</td>\n",
              "      <td>41.0</td>\n",
              "      <td>4706.0</td>\n",
              "      <td>PR</td>\n",
              "      <td>1.0</td>\n",
              "      <td>0</td>\n",
              "      <td>VOLKSWAGEN</td>\n",
              "      <td>2012.0</td>\n",
              "      <td>0.0</td>\n",
              "      <td>0.0</td>\n",
              "      <td>35000.0</td>\n",
              "      <td>1.0</td>\n",
              "      <td>closed</td>\n",
              "      <td>1</td>\n",
              "      <td>1</td>\n",
              "      <td>-30294.0</td>\n",
              "    </tr>\n",
              "    <tr>\n",
              "      <th>54742</th>\n",
              "      <td>885791</td>\n",
              "      <td>Auto Equity</td>\n",
              "      <td>2015-09-27</td>\n",
              "      <td>male</td>\n",
              "      <td>6/16/1986</td>\n",
              "      <td>11.0</td>\n",
              "      <td>5500.0</td>\n",
              "      <td>SP</td>\n",
              "      <td>0.0</td>\n",
              "      <td>0</td>\n",
              "      <td>VW - VolksWagen</td>\n",
              "      <td>2011.0</td>\n",
              "      <td>39000.0</td>\n",
              "      <td>12000.0</td>\n",
              "      <td>35100.0</td>\n",
              "      <td>NaN</td>\n",
              "      <td>closed</td>\n",
              "      <td>1</td>\n",
              "      <td>1</td>\n",
              "      <td>-2600.0</td>\n",
              "    </tr>\n",
              "    <tr>\n",
              "      <th>55241</th>\n",
              "      <td>126965</td>\n",
              "      <td>Auto Equity</td>\n",
              "      <td>2013-02-19</td>\n",
              "      <td>NaN</td>\n",
              "      <td>NaN</td>\n",
              "      <td>41.0</td>\n",
              "      <td>8000.0</td>\n",
              "      <td>PR</td>\n",
              "      <td>1.0</td>\n",
              "      <td>0</td>\n",
              "      <td>volvo</td>\n",
              "      <td>2010.0</td>\n",
              "      <td>0.0</td>\n",
              "      <td>0.0</td>\n",
              "      <td>40000.0</td>\n",
              "      <td>1.0</td>\n",
              "      <td>closed</td>\n",
              "      <td>1</td>\n",
              "      <td>1</td>\n",
              "      <td>-32000.0</td>\n",
              "    </tr>\n",
              "    <tr>\n",
              "      <th>55282</th>\n",
              "      <td>431186</td>\n",
              "      <td>Auto Equity</td>\n",
              "      <td>2014-07-11</td>\n",
              "      <td>male</td>\n",
              "      <td>8/3/1971</td>\n",
              "      <td>41.0</td>\n",
              "      <td>10000.0</td>\n",
              "      <td>PR</td>\n",
              "      <td>0.0</td>\n",
              "      <td>0</td>\n",
              "      <td>Kia Motors</td>\n",
              "      <td>2008.0</td>\n",
              "      <td>45000.0</td>\n",
              "      <td>40000.0</td>\n",
              "      <td>40000.0</td>\n",
              "      <td>NaN</td>\n",
              "      <td>closed</td>\n",
              "      <td>1</td>\n",
              "      <td>1</td>\n",
              "      <td>-25000.0</td>\n",
              "    </tr>\n",
              "    <tr>\n",
              "      <th>55875</th>\n",
              "      <td>127882</td>\n",
              "      <td>Auto Equity</td>\n",
              "      <td>2013-01-14</td>\n",
              "      <td>NaN</td>\n",
              "      <td>NaN</td>\n",
              "      <td>61.0</td>\n",
              "      <td>7800.0</td>\n",
              "      <td>DF</td>\n",
              "      <td>1.0</td>\n",
              "      <td>0</td>\n",
              "      <td>KIA</td>\n",
              "      <td>2010.0</td>\n",
              "      <td>0.0</td>\n",
              "      <td>0.0</td>\n",
              "      <td>50000.0</td>\n",
              "      <td>1.0</td>\n",
              "      <td>closed</td>\n",
              "      <td>1</td>\n",
              "      <td>1</td>\n",
              "      <td>-42200.0</td>\n",
              "    </tr>\n",
              "    <tr>\n",
              "      <th>55876</th>\n",
              "      <td>128335</td>\n",
              "      <td>Auto Equity</td>\n",
              "      <td>2013-02-15</td>\n",
              "      <td>NaN</td>\n",
              "      <td>NaN</td>\n",
              "      <td>61.0</td>\n",
              "      <td>25000.0</td>\n",
              "      <td>DF</td>\n",
              "      <td>1.0</td>\n",
              "      <td>0</td>\n",
              "      <td>Kia2400</td>\n",
              "      <td>2010.0</td>\n",
              "      <td>0.0</td>\n",
              "      <td>0.0</td>\n",
              "      <td>50000.0</td>\n",
              "      <td>1.0</td>\n",
              "      <td>closed</td>\n",
              "      <td>1</td>\n",
              "      <td>1</td>\n",
              "      <td>-25000.0</td>\n",
              "    </tr>\n",
              "    <tr>\n",
              "      <th>56107</th>\n",
              "      <td>557520</td>\n",
              "      <td>Auto Equity</td>\n",
              "      <td>2014-10-24</td>\n",
              "      <td>male</td>\n",
              "      <td>7/24/1981</td>\n",
              "      <td>51.0</td>\n",
              "      <td>8000.0</td>\n",
              "      <td>RS</td>\n",
              "      <td>0.0</td>\n",
              "      <td>0</td>\n",
              "      <td>Honda</td>\n",
              "      <td>2014.0</td>\n",
              "      <td>65000.0</td>\n",
              "      <td>18789.0</td>\n",
              "      <td>58500.0</td>\n",
              "      <td>NaN</td>\n",
              "      <td>closed</td>\n",
              "      <td>1</td>\n",
              "      <td>1</td>\n",
              "      <td>-4289.0</td>\n",
              "    </tr>\n",
              "    <tr>\n",
              "      <th>56155</th>\n",
              "      <td>126973</td>\n",
              "      <td>Auto Equity</td>\n",
              "      <td>2013-01-22</td>\n",
              "      <td>NaN</td>\n",
              "      <td>NaN</td>\n",
              "      <td>11.0</td>\n",
              "      <td>2500.0</td>\n",
              "      <td>SP</td>\n",
              "      <td>1.0</td>\n",
              "      <td>0</td>\n",
              "      <td>hyundai</td>\n",
              "      <td>2011.0</td>\n",
              "      <td>0.0</td>\n",
              "      <td>0.0</td>\n",
              "      <td>60000.0</td>\n",
              "      <td>1.0</td>\n",
              "      <td>closed</td>\n",
              "      <td>1</td>\n",
              "      <td>1</td>\n",
              "      <td>-57500.0</td>\n",
              "    </tr>\n",
              "    <tr>\n",
              "      <th>56273</th>\n",
              "      <td>128392</td>\n",
              "      <td>Auto Equity</td>\n",
              "      <td>2013-02-18</td>\n",
              "      <td>NaN</td>\n",
              "      <td>NaN</td>\n",
              "      <td>11.0</td>\n",
              "      <td>8000.0</td>\n",
              "      <td>SP</td>\n",
              "      <td>1.0</td>\n",
              "      <td>0</td>\n",
              "      <td>mitsubishi</td>\n",
              "      <td>2011.0</td>\n",
              "      <td>0.0</td>\n",
              "      <td>0.0</td>\n",
              "      <td>70000.0</td>\n",
              "      <td>1.0</td>\n",
              "      <td>closed</td>\n",
              "      <td>1</td>\n",
              "      <td>1</td>\n",
              "      <td>-62000.0</td>\n",
              "    </tr>\n",
              "  </tbody>\n",
              "</table>\n",
              "</div>"
            ],
            "text/plain": [
              "           id specific_type created_at  ... car salary    index\n",
              "43954  126969   Auto Equity 2013-02-10  ...   1      1 -13200.0\n",
              "44258  126956   Auto Equity 2013-02-14  ...   1      1 -13000.0\n",
              "44358  126966   Auto Equity 2013-02-19  ...   1      1 -13200.0\n",
              "44520  126952   Auto Equity 2013-03-15  ...   1      1 -12500.0\n",
              "44661  126960   Auto Equity 2013-03-04  ...   1      1 -11100.0\n",
              "44757  152367   Auto Equity 2013-05-09  ...   1      1  -9000.0\n",
              "44833  126971   Auto Equity 2013-01-26  ...   1      1  -7000.0\n",
              "44845  126967   Auto Equity 2013-02-18  ...   1      1 -10000.0\n",
              "44882  127009   Auto Equity 2013-01-03  ...   1      1 -11000.0\n",
              "44884  128560   Auto Equity 2013-02-25  ...   1      1 -12900.0\n",
              "45087  128353   Auto Equity 2013-02-16  ...   1      1 -12300.0\n",
              "46193  128668   Auto Equity 2013-02-28  ...   1      1 -12500.0\n",
              "48593  126972   Auto Equity 2013-01-26  ...   1      1 -14316.0\n",
              "49333  126962   Auto Equity 2013-02-20  ...   1      1 -12000.0\n",
              "49384  126957   Auto Equity 2013-03-11  ...   1      1 -14300.0\n",
              "49432  126953   Auto Equity 2013-03-12  ...   1      1 -16000.0\n",
              "49487  126968   Auto Equity 2013-02-14  ...   1      1 -16500.0\n",
              "49567  126963   Auto Equity 2013-01-08  ...   1      1 -18000.0\n",
              "49601  127014   Auto Equity 2013-01-03  ...   1      1 -12200.0\n",
              "49608  126964   Auto Equity 2013-03-03  ...   1      1 -18028.0\n",
              "49635  152378   Auto Equity 2013-04-23  ...   1      1 -16000.0\n",
              "51439  128691   Auto Equity 2013-03-01  ...   1      1 -21210.0\n",
              "52054  128366   Auto Equity 2013-02-17  ...   1      1 -21500.0\n",
              "52134  126954   Auto Equity 2013-03-21  ...   1      1 -23500.0\n",
              "52805  126961   Auto Equity 2013-02-26  ...   1      1 -14200.0\n",
              "53587  125612   Auto Equity 2013-07-23  ...   1      1 -10000.0\n",
              "53593  126970   Auto Equity 2013-01-30  ...   1      1 -25500.0\n",
              "54636  126958   Auto Equity 2013-02-26  ...   1      1 -31000.0\n",
              "54687  126955   Auto Equity 2013-03-21  ...   1      1 -23000.0\n",
              "54688  126959   Auto Equity 2013-03-07  ...   1      1 -30294.0\n",
              "54742  885791   Auto Equity 2015-09-27  ...   1      1  -2600.0\n",
              "55241  126965   Auto Equity 2013-02-19  ...   1      1 -32000.0\n",
              "55282  431186   Auto Equity 2014-07-11  ...   1      1 -25000.0\n",
              "55875  127882   Auto Equity 2013-01-14  ...   1      1 -42200.0\n",
              "55876  128335   Auto Equity 2013-02-15  ...   1      1 -25000.0\n",
              "56107  557520   Auto Equity 2014-10-24  ...   1      1  -4289.0\n",
              "56155  126973   Auto Equity 2013-01-22  ...   1      1 -57500.0\n",
              "56273  128392   Auto Equity 2013-02-18  ...   1      1 -62000.0\n",
              "\n",
              "[38 rows x 20 columns]"
            ]
          },
          "metadata": {
            "tags": []
          },
          "execution_count": 84
        }
      ]
    },
    {
      "cell_type": "markdown",
      "metadata": {
        "id": "7BdjyIO_Zfms",
        "colab_type": "text"
      },
      "source": [
        "As datas de abertura da entrada indica que esses são os primeiros clientes da Créditas"
      ]
    },
    {
      "cell_type": "markdown",
      "metadata": {
        "id": "vjBsD4GJXSaC",
        "colab_type": "text"
      },
      "source": [
        "### Correlação Formulário vs Fechamento\n",
        "\n",
        "intuitivamente, esperaríamos que o preenchimento do formulário fosse algo imprescindível."
      ]
    },
    {
      "cell_type": "code",
      "metadata": {
        "id": "6D9gBmjbMzWg",
        "colab_type": "code",
        "colab": {
          "base_uri": "https://localhost:8080/",
          "height": 67
        },
        "outputId": "d06fb46b-f88d-4a46-b87c-e09995a52174"
      },
      "source": [
        "true_close['registration_form_closed'].value_counts()"
      ],
      "execution_count": 85,
      "outputs": [
        {
          "output_type": "execute_result",
          "data": {
            "text/plain": [
              "0    557\n",
              "1     82\n",
              "Name: registration_form_closed, dtype: int64"
            ]
          },
          "metadata": {
            "tags": []
          },
          "execution_count": 85
        }
      ]
    },
    {
      "cell_type": "markdown",
      "metadata": {
        "id": "ocOBu90WXhFD",
        "colab_type": "text"
      },
      "source": [
        "Aparentemente muitos clientes não terminaram o formulário, talvez seja algum erro. Não acredito ser um parâmetro bom para análise"
      ]
    },
    {
      "cell_type": "markdown",
      "metadata": {
        "id": "dy4PIbweYB90",
        "colab_type": "text"
      },
      "source": [
        "### Correlação Gênero vs Fechamento"
      ]
    },
    {
      "cell_type": "code",
      "metadata": {
        "id": "1EyI6nCvPiao",
        "colab_type": "code",
        "colab": {
          "base_uri": "https://localhost:8080/",
          "height": 33
        },
        "outputId": "6f1165ae-4e4d-498a-a20e-335ff2e3ea1e"
      },
      "source": [
        "true_close['gender'].isnull().sum()"
      ],
      "execution_count": 86,
      "outputs": [
        {
          "output_type": "execute_result",
          "data": {
            "text/plain": [
              "160"
            ]
          },
          "metadata": {
            "tags": []
          },
          "execution_count": 86
        }
      ]
    },
    {
      "cell_type": "markdown",
      "metadata": {
        "id": "g5jTs3d8YGYW",
        "colab_type": "text"
      },
      "source": [
        "Vemos que uma grande parcela dos clientes aprovados não preencheu a lacuna gênero e isso não influenciou na sua aprovação"
      ]
    },
    {
      "cell_type": "code",
      "metadata": {
        "id": "hkNV-jqhOVrR",
        "colab_type": "code",
        "colab": {
          "base_uri": "https://localhost:8080/",
          "height": 67
        },
        "outputId": "65576309-24a0-4b6f-d9e9-ff76d9e024ef"
      },
      "source": [
        "true_close['gender'].value_counts()"
      ],
      "execution_count": 87,
      "outputs": [
        {
          "output_type": "execute_result",
          "data": {
            "text/plain": [
              "male      301\n",
              "female    178\n",
              "Name: gender, dtype: int64"
            ]
          },
          "metadata": {
            "tags": []
          },
          "execution_count": 87
        }
      ]
    },
    {
      "cell_type": "markdown",
      "metadata": {
        "id": "s_Qh3TgOYObq",
        "colab_type": "text"
      },
      "source": [
        "### Correlação Declaração de imposto vs Fechamento"
      ]
    },
    {
      "cell_type": "code",
      "metadata": {
        "id": "curVptf5Ps1Q",
        "colab_type": "code",
        "colab": {
          "base_uri": "https://localhost:8080/",
          "height": 67
        },
        "outputId": "a4c52953-3c2d-40d9-9deb-9786dbc7b14a"
      },
      "source": [
        "true_close['declares_income_tax'].value_counts()"
      ],
      "execution_count": 88,
      "outputs": [
        {
          "output_type": "execute_result",
          "data": {
            "text/plain": [
              "1.0    43\n",
              "0.0     4\n",
              "Name: declares_income_tax, dtype: int64"
            ]
          },
          "metadata": {
            "tags": []
          },
          "execution_count": 88
        }
      ]
    },
    {
      "cell_type": "markdown",
      "metadata": {
        "id": "UZbaGQBQYWtW",
        "colab_type": "text"
      },
      "source": [
        "Apenas 47 clientes tem o seu imposto registrado na tabela, deixando claro não ser uma variável relevante para a aprovação de crédio"
      ]
    },
    {
      "cell_type": "code",
      "metadata": {
        "id": "gHWTp_wsP1tl",
        "colab_type": "code",
        "colab": {
          "base_uri": "https://localhost:8080/",
          "height": 33
        },
        "outputId": "cc503a0b-46c4-4e76-f7e7-da2328cc63ba"
      },
      "source": [
        "true_close['declares_income_tax'].isnull().sum()"
      ],
      "execution_count": 89,
      "outputs": [
        {
          "output_type": "execute_result",
          "data": {
            "text/plain": [
              "592"
            ]
          },
          "metadata": {
            "tags": []
          },
          "execution_count": 89
        }
      ]
    },
    {
      "cell_type": "markdown",
      "metadata": {
        "id": "DN9wfBM-av_k",
        "colab_type": "text"
      },
      "source": [
        "#Restrição de CPF: Caso geral"
      ]
    },
    {
      "cell_type": "code",
      "metadata": {
        "id": "WCoi8VzIY9RR",
        "colab_type": "code",
        "colab": {
          "base_uri": "https://localhost:8080/",
          "height": 67
        },
        "outputId": "5617ec7b-cc7e-46be-b713-cb825c208b42"
      },
      "source": [
        "df['cpf_restriction'].value_counts()"
      ],
      "execution_count": 90,
      "outputs": [
        {
          "output_type": "execute_result",
          "data": {
            "text/plain": [
              "1.0    30835\n",
              "0.0    26347\n",
              "Name: cpf_restriction, dtype: int64"
            ]
          },
          "metadata": {
            "tags": []
          },
          "execution_count": 90
        }
      ]
    },
    {
      "cell_type": "code",
      "metadata": {
        "id": "WuScbSqRg87s",
        "colab_type": "code",
        "colab": {}
      },
      "source": [
        "status = df['operation_status'].unique()\n",
        "cpf = df['cpf_restriction'].unique()"
      ],
      "execution_count": 91,
      "outputs": []
    },
    {
      "cell_type": "code",
      "metadata": {
        "id": "t_LBotxkgzlK",
        "colab_type": "code",
        "colab": {
          "base_uri": "https://localhost:8080/",
          "height": 217
        },
        "outputId": "90cb3928-2b42-4fed-929f-15e34415a3b1"
      },
      "source": [
        "table = pd.pivot_table(df, index='operation_status', columns='cpf_restriction', aggfunc='count')\n",
        "table"
      ],
      "execution_count": 92,
      "outputs": [
        {
          "output_type": "execute_result",
          "data": {
            "text/html": [
              "<div>\n",
              "<style scoped>\n",
              "    .dataframe tbody tr th:only-of-type {\n",
              "        vertical-align: middle;\n",
              "    }\n",
              "\n",
              "    .dataframe tbody tr th {\n",
              "        vertical-align: top;\n",
              "    }\n",
              "\n",
              "    .dataframe thead tr th {\n",
              "        text-align: left;\n",
              "    }\n",
              "\n",
              "    .dataframe thead tr:last-of-type th {\n",
              "        text-align: right;\n",
              "    }\n",
              "</style>\n",
              "<table border=\"1\" class=\"dataframe\">\n",
              "  <thead>\n",
              "    <tr>\n",
              "      <th></th>\n",
              "      <th colspan=\"2\" halign=\"left\">auto_debt</th>\n",
              "      <th colspan=\"2\" halign=\"left\">auto_value</th>\n",
              "      <th colspan=\"2\" halign=\"left\">birth_date</th>\n",
              "      <th colspan=\"2\" halign=\"left\">brand</th>\n",
              "      <th colspan=\"2\" halign=\"left\">car</th>\n",
              "      <th colspan=\"2\" halign=\"left\">created_at</th>\n",
              "      <th colspan=\"2\" halign=\"left\">declares_income_tax</th>\n",
              "      <th colspan=\"2\" halign=\"left\">gender</th>\n",
              "      <th colspan=\"2\" halign=\"left\">id</th>\n",
              "      <th colspan=\"2\" halign=\"left\">index</th>\n",
              "      <th colspan=\"2\" halign=\"left\">loan_amount</th>\n",
              "      <th colspan=\"2\" halign=\"left\">model_year</th>\n",
              "      <th colspan=\"2\" halign=\"left\">monthly_income</th>\n",
              "      <th colspan=\"2\" halign=\"left\">phone_code</th>\n",
              "      <th colspan=\"2\" halign=\"left\">registration_form_closed</th>\n",
              "      <th colspan=\"2\" halign=\"left\">salary</th>\n",
              "      <th colspan=\"2\" halign=\"left\">specific_type</th>\n",
              "      <th colspan=\"2\" halign=\"left\">state</th>\n",
              "    </tr>\n",
              "    <tr>\n",
              "      <th>cpf_restriction</th>\n",
              "      <th>0.0</th>\n",
              "      <th>1.0</th>\n",
              "      <th>0.0</th>\n",
              "      <th>1.0</th>\n",
              "      <th>0.0</th>\n",
              "      <th>1.0</th>\n",
              "      <th>0.0</th>\n",
              "      <th>1.0</th>\n",
              "      <th>0.0</th>\n",
              "      <th>1.0</th>\n",
              "      <th>0.0</th>\n",
              "      <th>1.0</th>\n",
              "      <th>0.0</th>\n",
              "      <th>1.0</th>\n",
              "      <th>0.0</th>\n",
              "      <th>1.0</th>\n",
              "      <th>0.0</th>\n",
              "      <th>1.0</th>\n",
              "      <th>0.0</th>\n",
              "      <th>1.0</th>\n",
              "      <th>0.0</th>\n",
              "      <th>1.0</th>\n",
              "      <th>0.0</th>\n",
              "      <th>1.0</th>\n",
              "      <th>0.0</th>\n",
              "      <th>1.0</th>\n",
              "      <th>0.0</th>\n",
              "      <th>1.0</th>\n",
              "      <th>0.0</th>\n",
              "      <th>1.0</th>\n",
              "      <th>0.0</th>\n",
              "      <th>1.0</th>\n",
              "      <th>0.0</th>\n",
              "      <th>1.0</th>\n",
              "      <th>0.0</th>\n",
              "      <th>1.0</th>\n",
              "    </tr>\n",
              "    <tr>\n",
              "      <th>operation_status</th>\n",
              "      <th></th>\n",
              "      <th></th>\n",
              "      <th></th>\n",
              "      <th></th>\n",
              "      <th></th>\n",
              "      <th></th>\n",
              "      <th></th>\n",
              "      <th></th>\n",
              "      <th></th>\n",
              "      <th></th>\n",
              "      <th></th>\n",
              "      <th></th>\n",
              "      <th></th>\n",
              "      <th></th>\n",
              "      <th></th>\n",
              "      <th></th>\n",
              "      <th></th>\n",
              "      <th></th>\n",
              "      <th></th>\n",
              "      <th></th>\n",
              "      <th></th>\n",
              "      <th></th>\n",
              "      <th></th>\n",
              "      <th></th>\n",
              "      <th></th>\n",
              "      <th></th>\n",
              "      <th></th>\n",
              "      <th></th>\n",
              "      <th></th>\n",
              "      <th></th>\n",
              "      <th></th>\n",
              "      <th></th>\n",
              "      <th></th>\n",
              "      <th></th>\n",
              "      <th></th>\n",
              "      <th></th>\n",
              "    </tr>\n",
              "  </thead>\n",
              "  <tbody>\n",
              "    <tr>\n",
              "      <th>closed</th>\n",
              "      <td>570</td>\n",
              "      <td>69</td>\n",
              "      <td>570</td>\n",
              "      <td>69</td>\n",
              "      <td>570</td>\n",
              "      <td>35</td>\n",
              "      <td>570</td>\n",
              "      <td>69</td>\n",
              "      <td>570</td>\n",
              "      <td>69</td>\n",
              "      <td>570</td>\n",
              "      <td>69</td>\n",
              "      <td>3</td>\n",
              "      <td>44</td>\n",
              "      <td>463</td>\n",
              "      <td>16</td>\n",
              "      <td>570</td>\n",
              "      <td>69</td>\n",
              "      <td>570</td>\n",
              "      <td>69</td>\n",
              "      <td>570</td>\n",
              "      <td>69</td>\n",
              "      <td>570</td>\n",
              "      <td>58</td>\n",
              "      <td>570</td>\n",
              "      <td>69</td>\n",
              "      <td>570</td>\n",
              "      <td>69</td>\n",
              "      <td>570</td>\n",
              "      <td>69</td>\n",
              "      <td>570</td>\n",
              "      <td>69</td>\n",
              "      <td>570</td>\n",
              "      <td>69</td>\n",
              "      <td>570</td>\n",
              "      <td>69</td>\n",
              "    </tr>\n",
              "    <tr>\n",
              "      <th>no_closed</th>\n",
              "      <td>23879</td>\n",
              "      <td>30432</td>\n",
              "      <td>23879</td>\n",
              "      <td>30432</td>\n",
              "      <td>23879</td>\n",
              "      <td>26266</td>\n",
              "      <td>23879</td>\n",
              "      <td>30432</td>\n",
              "      <td>23879</td>\n",
              "      <td>30432</td>\n",
              "      <td>23879</td>\n",
              "      <td>30432</td>\n",
              "      <td>48</td>\n",
              "      <td>7809</td>\n",
              "      <td>20852</td>\n",
              "      <td>19808</td>\n",
              "      <td>23879</td>\n",
              "      <td>30432</td>\n",
              "      <td>23879</td>\n",
              "      <td>30432</td>\n",
              "      <td>23879</td>\n",
              "      <td>30432</td>\n",
              "      <td>23874</td>\n",
              "      <td>29672</td>\n",
              "      <td>23879</td>\n",
              "      <td>30432</td>\n",
              "      <td>23879</td>\n",
              "      <td>30300</td>\n",
              "      <td>23879</td>\n",
              "      <td>30432</td>\n",
              "      <td>23879</td>\n",
              "      <td>30432</td>\n",
              "      <td>23879</td>\n",
              "      <td>30432</td>\n",
              "      <td>23879</td>\n",
              "      <td>30432</td>\n",
              "    </tr>\n",
              "    <tr>\n",
              "      <th>ongoing</th>\n",
              "      <td>1898</td>\n",
              "      <td>334</td>\n",
              "      <td>1898</td>\n",
              "      <td>334</td>\n",
              "      <td>1898</td>\n",
              "      <td>334</td>\n",
              "      <td>1898</td>\n",
              "      <td>334</td>\n",
              "      <td>1898</td>\n",
              "      <td>334</td>\n",
              "      <td>1898</td>\n",
              "      <td>334</td>\n",
              "      <td>0</td>\n",
              "      <td>0</td>\n",
              "      <td>1735</td>\n",
              "      <td>234</td>\n",
              "      <td>1898</td>\n",
              "      <td>334</td>\n",
              "      <td>1898</td>\n",
              "      <td>334</td>\n",
              "      <td>1898</td>\n",
              "      <td>334</td>\n",
              "      <td>1898</td>\n",
              "      <td>334</td>\n",
              "      <td>1898</td>\n",
              "      <td>334</td>\n",
              "      <td>1898</td>\n",
              "      <td>334</td>\n",
              "      <td>1898</td>\n",
              "      <td>334</td>\n",
              "      <td>1898</td>\n",
              "      <td>334</td>\n",
              "      <td>1898</td>\n",
              "      <td>334</td>\n",
              "      <td>1898</td>\n",
              "      <td>334</td>\n",
              "    </tr>\n",
              "  </tbody>\n",
              "</table>\n",
              "</div>"
            ],
            "text/plain": [
              "                 auto_debt        auto_value  ... specific_type  state       \n",
              "cpf_restriction        0.0    1.0        0.0  ...           1.0    0.0    1.0\n",
              "operation_status                              ...                            \n",
              "closed                 570     69        570  ...            69    570     69\n",
              "no_closed            23879  30432      23879  ...         30432  23879  30432\n",
              "ongoing               1898    334       1898  ...           334   1898    334\n",
              "\n",
              "[3 rows x 36 columns]"
            ]
          },
          "metadata": {
            "tags": []
          },
          "execution_count": 92
        }
      ]
    },
    {
      "cell_type": "code",
      "metadata": {
        "id": "a8bJP6FwibwH",
        "colab_type": "code",
        "colab": {
          "base_uri": "https://localhost:8080/",
          "height": 167
        },
        "outputId": "a7e8eca8-d991-4070-fb87-9350f04d0250"
      },
      "source": [
        "table['id']"
      ],
      "execution_count": 93,
      "outputs": [
        {
          "output_type": "execute_result",
          "data": {
            "text/html": [
              "<div>\n",
              "<style scoped>\n",
              "    .dataframe tbody tr th:only-of-type {\n",
              "        vertical-align: middle;\n",
              "    }\n",
              "\n",
              "    .dataframe tbody tr th {\n",
              "        vertical-align: top;\n",
              "    }\n",
              "\n",
              "    .dataframe thead th {\n",
              "        text-align: right;\n",
              "    }\n",
              "</style>\n",
              "<table border=\"1\" class=\"dataframe\">\n",
              "  <thead>\n",
              "    <tr style=\"text-align: right;\">\n",
              "      <th>cpf_restriction</th>\n",
              "      <th>0.0</th>\n",
              "      <th>1.0</th>\n",
              "    </tr>\n",
              "    <tr>\n",
              "      <th>operation_status</th>\n",
              "      <th></th>\n",
              "      <th></th>\n",
              "    </tr>\n",
              "  </thead>\n",
              "  <tbody>\n",
              "    <tr>\n",
              "      <th>closed</th>\n",
              "      <td>570</td>\n",
              "      <td>69</td>\n",
              "    </tr>\n",
              "    <tr>\n",
              "      <th>no_closed</th>\n",
              "      <td>23879</td>\n",
              "      <td>30432</td>\n",
              "    </tr>\n",
              "    <tr>\n",
              "      <th>ongoing</th>\n",
              "      <td>1898</td>\n",
              "      <td>334</td>\n",
              "    </tr>\n",
              "  </tbody>\n",
              "</table>\n",
              "</div>"
            ],
            "text/plain": [
              "cpf_restriction     0.0    1.0\n",
              "operation_status              \n",
              "closed              570     69\n",
              "no_closed         23879  30432\n",
              "ongoing            1898    334"
            ]
          },
          "metadata": {
            "tags": []
          },
          "execution_count": 93
        }
      ]
    },
    {
      "cell_type": "code",
      "metadata": {
        "id": "_qbw995qxgSG",
        "colab_type": "code",
        "colab": {
          "base_uri": "https://localhost:8080/",
          "height": 167
        },
        "outputId": "de73ad00-155f-403c-fb2f-8e8501bc2b32"
      },
      "source": [
        "table['car']"
      ],
      "execution_count": 94,
      "outputs": [
        {
          "output_type": "execute_result",
          "data": {
            "text/html": [
              "<div>\n",
              "<style scoped>\n",
              "    .dataframe tbody tr th:only-of-type {\n",
              "        vertical-align: middle;\n",
              "    }\n",
              "\n",
              "    .dataframe tbody tr th {\n",
              "        vertical-align: top;\n",
              "    }\n",
              "\n",
              "    .dataframe thead th {\n",
              "        text-align: right;\n",
              "    }\n",
              "</style>\n",
              "<table border=\"1\" class=\"dataframe\">\n",
              "  <thead>\n",
              "    <tr style=\"text-align: right;\">\n",
              "      <th>cpf_restriction</th>\n",
              "      <th>0.0</th>\n",
              "      <th>1.0</th>\n",
              "    </tr>\n",
              "    <tr>\n",
              "      <th>operation_status</th>\n",
              "      <th></th>\n",
              "      <th></th>\n",
              "    </tr>\n",
              "  </thead>\n",
              "  <tbody>\n",
              "    <tr>\n",
              "      <th>closed</th>\n",
              "      <td>570</td>\n",
              "      <td>69</td>\n",
              "    </tr>\n",
              "    <tr>\n",
              "      <th>no_closed</th>\n",
              "      <td>23879</td>\n",
              "      <td>30432</td>\n",
              "    </tr>\n",
              "    <tr>\n",
              "      <th>ongoing</th>\n",
              "      <td>1898</td>\n",
              "      <td>334</td>\n",
              "    </tr>\n",
              "  </tbody>\n",
              "</table>\n",
              "</div>"
            ],
            "text/plain": [
              "cpf_restriction     0.0    1.0\n",
              "operation_status              \n",
              "closed              570     69\n",
              "no_closed         23879  30432\n",
              "ongoing            1898    334"
            ]
          },
          "metadata": {
            "tags": []
          },
          "execution_count": 94
        }
      ]
    },
    {
      "cell_type": "code",
      "metadata": {
        "id": "0R7rFw4pxwep",
        "colab_type": "code",
        "colab": {
          "base_uri": "https://localhost:8080/",
          "height": 167
        },
        "outputId": "d88cf7b7-054a-42b4-ff40-9b6eac5a97d7"
      },
      "source": [
        "table['salary']"
      ],
      "execution_count": 95,
      "outputs": [
        {
          "output_type": "execute_result",
          "data": {
            "text/html": [
              "<div>\n",
              "<style scoped>\n",
              "    .dataframe tbody tr th:only-of-type {\n",
              "        vertical-align: middle;\n",
              "    }\n",
              "\n",
              "    .dataframe tbody tr th {\n",
              "        vertical-align: top;\n",
              "    }\n",
              "\n",
              "    .dataframe thead th {\n",
              "        text-align: right;\n",
              "    }\n",
              "</style>\n",
              "<table border=\"1\" class=\"dataframe\">\n",
              "  <thead>\n",
              "    <tr style=\"text-align: right;\">\n",
              "      <th>cpf_restriction</th>\n",
              "      <th>0.0</th>\n",
              "      <th>1.0</th>\n",
              "    </tr>\n",
              "    <tr>\n",
              "      <th>operation_status</th>\n",
              "      <th></th>\n",
              "      <th></th>\n",
              "    </tr>\n",
              "  </thead>\n",
              "  <tbody>\n",
              "    <tr>\n",
              "      <th>closed</th>\n",
              "      <td>570</td>\n",
              "      <td>69</td>\n",
              "    </tr>\n",
              "    <tr>\n",
              "      <th>no_closed</th>\n",
              "      <td>23879</td>\n",
              "      <td>30432</td>\n",
              "    </tr>\n",
              "    <tr>\n",
              "      <th>ongoing</th>\n",
              "      <td>1898</td>\n",
              "      <td>334</td>\n",
              "    </tr>\n",
              "  </tbody>\n",
              "</table>\n",
              "</div>"
            ],
            "text/plain": [
              "cpf_restriction     0.0    1.0\n",
              "operation_status              \n",
              "closed              570     69\n",
              "no_closed         23879  30432\n",
              "ongoing            1898    334"
            ]
          },
          "metadata": {
            "tags": []
          },
          "execution_count": 95
        }
      ]
    },
    {
      "cell_type": "code",
      "metadata": {
        "id": "Nczne-bNcIw8",
        "colab_type": "code",
        "colab": {
          "base_uri": "https://localhost:8080/",
          "height": 280
        },
        "outputId": "3871e57f-2661-4dec-b8a9-342e5377e61f"
      },
      "source": [
        "status = df['operation_status'].unique()\n",
        "cpf = df['cpf_restriction'].unique()\n",
        "plt.figure()\n",
        "sns.countplot(x = 'cpf_restriction',hue ='operation_status', data=df, palette='RdBu')\n",
        "plt.show()"
      ],
      "execution_count": 96,
      "outputs": [
        {
          "output_type": "display_data",
          "data": {
            "image/png": "[encoded data removed]",
            "text/plain": [
              "<Figure size 432x288 with 1 Axes>"
            ]
          },
          "metadata": {
            "tags": [],
            "needs_background": "light"
          }
        }
      ]
    },
    {
      "cell_type": "markdown",
      "metadata": {
        "id": "d81oi_iij4O0",
        "colab_type": "text"
      },
      "source": [
        "Vamos aplicar esse filtro e vê se ele restringe bem nosso dataset"
      ]
    },
    {
      "cell_type": "code",
      "metadata": {
        "id": "I_gisqyrptf5",
        "colab_type": "code",
        "colab": {}
      },
      "source": [
        "df_cpf_clean = df[df['cpf_restriction'] == 0]"
      ],
      "execution_count": 97,
      "outputs": []
    },
    {
      "cell_type": "code",
      "metadata": {
        "id": "Dt3lQfISbXII",
        "colab_type": "code",
        "colab": {
          "base_uri": "https://localhost:8080/",
          "height": 33
        },
        "outputId": "6bbf23fc-16df-43f3-f389-e91bb7ba5419"
      },
      "source": [
        "df_cpf_clean.shape"
      ],
      "execution_count": 98,
      "outputs": [
        {
          "output_type": "execute_result",
          "data": {
            "text/plain": [
              "(26347, 20)"
            ]
          },
          "metadata": {
            "tags": []
          },
          "execution_count": 98
        }
      ]
    },
    {
      "cell_type": "markdown",
      "metadata": {
        "id": "GA5e9oTykBnE",
        "colab_type": "text"
      },
      "source": [
        "Vemos que reduziu a metade. Vamos verificar quantos ainda são aprovados"
      ]
    },
    {
      "cell_type": "code",
      "metadata": {
        "id": "GIWxmndNkNaq",
        "colab_type": "code",
        "colab": {
          "base_uri": "https://localhost:8080/",
          "height": 83
        },
        "outputId": "c74005bb-6be7-4b60-849c-beccaae6c8cc"
      },
      "source": [
        "df_cpf_clean['operation_status'].value_counts()"
      ],
      "execution_count": 99,
      "outputs": [
        {
          "output_type": "execute_result",
          "data": {
            "text/plain": [
              "no_closed    23879\n",
              "ongoing       1898\n",
              "closed         570\n",
              "Name: operation_status, dtype: int64"
            ]
          },
          "metadata": {
            "tags": []
          },
          "execution_count": 99
        }
      ]
    },
    {
      "cell_type": "markdown",
      "metadata": {
        "id": "YPES643WkNAh",
        "colab_type": "text"
      },
      "source": [
        "Perdemos 69 clientes, mas vimos na análise acima que eles eram pontos fora da curva (outliers)"
      ]
    },
    {
      "cell_type": "markdown",
      "metadata": {
        "id": "ZCe053Zca0Ne",
        "colab_type": "text"
      },
      "source": [
        "#Carro"
      ]
    },
    {
      "cell_type": "code",
      "metadata": {
        "id": "fgF3MIAyyYbv",
        "colab_type": "code",
        "colab": {
          "base_uri": "https://localhost:8080/",
          "height": 217
        },
        "outputId": "eaf9e07b-6620-4f90-de71-e5d0e783eb10"
      },
      "source": [
        "table_2 = pd.pivot_table(df, index='operation_status', columns='car', aggfunc='count')\n",
        "table_2"
      ],
      "execution_count": 100,
      "outputs": [
        {
          "output_type": "execute_result",
          "data": {
            "text/html": [
              "<div>\n",
              "<style scoped>\n",
              "    .dataframe tbody tr th:only-of-type {\n",
              "        vertical-align: middle;\n",
              "    }\n",
              "\n",
              "    .dataframe tbody tr th {\n",
              "        vertical-align: top;\n",
              "    }\n",
              "\n",
              "    .dataframe thead tr th {\n",
              "        text-align: left;\n",
              "    }\n",
              "\n",
              "    .dataframe thead tr:last-of-type th {\n",
              "        text-align: right;\n",
              "    }\n",
              "</style>\n",
              "<table border=\"1\" class=\"dataframe\">\n",
              "  <thead>\n",
              "    <tr>\n",
              "      <th></th>\n",
              "      <th colspan=\"2\" halign=\"left\">auto_debt</th>\n",
              "      <th colspan=\"2\" halign=\"left\">auto_value</th>\n",
              "      <th colspan=\"2\" halign=\"left\">birth_date</th>\n",
              "      <th colspan=\"2\" halign=\"left\">brand</th>\n",
              "      <th colspan=\"2\" halign=\"left\">cpf_restriction</th>\n",
              "      <th colspan=\"2\" halign=\"left\">created_at</th>\n",
              "      <th colspan=\"2\" halign=\"left\">declares_income_tax</th>\n",
              "      <th colspan=\"2\" halign=\"left\">gender</th>\n",
              "      <th colspan=\"2\" halign=\"left\">id</th>\n",
              "      <th colspan=\"2\" halign=\"left\">index</th>\n",
              "      <th colspan=\"2\" halign=\"left\">loan_amount</th>\n",
              "      <th colspan=\"2\" halign=\"left\">model_year</th>\n",
              "      <th colspan=\"2\" halign=\"left\">monthly_income</th>\n",
              "      <th colspan=\"2\" halign=\"left\">phone_code</th>\n",
              "      <th colspan=\"2\" halign=\"left\">registration_form_closed</th>\n",
              "      <th colspan=\"2\" halign=\"left\">salary</th>\n",
              "      <th colspan=\"2\" halign=\"left\">specific_type</th>\n",
              "      <th colspan=\"2\" halign=\"left\">state</th>\n",
              "    </tr>\n",
              "    <tr>\n",
              "      <th>car</th>\n",
              "      <th>0</th>\n",
              "      <th>1</th>\n",
              "      <th>0</th>\n",
              "      <th>1</th>\n",
              "      <th>0</th>\n",
              "      <th>1</th>\n",
              "      <th>0</th>\n",
              "      <th>1</th>\n",
              "      <th>0</th>\n",
              "      <th>1</th>\n",
              "      <th>0</th>\n",
              "      <th>1</th>\n",
              "      <th>0</th>\n",
              "      <th>1</th>\n",
              "      <th>0</th>\n",
              "      <th>1</th>\n",
              "      <th>0</th>\n",
              "      <th>1</th>\n",
              "      <th>0</th>\n",
              "      <th>1</th>\n",
              "      <th>0</th>\n",
              "      <th>1</th>\n",
              "      <th>0</th>\n",
              "      <th>1</th>\n",
              "      <th>0</th>\n",
              "      <th>1</th>\n",
              "      <th>0</th>\n",
              "      <th>1</th>\n",
              "      <th>0</th>\n",
              "      <th>1</th>\n",
              "      <th>0</th>\n",
              "      <th>1</th>\n",
              "      <th>0</th>\n",
              "      <th>1</th>\n",
              "      <th>0</th>\n",
              "      <th>1</th>\n",
              "    </tr>\n",
              "    <tr>\n",
              "      <th>operation_status</th>\n",
              "      <th></th>\n",
              "      <th></th>\n",
              "      <th></th>\n",
              "      <th></th>\n",
              "      <th></th>\n",
              "      <th></th>\n",
              "      <th></th>\n",
              "      <th></th>\n",
              "      <th></th>\n",
              "      <th></th>\n",
              "      <th></th>\n",
              "      <th></th>\n",
              "      <th></th>\n",
              "      <th></th>\n",
              "      <th></th>\n",
              "      <th></th>\n",
              "      <th></th>\n",
              "      <th></th>\n",
              "      <th></th>\n",
              "      <th></th>\n",
              "      <th></th>\n",
              "      <th></th>\n",
              "      <th></th>\n",
              "      <th></th>\n",
              "      <th></th>\n",
              "      <th></th>\n",
              "      <th></th>\n",
              "      <th></th>\n",
              "      <th></th>\n",
              "      <th></th>\n",
              "      <th></th>\n",
              "      <th></th>\n",
              "      <th></th>\n",
              "      <th></th>\n",
              "      <th></th>\n",
              "      <th></th>\n",
              "    </tr>\n",
              "  </thead>\n",
              "  <tbody>\n",
              "    <tr>\n",
              "      <th>closed</th>\n",
              "      <td>NaN</td>\n",
              "      <td>639.0</td>\n",
              "      <td>NaN</td>\n",
              "      <td>639.0</td>\n",
              "      <td>NaN</td>\n",
              "      <td>605.0</td>\n",
              "      <td>NaN</td>\n",
              "      <td>639.0</td>\n",
              "      <td>NaN</td>\n",
              "      <td>639.0</td>\n",
              "      <td>NaN</td>\n",
              "      <td>639.0</td>\n",
              "      <td>NaN</td>\n",
              "      <td>47.0</td>\n",
              "      <td>NaN</td>\n",
              "      <td>479.0</td>\n",
              "      <td>NaN</td>\n",
              "      <td>639.0</td>\n",
              "      <td>NaN</td>\n",
              "      <td>639.0</td>\n",
              "      <td>NaN</td>\n",
              "      <td>639.0</td>\n",
              "      <td>NaN</td>\n",
              "      <td>628.0</td>\n",
              "      <td>NaN</td>\n",
              "      <td>639.0</td>\n",
              "      <td>NaN</td>\n",
              "      <td>639.0</td>\n",
              "      <td>NaN</td>\n",
              "      <td>639.0</td>\n",
              "      <td>NaN</td>\n",
              "      <td>639.0</td>\n",
              "      <td>NaN</td>\n",
              "      <td>639.0</td>\n",
              "      <td>NaN</td>\n",
              "      <td>639.0</td>\n",
              "    </tr>\n",
              "    <tr>\n",
              "      <th>no_closed</th>\n",
              "      <td>241.0</td>\n",
              "      <td>54070.0</td>\n",
              "      <td>241.0</td>\n",
              "      <td>54070.0</td>\n",
              "      <td>229.0</td>\n",
              "      <td>49916.0</td>\n",
              "      <td>241.0</td>\n",
              "      <td>54070.0</td>\n",
              "      <td>241.0</td>\n",
              "      <td>54070.0</td>\n",
              "      <td>241.0</td>\n",
              "      <td>54070.0</td>\n",
              "      <td>12.0</td>\n",
              "      <td>7845.0</td>\n",
              "      <td>168.0</td>\n",
              "      <td>40492.0</td>\n",
              "      <td>241.0</td>\n",
              "      <td>54070.0</td>\n",
              "      <td>241.0</td>\n",
              "      <td>54070.0</td>\n",
              "      <td>241.0</td>\n",
              "      <td>54070.0</td>\n",
              "      <td>202.0</td>\n",
              "      <td>53344.0</td>\n",
              "      <td>241.0</td>\n",
              "      <td>54070.0</td>\n",
              "      <td>241.0</td>\n",
              "      <td>53938.0</td>\n",
              "      <td>241.0</td>\n",
              "      <td>54070.0</td>\n",
              "      <td>241.0</td>\n",
              "      <td>54070.0</td>\n",
              "      <td>241.0</td>\n",
              "      <td>54070.0</td>\n",
              "      <td>241.0</td>\n",
              "      <td>54070.0</td>\n",
              "    </tr>\n",
              "    <tr>\n",
              "      <th>ongoing</th>\n",
              "      <td>NaN</td>\n",
              "      <td>2232.0</td>\n",
              "      <td>NaN</td>\n",
              "      <td>2232.0</td>\n",
              "      <td>NaN</td>\n",
              "      <td>2232.0</td>\n",
              "      <td>NaN</td>\n",
              "      <td>2232.0</td>\n",
              "      <td>NaN</td>\n",
              "      <td>2232.0</td>\n",
              "      <td>NaN</td>\n",
              "      <td>2232.0</td>\n",
              "      <td>NaN</td>\n",
              "      <td>0.0</td>\n",
              "      <td>NaN</td>\n",
              "      <td>1969.0</td>\n",
              "      <td>NaN</td>\n",
              "      <td>2232.0</td>\n",
              "      <td>NaN</td>\n",
              "      <td>2232.0</td>\n",
              "      <td>NaN</td>\n",
              "      <td>2232.0</td>\n",
              "      <td>NaN</td>\n",
              "      <td>2232.0</td>\n",
              "      <td>NaN</td>\n",
              "      <td>2232.0</td>\n",
              "      <td>NaN</td>\n",
              "      <td>2232.0</td>\n",
              "      <td>NaN</td>\n",
              "      <td>2232.0</td>\n",
              "      <td>NaN</td>\n",
              "      <td>2232.0</td>\n",
              "      <td>NaN</td>\n",
              "      <td>2232.0</td>\n",
              "      <td>NaN</td>\n",
              "      <td>2232.0</td>\n",
              "    </tr>\n",
              "  </tbody>\n",
              "</table>\n",
              "</div>"
            ],
            "text/plain": [
              "                 auto_debt          auto_value  ... specific_type  state         \n",
              "car                      0        1          0  ...             1      0        1\n",
              "operation_status                                ...                              \n",
              "closed                 NaN    639.0        NaN  ...         639.0    NaN    639.0\n",
              "no_closed            241.0  54070.0      241.0  ...       54070.0  241.0  54070.0\n",
              "ongoing                NaN   2232.0        NaN  ...        2232.0    NaN   2232.0\n",
              "\n",
              "[3 rows x 36 columns]"
            ]
          },
          "metadata": {
            "tags": []
          },
          "execution_count": 100
        }
      ]
    },
    {
      "cell_type": "code",
      "metadata": {
        "id": "hdFNQeHyx7Af",
        "colab_type": "code",
        "colab": {
          "base_uri": "https://localhost:8080/",
          "height": 187
        },
        "outputId": "1d40c20e-9ac6-49bf-8de3-7b0ecfe970c5"
      },
      "source": [
        "table_3 = pd.pivot_table(df, index='salary', columns='car', aggfunc='count')\n",
        "table_3"
      ],
      "execution_count": 101,
      "outputs": [
        {
          "output_type": "execute_result",
          "data": {
            "text/html": [
              "<div>\n",
              "<style scoped>\n",
              "    .dataframe tbody tr th:only-of-type {\n",
              "        vertical-align: middle;\n",
              "    }\n",
              "\n",
              "    .dataframe tbody tr th {\n",
              "        vertical-align: top;\n",
              "    }\n",
              "\n",
              "    .dataframe thead tr th {\n",
              "        text-align: left;\n",
              "    }\n",
              "\n",
              "    .dataframe thead tr:last-of-type th {\n",
              "        text-align: right;\n",
              "    }\n",
              "</style>\n",
              "<table border=\"1\" class=\"dataframe\">\n",
              "  <thead>\n",
              "    <tr>\n",
              "      <th></th>\n",
              "      <th colspan=\"2\" halign=\"left\">auto_debt</th>\n",
              "      <th colspan=\"2\" halign=\"left\">auto_value</th>\n",
              "      <th colspan=\"2\" halign=\"left\">birth_date</th>\n",
              "      <th colspan=\"2\" halign=\"left\">brand</th>\n",
              "      <th colspan=\"2\" halign=\"left\">cpf_restriction</th>\n",
              "      <th colspan=\"2\" halign=\"left\">created_at</th>\n",
              "      <th colspan=\"2\" halign=\"left\">declares_income_tax</th>\n",
              "      <th colspan=\"2\" halign=\"left\">gender</th>\n",
              "      <th colspan=\"2\" halign=\"left\">id</th>\n",
              "      <th colspan=\"2\" halign=\"left\">index</th>\n",
              "      <th colspan=\"2\" halign=\"left\">loan_amount</th>\n",
              "      <th colspan=\"2\" halign=\"left\">model_year</th>\n",
              "      <th colspan=\"2\" halign=\"left\">monthly_income</th>\n",
              "      <th colspan=\"2\" halign=\"left\">operation_status</th>\n",
              "      <th colspan=\"2\" halign=\"left\">phone_code</th>\n",
              "      <th colspan=\"2\" halign=\"left\">registration_form_closed</th>\n",
              "      <th colspan=\"2\" halign=\"left\">specific_type</th>\n",
              "      <th colspan=\"2\" halign=\"left\">state</th>\n",
              "    </tr>\n",
              "    <tr>\n",
              "      <th>car</th>\n",
              "      <th>0</th>\n",
              "      <th>1</th>\n",
              "      <th>0</th>\n",
              "      <th>1</th>\n",
              "      <th>0</th>\n",
              "      <th>1</th>\n",
              "      <th>0</th>\n",
              "      <th>1</th>\n",
              "      <th>0</th>\n",
              "      <th>1</th>\n",
              "      <th>0</th>\n",
              "      <th>1</th>\n",
              "      <th>0</th>\n",
              "      <th>1</th>\n",
              "      <th>0</th>\n",
              "      <th>1</th>\n",
              "      <th>0</th>\n",
              "      <th>1</th>\n",
              "      <th>0</th>\n",
              "      <th>1</th>\n",
              "      <th>0</th>\n",
              "      <th>1</th>\n",
              "      <th>0</th>\n",
              "      <th>1</th>\n",
              "      <th>0</th>\n",
              "      <th>1</th>\n",
              "      <th>0</th>\n",
              "      <th>1</th>\n",
              "      <th>0</th>\n",
              "      <th>1</th>\n",
              "      <th>0</th>\n",
              "      <th>1</th>\n",
              "      <th>0</th>\n",
              "      <th>1</th>\n",
              "      <th>0</th>\n",
              "      <th>1</th>\n",
              "    </tr>\n",
              "    <tr>\n",
              "      <th>salary</th>\n",
              "      <th></th>\n",
              "      <th></th>\n",
              "      <th></th>\n",
              "      <th></th>\n",
              "      <th></th>\n",
              "      <th></th>\n",
              "      <th></th>\n",
              "      <th></th>\n",
              "      <th></th>\n",
              "      <th></th>\n",
              "      <th></th>\n",
              "      <th></th>\n",
              "      <th></th>\n",
              "      <th></th>\n",
              "      <th></th>\n",
              "      <th></th>\n",
              "      <th></th>\n",
              "      <th></th>\n",
              "      <th></th>\n",
              "      <th></th>\n",
              "      <th></th>\n",
              "      <th></th>\n",
              "      <th></th>\n",
              "      <th></th>\n",
              "      <th></th>\n",
              "      <th></th>\n",
              "      <th></th>\n",
              "      <th></th>\n",
              "      <th></th>\n",
              "      <th></th>\n",
              "      <th></th>\n",
              "      <th></th>\n",
              "      <th></th>\n",
              "      <th></th>\n",
              "      <th></th>\n",
              "      <th></th>\n",
              "    </tr>\n",
              "  </thead>\n",
              "  <tbody>\n",
              "    <tr>\n",
              "      <th>0</th>\n",
              "      <td>228</td>\n",
              "      <td>537</td>\n",
              "      <td>228</td>\n",
              "      <td>537</td>\n",
              "      <td>228</td>\n",
              "      <td>506</td>\n",
              "      <td>228</td>\n",
              "      <td>537</td>\n",
              "      <td>228</td>\n",
              "      <td>537</td>\n",
              "      <td>228</td>\n",
              "      <td>537</td>\n",
              "      <td>0</td>\n",
              "      <td>122</td>\n",
              "      <td>168</td>\n",
              "      <td>287</td>\n",
              "      <td>228</td>\n",
              "      <td>537</td>\n",
              "      <td>228</td>\n",
              "      <td>537</td>\n",
              "      <td>228</td>\n",
              "      <td>537</td>\n",
              "      <td>202</td>\n",
              "      <td>532</td>\n",
              "      <td>228</td>\n",
              "      <td>537</td>\n",
              "      <td>228</td>\n",
              "      <td>537</td>\n",
              "      <td>228</td>\n",
              "      <td>532</td>\n",
              "      <td>228</td>\n",
              "      <td>537</td>\n",
              "      <td>228</td>\n",
              "      <td>537</td>\n",
              "      <td>228</td>\n",
              "      <td>537</td>\n",
              "    </tr>\n",
              "    <tr>\n",
              "      <th>1</th>\n",
              "      <td>13</td>\n",
              "      <td>56404</td>\n",
              "      <td>13</td>\n",
              "      <td>56404</td>\n",
              "      <td>1</td>\n",
              "      <td>52247</td>\n",
              "      <td>13</td>\n",
              "      <td>56404</td>\n",
              "      <td>13</td>\n",
              "      <td>56404</td>\n",
              "      <td>13</td>\n",
              "      <td>56404</td>\n",
              "      <td>12</td>\n",
              "      <td>7770</td>\n",
              "      <td>0</td>\n",
              "      <td>42653</td>\n",
              "      <td>13</td>\n",
              "      <td>56404</td>\n",
              "      <td>13</td>\n",
              "      <td>56404</td>\n",
              "      <td>13</td>\n",
              "      <td>56404</td>\n",
              "      <td>0</td>\n",
              "      <td>55672</td>\n",
              "      <td>13</td>\n",
              "      <td>56404</td>\n",
              "      <td>13</td>\n",
              "      <td>56404</td>\n",
              "      <td>13</td>\n",
              "      <td>56277</td>\n",
              "      <td>13</td>\n",
              "      <td>56404</td>\n",
              "      <td>13</td>\n",
              "      <td>56404</td>\n",
              "      <td>13</td>\n",
              "      <td>56404</td>\n",
              "    </tr>\n",
              "  </tbody>\n",
              "</table>\n",
              "</div>"
            ],
            "text/plain": [
              "       auto_debt        auto_value         ... specific_type        state       \n",
              "car            0      1          0      1  ...             0      1     0      1\n",
              "salary                                     ...                                  \n",
              "0            228    537        228    537  ...           228    537   228    537\n",
              "1             13  56404         13  56404  ...            13  56404    13  56404\n",
              "\n",
              "[2 rows x 36 columns]"
            ]
          },
          "metadata": {
            "tags": []
          },
          "execution_count": 101
        }
      ]
    },
    {
      "cell_type": "markdown",
      "metadata": {
        "id": "uSb9o7nzxsAP",
        "colab_type": "text"
      },
      "source": [
        "#Monthly Income"
      ]
    },
    {
      "cell_type": "code",
      "metadata": {
        "id": "-O2Ic6Vh1Vkb",
        "colab_type": "code",
        "colab": {
          "base_uri": "https://localhost:8080/",
          "height": 33
        },
        "outputId": "bd2571da-9235-4d9b-cf7e-64fe03719605"
      },
      "source": [
        "income = df_cpf_clean[df_cpf_clean['salary'] != 0]\n",
        "income.shape"
      ],
      "execution_count": 102,
      "outputs": [
        {
          "output_type": "execute_result",
          "data": {
            "text/plain": [
              "(25956, 20)"
            ]
          },
          "metadata": {
            "tags": []
          },
          "execution_count": 102
        }
      ]
    },
    {
      "cell_type": "code",
      "metadata": {
        "id": "jOAfpdgwk6RT",
        "colab_type": "code",
        "colab": {
          "base_uri": "https://localhost:8080/",
          "height": 83
        },
        "outputId": "05e9057e-e953-419a-d2c6-421e13dfbf68"
      },
      "source": [
        "income['operation_status'].value_counts()"
      ],
      "execution_count": 103,
      "outputs": [
        {
          "output_type": "execute_result",
          "data": {
            "text/plain": [
              "no_closed    23509\n",
              "ongoing       1883\n",
              "closed         564\n",
              "Name: operation_status, dtype: int64"
            ]
          },
          "metadata": {
            "tags": []
          },
          "execution_count": 103
        }
      ]
    },
    {
      "cell_type": "markdown",
      "metadata": {
        "id": "Nn-p2jG7lbV_",
        "colab_type": "text"
      },
      "source": [
        "Vemos aqui que o o salário é um fator que influencia, mas vamos ainda contar os 6, porque sabemos que eles possuem carro"
      ]
    },
    {
      "cell_type": "code",
      "metadata": {
        "id": "uIUwWR-ClpLv",
        "colab_type": "code",
        "colab": {
          "base_uri": "https://localhost:8080/",
          "height": 264
        },
        "outputId": "b12557de-d796-4a16-dcca-f9da16cf4c90"
      },
      "source": [
        "no_income = df_cpf_clean[(df_cpf_clean['salary'] == 0)&(df_cpf_clean['operation_status'] == 'closed')]\n",
        "no_income"
      ],
      "execution_count": 104,
      "outputs": [
        {
          "output_type": "execute_result",
          "data": {
            "text/html": [
              "<div>\n",
              "<style scoped>\n",
              "    .dataframe tbody tr th:only-of-type {\n",
              "        vertical-align: middle;\n",
              "    }\n",
              "\n",
              "    .dataframe tbody tr th {\n",
              "        vertical-align: top;\n",
              "    }\n",
              "\n",
              "    .dataframe thead th {\n",
              "        text-align: right;\n",
              "    }\n",
              "</style>\n",
              "<table border=\"1\" class=\"dataframe\">\n",
              "  <thead>\n",
              "    <tr style=\"text-align: right;\">\n",
              "      <th></th>\n",
              "      <th>id</th>\n",
              "      <th>specific_type</th>\n",
              "      <th>created_at</th>\n",
              "      <th>gender</th>\n",
              "      <th>birth_date</th>\n",
              "      <th>phone_code</th>\n",
              "      <th>monthly_income</th>\n",
              "      <th>state</th>\n",
              "      <th>cpf_restriction</th>\n",
              "      <th>registration_form_closed</th>\n",
              "      <th>brand</th>\n",
              "      <th>model_year</th>\n",
              "      <th>auto_value</th>\n",
              "      <th>auto_debt</th>\n",
              "      <th>loan_amount</th>\n",
              "      <th>declares_income_tax</th>\n",
              "      <th>operation_status</th>\n",
              "      <th>car</th>\n",
              "      <th>salary</th>\n",
              "      <th>index</th>\n",
              "    </tr>\n",
              "  </thead>\n",
              "  <tbody>\n",
              "    <tr>\n",
              "      <th>38393</th>\n",
              "      <td>951836</td>\n",
              "      <td>Auto Equity</td>\n",
              "      <td>2015-12-28</td>\n",
              "      <td>female</td>\n",
              "      <td>8/6/1978</td>\n",
              "      <td>11.0</td>\n",
              "      <td>0.0</td>\n",
              "      <td>SP</td>\n",
              "      <td>0.0</td>\n",
              "      <td>0</td>\n",
              "      <td>Fiat</td>\n",
              "      <td>2010.0</td>\n",
              "      <td>25000.0</td>\n",
              "      <td>0.0</td>\n",
              "      <td>10000.0</td>\n",
              "      <td>NaN</td>\n",
              "      <td>closed</td>\n",
              "      <td>1</td>\n",
              "      <td>0</td>\n",
              "      <td>15000.0</td>\n",
              "    </tr>\n",
              "    <tr>\n",
              "      <th>54197</th>\n",
              "      <td>1043654</td>\n",
              "      <td>Auto Equity</td>\n",
              "      <td>2016-03-16</td>\n",
              "      <td>NaN</td>\n",
              "      <td>1/28/1957</td>\n",
              "      <td>21.0</td>\n",
              "      <td>0.0</td>\n",
              "      <td>RJ</td>\n",
              "      <td>0.0</td>\n",
              "      <td>0</td>\n",
              "      <td>Hyundai</td>\n",
              "      <td>2010.0</td>\n",
              "      <td>35000.0</td>\n",
              "      <td>0.0</td>\n",
              "      <td>31500.0</td>\n",
              "      <td>NaN</td>\n",
              "      <td>closed</td>\n",
              "      <td>1</td>\n",
              "      <td>0</td>\n",
              "      <td>3500.0</td>\n",
              "    </tr>\n",
              "    <tr>\n",
              "      <th>55827</th>\n",
              "      <td>941886</td>\n",
              "      <td>Auto Equity</td>\n",
              "      <td>2015-12-14</td>\n",
              "      <td>male</td>\n",
              "      <td>7/2/1972</td>\n",
              "      <td>13.0</td>\n",
              "      <td>0.0</td>\n",
              "      <td>SP</td>\n",
              "      <td>0.0</td>\n",
              "      <td>0</td>\n",
              "      <td>Hyundai</td>\n",
              "      <td>2012.0</td>\n",
              "      <td>86000.0</td>\n",
              "      <td>0.0</td>\n",
              "      <td>50000.0</td>\n",
              "      <td>NaN</td>\n",
              "      <td>closed</td>\n",
              "      <td>1</td>\n",
              "      <td>0</td>\n",
              "      <td>36000.0</td>\n",
              "    </tr>\n",
              "    <tr>\n",
              "      <th>56166</th>\n",
              "      <td>1038585</td>\n",
              "      <td>Auto Equity</td>\n",
              "      <td>2016-03-13</td>\n",
              "      <td>NaN</td>\n",
              "      <td>2/20/1980</td>\n",
              "      <td>11.0</td>\n",
              "      <td>0.0</td>\n",
              "      <td>SP</td>\n",
              "      <td>0.0</td>\n",
              "      <td>0</td>\n",
              "      <td>VW - VolksWagen</td>\n",
              "      <td>2013.0</td>\n",
              "      <td>100000.0</td>\n",
              "      <td>0.0</td>\n",
              "      <td>60000.0</td>\n",
              "      <td>NaN</td>\n",
              "      <td>closed</td>\n",
              "      <td>1</td>\n",
              "      <td>0</td>\n",
              "      <td>40000.0</td>\n",
              "    </tr>\n",
              "    <tr>\n",
              "      <th>56335</th>\n",
              "      <td>797169</td>\n",
              "      <td>Auto Equity</td>\n",
              "      <td>2015-06-06</td>\n",
              "      <td>male</td>\n",
              "      <td>9/24/1972</td>\n",
              "      <td>51.0</td>\n",
              "      <td>0.0</td>\n",
              "      <td>RS</td>\n",
              "      <td>0.0</td>\n",
              "      <td>0</td>\n",
              "      <td>Toyota</td>\n",
              "      <td>2007.0</td>\n",
              "      <td>84000.0</td>\n",
              "      <td>0.0</td>\n",
              "      <td>75600.0</td>\n",
              "      <td>NaN</td>\n",
              "      <td>closed</td>\n",
              "      <td>1</td>\n",
              "      <td>0</td>\n",
              "      <td>8400.0</td>\n",
              "    </tr>\n",
              "    <tr>\n",
              "      <th>56514</th>\n",
              "      <td>836145</td>\n",
              "      <td>Auto Equity</td>\n",
              "      <td>2015-07-28</td>\n",
              "      <td>male</td>\n",
              "      <td>12/6/1959</td>\n",
              "      <td>11.0</td>\n",
              "      <td>0.0</td>\n",
              "      <td>SP</td>\n",
              "      <td>0.0</td>\n",
              "      <td>0</td>\n",
              "      <td>Mitsubishi</td>\n",
              "      <td>2014.0</td>\n",
              "      <td>158000.0</td>\n",
              "      <td>0.0</td>\n",
              "      <td>142200.0</td>\n",
              "      <td>NaN</td>\n",
              "      <td>closed</td>\n",
              "      <td>1</td>\n",
              "      <td>0</td>\n",
              "      <td>15800.0</td>\n",
              "    </tr>\n",
              "  </tbody>\n",
              "</table>\n",
              "</div>"
            ],
            "text/plain": [
              "            id specific_type created_at  ... car salary    index\n",
              "38393   951836   Auto Equity 2015-12-28  ...   1      0  15000.0\n",
              "54197  1043654   Auto Equity 2016-03-16  ...   1      0   3500.0\n",
              "55827   941886   Auto Equity 2015-12-14  ...   1      0  36000.0\n",
              "56166  1038585   Auto Equity 2016-03-13  ...   1      0  40000.0\n",
              "56335   797169   Auto Equity 2015-06-06  ...   1      0   8400.0\n",
              "56514   836145   Auto Equity 2015-07-28  ...   1      0  15800.0\n",
              "\n",
              "[6 rows x 20 columns]"
            ]
          },
          "metadata": {
            "tags": []
          },
          "execution_count": 104
        }
      ]
    },
    {
      "cell_type": "code",
      "metadata": {
        "id": "N1GbP1eXmJ9O",
        "colab_type": "code",
        "colab": {
          "base_uri": "https://localhost:8080/",
          "height": 167
        },
        "outputId": "301c4411-d772-45f4-a8e6-83493a5951c8"
      },
      "source": [
        "table_3 = pd.pivot_table(df, index='operation_status', columns='salary', aggfunc='count')\n",
        "table_3['id']"
      ],
      "execution_count": 105,
      "outputs": [
        {
          "output_type": "execute_result",
          "data": {
            "text/html": [
              "<div>\n",
              "<style scoped>\n",
              "    .dataframe tbody tr th:only-of-type {\n",
              "        vertical-align: middle;\n",
              "    }\n",
              "\n",
              "    .dataframe tbody tr th {\n",
              "        vertical-align: top;\n",
              "    }\n",
              "\n",
              "    .dataframe thead th {\n",
              "        text-align: right;\n",
              "    }\n",
              "</style>\n",
              "<table border=\"1\" class=\"dataframe\">\n",
              "  <thead>\n",
              "    <tr style=\"text-align: right;\">\n",
              "      <th>salary</th>\n",
              "      <th>0</th>\n",
              "      <th>1</th>\n",
              "    </tr>\n",
              "    <tr>\n",
              "      <th>operation_status</th>\n",
              "      <th></th>\n",
              "      <th></th>\n",
              "    </tr>\n",
              "  </thead>\n",
              "  <tbody>\n",
              "    <tr>\n",
              "      <th>closed</th>\n",
              "      <td>6</td>\n",
              "      <td>633</td>\n",
              "    </tr>\n",
              "    <tr>\n",
              "      <th>no_closed</th>\n",
              "      <td>744</td>\n",
              "      <td>53567</td>\n",
              "    </tr>\n",
              "    <tr>\n",
              "      <th>ongoing</th>\n",
              "      <td>15</td>\n",
              "      <td>2217</td>\n",
              "    </tr>\n",
              "  </tbody>\n",
              "</table>\n",
              "</div>"
            ],
            "text/plain": [
              "salary              0      1\n",
              "operation_status            \n",
              "closed              6    633\n",
              "no_closed         744  53567\n",
              "ongoing            15   2217"
            ]
          },
          "metadata": {
            "tags": []
          },
          "execution_count": 105
        }
      ]
    },
    {
      "cell_type": "markdown",
      "metadata": {
        "id": "7RJDBDy9_cOs",
        "colab_type": "text"
      },
      "source": [
        "# Predicting Category"
      ]
    },
    {
      "cell_type": "code",
      "metadata": {
        "id": "DWEYFYqh_i4B",
        "colab_type": "code",
        "colab": {}
      },
      "source": [
        "import sklearn"
      ],
      "execution_count": 106,
      "outputs": []
    },
    {
      "cell_type": "code",
      "metadata": {
        "id": "VH4COIQY_pmb",
        "colab_type": "code",
        "colab": {
          "base_uri": "https://localhost:8080/",
          "height": 217
        },
        "outputId": "f3864fe0-4556-490f-a511-73cd65c91879"
      },
      "source": [
        "df.head()"
      ],
      "execution_count": 107,
      "outputs": [
        {
          "output_type": "execute_result",
          "data": {
            "text/html": [
              "<div>\n",
              "<style scoped>\n",
              "    .dataframe tbody tr th:only-of-type {\n",
              "        vertical-align: middle;\n",
              "    }\n",
              "\n",
              "    .dataframe tbody tr th {\n",
              "        vertical-align: top;\n",
              "    }\n",
              "\n",
              "    .dataframe thead th {\n",
              "        text-align: right;\n",
              "    }\n",
              "</style>\n",
              "<table border=\"1\" class=\"dataframe\">\n",
              "  <thead>\n",
              "    <tr style=\"text-align: right;\">\n",
              "      <th></th>\n",
              "      <th>id</th>\n",
              "      <th>specific_type</th>\n",
              "      <th>created_at</th>\n",
              "      <th>gender</th>\n",
              "      <th>birth_date</th>\n",
              "      <th>phone_code</th>\n",
              "      <th>monthly_income</th>\n",
              "      <th>state</th>\n",
              "      <th>cpf_restriction</th>\n",
              "      <th>registration_form_closed</th>\n",
              "      <th>brand</th>\n",
              "      <th>model_year</th>\n",
              "      <th>auto_value</th>\n",
              "      <th>auto_debt</th>\n",
              "      <th>loan_amount</th>\n",
              "      <th>declares_income_tax</th>\n",
              "      <th>operation_status</th>\n",
              "      <th>car</th>\n",
              "      <th>salary</th>\n",
              "      <th>index</th>\n",
              "    </tr>\n",
              "  </thead>\n",
              "  <tbody>\n",
              "    <tr>\n",
              "      <th>0</th>\n",
              "      <td>126413</td>\n",
              "      <td>Auto Equity</td>\n",
              "      <td>2013-09-28</td>\n",
              "      <td>male</td>\n",
              "      <td>11/13/1971</td>\n",
              "      <td>85.0</td>\n",
              "      <td>4000.0</td>\n",
              "      <td>NO_STATE</td>\n",
              "      <td>1.0</td>\n",
              "      <td>0</td>\n",
              "      <td>wokvagem</td>\n",
              "      <td>1995.0</td>\n",
              "      <td>7000.0</td>\n",
              "      <td>0.0</td>\n",
              "      <td>0.0</td>\n",
              "      <td>0.0</td>\n",
              "      <td>no_closed</td>\n",
              "      <td>1</td>\n",
              "      <td>1</td>\n",
              "      <td>11000.0</td>\n",
              "    </tr>\n",
              "    <tr>\n",
              "      <th>1</th>\n",
              "      <td>125610</td>\n",
              "      <td>Auto Equity</td>\n",
              "      <td>2013-07-22</td>\n",
              "      <td>NaN</td>\n",
              "      <td>5/17/1991</td>\n",
              "      <td>31.0</td>\n",
              "      <td>900.0</td>\n",
              "      <td>NO_STATE</td>\n",
              "      <td>1.0</td>\n",
              "      <td>0</td>\n",
              "      <td>fiat</td>\n",
              "      <td>1999.0</td>\n",
              "      <td>0.0</td>\n",
              "      <td>0.0</td>\n",
              "      <td>0.0</td>\n",
              "      <td>1.0</td>\n",
              "      <td>no_closed</td>\n",
              "      <td>1</td>\n",
              "      <td>1</td>\n",
              "      <td>900.0</td>\n",
              "    </tr>\n",
              "    <tr>\n",
              "      <th>2</th>\n",
              "      <td>126523</td>\n",
              "      <td>Auto Equity</td>\n",
              "      <td>2013-10-03</td>\n",
              "      <td>female</td>\n",
              "      <td>1/14/1984</td>\n",
              "      <td>22.0</td>\n",
              "      <td>1000.0</td>\n",
              "      <td>NO_STATE</td>\n",
              "      <td>1.0</td>\n",
              "      <td>0</td>\n",
              "      <td>honda</td>\n",
              "      <td>2011.0</td>\n",
              "      <td>0.0</td>\n",
              "      <td>0.0</td>\n",
              "      <td>0.0</td>\n",
              "      <td>0.0</td>\n",
              "      <td>no_closed</td>\n",
              "      <td>1</td>\n",
              "      <td>1</td>\n",
              "      <td>1000.0</td>\n",
              "    </tr>\n",
              "    <tr>\n",
              "      <th>3</th>\n",
              "      <td>125820</td>\n",
              "      <td>Auto Equity</td>\n",
              "      <td>2013-08-12</td>\n",
              "      <td>female</td>\n",
              "      <td>7/7/1995</td>\n",
              "      <td>81.0</td>\n",
              "      <td>700.0</td>\n",
              "      <td>NO_STATE</td>\n",
              "      <td>1.0</td>\n",
              "      <td>0</td>\n",
              "      <td>fiat</td>\n",
              "      <td>2013.0</td>\n",
              "      <td>0.0</td>\n",
              "      <td>0.0</td>\n",
              "      <td>0.0</td>\n",
              "      <td>1.0</td>\n",
              "      <td>no_closed</td>\n",
              "      <td>1</td>\n",
              "      <td>1</td>\n",
              "      <td>700.0</td>\n",
              "    </tr>\n",
              "    <tr>\n",
              "      <th>4</th>\n",
              "      <td>125863</td>\n",
              "      <td>Auto Equity</td>\n",
              "      <td>2013-08-16</td>\n",
              "      <td>male</td>\n",
              "      <td>12/23/1991</td>\n",
              "      <td>11.0</td>\n",
              "      <td>2500.0</td>\n",
              "      <td>NO_STATE</td>\n",
              "      <td>1.0</td>\n",
              "      <td>0</td>\n",
              "      <td>volkswagen</td>\n",
              "      <td>2008.0</td>\n",
              "      <td>0.0</td>\n",
              "      <td>0.0</td>\n",
              "      <td>0.0</td>\n",
              "      <td>0.0</td>\n",
              "      <td>no_closed</td>\n",
              "      <td>1</td>\n",
              "      <td>1</td>\n",
              "      <td>2500.0</td>\n",
              "    </tr>\n",
              "  </tbody>\n",
              "</table>\n",
              "</div>"
            ],
            "text/plain": [
              "       id specific_type created_at  ... car salary    index\n",
              "0  126413   Auto Equity 2013-09-28  ...   1      1  11000.0\n",
              "1  125610   Auto Equity 2013-07-22  ...   1      1    900.0\n",
              "2  126523   Auto Equity 2013-10-03  ...   1      1   1000.0\n",
              "3  125820   Auto Equity 2013-08-12  ...   1      1    700.0\n",
              "4  125863   Auto Equity 2013-08-16  ...   1      1   2500.0\n",
              "\n",
              "[5 rows x 20 columns]"
            ]
          },
          "metadata": {
            "tags": []
          },
          "execution_count": 107
        }
      ]
    },
    {
      "cell_type": "code",
      "metadata": {
        "id": "zS7IIOfkAASo",
        "colab_type": "code",
        "colab": {}
      },
      "source": [
        "X = df[['monthly_income','cpf_restriction','auto_value','auto_debt','loan_amount']]\n",
        "y = df['operation_status'].apply(lambda x: 0 if  x == 'no_closed' else 1)"
      ],
      "execution_count": 108,
      "outputs": []
    },
    {
      "cell_type": "code",
      "metadata": {
        "id": "0seF4rDHBBCa",
        "colab_type": "code",
        "colab": {}
      },
      "source": [
        "from sklearn.model_selection import train_test_split\n",
        "\n",
        "X_train, X_test, y_train, y_test  = train_test_split(X,y, test_size = 0.2, random_state = 42)"
      ],
      "execution_count": 109,
      "outputs": []
    },
    {
      "cell_type": "code",
      "metadata": {
        "id": "FA6uQ3LZA2dj",
        "colab_type": "code",
        "colab": {
          "base_uri": "https://localhost:8080/",
          "height": 33
        },
        "outputId": "03b799a2-b9f0-44c3-ec90-0272192c9736"
      },
      "source": [
        "from sklearn.ensemble import RandomForestClassifier\n",
        "\n",
        "rf = RandomForestClassifier()\n",
        "rf.fit(X_train,y_train)\n",
        "rf.score(X_test,y_test)"
      ],
      "execution_count": 110,
      "outputs": [
        {
          "output_type": "execute_result",
          "data": {
            "text/plain": [
              "0.9415056395908018"
            ]
          },
          "metadata": {
            "tags": []
          },
          "execution_count": 110
        }
      ]
    },
    {
      "cell_type": "code",
      "metadata": {
        "id": "6_5srppPXRxK",
        "colab_type": "code",
        "colab": {
          "base_uri": "https://localhost:8080/",
          "height": 33
        },
        "outputId": "89e42e6d-eb0d-49ef-d680-02d6d127cab8"
      },
      "source": [
        "rf.predict(X_test)"
      ],
      "execution_count": 111,
      "outputs": [
        {
          "output_type": "execute_result",
          "data": {
            "text/plain": [
              "array([0, 0, 0, ..., 0, 0, 0])"
            ]
          },
          "metadata": {
            "tags": []
          },
          "execution_count": 111
        }
      ]
    },
    {
      "cell_type": "code",
      "metadata": {
        "id": "spvf_iBtXZqF",
        "colab_type": "code",
        "colab": {
          "base_uri": "https://localhost:8080/",
          "height": 33
        },
        "outputId": "f4ab7db5-7625-4232-df2d-b8a45903507d"
      },
      "source": [
        "#Compare the truth wiht our predictions\n",
        "\n",
        "y_pred_rf = rf.predict(X_test)\n",
        "np.mean(y_pred_rf == y_test)"
      ],
      "execution_count": 112,
      "outputs": [
        {
          "output_type": "execute_result",
          "data": {
            "text/plain": [
              "0.9415056395908018"
            ]
          },
          "metadata": {
            "tags": []
          },
          "execution_count": 112
        }
      ]
    },
    {
      "cell_type": "code",
      "metadata": {
        "id": "Qm1f2l4qYHCg",
        "colab_type": "code",
        "colab": {
          "base_uri": "https://localhost:8080/",
          "height": 217
        },
        "outputId": "d75558b2-2610-4293-e437-a0e21a67b079"
      },
      "source": [
        "from sklearn.metrics import accuracy_score, confusion_matrix,classification_report\n",
        "\n",
        "print(classification_report(y_test, y_pred_rf))\n",
        "print(confusion_matrix(y_test, y_pred_rf))\n",
        "print(accuracy_score(y_test, y_pred_rf))"
      ],
      "execution_count": 113,
      "outputs": [
        {
          "output_type": "stream",
          "text": [
            "              precision    recall  f1-score   support\n",
            "\n",
            "           0       0.95      0.99      0.97     10853\n",
            "           1       0.18      0.04      0.07       584\n",
            "\n",
            "    accuracy                           0.94     11437\n",
            "   macro avg       0.57      0.52      0.52     11437\n",
            "weighted avg       0.91      0.94      0.92     11437\n",
            "\n",
            "[[10744   109]\n",
            " [  560    24]]\n",
            "0.9415056395908018\n"
          ],
          "name": "stdout"
        }
      ]
    },
    {
      "cell_type": "code",
      "metadata": {
        "id": "uBOGN1UuBeTg",
        "colab_type": "code",
        "colab": {
          "base_uri": "https://localhost:8080/",
          "height": 270
        },
        "outputId": "c93c9caf-8ed6-45c0-be89-059fc9569930"
      },
      "source": [
        "from sklearn.linear_model import LogisticRegression\n",
        "\n",
        "logreg = LogisticRegression()\n",
        "logreg.fit(X_train,y_train)\n",
        "logreg.score(X_test,y_test)\n",
        "y_pred_log = logreg.predict(X_test)\n",
        "\n",
        "\n",
        "print(classification_report(y_test, y_pred_log))\n",
        "print(confusion_matrix(y_test, y_pred_log))\n",
        "print(accuracy_score(y_test, y_pred_log))"
      ],
      "execution_count": 114,
      "outputs": [
        {
          "output_type": "stream",
          "text": [
            "              precision    recall  f1-score   support\n",
            "\n",
            "           0       0.95      1.00      0.97     10853\n",
            "           1       0.00      0.00      0.00       584\n",
            "\n",
            "    accuracy                           0.95     11437\n",
            "   macro avg       0.47      0.50      0.49     11437\n",
            "weighted avg       0.90      0.95      0.92     11437\n",
            "\n",
            "[[10853     0]\n",
            " [  584     0]]\n",
            "0.9489376584768733\n"
          ],
          "name": "stdout"
        },
        {
          "output_type": "stream",
          "text": [
            "/usr/local/lib/python3.6/dist-packages/sklearn/metrics/_classification.py:1272: UndefinedMetricWarning: Precision and F-score are ill-defined and being set to 0.0 in labels with no predicted samples. Use `zero_division` parameter to control this behavior.\n",
            "  _warn_prf(average, modifier, msg_start, len(result))\n"
          ],
          "name": "stderr"
        }
      ]
    },
    {
      "cell_type": "markdown",
      "metadata": {
        "id": "YFam7bIaapoP",
        "colab_type": "text"
      },
      "source": [
        "#Predict Proba\n",
        "\n",
        "`predict_proba()` returns probability of a classifcation label"
      ]
    },
    {
      "cell_type": "code",
      "metadata": {
        "id": "-DKqX2fHa9tr",
        "colab_type": "code",
        "colab": {
          "base_uri": "https://localhost:8080/",
          "height": 100
        },
        "outputId": "ea29c9c3-d3cd-4044-9bdd-d02c7fdeabdb"
      },
      "source": [
        "y_proba1 = rf.predict_proba(X_test)\n",
        "y_proba1[:5]"
      ],
      "execution_count": 116,
      "outputs": [
        {
          "output_type": "execute_result",
          "data": {
            "text/plain": [
              "array([[1.       , 0.       ],\n",
              "       [1.       , 0.       ],\n",
              "       [0.9      , 0.1      ],\n",
              "       [0.9742653, 0.0257347],\n",
              "       [1.       , 0.       ]])"
            ]
          },
          "metadata": {
            "tags": []
          },
          "execution_count": 116
        }
      ]
    },
    {
      "cell_type": "code",
      "metadata": {
        "id": "sIRk94iKbNqB",
        "colab_type": "code",
        "colab": {
          "base_uri": "https://localhost:8080/",
          "height": 100
        },
        "outputId": "c68812fa-0976-4cc1-d151-40f52ce7f33d"
      },
      "source": [
        "y_proba2 = logreg.predict_proba(X_test)\n",
        "y_proba2[:5]"
      ],
      "execution_count": 117,
      "outputs": [
        {
          "output_type": "execute_result",
          "data": {
            "text/plain": [
              "array([[0.99109348, 0.00890652],\n",
              "       [0.90956557, 0.09043443],\n",
              "       [0.98459625, 0.01540375],\n",
              "       [0.99124138, 0.00875862],\n",
              "       [0.99170993, 0.00829007]])"
            ]
          },
          "metadata": {
            "tags": []
          },
          "execution_count": 117
        }
      ]
    },
    {
      "cell_type": "code",
      "metadata": {
        "id": "HqvnASU9cN6-",
        "colab_type": "code",
        "colab": {
          "base_uri": "https://localhost:8080/",
          "height": 217
        },
        "outputId": "4fc62de1-d23a-4c64-977b-7f4cf34b7448"
      },
      "source": [
        "df.head()"
      ],
      "execution_count": 118,
      "outputs": [
        {
          "output_type": "execute_result",
          "data": {
            "text/html": [
              "<div>\n",
              "<style scoped>\n",
              "    .dataframe tbody tr th:only-of-type {\n",
              "        vertical-align: middle;\n",
              "    }\n",
              "\n",
              "    .dataframe tbody tr th {\n",
              "        vertical-align: top;\n",
              "    }\n",
              "\n",
              "    .dataframe thead th {\n",
              "        text-align: right;\n",
              "    }\n",
              "</style>\n",
              "<table border=\"1\" class=\"dataframe\">\n",
              "  <thead>\n",
              "    <tr style=\"text-align: right;\">\n",
              "      <th></th>\n",
              "      <th>id</th>\n",
              "      <th>specific_type</th>\n",
              "      <th>created_at</th>\n",
              "      <th>gender</th>\n",
              "      <th>birth_date</th>\n",
              "      <th>phone_code</th>\n",
              "      <th>monthly_income</th>\n",
              "      <th>state</th>\n",
              "      <th>cpf_restriction</th>\n",
              "      <th>registration_form_closed</th>\n",
              "      <th>brand</th>\n",
              "      <th>model_year</th>\n",
              "      <th>auto_value</th>\n",
              "      <th>auto_debt</th>\n",
              "      <th>loan_amount</th>\n",
              "      <th>declares_income_tax</th>\n",
              "      <th>operation_status</th>\n",
              "      <th>car</th>\n",
              "      <th>salary</th>\n",
              "      <th>index</th>\n",
              "    </tr>\n",
              "  </thead>\n",
              "  <tbody>\n",
              "    <tr>\n",
              "      <th>0</th>\n",
              "      <td>126413</td>\n",
              "      <td>Auto Equity</td>\n",
              "      <td>2013-09-28</td>\n",
              "      <td>male</td>\n",
              "      <td>11/13/1971</td>\n",
              "      <td>85.0</td>\n",
              "      <td>4000.0</td>\n",
              "      <td>NO_STATE</td>\n",
              "      <td>1.0</td>\n",
              "      <td>0</td>\n",
              "      <td>wokvagem</td>\n",
              "      <td>1995.0</td>\n",
              "      <td>7000.0</td>\n",
              "      <td>0.0</td>\n",
              "      <td>0.0</td>\n",
              "      <td>0.0</td>\n",
              "      <td>no_closed</td>\n",
              "      <td>1</td>\n",
              "      <td>1</td>\n",
              "      <td>11000.0</td>\n",
              "    </tr>\n",
              "    <tr>\n",
              "      <th>1</th>\n",
              "      <td>125610</td>\n",
              "      <td>Auto Equity</td>\n",
              "      <td>2013-07-22</td>\n",
              "      <td>NaN</td>\n",
              "      <td>5/17/1991</td>\n",
              "      <td>31.0</td>\n",
              "      <td>900.0</td>\n",
              "      <td>NO_STATE</td>\n",
              "      <td>1.0</td>\n",
              "      <td>0</td>\n",
              "      <td>fiat</td>\n",
              "      <td>1999.0</td>\n",
              "      <td>0.0</td>\n",
              "      <td>0.0</td>\n",
              "      <td>0.0</td>\n",
              "      <td>1.0</td>\n",
              "      <td>no_closed</td>\n",
              "      <td>1</td>\n",
              "      <td>1</td>\n",
              "      <td>900.0</td>\n",
              "    </tr>\n",
              "    <tr>\n",
              "      <th>2</th>\n",
              "      <td>126523</td>\n",
              "      <td>Auto Equity</td>\n",
              "      <td>2013-10-03</td>\n",
              "      <td>female</td>\n",
              "      <td>1/14/1984</td>\n",
              "      <td>22.0</td>\n",
              "      <td>1000.0</td>\n",
              "      <td>NO_STATE</td>\n",
              "      <td>1.0</td>\n",
              "      <td>0</td>\n",
              "      <td>honda</td>\n",
              "      <td>2011.0</td>\n",
              "      <td>0.0</td>\n",
              "      <td>0.0</td>\n",
              "      <td>0.0</td>\n",
              "      <td>0.0</td>\n",
              "      <td>no_closed</td>\n",
              "      <td>1</td>\n",
              "      <td>1</td>\n",
              "      <td>1000.0</td>\n",
              "    </tr>\n",
              "    <tr>\n",
              "      <th>3</th>\n",
              "      <td>125820</td>\n",
              "      <td>Auto Equity</td>\n",
              "      <td>2013-08-12</td>\n",
              "      <td>female</td>\n",
              "      <td>7/7/1995</td>\n",
              "      <td>81.0</td>\n",
              "      <td>700.0</td>\n",
              "      <td>NO_STATE</td>\n",
              "      <td>1.0</td>\n",
              "      <td>0</td>\n",
              "      <td>fiat</td>\n",
              "      <td>2013.0</td>\n",
              "      <td>0.0</td>\n",
              "      <td>0.0</td>\n",
              "      <td>0.0</td>\n",
              "      <td>1.0</td>\n",
              "      <td>no_closed</td>\n",
              "      <td>1</td>\n",
              "      <td>1</td>\n",
              "      <td>700.0</td>\n",
              "    </tr>\n",
              "    <tr>\n",
              "      <th>4</th>\n",
              "      <td>125863</td>\n",
              "      <td>Auto Equity</td>\n",
              "      <td>2013-08-16</td>\n",
              "      <td>male</td>\n",
              "      <td>12/23/1991</td>\n",
              "      <td>11.0</td>\n",
              "      <td>2500.0</td>\n",
              "      <td>NO_STATE</td>\n",
              "      <td>1.0</td>\n",
              "      <td>0</td>\n",
              "      <td>volkswagen</td>\n",
              "      <td>2008.0</td>\n",
              "      <td>0.0</td>\n",
              "      <td>0.0</td>\n",
              "      <td>0.0</td>\n",
              "      <td>0.0</td>\n",
              "      <td>no_closed</td>\n",
              "      <td>1</td>\n",
              "      <td>1</td>\n",
              "      <td>2500.0</td>\n",
              "    </tr>\n",
              "  </tbody>\n",
              "</table>\n",
              "</div>"
            ],
            "text/plain": [
              "       id specific_type created_at  ... car salary    index\n",
              "0  126413   Auto Equity 2013-09-28  ...   1      1  11000.0\n",
              "1  125610   Auto Equity 2013-07-22  ...   1      1    900.0\n",
              "2  126523   Auto Equity 2013-10-03  ...   1      1   1000.0\n",
              "3  125820   Auto Equity 2013-08-12  ...   1      1    700.0\n",
              "4  125863   Auto Equity 2013-08-16  ...   1      1   2500.0\n",
              "\n",
              "[5 rows x 20 columns]"
            ]
          },
          "metadata": {
            "tags": []
          },
          "execution_count": 118
        }
      ]
    },
    {
      "cell_type": "code",
      "metadata": {
        "id": "MGsY_mrOcZ1t",
        "colab_type": "code",
        "colab": {}
      },
      "source": [
        "y_p = logreg.predict_proba(X)"
      ],
      "execution_count": 125,
      "outputs": []
    },
    {
      "cell_type": "code",
      "metadata": {
        "id": "EfhdtNXPdN9E",
        "colab_type": "code",
        "colab": {
          "base_uri": "https://localhost:8080/",
          "height": 50
        },
        "outputId": "21849f2b-9612-4282-d09c-f3c0ea240a2d"
      },
      "source": [
        "y_p[:,1]"
      ],
      "execution_count": 128,
      "outputs": [
        {
          "output_type": "execute_result",
          "data": {
            "text/plain": [
              "array([0.00966923, 0.00777304, 0.0078148 , ..., 0.00740699, 0.00764291,\n",
              "       0.10649425])"
            ]
          },
          "metadata": {
            "tags": []
          },
          "execution_count": 128
        }
      ]
    },
    {
      "cell_type": "code",
      "metadata": {
        "id": "ZbmvCEpjdWGy",
        "colab_type": "code",
        "colab": {}
      },
      "source": [
        "df['approval_prob'] = y_p[:,1]"
      ],
      "execution_count": 129,
      "outputs": []
    },
    {
      "cell_type": "code",
      "metadata": {
        "id": "vybA4ip4dbc7",
        "colab_type": "code",
        "colab": {
          "base_uri": "https://localhost:8080/",
          "height": 217
        },
        "outputId": "acc14326-07bc-4a7c-9890-44a5e97f2b7a"
      },
      "source": [
        "df.head()"
      ],
      "execution_count": 130,
      "outputs": [
        {
          "output_type": "execute_result",
          "data": {
            "text/html": [
              "<div>\n",
              "<style scoped>\n",
              "    .dataframe tbody tr th:only-of-type {\n",
              "        vertical-align: middle;\n",
              "    }\n",
              "\n",
              "    .dataframe tbody tr th {\n",
              "        vertical-align: top;\n",
              "    }\n",
              "\n",
              "    .dataframe thead th {\n",
              "        text-align: right;\n",
              "    }\n",
              "</style>\n",
              "<table border=\"1\" class=\"dataframe\">\n",
              "  <thead>\n",
              "    <tr style=\"text-align: right;\">\n",
              "      <th></th>\n",
              "      <th>id</th>\n",
              "      <th>specific_type</th>\n",
              "      <th>created_at</th>\n",
              "      <th>gender</th>\n",
              "      <th>birth_date</th>\n",
              "      <th>phone_code</th>\n",
              "      <th>monthly_income</th>\n",
              "      <th>state</th>\n",
              "      <th>cpf_restriction</th>\n",
              "      <th>registration_form_closed</th>\n",
              "      <th>brand</th>\n",
              "      <th>model_year</th>\n",
              "      <th>auto_value</th>\n",
              "      <th>auto_debt</th>\n",
              "      <th>loan_amount</th>\n",
              "      <th>declares_income_tax</th>\n",
              "      <th>operation_status</th>\n",
              "      <th>car</th>\n",
              "      <th>salary</th>\n",
              "      <th>index</th>\n",
              "      <th>approval_prob</th>\n",
              "    </tr>\n",
              "  </thead>\n",
              "  <tbody>\n",
              "    <tr>\n",
              "      <th>0</th>\n",
              "      <td>126413</td>\n",
              "      <td>Auto Equity</td>\n",
              "      <td>2013-09-28</td>\n",
              "      <td>male</td>\n",
              "      <td>11/13/1971</td>\n",
              "      <td>85.0</td>\n",
              "      <td>4000.0</td>\n",
              "      <td>NO_STATE</td>\n",
              "      <td>1.0</td>\n",
              "      <td>0</td>\n",
              "      <td>wokvagem</td>\n",
              "      <td>1995.0</td>\n",
              "      <td>7000.0</td>\n",
              "      <td>0.0</td>\n",
              "      <td>0.0</td>\n",
              "      <td>0.0</td>\n",
              "      <td>no_closed</td>\n",
              "      <td>1</td>\n",
              "      <td>1</td>\n",
              "      <td>11000.0</td>\n",
              "      <td>0.009669</td>\n",
              "    </tr>\n",
              "    <tr>\n",
              "      <th>1</th>\n",
              "      <td>125610</td>\n",
              "      <td>Auto Equity</td>\n",
              "      <td>2013-07-22</td>\n",
              "      <td>NaN</td>\n",
              "      <td>5/17/1991</td>\n",
              "      <td>31.0</td>\n",
              "      <td>900.0</td>\n",
              "      <td>NO_STATE</td>\n",
              "      <td>1.0</td>\n",
              "      <td>0</td>\n",
              "      <td>fiat</td>\n",
              "      <td>1999.0</td>\n",
              "      <td>0.0</td>\n",
              "      <td>0.0</td>\n",
              "      <td>0.0</td>\n",
              "      <td>1.0</td>\n",
              "      <td>no_closed</td>\n",
              "      <td>1</td>\n",
              "      <td>1</td>\n",
              "      <td>900.0</td>\n",
              "      <td>0.007773</td>\n",
              "    </tr>\n",
              "    <tr>\n",
              "      <th>2</th>\n",
              "      <td>126523</td>\n",
              "      <td>Auto Equity</td>\n",
              "      <td>2013-10-03</td>\n",
              "      <td>female</td>\n",
              "      <td>1/14/1984</td>\n",
              "      <td>22.0</td>\n",
              "      <td>1000.0</td>\n",
              "      <td>NO_STATE</td>\n",
              "      <td>1.0</td>\n",
              "      <td>0</td>\n",
              "      <td>honda</td>\n",
              "      <td>2011.0</td>\n",
              "      <td>0.0</td>\n",
              "      <td>0.0</td>\n",
              "      <td>0.0</td>\n",
              "      <td>0.0</td>\n",
              "      <td>no_closed</td>\n",
              "      <td>1</td>\n",
              "      <td>1</td>\n",
              "      <td>1000.0</td>\n",
              "      <td>0.007815</td>\n",
              "    </tr>\n",
              "    <tr>\n",
              "      <th>3</th>\n",
              "      <td>125820</td>\n",
              "      <td>Auto Equity</td>\n",
              "      <td>2013-08-12</td>\n",
              "      <td>female</td>\n",
              "      <td>7/7/1995</td>\n",
              "      <td>81.0</td>\n",
              "      <td>700.0</td>\n",
              "      <td>NO_STATE</td>\n",
              "      <td>1.0</td>\n",
              "      <td>0</td>\n",
              "      <td>fiat</td>\n",
              "      <td>2013.0</td>\n",
              "      <td>0.0</td>\n",
              "      <td>0.0</td>\n",
              "      <td>0.0</td>\n",
              "      <td>1.0</td>\n",
              "      <td>no_closed</td>\n",
              "      <td>1</td>\n",
              "      <td>1</td>\n",
              "      <td>700.0</td>\n",
              "      <td>0.007690</td>\n",
              "    </tr>\n",
              "    <tr>\n",
              "      <th>4</th>\n",
              "      <td>125863</td>\n",
              "      <td>Auto Equity</td>\n",
              "      <td>2013-08-16</td>\n",
              "      <td>male</td>\n",
              "      <td>12/23/1991</td>\n",
              "      <td>11.0</td>\n",
              "      <td>2500.0</td>\n",
              "      <td>NO_STATE</td>\n",
              "      <td>1.0</td>\n",
              "      <td>0</td>\n",
              "      <td>volkswagen</td>\n",
              "      <td>2008.0</td>\n",
              "      <td>0.0</td>\n",
              "      <td>0.0</td>\n",
              "      <td>0.0</td>\n",
              "      <td>0.0</td>\n",
              "      <td>no_closed</td>\n",
              "      <td>1</td>\n",
              "      <td>1</td>\n",
              "      <td>2500.0</td>\n",
              "      <td>0.008469</td>\n",
              "    </tr>\n",
              "  </tbody>\n",
              "</table>\n",
              "</div>"
            ],
            "text/plain": [
              "       id specific_type created_at  gender  ... car  salary    index approval_prob\n",
              "0  126413   Auto Equity 2013-09-28    male  ...   1       1  11000.0      0.009669\n",
              "1  125610   Auto Equity 2013-07-22     NaN  ...   1       1    900.0      0.007773\n",
              "2  126523   Auto Equity 2013-10-03  female  ...   1       1   1000.0      0.007815\n",
              "3  125820   Auto Equity 2013-08-12  female  ...   1       1    700.0      0.007690\n",
              "4  125863   Auto Equity 2013-08-16    male  ...   1       1   2500.0      0.008469\n",
              "\n",
              "[5 rows x 21 columns]"
            ]
          },
          "metadata": {
            "tags": []
          },
          "execution_count": 130
        }
      ]
    },
    {
      "cell_type": "markdown",
      "metadata": {
        "id": "YKwoOkGZR-J0",
        "colab_type": "text"
      },
      "source": [
        "#Q1 2013\n"
      ]
    },
    {
      "cell_type": "code",
      "metadata": {
        "id": "9H4e5sHiSA7Y",
        "colab_type": "code",
        "colab": {
          "base_uri": "https://localhost:8080/",
          "height": 426
        },
        "outputId": "8bdfc444-1470-4ac8-fdca-c3ab6bd15be2"
      },
      "source": [
        "q1_2013 = df[df['created_at'] < '4-13-2013']\n",
        "q1_2013"
      ],
      "execution_count": null,
      "outputs": [
        {
          "output_type": "execute_result",
          "data": {
            "text/html": [
              "<div>\n",
              "<style scoped>\n",
              "    .dataframe tbody tr th:only-of-type {\n",
              "        vertical-align: middle;\n",
              "    }\n",
              "\n",
              "    .dataframe tbody tr th {\n",
              "        vertical-align: top;\n",
              "    }\n",
              "\n",
              "    .dataframe thead th {\n",
              "        text-align: right;\n",
              "    }\n",
              "</style>\n",
              "<table border=\"1\" class=\"dataframe\">\n",
              "  <thead>\n",
              "    <tr style=\"text-align: right;\">\n",
              "      <th></th>\n",
              "      <th>id</th>\n",
              "      <th>specific_type</th>\n",
              "      <th>created_at</th>\n",
              "      <th>gender</th>\n",
              "      <th>birth_date</th>\n",
              "      <th>phone_code</th>\n",
              "      <th>monthly_income</th>\n",
              "      <th>state</th>\n",
              "      <th>cpf_restriction</th>\n",
              "      <th>registration_form_closed</th>\n",
              "      <th>brand</th>\n",
              "      <th>model_year</th>\n",
              "      <th>auto_value</th>\n",
              "      <th>auto_debt</th>\n",
              "      <th>loan_amount</th>\n",
              "      <th>declares_income_tax</th>\n",
              "      <th>operation_status</th>\n",
              "      <th>index</th>\n",
              "    </tr>\n",
              "  </thead>\n",
              "  <tbody>\n",
              "    <tr>\n",
              "      <th>11</th>\n",
              "      <td>124406</td>\n",
              "      <td>Auto Equity</td>\n",
              "      <td>2013-03-19</td>\n",
              "      <td>NaN</td>\n",
              "      <td>1/13/1987</td>\n",
              "      <td>38.0</td>\n",
              "      <td>700.0</td>\n",
              "      <td>NO_STATE</td>\n",
              "      <td>1.0</td>\n",
              "      <td>0</td>\n",
              "      <td>wolksvagen</td>\n",
              "      <td>2007.0</td>\n",
              "      <td>25000.0</td>\n",
              "      <td>0.0</td>\n",
              "      <td>0.0</td>\n",
              "      <td>0.0</td>\n",
              "      <td>no_closed</td>\n",
              "      <td>25700.0</td>\n",
              "    </tr>\n",
              "    <tr>\n",
              "      <th>16</th>\n",
              "      <td>124412</td>\n",
              "      <td>Auto Equity</td>\n",
              "      <td>2013-03-21</td>\n",
              "      <td>NaN</td>\n",
              "      <td>6/14/1994</td>\n",
              "      <td>98.0</td>\n",
              "      <td>700.0</td>\n",
              "      <td>NO_STATE</td>\n",
              "      <td>1.0</td>\n",
              "      <td>0</td>\n",
              "      <td>honda</td>\n",
              "      <td>2011.0</td>\n",
              "      <td>5000.0</td>\n",
              "      <td>0.0</td>\n",
              "      <td>0.0</td>\n",
              "      <td>0.0</td>\n",
              "      <td>no_closed</td>\n",
              "      <td>5700.0</td>\n",
              "    </tr>\n",
              "    <tr>\n",
              "      <th>18</th>\n",
              "      <td>124497</td>\n",
              "      <td>Auto Equity</td>\n",
              "      <td>2013-04-08</td>\n",
              "      <td>NaN</td>\n",
              "      <td>5/23/1971</td>\n",
              "      <td>19.0</td>\n",
              "      <td>900.0</td>\n",
              "      <td>NO_STATE</td>\n",
              "      <td>1.0</td>\n",
              "      <td>0</td>\n",
              "      <td>ybr</td>\n",
              "      <td>2002.0</td>\n",
              "      <td>0.0</td>\n",
              "      <td>0.0</td>\n",
              "      <td>0.0</td>\n",
              "      <td>0.0</td>\n",
              "      <td>no_closed</td>\n",
              "      <td>900.0</td>\n",
              "    </tr>\n",
              "    <tr>\n",
              "      <th>19</th>\n",
              "      <td>124501</td>\n",
              "      <td>Auto Equity</td>\n",
              "      <td>2013-04-09</td>\n",
              "      <td>NaN</td>\n",
              "      <td>6/30/1983</td>\n",
              "      <td>15.0</td>\n",
              "      <td>1200.0</td>\n",
              "      <td>NO_STATE</td>\n",
              "      <td>1.0</td>\n",
              "      <td>0</td>\n",
              "      <td>verona</td>\n",
              "      <td>1996.0</td>\n",
              "      <td>6000.0</td>\n",
              "      <td>0.0</td>\n",
              "      <td>0.0</td>\n",
              "      <td>0.0</td>\n",
              "      <td>no_closed</td>\n",
              "      <td>7200.0</td>\n",
              "    </tr>\n",
              "    <tr>\n",
              "      <th>21</th>\n",
              "      <td>124492</td>\n",
              "      <td>Auto Equity</td>\n",
              "      <td>2013-04-07</td>\n",
              "      <td>NaN</td>\n",
              "      <td>8/16/1967</td>\n",
              "      <td>11.0</td>\n",
              "      <td>2000.0</td>\n",
              "      <td>NO_STATE</td>\n",
              "      <td>1.0</td>\n",
              "      <td>0</td>\n",
              "      <td>kasinski</td>\n",
              "      <td>2008.0</td>\n",
              "      <td>0.0</td>\n",
              "      <td>0.0</td>\n",
              "      <td>0.0</td>\n",
              "      <td>1.0</td>\n",
              "      <td>no_closed</td>\n",
              "      <td>2000.0</td>\n",
              "    </tr>\n",
              "    <tr>\n",
              "      <th>...</th>\n",
              "      <td>...</td>\n",
              "      <td>...</td>\n",
              "      <td>...</td>\n",
              "      <td>...</td>\n",
              "      <td>...</td>\n",
              "      <td>...</td>\n",
              "      <td>...</td>\n",
              "      <td>...</td>\n",
              "      <td>...</td>\n",
              "      <td>...</td>\n",
              "      <td>...</td>\n",
              "      <td>...</td>\n",
              "      <td>...</td>\n",
              "      <td>...</td>\n",
              "      <td>...</td>\n",
              "      <td>...</td>\n",
              "      <td>...</td>\n",
              "      <td>...</td>\n",
              "    </tr>\n",
              "    <tr>\n",
              "      <th>56501</th>\n",
              "      <td>129183</td>\n",
              "      <td>Auto Equity</td>\n",
              "      <td>2013-03-20</td>\n",
              "      <td>NaN</td>\n",
              "      <td>NaN</td>\n",
              "      <td>11.0</td>\n",
              "      <td>30000.0</td>\n",
              "      <td>NO_STATE</td>\n",
              "      <td>1.0</td>\n",
              "      <td>0</td>\n",
              "      <td>chevrolet</td>\n",
              "      <td>2011.0</td>\n",
              "      <td>0.0</td>\n",
              "      <td>0.0</td>\n",
              "      <td>120000.0</td>\n",
              "      <td>0.0</td>\n",
              "      <td>no_closed</td>\n",
              "      <td>-90000.0</td>\n",
              "    </tr>\n",
              "    <tr>\n",
              "      <th>56503</th>\n",
              "      <td>129837</td>\n",
              "      <td>Auto Equity</td>\n",
              "      <td>2013-04-09</td>\n",
              "      <td>NaN</td>\n",
              "      <td>NaN</td>\n",
              "      <td>19.0</td>\n",
              "      <td>0.0</td>\n",
              "      <td>NO_STATE</td>\n",
              "      <td>1.0</td>\n",
              "      <td>0</td>\n",
              "      <td>Chevrolet</td>\n",
              "      <td>2011.0</td>\n",
              "      <td>0.0</td>\n",
              "      <td>0.0</td>\n",
              "      <td>130000.0</td>\n",
              "      <td>0.0</td>\n",
              "      <td>no_closed</td>\n",
              "      <td>-130000.0</td>\n",
              "    </tr>\n",
              "    <tr>\n",
              "      <th>56519</th>\n",
              "      <td>127810</td>\n",
              "      <td>Auto Equity</td>\n",
              "      <td>2013-01-08</td>\n",
              "      <td>NaN</td>\n",
              "      <td>NaN</td>\n",
              "      <td>41.0</td>\n",
              "      <td>20000.0</td>\n",
              "      <td>NO_STATE</td>\n",
              "      <td>1.0</td>\n",
              "      <td>0</td>\n",
              "      <td>Scania</td>\n",
              "      <td>2004.0</td>\n",
              "      <td>0.0</td>\n",
              "      <td>0.0</td>\n",
              "      <td>150000.0</td>\n",
              "      <td>1.0</td>\n",
              "      <td>no_closed</td>\n",
              "      <td>-130000.0</td>\n",
              "    </tr>\n",
              "    <tr>\n",
              "      <th>56521</th>\n",
              "      <td>128569</td>\n",
              "      <td>Auto Equity</td>\n",
              "      <td>2013-02-25</td>\n",
              "      <td>NaN</td>\n",
              "      <td>NaN</td>\n",
              "      <td>11.0</td>\n",
              "      <td>15000.0</td>\n",
              "      <td>NO_STATE</td>\n",
              "      <td>1.0</td>\n",
              "      <td>0</td>\n",
              "      <td>bmw</td>\n",
              "      <td>2012.0</td>\n",
              "      <td>0.0</td>\n",
              "      <td>0.0</td>\n",
              "      <td>150000.0</td>\n",
              "      <td>1.0</td>\n",
              "      <td>no_closed</td>\n",
              "      <td>-135000.0</td>\n",
              "    </tr>\n",
              "    <tr>\n",
              "      <th>56522</th>\n",
              "      <td>129343</td>\n",
              "      <td>Auto Equity</td>\n",
              "      <td>2013-03-25</td>\n",
              "      <td>NaN</td>\n",
              "      <td>NaN</td>\n",
              "      <td>31.0</td>\n",
              "      <td>8000.0</td>\n",
              "      <td>NO_STATE</td>\n",
              "      <td>1.0</td>\n",
              "      <td>0</td>\n",
              "      <td>IVECO</td>\n",
              "      <td>2011.0</td>\n",
              "      <td>0.0</td>\n",
              "      <td>0.0</td>\n",
              "      <td>160000.0</td>\n",
              "      <td>0.0</td>\n",
              "      <td>no_closed</td>\n",
              "      <td>-152000.0</td>\n",
              "    </tr>\n",
              "  </tbody>\n",
              "</table>\n",
              "<p>2471 rows × 18 columns</p>\n",
              "</div>"
            ],
            "text/plain": [
              "           id specific_type  ... operation_status     index\n",
              "11     124406   Auto Equity  ...        no_closed   25700.0\n",
              "16     124412   Auto Equity  ...        no_closed    5700.0\n",
              "18     124497   Auto Equity  ...        no_closed     900.0\n",
              "19     124501   Auto Equity  ...        no_closed    7200.0\n",
              "21     124492   Auto Equity  ...        no_closed    2000.0\n",
              "...       ...           ...  ...              ...       ...\n",
              "56501  129183   Auto Equity  ...        no_closed  -90000.0\n",
              "56503  129837   Auto Equity  ...        no_closed -130000.0\n",
              "56519  127810   Auto Equity  ...        no_closed -130000.0\n",
              "56521  128569   Auto Equity  ...        no_closed -135000.0\n",
              "56522  129343   Auto Equity  ...        no_closed -152000.0\n",
              "\n",
              "[2471 rows x 18 columns]"
            ]
          },
          "metadata": {
            "tags": []
          },
          "execution_count": 112
        }
      ]
    },
    {
      "cell_type": "code",
      "metadata": {
        "id": "j6gfLkrBSN2_",
        "colab_type": "code",
        "colab": {
          "base_uri": "https://localhost:8080/",
          "height": 70
        },
        "outputId": "2facdafe-88e5-4ff7-873e-ba8f37b8fe4d"
      },
      "source": [
        "q1_2013['operation_status'].value_counts()"
      ],
      "execution_count": null,
      "outputs": [
        {
          "output_type": "execute_result",
          "data": {
            "text/plain": [
              "no_closed    2439\n",
              "closed         32\n",
              "Name: operation_status, dtype: int64"
            ]
          },
          "metadata": {
            "tags": []
          },
          "execution_count": 113
        }
      ]
    },
    {
      "cell_type": "code",
      "metadata": {
        "id": "TKLJh4ryVNsN",
        "colab_type": "code",
        "colab": {
          "base_uri": "https://localhost:8080/",
          "height": 34
        },
        "outputId": "d0ef1a35-d97a-4947-a55d-6cb7b6e5882f"
      },
      "source": [
        "q1_2013['operation_status'].isnull().sum()"
      ],
      "execution_count": null,
      "outputs": [
        {
          "output_type": "execute_result",
          "data": {
            "text/plain": [
              "0"
            ]
          },
          "metadata": {
            "tags": []
          },
          "execution_count": 114
        }
      ]
    },
    {
      "cell_type": "code",
      "metadata": {
        "id": "vrDKFDxmTK7Q",
        "colab_type": "code",
        "colab": {
          "base_uri": "https://localhost:8080/",
          "height": 52
        },
        "outputId": "339eebc5-eab7-408d-9270-c0144724d35b"
      },
      "source": [
        "q1_2013['registration_form_closed'].value_counts()"
      ],
      "execution_count": null,
      "outputs": [
        {
          "output_type": "execute_result",
          "data": {
            "text/plain": [
              "0    2471\n",
              "Name: registration_form_closed, dtype: int64"
            ]
          },
          "metadata": {
            "tags": []
          },
          "execution_count": 115
        }
      ]
    },
    {
      "cell_type": "code",
      "metadata": {
        "id": "tsYjsdGmUYjH",
        "colab_type": "code",
        "colab": {
          "base_uri": "https://localhost:8080/",
          "height": 34
        },
        "outputId": "391243b9-1ea4-40e8-a46e-0912116c3b95"
      },
      "source": [
        "q1_2013['auto_debt'].unique()"
      ],
      "execution_count": null,
      "outputs": [
        {
          "output_type": "execute_result",
          "data": {
            "text/plain": [
              "array([0.])"
            ]
          },
          "metadata": {
            "tags": []
          },
          "execution_count": 116
        }
      ]
    },
    {
      "cell_type": "code",
      "metadata": {
        "id": "Dh8ajUbLUde-",
        "colab_type": "code",
        "colab": {
          "base_uri": "https://localhost:8080/",
          "height": 34
        },
        "outputId": "66618177-6e40-4155-93ce-ef649d4001c7"
      },
      "source": [
        "q1_2013['auto_debt'].sum()"
      ],
      "execution_count": null,
      "outputs": [
        {
          "output_type": "execute_result",
          "data": {
            "text/plain": [
              "0.0"
            ]
          },
          "metadata": {
            "tags": []
          },
          "execution_count": 199
        }
      ]
    },
    {
      "cell_type": "code",
      "metadata": {
        "id": "HK5qvHJCiR5W",
        "colab_type": "code",
        "colab": {
          "base_uri": "https://localhost:8080/",
          "height": 52
        },
        "outputId": "acde69db-004e-40ed-9927-739f07fa95d2"
      },
      "source": [
        "q1_2013['registration_form_closed'].value_counts()"
      ],
      "execution_count": null,
      "outputs": [
        {
          "output_type": "execute_result",
          "data": {
            "text/plain": [
              "0    2471\n",
              "Name: registration_form_closed, dtype: int64"
            ]
          },
          "metadata": {
            "tags": []
          },
          "execution_count": 201
        }
      ]
    },
    {
      "cell_type": "code",
      "metadata": {
        "id": "efKltokqjIzL",
        "colab_type": "code",
        "colab": {
          "base_uri": "https://localhost:8080/",
          "height": 34
        },
        "outputId": "9226a518-828d-4ce8-f5df-64f49df74c8c"
      },
      "source": [
        "0q1_2013['state'].isnull().sum()"
      ],
      "execution_count": null,
      "outputs": [
        {
          "output_type": "execute_result",
          "data": {
            "text/plain": [
              "0"
            ]
          },
          "metadata": {
            "tags": []
          },
          "execution_count": 119
        }
      ]
    },
    {
      "cell_type": "markdown",
      "metadata": {
        "id": "ejYBJd6GU1mh",
        "colab_type": "text"
      },
      "source": [
        "#Q2 2013\n"
      ]
    },
    {
      "cell_type": "code",
      "metadata": {
        "id": "GyMe9ZPnUs-G",
        "colab_type": "code",
        "colab": {
          "base_uri": "https://localhost:8080/",
          "height": 443
        },
        "outputId": "59e2c929-6017-490e-f303-cb50f2075061"
      },
      "source": [
        "q2_2013 = df[(df['created_at'] >= '4-13-2013')&(df['created_at'] < '7-13-2013')]\n",
        "q2_2013"
      ],
      "execution_count": null,
      "outputs": [
        {
          "output_type": "execute_result",
          "data": {
            "text/html": [
              "<div>\n",
              "<style scoped>\n",
              "    .dataframe tbody tr th:only-of-type {\n",
              "        vertical-align: middle;\n",
              "    }\n",
              "\n",
              "    .dataframe tbody tr th {\n",
              "        vertical-align: top;\n",
              "    }\n",
              "\n",
              "    .dataframe thead th {\n",
              "        text-align: right;\n",
              "    }\n",
              "</style>\n",
              "<table border=\"1\" class=\"dataframe\">\n",
              "  <thead>\n",
              "    <tr style=\"text-align: right;\">\n",
              "      <th></th>\n",
              "      <th>id</th>\n",
              "      <th>specific_type</th>\n",
              "      <th>created_at</th>\n",
              "      <th>gender</th>\n",
              "      <th>birth_date</th>\n",
              "      <th>phone_code</th>\n",
              "      <th>monthly_income</th>\n",
              "      <th>state</th>\n",
              "      <th>cpf_restriction</th>\n",
              "      <th>registration_form_closed</th>\n",
              "      <th>brand</th>\n",
              "      <th>model_year</th>\n",
              "      <th>auto_value</th>\n",
              "      <th>auto_debt</th>\n",
              "      <th>loan_amount</th>\n",
              "      <th>declares_income_tax</th>\n",
              "      <th>operation_status</th>\n",
              "      <th>index</th>\n",
              "    </tr>\n",
              "  </thead>\n",
              "  <tbody>\n",
              "    <tr>\n",
              "      <th>5</th>\n",
              "      <td>125045</td>\n",
              "      <td>Auto Equity</td>\n",
              "      <td>2013-05-27</td>\n",
              "      <td>female</td>\n",
              "      <td>11/4/1969</td>\n",
              "      <td>11.0</td>\n",
              "      <td>2000.0</td>\n",
              "      <td>NO_STATE</td>\n",
              "      <td>1.0</td>\n",
              "      <td>0</td>\n",
              "      <td>fieti</td>\n",
              "      <td>2005.0</td>\n",
              "      <td>40000.0</td>\n",
              "      <td>0.0</td>\n",
              "      <td>0.0</td>\n",
              "      <td>0.0</td>\n",
              "      <td>no_closed</td>\n",
              "      <td>42000.0</td>\n",
              "    </tr>\n",
              "    <tr>\n",
              "      <th>6</th>\n",
              "      <td>124595</td>\n",
              "      <td>Auto Equity</td>\n",
              "      <td>2013-04-19</td>\n",
              "      <td>NaN</td>\n",
              "      <td>8/9/1979</td>\n",
              "      <td>44.0</td>\n",
              "      <td>1000.0</td>\n",
              "      <td>NO_STATE</td>\n",
              "      <td>1.0</td>\n",
              "      <td>0</td>\n",
              "      <td>chevrole</td>\n",
              "      <td>1998.0</td>\n",
              "      <td>0.0</td>\n",
              "      <td>0.0</td>\n",
              "      <td>0.0</td>\n",
              "      <td>0.0</td>\n",
              "      <td>no_closed</td>\n",
              "      <td>1000.0</td>\n",
              "    </tr>\n",
              "    <tr>\n",
              "      <th>9</th>\n",
              "      <td>125455</td>\n",
              "      <td>Auto Equity</td>\n",
              "      <td>2013-07-10</td>\n",
              "      <td>NaN</td>\n",
              "      <td>2/24/1978</td>\n",
              "      <td>15.0</td>\n",
              "      <td>1674.0</td>\n",
              "      <td>NO_STATE</td>\n",
              "      <td>1.0</td>\n",
              "      <td>0</td>\n",
              "      <td>FORD</td>\n",
              "      <td>2000.0</td>\n",
              "      <td>11000.0</td>\n",
              "      <td>0.0</td>\n",
              "      <td>0.0</td>\n",
              "      <td>0.0</td>\n",
              "      <td>no_closed</td>\n",
              "      <td>12674.0</td>\n",
              "    </tr>\n",
              "    <tr>\n",
              "      <th>12</th>\n",
              "      <td>124869</td>\n",
              "      <td>Auto Equity</td>\n",
              "      <td>2013-05-16</td>\n",
              "      <td>NaN</td>\n",
              "      <td>10/4/1957</td>\n",
              "      <td>71.0</td>\n",
              "      <td>3000.0</td>\n",
              "      <td>NO_STATE</td>\n",
              "      <td>1.0</td>\n",
              "      <td>0</td>\n",
              "      <td>fiat</td>\n",
              "      <td>2008.0</td>\n",
              "      <td>20000.0</td>\n",
              "      <td>0.0</td>\n",
              "      <td>0.0</td>\n",
              "      <td>1.0</td>\n",
              "      <td>no_closed</td>\n",
              "      <td>23000.0</td>\n",
              "    </tr>\n",
              "    <tr>\n",
              "      <th>13</th>\n",
              "      <td>125126</td>\n",
              "      <td>Auto Equity</td>\n",
              "      <td>2013-06-05</td>\n",
              "      <td>female</td>\n",
              "      <td>9/25/1975</td>\n",
              "      <td>37.0</td>\n",
              "      <td>2000.0</td>\n",
              "      <td>NO_STATE</td>\n",
              "      <td>1.0</td>\n",
              "      <td>0</td>\n",
              "      <td>FORD</td>\n",
              "      <td>1996.0</td>\n",
              "      <td>7000.0</td>\n",
              "      <td>0.0</td>\n",
              "      <td>0.0</td>\n",
              "      <td>1.0</td>\n",
              "      <td>no_closed</td>\n",
              "      <td>9000.0</td>\n",
              "    </tr>\n",
              "    <tr>\n",
              "      <th>...</th>\n",
              "      <td>...</td>\n",
              "      <td>...</td>\n",
              "      <td>...</td>\n",
              "      <td>...</td>\n",
              "      <td>...</td>\n",
              "      <td>...</td>\n",
              "      <td>...</td>\n",
              "      <td>...</td>\n",
              "      <td>...</td>\n",
              "      <td>...</td>\n",
              "      <td>...</td>\n",
              "      <td>...</td>\n",
              "      <td>...</td>\n",
              "      <td>...</td>\n",
              "      <td>...</td>\n",
              "      <td>...</td>\n",
              "      <td>...</td>\n",
              "      <td>...</td>\n",
              "    </tr>\n",
              "    <tr>\n",
              "      <th>56520</th>\n",
              "      <td>131512</td>\n",
              "      <td>Auto Equity</td>\n",
              "      <td>2013-06-04</td>\n",
              "      <td>NaN</td>\n",
              "      <td>NaN</td>\n",
              "      <td>11.0</td>\n",
              "      <td>20800.0</td>\n",
              "      <td>SP</td>\n",
              "      <td>1.0</td>\n",
              "      <td>0</td>\n",
              "      <td>VW</td>\n",
              "      <td>2011.0</td>\n",
              "      <td>0.0</td>\n",
              "      <td>0.0</td>\n",
              "      <td>150000.0</td>\n",
              "      <td>0.0</td>\n",
              "      <td>no_closed</td>\n",
              "      <td>-129200.0</td>\n",
              "    </tr>\n",
              "    <tr>\n",
              "      <th>56527</th>\n",
              "      <td>130891</td>\n",
              "      <td>Auto Equity</td>\n",
              "      <td>2013-05-09</td>\n",
              "      <td>NaN</td>\n",
              "      <td>NaN</td>\n",
              "      <td>21.0</td>\n",
              "      <td>22428.0</td>\n",
              "      <td>NO_STATE</td>\n",
              "      <td>1.0</td>\n",
              "      <td>0</td>\n",
              "      <td>land rover</td>\n",
              "      <td>2010.0</td>\n",
              "      <td>0.0</td>\n",
              "      <td>0.0</td>\n",
              "      <td>175000.0</td>\n",
              "      <td>1.0</td>\n",
              "      <td>no_closed</td>\n",
              "      <td>-152572.0</td>\n",
              "    </tr>\n",
              "    <tr>\n",
              "      <th>56532</th>\n",
              "      <td>124905</td>\n",
              "      <td>Auto Equity</td>\n",
              "      <td>2013-05-20</td>\n",
              "      <td>female</td>\n",
              "      <td>4/28/1980</td>\n",
              "      <td>62.0</td>\n",
              "      <td>0.0</td>\n",
              "      <td>NO_STATE</td>\n",
              "      <td>1.0</td>\n",
              "      <td>0</td>\n",
              "      <td>ferrari</td>\n",
              "      <td>2012.0</td>\n",
              "      <td>0.0</td>\n",
              "      <td>0.0</td>\n",
              "      <td>200000.0</td>\n",
              "      <td>1.0</td>\n",
              "      <td>no_closed</td>\n",
              "      <td>-200000.0</td>\n",
              "    </tr>\n",
              "    <tr>\n",
              "      <th>56547</th>\n",
              "      <td>124882</td>\n",
              "      <td>Auto Equity</td>\n",
              "      <td>2013-05-17</td>\n",
              "      <td>male</td>\n",
              "      <td>8/21/1990</td>\n",
              "      <td>62.0</td>\n",
              "      <td>0.0</td>\n",
              "      <td>NO_STATE</td>\n",
              "      <td>1.0</td>\n",
              "      <td>0</td>\n",
              "      <td>ferrari</td>\n",
              "      <td>2013.0</td>\n",
              "      <td>0.0</td>\n",
              "      <td>0.0</td>\n",
              "      <td>0.0</td>\n",
              "      <td>1.0</td>\n",
              "      <td>no_closed</td>\n",
              "      <td>0.0</td>\n",
              "    </tr>\n",
              "    <tr>\n",
              "      <th>56548</th>\n",
              "      <td>124546</td>\n",
              "      <td>Auto Equity</td>\n",
              "      <td>2013-04-15</td>\n",
              "      <td>NaN</td>\n",
              "      <td>9/25/1977</td>\n",
              "      <td>74.0</td>\n",
              "      <td>1200.0</td>\n",
              "      <td>NO_STATE</td>\n",
              "      <td>1.0</td>\n",
              "      <td>0</td>\n",
              "      <td>moto</td>\n",
              "      <td>2010.0</td>\n",
              "      <td>0.0</td>\n",
              "      <td>0.0</td>\n",
              "      <td>0.0</td>\n",
              "      <td>0.0</td>\n",
              "      <td>no_closed</td>\n",
              "      <td>1200.0</td>\n",
              "    </tr>\n",
              "  </tbody>\n",
              "</table>\n",
              "<p>2769 rows × 18 columns</p>\n",
              "</div>"
            ],
            "text/plain": [
              "           id specific_type  ... operation_status     index\n",
              "5      125045   Auto Equity  ...        no_closed   42000.0\n",
              "6      124595   Auto Equity  ...        no_closed    1000.0\n",
              "9      125455   Auto Equity  ...        no_closed   12674.0\n",
              "12     124869   Auto Equity  ...        no_closed   23000.0\n",
              "13     125126   Auto Equity  ...        no_closed    9000.0\n",
              "...       ...           ...  ...              ...       ...\n",
              "56520  131512   Auto Equity  ...        no_closed -129200.0\n",
              "56527  130891   Auto Equity  ...        no_closed -152572.0\n",
              "56532  124905   Auto Equity  ...        no_closed -200000.0\n",
              "56547  124882   Auto Equity  ...        no_closed       0.0\n",
              "56548  124546   Auto Equity  ...        no_closed    1200.0\n",
              "\n",
              "[2769 rows x 18 columns]"
            ]
          },
          "metadata": {
            "tags": []
          },
          "execution_count": 202
        }
      ]
    },
    {
      "cell_type": "code",
      "metadata": {
        "id": "x5YjxXoLVAKB",
        "colab_type": "code",
        "colab": {
          "base_uri": "https://localhost:8080/",
          "height": 70
        },
        "outputId": "e9e8b5f6-681d-420b-9b13-d735151f43fe"
      },
      "source": [
        "q2_2013['operation_status'].value_counts()"
      ],
      "execution_count": null,
      "outputs": [
        {
          "output_type": "execute_result",
          "data": {
            "text/plain": [
              "no_closed    2767\n",
              "closed          2\n",
              "Name: operation_status, dtype: int64"
            ]
          },
          "metadata": {
            "tags": []
          },
          "execution_count": 203
        }
      ]
    },
    {
      "cell_type": "code",
      "metadata": {
        "id": "GudxOsjCVIPG",
        "colab_type": "code",
        "colab": {
          "base_uri": "https://localhost:8080/",
          "height": 34
        },
        "outputId": "3b15d712-a85e-40d5-9925-3fbe72dbd9cb"
      },
      "source": [
        "q2_2013['operation_status'].isnull().sum()"
      ],
      "execution_count": null,
      "outputs": [
        {
          "output_type": "execute_result",
          "data": {
            "text/plain": [
              "0"
            ]
          },
          "metadata": {
            "tags": []
          },
          "execution_count": 204
        }
      ]
    },
    {
      "cell_type": "code",
      "metadata": {
        "id": "tfaRav4jWWXh",
        "colab_type": "code",
        "colab": {
          "base_uri": "https://localhost:8080/",
          "height": 52
        },
        "outputId": "71ff196b-1eb3-4ac6-c38d-414d1bbf0e7f"
      },
      "source": [
        "q2_2013['registration_form_closed'].value_counts()"
      ],
      "execution_count": null,
      "outputs": [
        {
          "output_type": "execute_result",
          "data": {
            "text/plain": [
              "0    2769\n",
              "Name: registration_form_closed, dtype: int64"
            ]
          },
          "metadata": {
            "tags": []
          },
          "execution_count": 205
        }
      ]
    },
    {
      "cell_type": "code",
      "metadata": {
        "id": "GyrNdYdiV9Zf",
        "colab_type": "code",
        "colab": {
          "base_uri": "https://localhost:8080/",
          "height": 34
        },
        "outputId": "462f040a-f850-4a2e-87cf-d9ddb369451e"
      },
      "source": [
        "q2_2013['auto_debt'].sum()"
      ],
      "execution_count": null,
      "outputs": [
        {
          "output_type": "execute_result",
          "data": {
            "text/plain": [
              "0.0"
            ]
          },
          "metadata": {
            "tags": []
          },
          "execution_count": 206
        }
      ]
    },
    {
      "cell_type": "code",
      "metadata": {
        "colab_type": "code",
        "id": "aHxqoC9ejlge",
        "colab": {
          "base_uri": "https://localhost:8080/",
          "height": 230
        },
        "outputId": "e1286154-13a7-419c-c248-09435a8cccfe"
      },
      "source": [
        "q1_2013['state']"
      ],
      "execution_count": null,
      "outputs": [
        {
          "output_type": "execute_result",
          "data": {
            "text/plain": [
              "11       NO_STATE\n",
              "16       NO_STATE\n",
              "18       NO_STATE\n",
              "19       NO_STATE\n",
              "21       NO_STATE\n",
              "           ...   \n",
              "56501    NO_STATE\n",
              "56503    NO_STATE\n",
              "56519    NO_STATE\n",
              "56521    NO_STATE\n",
              "56522    NO_STATE\n",
              "Name: state, Length: 2471, dtype: object"
            ]
          },
          "metadata": {
            "tags": []
          },
          "execution_count": 196
        }
      ]
    },
    {
      "cell_type": "code",
      "metadata": {
        "colab_type": "code",
        "id": "LcRtP7jUjlgq",
        "colab": {
          "base_uri": "https://localhost:8080/",
          "height": 52
        },
        "outputId": "d446e6bf-7a38-4411-dfe7-3c59a156982d"
      },
      "source": [
        "q1_2013['registration_form_closed'].value_counts()"
      ],
      "execution_count": null,
      "outputs": [
        {
          "output_type": "execute_result",
          "data": {
            "text/plain": [
              "0    2471\n",
              "Name: registration_form_closed, dtype: int64"
            ]
          },
          "metadata": {
            "tags": []
          },
          "execution_count": 207
        }
      ]
    },
    {
      "cell_type": "markdown",
      "metadata": {
        "id": "CKM3XmpdWcV-",
        "colab_type": "text"
      },
      "source": [
        "#Q3 2013"
      ]
    },
    {
      "cell_type": "code",
      "metadata": {
        "id": "IQoqV1CXWLyo",
        "colab_type": "code",
        "colab": {
          "base_uri": "https://localhost:8080/",
          "height": 426
        },
        "outputId": "d36f9935-3034-4638-9654-8bba3e4c8897"
      },
      "source": [
        "q3_2013 = df[(df['created_at'] >= '7-13-2013')&(df['created_at'] < '10-13-2013')]\n",
        "q3_2013"
      ],
      "execution_count": null,
      "outputs": [
        {
          "output_type": "execute_result",
          "data": {
            "text/html": [
              "<div>\n",
              "<style scoped>\n",
              "    .dataframe tbody tr th:only-of-type {\n",
              "        vertical-align: middle;\n",
              "    }\n",
              "\n",
              "    .dataframe tbody tr th {\n",
              "        vertical-align: top;\n",
              "    }\n",
              "\n",
              "    .dataframe thead th {\n",
              "        text-align: right;\n",
              "    }\n",
              "</style>\n",
              "<table border=\"1\" class=\"dataframe\">\n",
              "  <thead>\n",
              "    <tr style=\"text-align: right;\">\n",
              "      <th></th>\n",
              "      <th>id</th>\n",
              "      <th>specific_type</th>\n",
              "      <th>created_at</th>\n",
              "      <th>gender</th>\n",
              "      <th>birth_date</th>\n",
              "      <th>phone_code</th>\n",
              "      <th>monthly_income</th>\n",
              "      <th>state</th>\n",
              "      <th>cpf_restriction</th>\n",
              "      <th>registration_form_closed</th>\n",
              "      <th>brand</th>\n",
              "      <th>model_year</th>\n",
              "      <th>auto_value</th>\n",
              "      <th>auto_debt</th>\n",
              "      <th>loan_amount</th>\n",
              "      <th>declares_income_tax</th>\n",
              "      <th>operation_status</th>\n",
              "      <th>index</th>\n",
              "    </tr>\n",
              "  </thead>\n",
              "  <tbody>\n",
              "    <tr>\n",
              "      <th>0</th>\n",
              "      <td>126413</td>\n",
              "      <td>Auto Equity</td>\n",
              "      <td>2013-09-28</td>\n",
              "      <td>male</td>\n",
              "      <td>11/13/1971</td>\n",
              "      <td>85.0</td>\n",
              "      <td>4000.0</td>\n",
              "      <td>NO_STATE</td>\n",
              "      <td>1.0</td>\n",
              "      <td>0</td>\n",
              "      <td>wokvagem</td>\n",
              "      <td>1995.0</td>\n",
              "      <td>7000.0</td>\n",
              "      <td>0.0</td>\n",
              "      <td>0.0</td>\n",
              "      <td>0.0</td>\n",
              "      <td>no_closed</td>\n",
              "      <td>11000.0</td>\n",
              "    </tr>\n",
              "    <tr>\n",
              "      <th>1</th>\n",
              "      <td>125610</td>\n",
              "      <td>Auto Equity</td>\n",
              "      <td>2013-07-22</td>\n",
              "      <td>NaN</td>\n",
              "      <td>5/17/1991</td>\n",
              "      <td>31.0</td>\n",
              "      <td>900.0</td>\n",
              "      <td>NO_STATE</td>\n",
              "      <td>1.0</td>\n",
              "      <td>0</td>\n",
              "      <td>fiat</td>\n",
              "      <td>1999.0</td>\n",
              "      <td>0.0</td>\n",
              "      <td>0.0</td>\n",
              "      <td>0.0</td>\n",
              "      <td>1.0</td>\n",
              "      <td>no_closed</td>\n",
              "      <td>900.0</td>\n",
              "    </tr>\n",
              "    <tr>\n",
              "      <th>2</th>\n",
              "      <td>126523</td>\n",
              "      <td>Auto Equity</td>\n",
              "      <td>2013-10-03</td>\n",
              "      <td>female</td>\n",
              "      <td>1/14/1984</td>\n",
              "      <td>22.0</td>\n",
              "      <td>1000.0</td>\n",
              "      <td>NO_STATE</td>\n",
              "      <td>1.0</td>\n",
              "      <td>0</td>\n",
              "      <td>honda</td>\n",
              "      <td>2011.0</td>\n",
              "      <td>0.0</td>\n",
              "      <td>0.0</td>\n",
              "      <td>0.0</td>\n",
              "      <td>0.0</td>\n",
              "      <td>no_closed</td>\n",
              "      <td>1000.0</td>\n",
              "    </tr>\n",
              "    <tr>\n",
              "      <th>3</th>\n",
              "      <td>125820</td>\n",
              "      <td>Auto Equity</td>\n",
              "      <td>2013-08-12</td>\n",
              "      <td>female</td>\n",
              "      <td>7/7/1995</td>\n",
              "      <td>81.0</td>\n",
              "      <td>700.0</td>\n",
              "      <td>NO_STATE</td>\n",
              "      <td>1.0</td>\n",
              "      <td>0</td>\n",
              "      <td>fiat</td>\n",
              "      <td>2013.0</td>\n",
              "      <td>0.0</td>\n",
              "      <td>0.0</td>\n",
              "      <td>0.0</td>\n",
              "      <td>1.0</td>\n",
              "      <td>no_closed</td>\n",
              "      <td>700.0</td>\n",
              "    </tr>\n",
              "    <tr>\n",
              "      <th>4</th>\n",
              "      <td>125863</td>\n",
              "      <td>Auto Equity</td>\n",
              "      <td>2013-08-16</td>\n",
              "      <td>male</td>\n",
              "      <td>12/23/1991</td>\n",
              "      <td>11.0</td>\n",
              "      <td>2500.0</td>\n",
              "      <td>NO_STATE</td>\n",
              "      <td>1.0</td>\n",
              "      <td>0</td>\n",
              "      <td>volkswagen</td>\n",
              "      <td>2008.0</td>\n",
              "      <td>0.0</td>\n",
              "      <td>0.0</td>\n",
              "      <td>0.0</td>\n",
              "      <td>0.0</td>\n",
              "      <td>no_closed</td>\n",
              "      <td>2500.0</td>\n",
              "    </tr>\n",
              "    <tr>\n",
              "      <th>...</th>\n",
              "      <td>...</td>\n",
              "      <td>...</td>\n",
              "      <td>...</td>\n",
              "      <td>...</td>\n",
              "      <td>...</td>\n",
              "      <td>...</td>\n",
              "      <td>...</td>\n",
              "      <td>...</td>\n",
              "      <td>...</td>\n",
              "      <td>...</td>\n",
              "      <td>...</td>\n",
              "      <td>...</td>\n",
              "      <td>...</td>\n",
              "      <td>...</td>\n",
              "      <td>...</td>\n",
              "      <td>...</td>\n",
              "      <td>...</td>\n",
              "      <td>...</td>\n",
              "    </tr>\n",
              "    <tr>\n",
              "      <th>56402</th>\n",
              "      <td>132180</td>\n",
              "      <td>Auto Equity</td>\n",
              "      <td>2013-08-14</td>\n",
              "      <td>NaN</td>\n",
              "      <td>NaN</td>\n",
              "      <td>19.0</td>\n",
              "      <td>4000.0</td>\n",
              "      <td>NO_STATE</td>\n",
              "      <td>1.0</td>\n",
              "      <td>0</td>\n",
              "      <td>vw</td>\n",
              "      <td>2007.0</td>\n",
              "      <td>0.0</td>\n",
              "      <td>0.0</td>\n",
              "      <td>90000.0</td>\n",
              "      <td>1.0</td>\n",
              "      <td>no_closed</td>\n",
              "      <td>-86000.0</td>\n",
              "    </tr>\n",
              "    <tr>\n",
              "      <th>56441</th>\n",
              "      <td>132319</td>\n",
              "      <td>Auto Equity</td>\n",
              "      <td>2013-09-27</td>\n",
              "      <td>NaN</td>\n",
              "      <td>NaN</td>\n",
              "      <td>12.0</td>\n",
              "      <td>5000.0</td>\n",
              "      <td>SP</td>\n",
              "      <td>1.0</td>\n",
              "      <td>0</td>\n",
              "      <td>POLO</td>\n",
              "      <td>2009.0</td>\n",
              "      <td>0.0</td>\n",
              "      <td>0.0</td>\n",
              "      <td>100000.0</td>\n",
              "      <td>1.0</td>\n",
              "      <td>no_closed</td>\n",
              "      <td>-95000.0</td>\n",
              "    </tr>\n",
              "    <tr>\n",
              "      <th>56504</th>\n",
              "      <td>132235</td>\n",
              "      <td>Auto Equity</td>\n",
              "      <td>2013-09-02</td>\n",
              "      <td>NaN</td>\n",
              "      <td>NaN</td>\n",
              "      <td>11.0</td>\n",
              "      <td>0.0</td>\n",
              "      <td>NO_STATE</td>\n",
              "      <td>1.0</td>\n",
              "      <td>0</td>\n",
              "      <td>Chevrolet</td>\n",
              "      <td>2012.0</td>\n",
              "      <td>0.0</td>\n",
              "      <td>0.0</td>\n",
              "      <td>130000.0</td>\n",
              "      <td>1.0</td>\n",
              "      <td>no_closed</td>\n",
              "      <td>-130000.0</td>\n",
              "    </tr>\n",
              "    <tr>\n",
              "      <th>56517</th>\n",
              "      <td>126433</td>\n",
              "      <td>Auto Equity</td>\n",
              "      <td>2013-09-30</td>\n",
              "      <td>NaN</td>\n",
              "      <td>1/25/1982</td>\n",
              "      <td>31.0</td>\n",
              "      <td>16500.0</td>\n",
              "      <td>MG</td>\n",
              "      <td>1.0</td>\n",
              "      <td>0</td>\n",
              "      <td>volvo</td>\n",
              "      <td>2012.0</td>\n",
              "      <td>343000.0</td>\n",
              "      <td>0.0</td>\n",
              "      <td>150000.0</td>\n",
              "      <td>1.0</td>\n",
              "      <td>no_closed</td>\n",
              "      <td>209500.0</td>\n",
              "    </tr>\n",
              "    <tr>\n",
              "      <th>56545</th>\n",
              "      <td>152370</td>\n",
              "      <td>Auto Equity</td>\n",
              "      <td>2013-08-28</td>\n",
              "      <td>NaN</td>\n",
              "      <td>8/3/1967</td>\n",
              "      <td>61.0</td>\n",
              "      <td>21000.0</td>\n",
              "      <td>DF</td>\n",
              "      <td>1.0</td>\n",
              "      <td>0</td>\n",
              "      <td>toyota</td>\n",
              "      <td>2006.0</td>\n",
              "      <td>0.0</td>\n",
              "      <td>0.0</td>\n",
              "      <td>0.0</td>\n",
              "      <td>0.0</td>\n",
              "      <td>closed</td>\n",
              "      <td>21000.0</td>\n",
              "    </tr>\n",
              "  </tbody>\n",
              "</table>\n",
              "<p>1299 rows × 18 columns</p>\n",
              "</div>"
            ],
            "text/plain": [
              "           id specific_type  ... operation_status     index\n",
              "0      126413   Auto Equity  ...        no_closed   11000.0\n",
              "1      125610   Auto Equity  ...        no_closed     900.0\n",
              "2      126523   Auto Equity  ...        no_closed    1000.0\n",
              "3      125820   Auto Equity  ...        no_closed     700.0\n",
              "4      125863   Auto Equity  ...        no_closed    2500.0\n",
              "...       ...           ...  ...              ...       ...\n",
              "56402  132180   Auto Equity  ...        no_closed  -86000.0\n",
              "56441  132319   Auto Equity  ...        no_closed  -95000.0\n",
              "56504  132235   Auto Equity  ...        no_closed -130000.0\n",
              "56517  126433   Auto Equity  ...        no_closed  209500.0\n",
              "56545  152370   Auto Equity  ...           closed   21000.0\n",
              "\n",
              "[1299 rows x 18 columns]"
            ]
          },
          "metadata": {
            "tags": []
          },
          "execution_count": 208
        }
      ]
    },
    {
      "cell_type": "code",
      "metadata": {
        "id": "IQiI986SWkBv",
        "colab_type": "code",
        "colab": {
          "base_uri": "https://localhost:8080/",
          "height": 70
        },
        "outputId": "aba92168-dc7d-4486-f3aa-eddf17b4ec10"
      },
      "source": [
        "q3_2013['operation_status'].value_counts()"
      ],
      "execution_count": null,
      "outputs": [
        {
          "output_type": "execute_result",
          "data": {
            "text/plain": [
              "no_closed    1295\n",
              "closed          4\n",
              "Name: operation_status, dtype: int64"
            ]
          },
          "metadata": {
            "tags": []
          },
          "execution_count": 209
        }
      ]
    },
    {
      "cell_type": "code",
      "metadata": {
        "id": "X3L1SvnaWpcf",
        "colab_type": "code",
        "colab": {
          "base_uri": "https://localhost:8080/",
          "height": 34
        },
        "outputId": "3556bfd5-a9ba-40fe-992d-c5a112275772"
      },
      "source": [
        "q3_2013['operation_status'].isnull().sum()"
      ],
      "execution_count": null,
      "outputs": [
        {
          "output_type": "execute_result",
          "data": {
            "text/plain": [
              "0"
            ]
          },
          "metadata": {
            "tags": []
          },
          "execution_count": 210
        }
      ]
    },
    {
      "cell_type": "code",
      "metadata": {
        "id": "0Q1gKmpOWseU",
        "colab_type": "code",
        "colab": {
          "base_uri": "https://localhost:8080/",
          "height": 52
        },
        "outputId": "7d4ebfd5-45e4-431f-bf06-5a64d478cef8"
      },
      "source": [
        "q3_2013['registration_form_closed'].value_counts()"
      ],
      "execution_count": null,
      "outputs": [
        {
          "output_type": "execute_result",
          "data": {
            "text/plain": [
              "0    1299\n",
              "Name: registration_form_closed, dtype: int64"
            ]
          },
          "metadata": {
            "tags": []
          },
          "execution_count": 211
        }
      ]
    },
    {
      "cell_type": "code",
      "metadata": {
        "id": "0Wcen9FEWvNf",
        "colab_type": "code",
        "colab": {
          "base_uri": "https://localhost:8080/",
          "height": 34
        },
        "outputId": "daf3bc66-0930-4f6c-ecb7-1ccebbbf65da"
      },
      "source": [
        "q3_2013['auto_debt'].sum()"
      ],
      "execution_count": null,
      "outputs": [
        {
          "output_type": "execute_result",
          "data": {
            "text/plain": [
              "0.0"
            ]
          },
          "metadata": {
            "tags": []
          },
          "execution_count": 212
        }
      ]
    },
    {
      "cell_type": "code",
      "metadata": {
        "colab_type": "code",
        "id": "Akc8kiNrjnGf",
        "colab": {
          "base_uri": "https://localhost:8080/",
          "height": 52
        },
        "outputId": "c2d33de3-06dc-43b8-c0b7-d20b7a5bd838"
      },
      "source": [
        "q1_2013['registration_form_closed'].value_counts()"
      ],
      "execution_count": null,
      "outputs": [
        {
          "output_type": "execute_result",
          "data": {
            "text/plain": [
              "0    2471\n",
              "Name: registration_form_closed, dtype: int64"
            ]
          },
          "metadata": {
            "tags": []
          },
          "execution_count": 215
        }
      ]
    },
    {
      "cell_type": "code",
      "metadata": {
        "colab_type": "code",
        "id": "1Aa9tj1xjnGj",
        "colab": {
          "base_uri": "https://localhost:8080/",
          "height": 34
        },
        "outputId": "48e83b93-f09d-461c-f820-f6e6dad4b01e"
      },
      "source": [
        "q1_2013['state'].isnull().sum()"
      ],
      "execution_count": null,
      "outputs": [
        {
          "output_type": "execute_result",
          "data": {
            "text/plain": [
              "0"
            ]
          },
          "metadata": {
            "tags": []
          },
          "execution_count": 214
        }
      ]
    },
    {
      "cell_type": "code",
      "metadata": {
        "id": "EY4tRH6MEVps",
        "colab_type": "code",
        "colab": {}
      },
      "source": [
        ""
      ],
      "execution_count": null,
      "outputs": []
    },
    {
      "cell_type": "markdown",
      "metadata": {
        "id": "AyKK-weGWmA4",
        "colab_type": "text"
      },
      "source": [
        "#Q4 2013"
      ]
    },
    {
      "cell_type": "code",
      "metadata": {
        "colab_type": "code",
        "id": "VNxz2xUqW1Iq",
        "colab": {
          "base_uri": "https://localhost:8080/",
          "height": 426
        },
        "outputId": "50db4a18-f5c0-4d99-8bd3-5c79cef4d1f9"
      },
      "source": [
        "q4_2013 = df[(df['created_at'] >= '10-13-2013')&(df['created_at'] < '1-14-2014')]\n",
        "q4_2013"
      ],
      "execution_count": null,
      "outputs": [
        {
          "output_type": "execute_result",
          "data": {
            "text/html": [
              "<div>\n",
              "<style scoped>\n",
              "    .dataframe tbody tr th:only-of-type {\n",
              "        vertical-align: middle;\n",
              "    }\n",
              "\n",
              "    .dataframe tbody tr th {\n",
              "        vertical-align: top;\n",
              "    }\n",
              "\n",
              "    .dataframe thead th {\n",
              "        text-align: right;\n",
              "    }\n",
              "</style>\n",
              "<table border=\"1\" class=\"dataframe\">\n",
              "  <thead>\n",
              "    <tr style=\"text-align: right;\">\n",
              "      <th></th>\n",
              "      <th>id</th>\n",
              "      <th>specific_type</th>\n",
              "      <th>created_at</th>\n",
              "      <th>gender</th>\n",
              "      <th>birth_date</th>\n",
              "      <th>phone_code</th>\n",
              "      <th>monthly_income</th>\n",
              "      <th>state</th>\n",
              "      <th>cpf_restriction</th>\n",
              "      <th>registration_form_closed</th>\n",
              "      <th>brand</th>\n",
              "      <th>model_year</th>\n",
              "      <th>auto_value</th>\n",
              "      <th>auto_debt</th>\n",
              "      <th>loan_amount</th>\n",
              "      <th>declares_income_tax</th>\n",
              "      <th>operation_status</th>\n",
              "      <th>index</th>\n",
              "    </tr>\n",
              "  </thead>\n",
              "  <tbody>\n",
              "    <tr>\n",
              "      <th>22</th>\n",
              "      <td>126677</td>\n",
              "      <td>Auto Equity</td>\n",
              "      <td>2013-10-17</td>\n",
              "      <td>NaN</td>\n",
              "      <td>10/19/1989</td>\n",
              "      <td>12.0</td>\n",
              "      <td>900.0</td>\n",
              "      <td>NO_STATE</td>\n",
              "      <td>1.0</td>\n",
              "      <td>0</td>\n",
              "      <td>ford</td>\n",
              "      <td>2007.0</td>\n",
              "      <td>19000.0</td>\n",
              "      <td>0.0</td>\n",
              "      <td>0.0</td>\n",
              "      <td>0.0</td>\n",
              "      <td>no_closed</td>\n",
              "      <td>19900.0</td>\n",
              "    </tr>\n",
              "    <tr>\n",
              "      <th>33</th>\n",
              "      <td>126837</td>\n",
              "      <td>Auto Equity</td>\n",
              "      <td>2013-10-31</td>\n",
              "      <td>NaN</td>\n",
              "      <td>9/22/1973</td>\n",
              "      <td>53.0</td>\n",
              "      <td>1200.0</td>\n",
              "      <td>NO_STATE</td>\n",
              "      <td>1.0</td>\n",
              "      <td>0</td>\n",
              "      <td>vw</td>\n",
              "      <td>2006.0</td>\n",
              "      <td>23000.0</td>\n",
              "      <td>0.0</td>\n",
              "      <td>1000.0</td>\n",
              "      <td>0.0</td>\n",
              "      <td>no_closed</td>\n",
              "      <td>23200.0</td>\n",
              "    </tr>\n",
              "    <tr>\n",
              "      <th>39</th>\n",
              "      <td>126660</td>\n",
              "      <td>Auto Equity</td>\n",
              "      <td>2013-10-16</td>\n",
              "      <td>female</td>\n",
              "      <td>3/4/1991</td>\n",
              "      <td>15.0</td>\n",
              "      <td>1000.0</td>\n",
              "      <td>NO_STATE</td>\n",
              "      <td>1.0</td>\n",
              "      <td>0</td>\n",
              "      <td>FORD</td>\n",
              "      <td>1988.0</td>\n",
              "      <td>10000.0</td>\n",
              "      <td>0.0</td>\n",
              "      <td>1000.0</td>\n",
              "      <td>0.0</td>\n",
              "      <td>no_closed</td>\n",
              "      <td>10000.0</td>\n",
              "    </tr>\n",
              "    <tr>\n",
              "      <th>44</th>\n",
              "      <td>126722</td>\n",
              "      <td>Auto Equity</td>\n",
              "      <td>2013-10-22</td>\n",
              "      <td>NaN</td>\n",
              "      <td>6/18/1963</td>\n",
              "      <td>51.0</td>\n",
              "      <td>1500.0</td>\n",
              "      <td>NO_STATE</td>\n",
              "      <td>1.0</td>\n",
              "      <td>0</td>\n",
              "      <td>fiat</td>\n",
              "      <td>1995.0</td>\n",
              "      <td>8000.0</td>\n",
              "      <td>0.0</td>\n",
              "      <td>1000.0</td>\n",
              "      <td>0.0</td>\n",
              "      <td>no_closed</td>\n",
              "      <td>8500.0</td>\n",
              "    </tr>\n",
              "    <tr>\n",
              "      <th>45</th>\n",
              "      <td>126723</td>\n",
              "      <td>Auto Equity</td>\n",
              "      <td>2013-10-22</td>\n",
              "      <td>NaN</td>\n",
              "      <td>6/18/1963</td>\n",
              "      <td>51.0</td>\n",
              "      <td>1500.0</td>\n",
              "      <td>NO_STATE</td>\n",
              "      <td>1.0</td>\n",
              "      <td>0</td>\n",
              "      <td>fiat</td>\n",
              "      <td>1995.0</td>\n",
              "      <td>8000.0</td>\n",
              "      <td>0.0</td>\n",
              "      <td>1000.0</td>\n",
              "      <td>0.0</td>\n",
              "      <td>no_closed</td>\n",
              "      <td>8500.0</td>\n",
              "    </tr>\n",
              "    <tr>\n",
              "      <th>...</th>\n",
              "      <td>...</td>\n",
              "      <td>...</td>\n",
              "      <td>...</td>\n",
              "      <td>...</td>\n",
              "      <td>...</td>\n",
              "      <td>...</td>\n",
              "      <td>...</td>\n",
              "      <td>...</td>\n",
              "      <td>...</td>\n",
              "      <td>...</td>\n",
              "      <td>...</td>\n",
              "      <td>...</td>\n",
              "      <td>...</td>\n",
              "      <td>...</td>\n",
              "      <td>...</td>\n",
              "      <td>...</td>\n",
              "      <td>...</td>\n",
              "      <td>...</td>\n",
              "    </tr>\n",
              "    <tr>\n",
              "      <th>57039</th>\n",
              "      <td>126704</td>\n",
              "      <td>Auto Equity</td>\n",
              "      <td>2013-10-21</td>\n",
              "      <td>female</td>\n",
              "      <td>8/28/1979</td>\n",
              "      <td>11.0</td>\n",
              "      <td>2200.0</td>\n",
              "      <td>NO_STATE</td>\n",
              "      <td>1.0</td>\n",
              "      <td>0</td>\n",
              "      <td>Chevrolet</td>\n",
              "      <td>2010.0</td>\n",
              "      <td>59000.0</td>\n",
              "      <td>0.0</td>\n",
              "      <td>20000.0</td>\n",
              "      <td>0.0</td>\n",
              "      <td>no_closed</td>\n",
              "      <td>41200.0</td>\n",
              "    </tr>\n",
              "    <tr>\n",
              "      <th>57048</th>\n",
              "      <td>126708</td>\n",
              "      <td>Auto Equity</td>\n",
              "      <td>2013-10-21</td>\n",
              "      <td>male</td>\n",
              "      <td>3/23/1992</td>\n",
              "      <td>94.0</td>\n",
              "      <td>4000.0</td>\n",
              "      <td>NO_STATE</td>\n",
              "      <td>1.0</td>\n",
              "      <td>0</td>\n",
              "      <td>ford</td>\n",
              "      <td>2011.0</td>\n",
              "      <td>27000.0</td>\n",
              "      <td>0.0</td>\n",
              "      <td>20000.0</td>\n",
              "      <td>0.0</td>\n",
              "      <td>no_closed</td>\n",
              "      <td>11000.0</td>\n",
              "    </tr>\n",
              "    <tr>\n",
              "      <th>57095</th>\n",
              "      <td>126684</td>\n",
              "      <td>Auto Equity</td>\n",
              "      <td>2013-10-18</td>\n",
              "      <td>NaN</td>\n",
              "      <td>7/10/1984</td>\n",
              "      <td>48.0</td>\n",
              "      <td>6300.0</td>\n",
              "      <td>NO_STATE</td>\n",
              "      <td>1.0</td>\n",
              "      <td>0</td>\n",
              "      <td>Citroen</td>\n",
              "      <td>2010.0</td>\n",
              "      <td>38000.0</td>\n",
              "      <td>0.0</td>\n",
              "      <td>0.0</td>\n",
              "      <td>1.0</td>\n",
              "      <td>no_closed</td>\n",
              "      <td>44300.0</td>\n",
              "    </tr>\n",
              "    <tr>\n",
              "      <th>57109</th>\n",
              "      <td>126663</td>\n",
              "      <td>Auto Equity</td>\n",
              "      <td>2013-10-16</td>\n",
              "      <td>NaN</td>\n",
              "      <td>8/24/1979</td>\n",
              "      <td>92.0</td>\n",
              "      <td>3000.0</td>\n",
              "      <td>NO_STATE</td>\n",
              "      <td>1.0</td>\n",
              "      <td>0</td>\n",
              "      <td>Chevrolet</td>\n",
              "      <td>2011.0</td>\n",
              "      <td>25000.0</td>\n",
              "      <td>0.0</td>\n",
              "      <td>22500.0</td>\n",
              "      <td>1.0</td>\n",
              "      <td>no_closed</td>\n",
              "      <td>5500.0</td>\n",
              "    </tr>\n",
              "    <tr>\n",
              "      <th>57175</th>\n",
              "      <td>126691</td>\n",
              "      <td>Auto Equity</td>\n",
              "      <td>2013-10-20</td>\n",
              "      <td>NaN</td>\n",
              "      <td>1/21/1977</td>\n",
              "      <td>11.0</td>\n",
              "      <td>30000.0</td>\n",
              "      <td>NO_STATE</td>\n",
              "      <td>1.0</td>\n",
              "      <td>0</td>\n",
              "      <td>Ford</td>\n",
              "      <td>2012.0</td>\n",
              "      <td>280000.0</td>\n",
              "      <td>0.0</td>\n",
              "      <td>200000.0</td>\n",
              "      <td>1.0</td>\n",
              "      <td>no_closed</td>\n",
              "      <td>110000.0</td>\n",
              "    </tr>\n",
              "  </tbody>\n",
              "</table>\n",
              "<p>1018 rows × 18 columns</p>\n",
              "</div>"
            ],
            "text/plain": [
              "           id specific_type  ... operation_status     index\n",
              "22     126677   Auto Equity  ...        no_closed   19900.0\n",
              "33     126837   Auto Equity  ...        no_closed   23200.0\n",
              "39     126660   Auto Equity  ...        no_closed   10000.0\n",
              "44     126722   Auto Equity  ...        no_closed    8500.0\n",
              "45     126723   Auto Equity  ...        no_closed    8500.0\n",
              "...       ...           ...  ...              ...       ...\n",
              "57039  126704   Auto Equity  ...        no_closed   41200.0\n",
              "57048  126708   Auto Equity  ...        no_closed   11000.0\n",
              "57095  126684   Auto Equity  ...        no_closed   44300.0\n",
              "57109  126663   Auto Equity  ...        no_closed    5500.0\n",
              "57175  126691   Auto Equity  ...        no_closed  110000.0\n",
              "\n",
              "[1018 rows x 18 columns]"
            ]
          },
          "metadata": {
            "tags": []
          },
          "execution_count": 216
        }
      ]
    },
    {
      "cell_type": "code",
      "metadata": {
        "colab_type": "code",
        "id": "nDZTXEZvW1I0",
        "colab": {
          "base_uri": "https://localhost:8080/",
          "height": 52
        },
        "outputId": "3a4fe39f-a1c3-499e-d599-e8c2935f3404"
      },
      "source": [
        "q4_2013['operation_status'].value_counts()"
      ],
      "execution_count": null,
      "outputs": [
        {
          "output_type": "execute_result",
          "data": {
            "text/plain": [
              "no_closed    1018\n",
              "Name: operation_status, dtype: int64"
            ]
          },
          "metadata": {
            "tags": []
          },
          "execution_count": 217
        }
      ]
    },
    {
      "cell_type": "code",
      "metadata": {
        "colab_type": "code",
        "id": "2c0vL2ibW1I6",
        "colab": {
          "base_uri": "https://localhost:8080/",
          "height": 34
        },
        "outputId": "a7090196-4bfe-446f-aba0-ed5da7f84187"
      },
      "source": [
        "q4_2013['operation_status'].isnull().sum()"
      ],
      "execution_count": null,
      "outputs": [
        {
          "output_type": "execute_result",
          "data": {
            "text/plain": [
              "0"
            ]
          },
          "metadata": {
            "tags": []
          },
          "execution_count": 218
        }
      ]
    },
    {
      "cell_type": "code",
      "metadata": {
        "colab_type": "code",
        "id": "1sqbLDOvW1I_",
        "colab": {
          "base_uri": "https://localhost:8080/",
          "height": 52
        },
        "outputId": "c6e79722-107d-42d0-de37-723727f2f7db"
      },
      "source": [
        "q4_2013['registration_form_closed'].value_counts()"
      ],
      "execution_count": null,
      "outputs": [
        {
          "output_type": "execute_result",
          "data": {
            "text/plain": [
              "0    1018\n",
              "Name: registration_form_closed, dtype: int64"
            ]
          },
          "metadata": {
            "tags": []
          },
          "execution_count": 219
        }
      ]
    },
    {
      "cell_type": "code",
      "metadata": {
        "colab_type": "code",
        "id": "pbGHxgHeW1JC",
        "colab": {
          "base_uri": "https://localhost:8080/",
          "height": 34
        },
        "outputId": "7a19e645-222c-4fdc-855a-32693a9a51c0"
      },
      "source": [
        "q4_2013['auto_debt'].sum()"
      ],
      "execution_count": null,
      "outputs": [
        {
          "output_type": "execute_result",
          "data": {
            "text/plain": [
              "0.0"
            ]
          },
          "metadata": {
            "tags": []
          },
          "execution_count": 220
        }
      ]
    },
    {
      "cell_type": "markdown",
      "metadata": {
        "colab_type": "text",
        "id": "8MyYgjIWXFE2"
      },
      "source": [
        "#Q4 2013"
      ]
    },
    {
      "cell_type": "code",
      "metadata": {
        "colab_type": "code",
        "id": "D7x406o4XMf8",
        "colab": {
          "base_uri": "https://localhost:8080/",
          "height": 510
        },
        "outputId": "8cf387f8-2899-44ef-8a08-ae5d5a0a4ec7"
      },
      "source": [
        "q1_2014 = df[(df['created_at'] >= '1-14-2014')&(df['created_at'] < '4-14-2014')]\n",
        "q1_2014"
      ],
      "execution_count": null,
      "outputs": [
        {
          "output_type": "execute_result",
          "data": {
            "text/html": [
              "<div>\n",
              "<style scoped>\n",
              "    .dataframe tbody tr th:only-of-type {\n",
              "        vertical-align: middle;\n",
              "    }\n",
              "\n",
              "    .dataframe tbody tr th {\n",
              "        vertical-align: top;\n",
              "    }\n",
              "\n",
              "    .dataframe thead th {\n",
              "        text-align: right;\n",
              "    }\n",
              "</style>\n",
              "<table border=\"1\" class=\"dataframe\">\n",
              "  <thead>\n",
              "    <tr style=\"text-align: right;\">\n",
              "      <th></th>\n",
              "      <th>id</th>\n",
              "      <th>specific_type</th>\n",
              "      <th>created_at</th>\n",
              "      <th>gender</th>\n",
              "      <th>birth_date</th>\n",
              "      <th>phone_code</th>\n",
              "      <th>monthly_income</th>\n",
              "      <th>state</th>\n",
              "      <th>cpf_restriction</th>\n",
              "      <th>registration_form_closed</th>\n",
              "      <th>brand</th>\n",
              "      <th>model_year</th>\n",
              "      <th>auto_value</th>\n",
              "      <th>auto_debt</th>\n",
              "      <th>loan_amount</th>\n",
              "      <th>declares_income_tax</th>\n",
              "      <th>operation_status</th>\n",
              "      <th>index</th>\n",
              "    </tr>\n",
              "  </thead>\n",
              "  <tbody>\n",
              "    <tr>\n",
              "      <th>2324</th>\n",
              "      <td>322622</td>\n",
              "      <td>Auto Equity</td>\n",
              "      <td>2014-03-14</td>\n",
              "      <td>NaN</td>\n",
              "      <td>6/20/1973</td>\n",
              "      <td>54.0</td>\n",
              "      <td>7000.0</td>\n",
              "      <td>RS</td>\n",
              "      <td>1.0</td>\n",
              "      <td>0</td>\n",
              "      <td>GM - Chevrolet</td>\n",
              "      <td>2011.0</td>\n",
              "      <td>29000.0</td>\n",
              "      <td>0.0</td>\n",
              "      <td>5000.0</td>\n",
              "      <td>NaN</td>\n",
              "      <td>no_closed</td>\n",
              "      <td>31000.0</td>\n",
              "    </tr>\n",
              "    <tr>\n",
              "      <th>2362</th>\n",
              "      <td>175819</td>\n",
              "      <td>Auto Equity</td>\n",
              "      <td>2014-01-17</td>\n",
              "      <td>NaN</td>\n",
              "      <td>4/28/1980</td>\n",
              "      <td>32.0</td>\n",
              "      <td>0.0</td>\n",
              "      <td>MG</td>\n",
              "      <td>1.0</td>\n",
              "      <td>0</td>\n",
              "      <td>GM - Chevrolet</td>\n",
              "      <td>2012.0</td>\n",
              "      <td>25900.0</td>\n",
              "      <td>0.0</td>\n",
              "      <td>5000.0</td>\n",
              "      <td>NaN</td>\n",
              "      <td>no_closed</td>\n",
              "      <td>20900.0</td>\n",
              "    </tr>\n",
              "    <tr>\n",
              "      <th>2481</th>\n",
              "      <td>340249</td>\n",
              "      <td>Auto Equity</td>\n",
              "      <td>2014-04-11</td>\n",
              "      <td>male</td>\n",
              "      <td>5/11/1981</td>\n",
              "      <td>67.0</td>\n",
              "      <td>1920.0</td>\n",
              "      <td>MS</td>\n",
              "      <td>1.0</td>\n",
              "      <td>0</td>\n",
              "      <td>GM - Chevrolet</td>\n",
              "      <td>NaN</td>\n",
              "      <td>21000.0</td>\n",
              "      <td>0.0</td>\n",
              "      <td>5000.0</td>\n",
              "      <td>NaN</td>\n",
              "      <td>no_closed</td>\n",
              "      <td>17920.0</td>\n",
              "    </tr>\n",
              "    <tr>\n",
              "      <th>2523</th>\n",
              "      <td>326711</td>\n",
              "      <td>Auto Equity</td>\n",
              "      <td>2014-03-26</td>\n",
              "      <td>NaN</td>\n",
              "      <td>10/18/1992</td>\n",
              "      <td>16.0</td>\n",
              "      <td>2200.0</td>\n",
              "      <td>SP</td>\n",
              "      <td>1.0</td>\n",
              "      <td>0</td>\n",
              "      <td>VW - VolksWagen</td>\n",
              "      <td>2006.0</td>\n",
              "      <td>20000.0</td>\n",
              "      <td>0.0</td>\n",
              "      <td>5000.0</td>\n",
              "      <td>NaN</td>\n",
              "      <td>no_closed</td>\n",
              "      <td>17200.0</td>\n",
              "    </tr>\n",
              "    <tr>\n",
              "      <th>2618</th>\n",
              "      <td>340380</td>\n",
              "      <td>Auto Equity</td>\n",
              "      <td>2014-04-12</td>\n",
              "      <td>male</td>\n",
              "      <td>11/9/1982</td>\n",
              "      <td>27.0</td>\n",
              "      <td>1500.0</td>\n",
              "      <td>ES</td>\n",
              "      <td>1.0</td>\n",
              "      <td>0</td>\n",
              "      <td>Fiat</td>\n",
              "      <td>NaN</td>\n",
              "      <td>19000.0</td>\n",
              "      <td>0.0</td>\n",
              "      <td>5000.0</td>\n",
              "      <td>NaN</td>\n",
              "      <td>no_closed</td>\n",
              "      <td>15500.0</td>\n",
              "    </tr>\n",
              "    <tr>\n",
              "      <th>...</th>\n",
              "      <td>...</td>\n",
              "      <td>...</td>\n",
              "      <td>...</td>\n",
              "      <td>...</td>\n",
              "      <td>...</td>\n",
              "      <td>...</td>\n",
              "      <td>...</td>\n",
              "      <td>...</td>\n",
              "      <td>...</td>\n",
              "      <td>...</td>\n",
              "      <td>...</td>\n",
              "      <td>...</td>\n",
              "      <td>...</td>\n",
              "      <td>...</td>\n",
              "      <td>...</td>\n",
              "      <td>...</td>\n",
              "      <td>...</td>\n",
              "      <td>...</td>\n",
              "    </tr>\n",
              "    <tr>\n",
              "      <th>56612</th>\n",
              "      <td>174682</td>\n",
              "      <td>Auto Equity</td>\n",
              "      <td>2014-01-14</td>\n",
              "      <td>NaN</td>\n",
              "      <td>12/28/1980</td>\n",
              "      <td>16.0</td>\n",
              "      <td>0.0</td>\n",
              "      <td>SP</td>\n",
              "      <td>1.0</td>\n",
              "      <td>0</td>\n",
              "      <td>Ford</td>\n",
              "      <td>2013.0</td>\n",
              "      <td>0.0</td>\n",
              "      <td>0.0</td>\n",
              "      <td>0.0</td>\n",
              "      <td>NaN</td>\n",
              "      <td>no_closed</td>\n",
              "      <td>0.0</td>\n",
              "    </tr>\n",
              "    <tr>\n",
              "      <th>56614</th>\n",
              "      <td>325367</td>\n",
              "      <td>Auto Equity</td>\n",
              "      <td>2014-03-24</td>\n",
              "      <td>NaN</td>\n",
              "      <td>8/4/1973</td>\n",
              "      <td>11.0</td>\n",
              "      <td>0.0</td>\n",
              "      <td>SP</td>\n",
              "      <td>1.0</td>\n",
              "      <td>0</td>\n",
              "      <td>VW - VolksWagen</td>\n",
              "      <td>2012.0</td>\n",
              "      <td>0.0</td>\n",
              "      <td>0.0</td>\n",
              "      <td>0.0</td>\n",
              "      <td>NaN</td>\n",
              "      <td>no_closed</td>\n",
              "      <td>0.0</td>\n",
              "    </tr>\n",
              "    <tr>\n",
              "      <th>56617</th>\n",
              "      <td>332879</td>\n",
              "      <td>Auto Equity</td>\n",
              "      <td>2014-04-02</td>\n",
              "      <td>NaN</td>\n",
              "      <td>7/12/1985</td>\n",
              "      <td>11.0</td>\n",
              "      <td>0.0</td>\n",
              "      <td>SP</td>\n",
              "      <td>1.0</td>\n",
              "      <td>0</td>\n",
              "      <td>Hyundai</td>\n",
              "      <td>2007.0</td>\n",
              "      <td>0.0</td>\n",
              "      <td>0.0</td>\n",
              "      <td>0.0</td>\n",
              "      <td>NaN</td>\n",
              "      <td>no_closed</td>\n",
              "      <td>0.0</td>\n",
              "    </tr>\n",
              "    <tr>\n",
              "      <th>56620</th>\n",
              "      <td>321154</td>\n",
              "      <td>Auto Equity</td>\n",
              "      <td>2014-03-09</td>\n",
              "      <td>NaN</td>\n",
              "      <td>6/9/1964</td>\n",
              "      <td>83.0</td>\n",
              "      <td>0.0</td>\n",
              "      <td>PB</td>\n",
              "      <td>1.0</td>\n",
              "      <td>0</td>\n",
              "      <td>Toyota</td>\n",
              "      <td>2009.0</td>\n",
              "      <td>0.0</td>\n",
              "      <td>0.0</td>\n",
              "      <td>0.0</td>\n",
              "      <td>NaN</td>\n",
              "      <td>no_closed</td>\n",
              "      <td>0.0</td>\n",
              "    </tr>\n",
              "    <tr>\n",
              "      <th>56622</th>\n",
              "      <td>323042</td>\n",
              "      <td>Auto Equity</td>\n",
              "      <td>2014-03-17</td>\n",
              "      <td>NaN</td>\n",
              "      <td>8/31/1964</td>\n",
              "      <td>11.0</td>\n",
              "      <td>0.0</td>\n",
              "      <td>SP</td>\n",
              "      <td>1.0</td>\n",
              "      <td>0</td>\n",
              "      <td>Toyota</td>\n",
              "      <td>2013.0</td>\n",
              "      <td>0.0</td>\n",
              "      <td>0.0</td>\n",
              "      <td>0.0</td>\n",
              "      <td>NaN</td>\n",
              "      <td>no_closed</td>\n",
              "      <td>0.0</td>\n",
              "    </tr>\n",
              "  </tbody>\n",
              "</table>\n",
              "<p>902 rows × 18 columns</p>\n",
              "</div>"
            ],
            "text/plain": [
              "           id specific_type  ... operation_status    index\n",
              "2324   322622   Auto Equity  ...        no_closed  31000.0\n",
              "2362   175819   Auto Equity  ...        no_closed  20900.0\n",
              "2481   340249   Auto Equity  ...        no_closed  17920.0\n",
              "2523   326711   Auto Equity  ...        no_closed  17200.0\n",
              "2618   340380   Auto Equity  ...        no_closed  15500.0\n",
              "...       ...           ...  ...              ...      ...\n",
              "56612  174682   Auto Equity  ...        no_closed      0.0\n",
              "56614  325367   Auto Equity  ...        no_closed      0.0\n",
              "56617  332879   Auto Equity  ...        no_closed      0.0\n",
              "56620  321154   Auto Equity  ...        no_closed      0.0\n",
              "56622  323042   Auto Equity  ...        no_closed      0.0\n",
              "\n",
              "[902 rows x 18 columns]"
            ]
          },
          "metadata": {
            "tags": []
          },
          "execution_count": 221
        }
      ]
    },
    {
      "cell_type": "code",
      "metadata": {
        "colab_type": "code",
        "id": "Wp9YkkL1XMgG",
        "colab": {
          "base_uri": "https://localhost:8080/",
          "height": 70
        },
        "outputId": "18139cdd-6e4d-4d1a-eddc-cb959ae61f35"
      },
      "source": [
        "q1_2014['operation_status'].value_counts()"
      ],
      "execution_count": null,
      "outputs": [
        {
          "output_type": "execute_result",
          "data": {
            "text/plain": [
              "no_closed    894\n",
              "closed         8\n",
              "Name: operation_status, dtype: int64"
            ]
          },
          "metadata": {
            "tags": []
          },
          "execution_count": 222
        }
      ]
    },
    {
      "cell_type": "code",
      "metadata": {
        "colab_type": "code",
        "id": "mj8oJJeVXMgP",
        "colab": {
          "base_uri": "https://localhost:8080/",
          "height": 34
        },
        "outputId": "41e91b3f-b505-4848-b886-f9071ccb146c"
      },
      "source": [
        "q1_2014['operation_status'].isnull().sum()"
      ],
      "execution_count": null,
      "outputs": [
        {
          "output_type": "execute_result",
          "data": {
            "text/plain": [
              "0"
            ]
          },
          "metadata": {
            "tags": []
          },
          "execution_count": 223
        }
      ]
    },
    {
      "cell_type": "code",
      "metadata": {
        "colab_type": "code",
        "id": "s6MenBPgXMgV",
        "colab": {
          "base_uri": "https://localhost:8080/",
          "height": 52
        },
        "outputId": "08d3086c-cca9-4512-cfa5-60d2ea56d1f4"
      },
      "source": [
        "q1_2014['registration_form_closed'].value_counts()"
      ],
      "execution_count": null,
      "outputs": [
        {
          "output_type": "execute_result",
          "data": {
            "text/plain": [
              "0    902\n",
              "Name: registration_form_closed, dtype: int64"
            ]
          },
          "metadata": {
            "tags": []
          },
          "execution_count": 224
        }
      ]
    },
    {
      "cell_type": "code",
      "metadata": {
        "colab_type": "code",
        "id": "vqQgSGKoXMgb",
        "colab": {
          "base_uri": "https://localhost:8080/",
          "height": 34
        },
        "outputId": "2719e794-7833-4e00-b981-8c2b76bed951"
      },
      "source": [
        "q1_2014['auto_debt'].sum()"
      ],
      "execution_count": null,
      "outputs": [
        {
          "output_type": "execute_result",
          "data": {
            "text/plain": [
              "0.0"
            ]
          },
          "metadata": {
            "tags": []
          },
          "execution_count": 225
        }
      ]
    },
    {
      "cell_type": "markdown",
      "metadata": {
        "colab_type": "text",
        "id": "Y5LQ9HWAXPzN"
      },
      "source": [
        "#Q2 2014"
      ]
    },
    {
      "cell_type": "code",
      "metadata": {
        "colab_type": "code",
        "id": "58wbQnBZXPzQ",
        "colab": {
          "base_uri": "https://localhost:8080/",
          "height": 499
        },
        "outputId": "3bb08b53-4041-41a5-a4ee-280a1dde7a24"
      },
      "source": [
        "q2_2014 = df[(df['created_at'] >= '4-14-2014')&(df['created_at'] < '7-14-2014')]\n",
        "q2_2014"
      ],
      "execution_count": null,
      "outputs": [
        {
          "output_type": "execute_result",
          "data": {
            "text/html": [
              "<div>\n",
              "<style scoped>\n",
              "    .dataframe tbody tr th:only-of-type {\n",
              "        vertical-align: middle;\n",
              "    }\n",
              "\n",
              "    .dataframe tbody tr th {\n",
              "        vertical-align: top;\n",
              "    }\n",
              "\n",
              "    .dataframe thead th {\n",
              "        text-align: right;\n",
              "    }\n",
              "</style>\n",
              "<table border=\"1\" class=\"dataframe\">\n",
              "  <thead>\n",
              "    <tr style=\"text-align: right;\">\n",
              "      <th></th>\n",
              "      <th>id</th>\n",
              "      <th>specific_type</th>\n",
              "      <th>created_at</th>\n",
              "      <th>gender</th>\n",
              "      <th>birth_date</th>\n",
              "      <th>phone_code</th>\n",
              "      <th>monthly_income</th>\n",
              "      <th>state</th>\n",
              "      <th>cpf_restriction</th>\n",
              "      <th>registration_form_closed</th>\n",
              "      <th>brand</th>\n",
              "      <th>model_year</th>\n",
              "      <th>auto_value</th>\n",
              "      <th>auto_debt</th>\n",
              "      <th>loan_amount</th>\n",
              "      <th>declares_income_tax</th>\n",
              "      <th>operation_status</th>\n",
              "      <th>index</th>\n",
              "    </tr>\n",
              "  </thead>\n",
              "  <tbody>\n",
              "    <tr>\n",
              "      <th>2229</th>\n",
              "      <td>363576</td>\n",
              "      <td>Auto Equity</td>\n",
              "      <td>2014-05-08</td>\n",
              "      <td>female</td>\n",
              "      <td>7/30/1972</td>\n",
              "      <td>47.0</td>\n",
              "      <td>4000.0</td>\n",
              "      <td>SC</td>\n",
              "      <td>1.0</td>\n",
              "      <td>0</td>\n",
              "      <td>Renault</td>\n",
              "      <td>NaN</td>\n",
              "      <td>39000.0</td>\n",
              "      <td>0.0</td>\n",
              "      <td>5000.0</td>\n",
              "      <td>NaN</td>\n",
              "      <td>no_closed</td>\n",
              "      <td>38000.0</td>\n",
              "    </tr>\n",
              "    <tr>\n",
              "      <th>2284</th>\n",
              "      <td>351418</td>\n",
              "      <td>Auto Equity</td>\n",
              "      <td>2014-04-25</td>\n",
              "      <td>NaN</td>\n",
              "      <td>7/11/1987</td>\n",
              "      <td>34.0</td>\n",
              "      <td>2400.0</td>\n",
              "      <td>MG</td>\n",
              "      <td>1.0</td>\n",
              "      <td>0</td>\n",
              "      <td>Fiat</td>\n",
              "      <td>2012.0</td>\n",
              "      <td>32000.0</td>\n",
              "      <td>0.0</td>\n",
              "      <td>5000.0</td>\n",
              "      <td>NaN</td>\n",
              "      <td>no_closed</td>\n",
              "      <td>29400.0</td>\n",
              "    </tr>\n",
              "    <tr>\n",
              "      <th>2320</th>\n",
              "      <td>372264</td>\n",
              "      <td>Auto Equity</td>\n",
              "      <td>2014-05-16</td>\n",
              "      <td>female</td>\n",
              "      <td>9/20/1976</td>\n",
              "      <td>69.0</td>\n",
              "      <td>3000.0</td>\n",
              "      <td>RO</td>\n",
              "      <td>1.0</td>\n",
              "      <td>0</td>\n",
              "      <td>Fiat</td>\n",
              "      <td>NaN</td>\n",
              "      <td>30000.0</td>\n",
              "      <td>0.0</td>\n",
              "      <td>5000.0</td>\n",
              "      <td>NaN</td>\n",
              "      <td>no_closed</td>\n",
              "      <td>28000.0</td>\n",
              "    </tr>\n",
              "    <tr>\n",
              "      <th>2341</th>\n",
              "      <td>367526</td>\n",
              "      <td>Auto Equity</td>\n",
              "      <td>2014-05-12</td>\n",
              "      <td>male</td>\n",
              "      <td>7/15/1963</td>\n",
              "      <td>27.0</td>\n",
              "      <td>4000.0</td>\n",
              "      <td>ES</td>\n",
              "      <td>1.0</td>\n",
              "      <td>0</td>\n",
              "      <td>Fiat</td>\n",
              "      <td>NaN</td>\n",
              "      <td>28000.0</td>\n",
              "      <td>0.0</td>\n",
              "      <td>5000.0</td>\n",
              "      <td>NaN</td>\n",
              "      <td>no_closed</td>\n",
              "      <td>27000.0</td>\n",
              "    </tr>\n",
              "    <tr>\n",
              "      <th>2351</th>\n",
              "      <td>420936</td>\n",
              "      <td>Auto Equity</td>\n",
              "      <td>2014-07-03</td>\n",
              "      <td>male</td>\n",
              "      <td>12/20/1993</td>\n",
              "      <td>66.0</td>\n",
              "      <td>3000.0</td>\n",
              "      <td>MT</td>\n",
              "      <td>1.0</td>\n",
              "      <td>0</td>\n",
              "      <td>GM - Chevrolet</td>\n",
              "      <td>2006.0</td>\n",
              "      <td>26000.0</td>\n",
              "      <td>0.0</td>\n",
              "      <td>5000.0</td>\n",
              "      <td>NaN</td>\n",
              "      <td>no_closed</td>\n",
              "      <td>24000.0</td>\n",
              "    </tr>\n",
              "    <tr>\n",
              "      <th>...</th>\n",
              "      <td>...</td>\n",
              "      <td>...</td>\n",
              "      <td>...</td>\n",
              "      <td>...</td>\n",
              "      <td>...</td>\n",
              "      <td>...</td>\n",
              "      <td>...</td>\n",
              "      <td>...</td>\n",
              "      <td>...</td>\n",
              "      <td>...</td>\n",
              "      <td>...</td>\n",
              "      <td>...</td>\n",
              "      <td>...</td>\n",
              "      <td>...</td>\n",
              "      <td>...</td>\n",
              "      <td>...</td>\n",
              "      <td>...</td>\n",
              "      <td>...</td>\n",
              "    </tr>\n",
              "    <tr>\n",
              "      <th>56607</th>\n",
              "      <td>367348</td>\n",
              "      <td>Auto Equity</td>\n",
              "      <td>2014-05-12</td>\n",
              "      <td>NaN</td>\n",
              "      <td>7/16/1978</td>\n",
              "      <td>11.0</td>\n",
              "      <td>0.0</td>\n",
              "      <td>SP</td>\n",
              "      <td>1.0</td>\n",
              "      <td>0</td>\n",
              "      <td>Kia Motors</td>\n",
              "      <td>2012.0</td>\n",
              "      <td>0.0</td>\n",
              "      <td>0.0</td>\n",
              "      <td>0.0</td>\n",
              "      <td>NaN</td>\n",
              "      <td>no_closed</td>\n",
              "      <td>0.0</td>\n",
              "    </tr>\n",
              "    <tr>\n",
              "      <th>56608</th>\n",
              "      <td>376174</td>\n",
              "      <td>Auto Equity</td>\n",
              "      <td>2014-05-20</td>\n",
              "      <td>NaN</td>\n",
              "      <td>3/14/1952</td>\n",
              "      <td>11.0</td>\n",
              "      <td>0.0</td>\n",
              "      <td>SP</td>\n",
              "      <td>1.0</td>\n",
              "      <td>0</td>\n",
              "      <td>GM - Chevrolet</td>\n",
              "      <td>2012.0</td>\n",
              "      <td>0.0</td>\n",
              "      <td>0.0</td>\n",
              "      <td>0.0</td>\n",
              "      <td>NaN</td>\n",
              "      <td>no_closed</td>\n",
              "      <td>0.0</td>\n",
              "    </tr>\n",
              "    <tr>\n",
              "      <th>56616</th>\n",
              "      <td>361274</td>\n",
              "      <td>Auto Equity</td>\n",
              "      <td>2014-05-06</td>\n",
              "      <td>NaN</td>\n",
              "      <td>7/17/1976</td>\n",
              "      <td>11.0</td>\n",
              "      <td>0.0</td>\n",
              "      <td>SP</td>\n",
              "      <td>1.0</td>\n",
              "      <td>0</td>\n",
              "      <td>GM - Chevrolet</td>\n",
              "      <td>2012.0</td>\n",
              "      <td>0.0</td>\n",
              "      <td>0.0</td>\n",
              "      <td>0.0</td>\n",
              "      <td>NaN</td>\n",
              "      <td>no_closed</td>\n",
              "      <td>0.0</td>\n",
              "    </tr>\n",
              "    <tr>\n",
              "      <th>56618</th>\n",
              "      <td>400705</td>\n",
              "      <td>Auto Equity</td>\n",
              "      <td>2014-06-15</td>\n",
              "      <td>NaN</td>\n",
              "      <td>3/12/1981</td>\n",
              "      <td>11.0</td>\n",
              "      <td>0.0</td>\n",
              "      <td>SP</td>\n",
              "      <td>0.0</td>\n",
              "      <td>0</td>\n",
              "      <td>Hyundai</td>\n",
              "      <td>2011.0</td>\n",
              "      <td>0.0</td>\n",
              "      <td>0.0</td>\n",
              "      <td>0.0</td>\n",
              "      <td>NaN</td>\n",
              "      <td>no_closed</td>\n",
              "      <td>0.0</td>\n",
              "    </tr>\n",
              "    <tr>\n",
              "      <th>56619</th>\n",
              "      <td>404536</td>\n",
              "      <td>Auto Equity</td>\n",
              "      <td>2014-06-18</td>\n",
              "      <td>male</td>\n",
              "      <td>5/4/1976</td>\n",
              "      <td>85.0</td>\n",
              "      <td>0.0</td>\n",
              "      <td>CE</td>\n",
              "      <td>0.0</td>\n",
              "      <td>0</td>\n",
              "      <td>BMW</td>\n",
              "      <td>2014.0</td>\n",
              "      <td>0.0</td>\n",
              "      <td>0.0</td>\n",
              "      <td>0.0</td>\n",
              "      <td>NaN</td>\n",
              "      <td>no_closed</td>\n",
              "      <td>0.0</td>\n",
              "    </tr>\n",
              "  </tbody>\n",
              "</table>\n",
              "<p>1918 rows × 18 columns</p>\n",
              "</div>"
            ],
            "text/plain": [
              "           id specific_type  ... operation_status    index\n",
              "2229   363576   Auto Equity  ...        no_closed  38000.0\n",
              "2284   351418   Auto Equity  ...        no_closed  29400.0\n",
              "2320   372264   Auto Equity  ...        no_closed  28000.0\n",
              "2341   367526   Auto Equity  ...        no_closed  27000.0\n",
              "2351   420936   Auto Equity  ...        no_closed  24000.0\n",
              "...       ...           ...  ...              ...      ...\n",
              "56607  367348   Auto Equity  ...        no_closed      0.0\n",
              "56608  376174   Auto Equity  ...        no_closed      0.0\n",
              "56616  361274   Auto Equity  ...        no_closed      0.0\n",
              "56618  400705   Auto Equity  ...        no_closed      0.0\n",
              "56619  404536   Auto Equity  ...        no_closed      0.0\n",
              "\n",
              "[1918 rows x 18 columns]"
            ]
          },
          "metadata": {
            "tags": []
          },
          "execution_count": 226
        }
      ]
    },
    {
      "cell_type": "code",
      "metadata": {
        "colab_type": "code",
        "id": "hshg3XVCXPzX",
        "colab": {
          "base_uri": "https://localhost:8080/",
          "height": 70
        },
        "outputId": "ef360f8b-64ff-47cb-babb-154e8aea2cfe"
      },
      "source": [
        "q2_2014['operation_status'].value_counts()"
      ],
      "execution_count": null,
      "outputs": [
        {
          "output_type": "execute_result",
          "data": {
            "text/plain": [
              "no_closed    1877\n",
              "closed         41\n",
              "Name: operation_status, dtype: int64"
            ]
          },
          "metadata": {
            "tags": []
          },
          "execution_count": 227
        }
      ]
    },
    {
      "cell_type": "code",
      "metadata": {
        "colab_type": "code",
        "id": "giDdP86wXPze",
        "colab": {
          "base_uri": "https://localhost:8080/",
          "height": 34
        },
        "outputId": "057f9c7a-d767-45ca-bb80-a192805b3a25"
      },
      "source": [
        "q2_2014['operation_status'].isnull().sum()"
      ],
      "execution_count": null,
      "outputs": [
        {
          "output_type": "execute_result",
          "data": {
            "text/plain": [
              "0"
            ]
          },
          "metadata": {
            "tags": []
          },
          "execution_count": 228
        }
      ]
    },
    {
      "cell_type": "code",
      "metadata": {
        "colab_type": "code",
        "id": "oGCPRkCzXPzs",
        "colab": {
          "base_uri": "https://localhost:8080/",
          "height": 52
        },
        "outputId": "136aa78b-7e32-4ed0-9333-ec746fe9aee9"
      },
      "source": [
        "q2_2014['registration_form_closed'].value_counts()"
      ],
      "execution_count": null,
      "outputs": [
        {
          "output_type": "execute_result",
          "data": {
            "text/plain": [
              "0    1918\n",
              "Name: registration_form_closed, dtype: int64"
            ]
          },
          "metadata": {
            "tags": []
          },
          "execution_count": 229
        }
      ]
    },
    {
      "cell_type": "code",
      "metadata": {
        "colab_type": "code",
        "id": "bXBXZ6EwXPzy",
        "colab": {
          "base_uri": "https://localhost:8080/",
          "height": 35
        },
        "outputId": "63f4e64a-a859-4784-e8fe-227714d6c04e"
      },
      "source": [
        "q2_2014['auto_debt'].sum()"
      ],
      "execution_count": null,
      "outputs": [
        {
          "output_type": "execute_result",
          "data": {
            "text/plain": [
              "2590117.0"
            ]
          },
          "metadata": {
            "tags": []
          },
          "execution_count": 230
        }
      ]
    },
    {
      "cell_type": "markdown",
      "metadata": {
        "colab_type": "text",
        "id": "qp6OvC1DXQ6W"
      },
      "source": [
        "#Q3 2014"
      ]
    },
    {
      "cell_type": "code",
      "metadata": {
        "colab_type": "code",
        "id": "LkX43shaXQ6X",
        "colab": {
          "base_uri": "https://localhost:8080/",
          "height": 448
        },
        "outputId": "d6893895-21d3-4809-bc41-3387f0736536"
      },
      "source": [
        "q3_2014 = df[(df['created_at'] >= '7-14-2014')&(df['created_at'] < '10-14-2014')]\n",
        "q3_2014"
      ],
      "execution_count": null,
      "outputs": [
        {
          "output_type": "execute_result",
          "data": {
            "text/html": [
              "<div>\n",
              "<style scoped>\n",
              "    .dataframe tbody tr th:only-of-type {\n",
              "        vertical-align: middle;\n",
              "    }\n",
              "\n",
              "    .dataframe tbody tr th {\n",
              "        vertical-align: top;\n",
              "    }\n",
              "\n",
              "    .dataframe thead th {\n",
              "        text-align: right;\n",
              "    }\n",
              "</style>\n",
              "<table border=\"1\" class=\"dataframe\">\n",
              "  <thead>\n",
              "    <tr style=\"text-align: right;\">\n",
              "      <th></th>\n",
              "      <th>id</th>\n",
              "      <th>specific_type</th>\n",
              "      <th>created_at</th>\n",
              "      <th>gender</th>\n",
              "      <th>birth_date</th>\n",
              "      <th>phone_code</th>\n",
              "      <th>monthly_income</th>\n",
              "      <th>state</th>\n",
              "      <th>cpf_restriction</th>\n",
              "      <th>registration_form_closed</th>\n",
              "      <th>brand</th>\n",
              "      <th>model_year</th>\n",
              "      <th>auto_value</th>\n",
              "      <th>auto_debt</th>\n",
              "      <th>loan_amount</th>\n",
              "      <th>declares_income_tax</th>\n",
              "      <th>operation_status</th>\n",
              "      <th>index</th>\n",
              "    </tr>\n",
              "  </thead>\n",
              "  <tbody>\n",
              "    <tr>\n",
              "      <th>2221</th>\n",
              "      <td>516657</td>\n",
              "      <td>Auto Equity</td>\n",
              "      <td>2014-09-05</td>\n",
              "      <td>female</td>\n",
              "      <td>5/22/1964</td>\n",
              "      <td>31.0</td>\n",
              "      <td>2500.0</td>\n",
              "      <td>MG</td>\n",
              "      <td>1.0</td>\n",
              "      <td>0</td>\n",
              "      <td>Fiat</td>\n",
              "      <td>2009.0</td>\n",
              "      <td>40000.0</td>\n",
              "      <td>0.0</td>\n",
              "      <td>5000.0</td>\n",
              "      <td>NaN</td>\n",
              "      <td>no_closed</td>\n",
              "      <td>37500.0</td>\n",
              "    </tr>\n",
              "    <tr>\n",
              "      <th>2222</th>\n",
              "      <td>521301</td>\n",
              "      <td>Auto Equity</td>\n",
              "      <td>2014-09-11</td>\n",
              "      <td>female</td>\n",
              "      <td>5/22/1964</td>\n",
              "      <td>31.0</td>\n",
              "      <td>2500.0</td>\n",
              "      <td>MG</td>\n",
              "      <td>1.0</td>\n",
              "      <td>0</td>\n",
              "      <td>Fiat</td>\n",
              "      <td>2009.0</td>\n",
              "      <td>40000.0</td>\n",
              "      <td>0.0</td>\n",
              "      <td>5000.0</td>\n",
              "      <td>NaN</td>\n",
              "      <td>no_closed</td>\n",
              "      <td>37500.0</td>\n",
              "    </tr>\n",
              "    <tr>\n",
              "      <th>2237</th>\n",
              "      <td>508136</td>\n",
              "      <td>Auto Equity</td>\n",
              "      <td>2014-08-27</td>\n",
              "      <td>female</td>\n",
              "      <td>12/3/1977</td>\n",
              "      <td>61.0</td>\n",
              "      <td>2100.0</td>\n",
              "      <td>DF</td>\n",
              "      <td>0.0</td>\n",
              "      <td>0</td>\n",
              "      <td>Renault</td>\n",
              "      <td>2014.0</td>\n",
              "      <td>38000.0</td>\n",
              "      <td>0.0</td>\n",
              "      <td>5000.0</td>\n",
              "      <td>NaN</td>\n",
              "      <td>no_closed</td>\n",
              "      <td>35100.0</td>\n",
              "    </tr>\n",
              "    <tr>\n",
              "      <th>2245</th>\n",
              "      <td>515998</td>\n",
              "      <td>Auto Equity</td>\n",
              "      <td>2014-09-05</td>\n",
              "      <td>male</td>\n",
              "      <td>7/21/1970</td>\n",
              "      <td>61.0</td>\n",
              "      <td>5200.0</td>\n",
              "      <td>DF</td>\n",
              "      <td>1.0</td>\n",
              "      <td>0</td>\n",
              "      <td>Honda</td>\n",
              "      <td>2014.0</td>\n",
              "      <td>36000.0</td>\n",
              "      <td>0.0</td>\n",
              "      <td>5000.0</td>\n",
              "      <td>NaN</td>\n",
              "      <td>no_closed</td>\n",
              "      <td>36200.0</td>\n",
              "    </tr>\n",
              "    <tr>\n",
              "      <th>2256</th>\n",
              "      <td>543255</td>\n",
              "      <td>Auto Equity</td>\n",
              "      <td>2014-10-09</td>\n",
              "      <td>female</td>\n",
              "      <td>5/11/1963</td>\n",
              "      <td>31.0</td>\n",
              "      <td>4000.0</td>\n",
              "      <td>MG</td>\n",
              "      <td>1.0</td>\n",
              "      <td>0</td>\n",
              "      <td>Fiat</td>\n",
              "      <td>2014.0</td>\n",
              "      <td>35000.0</td>\n",
              "      <td>0.0</td>\n",
              "      <td>5000.0</td>\n",
              "      <td>NaN</td>\n",
              "      <td>no_closed</td>\n",
              "      <td>34000.0</td>\n",
              "    </tr>\n",
              "    <tr>\n",
              "      <th>...</th>\n",
              "      <td>...</td>\n",
              "      <td>...</td>\n",
              "      <td>...</td>\n",
              "      <td>...</td>\n",
              "      <td>...</td>\n",
              "      <td>...</td>\n",
              "      <td>...</td>\n",
              "      <td>...</td>\n",
              "      <td>...</td>\n",
              "      <td>...</td>\n",
              "      <td>...</td>\n",
              "      <td>...</td>\n",
              "      <td>...</td>\n",
              "      <td>...</td>\n",
              "      <td>...</td>\n",
              "      <td>...</td>\n",
              "      <td>...</td>\n",
              "      <td>...</td>\n",
              "    </tr>\n",
              "    <tr>\n",
              "      <th>56488</th>\n",
              "      <td>510592</td>\n",
              "      <td>Auto Equity</td>\n",
              "      <td>2014-08-30</td>\n",
              "      <td>male</td>\n",
              "      <td>5/24/1983</td>\n",
              "      <td>11.0</td>\n",
              "      <td>12000.0</td>\n",
              "      <td>SP</td>\n",
              "      <td>0.0</td>\n",
              "      <td>0</td>\n",
              "      <td>VW - VolksWagen</td>\n",
              "      <td>2005.0</td>\n",
              "      <td>124000.0</td>\n",
              "      <td>0.0</td>\n",
              "      <td>111600.0</td>\n",
              "      <td>NaN</td>\n",
              "      <td>no_closed</td>\n",
              "      <td>24400.0</td>\n",
              "    </tr>\n",
              "    <tr>\n",
              "      <th>56536</th>\n",
              "      <td>527920</td>\n",
              "      <td>Auto Equity</td>\n",
              "      <td>2014-09-19</td>\n",
              "      <td>male</td>\n",
              "      <td>5/21/1968</td>\n",
              "      <td>11.0</td>\n",
              "      <td>0.0</td>\n",
              "      <td>SP</td>\n",
              "      <td>0.0</td>\n",
              "      <td>0</td>\n",
              "      <td>Porsche</td>\n",
              "      <td>2009.0</td>\n",
              "      <td>0.0</td>\n",
              "      <td>0.0</td>\n",
              "      <td>240000.0</td>\n",
              "      <td>NaN</td>\n",
              "      <td>no_closed</td>\n",
              "      <td>-240000.0</td>\n",
              "    </tr>\n",
              "    <tr>\n",
              "      <th>56559</th>\n",
              "      <td>457509</td>\n",
              "      <td>Auto Equity</td>\n",
              "      <td>2014-07-24</td>\n",
              "      <td>NaN</td>\n",
              "      <td>4/5/1986</td>\n",
              "      <td>19.0</td>\n",
              "      <td>0.0</td>\n",
              "      <td>SP</td>\n",
              "      <td>0.0</td>\n",
              "      <td>0</td>\n",
              "      <td>Fiat</td>\n",
              "      <td>2007.0</td>\n",
              "      <td>0.0</td>\n",
              "      <td>0.0</td>\n",
              "      <td>0.0</td>\n",
              "      <td>NaN</td>\n",
              "      <td>no_closed</td>\n",
              "      <td>0.0</td>\n",
              "    </tr>\n",
              "    <tr>\n",
              "      <th>56589</th>\n",
              "      <td>435967</td>\n",
              "      <td>Auto Equity</td>\n",
              "      <td>2014-07-15</td>\n",
              "      <td>NaN</td>\n",
              "      <td>10/20/1964</td>\n",
              "      <td>19.0</td>\n",
              "      <td>0.0</td>\n",
              "      <td>SP</td>\n",
              "      <td>0.0</td>\n",
              "      <td>0</td>\n",
              "      <td>Ford</td>\n",
              "      <td>2009.0</td>\n",
              "      <td>0.0</td>\n",
              "      <td>0.0</td>\n",
              "      <td>0.0</td>\n",
              "      <td>NaN</td>\n",
              "      <td>no_closed</td>\n",
              "      <td>0.0</td>\n",
              "    </tr>\n",
              "    <tr>\n",
              "      <th>56611</th>\n",
              "      <td>471428</td>\n",
              "      <td>Auto Equity</td>\n",
              "      <td>2014-07-29</td>\n",
              "      <td>NaN</td>\n",
              "      <td>7/2/1962</td>\n",
              "      <td>11.0</td>\n",
              "      <td>0.0</td>\n",
              "      <td>SP</td>\n",
              "      <td>0.0</td>\n",
              "      <td>0</td>\n",
              "      <td>Renault</td>\n",
              "      <td>2010.0</td>\n",
              "      <td>0.0</td>\n",
              "      <td>0.0</td>\n",
              "      <td>0.0</td>\n",
              "      <td>NaN</td>\n",
              "      <td>no_closed</td>\n",
              "      <td>0.0</td>\n",
              "    </tr>\n",
              "  </tbody>\n",
              "</table>\n",
              "<p>2501 rows × 18 columns</p>\n",
              "</div>"
            ],
            "text/plain": [
              "           id specific_type  ... operation_status     index\n",
              "2221   516657   Auto Equity  ...        no_closed   37500.0\n",
              "2222   521301   Auto Equity  ...        no_closed   37500.0\n",
              "2237   508136   Auto Equity  ...        no_closed   35100.0\n",
              "2245   515998   Auto Equity  ...        no_closed   36200.0\n",
              "2256   543255   Auto Equity  ...        no_closed   34000.0\n",
              "...       ...           ...  ...              ...       ...\n",
              "56488  510592   Auto Equity  ...        no_closed   24400.0\n",
              "56536  527920   Auto Equity  ...        no_closed -240000.0\n",
              "56559  457509   Auto Equity  ...        no_closed       0.0\n",
              "56589  435967   Auto Equity  ...        no_closed       0.0\n",
              "56611  471428   Auto Equity  ...        no_closed       0.0\n",
              "\n",
              "[2501 rows x 18 columns]"
            ]
          },
          "metadata": {
            "tags": []
          },
          "execution_count": 231
        }
      ]
    },
    {
      "cell_type": "code",
      "metadata": {
        "colab_type": "code",
        "id": "4zyymY7WXQ6b",
        "colab": {
          "base_uri": "https://localhost:8080/",
          "height": 70
        },
        "outputId": "fe65d8dc-3875-49aa-e92a-e25f939754df"
      },
      "source": [
        "q3_2014['operation_status'].value_counts()"
      ],
      "execution_count": null,
      "outputs": [
        {
          "output_type": "execute_result",
          "data": {
            "text/plain": [
              "no_closed    2443\n",
              "closed         58\n",
              "Name: operation_status, dtype: int64"
            ]
          },
          "metadata": {
            "tags": []
          },
          "execution_count": 232
        }
      ]
    },
    {
      "cell_type": "code",
      "metadata": {
        "colab_type": "code",
        "id": "C8FDD4AzXQ6d",
        "colab": {
          "base_uri": "https://localhost:8080/",
          "height": 35
        },
        "outputId": "81cd2424-a545-4982-cd94-086efdad8a99"
      },
      "source": [
        "q3_2014['operation_status'].isnull().sum()"
      ],
      "execution_count": null,
      "outputs": [
        {
          "output_type": "execute_result",
          "data": {
            "text/plain": [
              "0"
            ]
          },
          "metadata": {
            "tags": []
          },
          "execution_count": 233
        }
      ]
    },
    {
      "cell_type": "code",
      "metadata": {
        "colab_type": "code",
        "id": "9cMDZ4lKXQ6g",
        "colab": {
          "base_uri": "https://localhost:8080/",
          "height": 52
        },
        "outputId": "8986a244-2488-410b-bf19-62d4bdf9c52e"
      },
      "source": [
        "q3_2014['registration_form_closed'].value_counts()"
      ],
      "execution_count": null,
      "outputs": [
        {
          "output_type": "execute_result",
          "data": {
            "text/plain": [
              "0    2501\n",
              "Name: registration_form_closed, dtype: int64"
            ]
          },
          "metadata": {
            "tags": []
          },
          "execution_count": 234
        }
      ]
    },
    {
      "cell_type": "code",
      "metadata": {
        "colab_type": "code",
        "id": "mcQJUMaNXQ6i",
        "colab": {
          "base_uri": "https://localhost:8080/",
          "height": 34
        },
        "outputId": "983d0ca8-4af6-4f8f-a286-e2b6b71542af"
      },
      "source": [
        "q3_2014['auto_debt'].sum()"
      ],
      "execution_count": null,
      "outputs": [
        {
          "output_type": "execute_result",
          "data": {
            "text/plain": [
              "8649610.0"
            ]
          },
          "metadata": {
            "tags": []
          },
          "execution_count": 190
        }
      ]
    },
    {
      "cell_type": "markdown",
      "metadata": {
        "colab_type": "text",
        "id": "UZG1Z71ZXRtn"
      },
      "source": [
        "#Q4 2014"
      ]
    },
    {
      "cell_type": "code",
      "metadata": {
        "colab_type": "code",
        "id": "CJR8V9jzXRto",
        "colab": {
          "base_uri": "https://localhost:8080/",
          "height": 543
        },
        "outputId": "f0255d17-92b4-45c0-e9b6-81c110c26433"
      },
      "source": [
        "q4_2014 = df[(df['created_at'] >= '10-14-2014')&(df['created_at'] < '1-15-2015')]\n",
        "q4_2014"
      ],
      "execution_count": null,
      "outputs": [
        {
          "output_type": "execute_result",
          "data": {
            "text/html": [
              "<div>\n",
              "<style scoped>\n",
              "    .dataframe tbody tr th:only-of-type {\n",
              "        vertical-align: middle;\n",
              "    }\n",
              "\n",
              "    .dataframe tbody tr th {\n",
              "        vertical-align: top;\n",
              "    }\n",
              "\n",
              "    .dataframe thead th {\n",
              "        text-align: right;\n",
              "    }\n",
              "</style>\n",
              "<table border=\"1\" class=\"dataframe\">\n",
              "  <thead>\n",
              "    <tr style=\"text-align: right;\">\n",
              "      <th></th>\n",
              "      <th>id</th>\n",
              "      <th>specific_type</th>\n",
              "      <th>created_at</th>\n",
              "      <th>gender</th>\n",
              "      <th>birth_date</th>\n",
              "      <th>phone_code</th>\n",
              "      <th>monthly_income</th>\n",
              "      <th>state</th>\n",
              "      <th>cpf_restriction</th>\n",
              "      <th>registration_form_closed</th>\n",
              "      <th>brand</th>\n",
              "      <th>model_year</th>\n",
              "      <th>auto_value</th>\n",
              "      <th>auto_debt</th>\n",
              "      <th>loan_amount</th>\n",
              "      <th>declares_income_tax</th>\n",
              "      <th>operation_status</th>\n",
              "      <th>index</th>\n",
              "    </tr>\n",
              "  </thead>\n",
              "  <tbody>\n",
              "    <tr>\n",
              "      <th>2190</th>\n",
              "      <td>603825</td>\n",
              "      <td>Auto Equity</td>\n",
              "      <td>2014-12-30</td>\n",
              "      <td>male</td>\n",
              "      <td>3/10/1950</td>\n",
              "      <td>16.0</td>\n",
              "      <td>3500.0</td>\n",
              "      <td>SP</td>\n",
              "      <td>0.0</td>\n",
              "      <td>0</td>\n",
              "      <td>Mercedes-Benz</td>\n",
              "      <td>1988.0</td>\n",
              "      <td>70000.0</td>\n",
              "      <td>0.0</td>\n",
              "      <td>5000.0</td>\n",
              "      <td>NaN</td>\n",
              "      <td>no_closed</td>\n",
              "      <td>68500.0</td>\n",
              "    </tr>\n",
              "    <tr>\n",
              "      <th>2214</th>\n",
              "      <td>585433</td>\n",
              "      <td>Auto Equity</td>\n",
              "      <td>2014-12-01</td>\n",
              "      <td>female</td>\n",
              "      <td>4/8/1985</td>\n",
              "      <td>11.0</td>\n",
              "      <td>1200.0</td>\n",
              "      <td>SP</td>\n",
              "      <td>1.0</td>\n",
              "      <td>0</td>\n",
              "      <td>VW - VolksWagen</td>\n",
              "      <td>2013.0</td>\n",
              "      <td>45000.0</td>\n",
              "      <td>0.0</td>\n",
              "      <td>5000.0</td>\n",
              "      <td>NaN</td>\n",
              "      <td>no_closed</td>\n",
              "      <td>41200.0</td>\n",
              "    </tr>\n",
              "    <tr>\n",
              "      <th>2215</th>\n",
              "      <td>606033</td>\n",
              "      <td>Auto Equity</td>\n",
              "      <td>2015-01-03</td>\n",
              "      <td>female</td>\n",
              "      <td>5/10/1989</td>\n",
              "      <td>51.0</td>\n",
              "      <td>1200.0</td>\n",
              "      <td>RS</td>\n",
              "      <td>1.0</td>\n",
              "      <td>0</td>\n",
              "      <td>Audi</td>\n",
              "      <td>2014.0</td>\n",
              "      <td>45000.0</td>\n",
              "      <td>0.0</td>\n",
              "      <td>5000.0</td>\n",
              "      <td>NaN</td>\n",
              "      <td>no_closed</td>\n",
              "      <td>41200.0</td>\n",
              "    </tr>\n",
              "    <tr>\n",
              "      <th>2224</th>\n",
              "      <td>600292</td>\n",
              "      <td>Auto Equity</td>\n",
              "      <td>2014-12-23</td>\n",
              "      <td>female</td>\n",
              "      <td>6/21/1965</td>\n",
              "      <td>11.0</td>\n",
              "      <td>2000.0</td>\n",
              "      <td>SP</td>\n",
              "      <td>1.0</td>\n",
              "      <td>0</td>\n",
              "      <td>GM - Chevrolet</td>\n",
              "      <td>2010.0</td>\n",
              "      <td>40000.0</td>\n",
              "      <td>0.0</td>\n",
              "      <td>5000.0</td>\n",
              "      <td>NaN</td>\n",
              "      <td>no_closed</td>\n",
              "      <td>37000.0</td>\n",
              "    </tr>\n",
              "    <tr>\n",
              "      <th>2227</th>\n",
              "      <td>586469</td>\n",
              "      <td>Auto Equity</td>\n",
              "      <td>2014-12-02</td>\n",
              "      <td>male</td>\n",
              "      <td>7/25/1992</td>\n",
              "      <td>21.0</td>\n",
              "      <td>1500.0</td>\n",
              "      <td>RJ</td>\n",
              "      <td>1.0</td>\n",
              "      <td>0</td>\n",
              "      <td>GM - Chevrolet</td>\n",
              "      <td>2014.0</td>\n",
              "      <td>40000.0</td>\n",
              "      <td>0.0</td>\n",
              "      <td>5000.0</td>\n",
              "      <td>NaN</td>\n",
              "      <td>no_closed</td>\n",
              "      <td>36500.0</td>\n",
              "    </tr>\n",
              "    <tr>\n",
              "      <th>...</th>\n",
              "      <td>...</td>\n",
              "      <td>...</td>\n",
              "      <td>...</td>\n",
              "      <td>...</td>\n",
              "      <td>...</td>\n",
              "      <td>...</td>\n",
              "      <td>...</td>\n",
              "      <td>...</td>\n",
              "      <td>...</td>\n",
              "      <td>...</td>\n",
              "      <td>...</td>\n",
              "      <td>...</td>\n",
              "      <td>...</td>\n",
              "      <td>...</td>\n",
              "      <td>...</td>\n",
              "      <td>...</td>\n",
              "      <td>...</td>\n",
              "      <td>...</td>\n",
              "    </tr>\n",
              "    <tr>\n",
              "      <th>56425</th>\n",
              "      <td>550075</td>\n",
              "      <td>Auto Equity</td>\n",
              "      <td>2014-10-16</td>\n",
              "      <td>NaN</td>\n",
              "      <td>5/17/1978</td>\n",
              "      <td>11.0</td>\n",
              "      <td>0.0</td>\n",
              "      <td>SP</td>\n",
              "      <td>0.0</td>\n",
              "      <td>0</td>\n",
              "      <td>Jeep</td>\n",
              "      <td>2011.0</td>\n",
              "      <td>110000.0</td>\n",
              "      <td>0.0</td>\n",
              "      <td>99000.0</td>\n",
              "      <td>NaN</td>\n",
              "      <td>no_closed</td>\n",
              "      <td>11000.0</td>\n",
              "    </tr>\n",
              "    <tr>\n",
              "      <th>56479</th>\n",
              "      <td>579976</td>\n",
              "      <td>Auto Equity</td>\n",
              "      <td>2014-11-24</td>\n",
              "      <td>female</td>\n",
              "      <td>10/25/1971</td>\n",
              "      <td>31.0</td>\n",
              "      <td>25000.0</td>\n",
              "      <td>MG</td>\n",
              "      <td>0.0</td>\n",
              "      <td>0</td>\n",
              "      <td>Mercedes-Benz</td>\n",
              "      <td>2014.0</td>\n",
              "      <td>120000.0</td>\n",
              "      <td>0.0</td>\n",
              "      <td>108000.0</td>\n",
              "      <td>NaN</td>\n",
              "      <td>no_closed</td>\n",
              "      <td>37000.0</td>\n",
              "    </tr>\n",
              "    <tr>\n",
              "      <th>56480</th>\n",
              "      <td>567716</td>\n",
              "      <td>Auto Equity</td>\n",
              "      <td>2014-11-06</td>\n",
              "      <td>male</td>\n",
              "      <td>11/27/1969</td>\n",
              "      <td>22.0</td>\n",
              "      <td>15000.0</td>\n",
              "      <td>RJ</td>\n",
              "      <td>0.0</td>\n",
              "      <td>0</td>\n",
              "      <td>Mercedes-Benz</td>\n",
              "      <td>2011.0</td>\n",
              "      <td>120000.0</td>\n",
              "      <td>30000.0</td>\n",
              "      <td>108000.0</td>\n",
              "      <td>NaN</td>\n",
              "      <td>no_closed</td>\n",
              "      <td>-3000.0</td>\n",
              "    </tr>\n",
              "    <tr>\n",
              "      <th>56489</th>\n",
              "      <td>589513</td>\n",
              "      <td>Auto Equity</td>\n",
              "      <td>2014-12-08</td>\n",
              "      <td>female</td>\n",
              "      <td>2/3/1980</td>\n",
              "      <td>11.0</td>\n",
              "      <td>0.0</td>\n",
              "      <td>SP</td>\n",
              "      <td>0.0</td>\n",
              "      <td>0</td>\n",
              "      <td>Mercedes-Benz</td>\n",
              "      <td>2014.0</td>\n",
              "      <td>125000.0</td>\n",
              "      <td>90000.0</td>\n",
              "      <td>112500.0</td>\n",
              "      <td>NaN</td>\n",
              "      <td>no_closed</td>\n",
              "      <td>-77500.0</td>\n",
              "    </tr>\n",
              "    <tr>\n",
              "      <th>56561</th>\n",
              "      <td>596961</td>\n",
              "      <td>Auto Equity</td>\n",
              "      <td>2014-12-18</td>\n",
              "      <td>male</td>\n",
              "      <td>10/15/1957</td>\n",
              "      <td>61.0</td>\n",
              "      <td>0.0</td>\n",
              "      <td>GO</td>\n",
              "      <td>0.0</td>\n",
              "      <td>0</td>\n",
              "      <td>Fiat</td>\n",
              "      <td>2007.0</td>\n",
              "      <td>0.0</td>\n",
              "      <td>0.0</td>\n",
              "      <td>0.0</td>\n",
              "      <td>NaN</td>\n",
              "      <td>no_closed</td>\n",
              "      <td>0.0</td>\n",
              "    </tr>\n",
              "  </tbody>\n",
              "</table>\n",
              "<p>4055 rows × 18 columns</p>\n",
              "</div>"
            ],
            "text/plain": [
              "           id specific_type  ... operation_status    index\n",
              "2190   603825   Auto Equity  ...        no_closed  68500.0\n",
              "2214   585433   Auto Equity  ...        no_closed  41200.0\n",
              "2215   606033   Auto Equity  ...        no_closed  41200.0\n",
              "2224   600292   Auto Equity  ...        no_closed  37000.0\n",
              "2227   586469   Auto Equity  ...        no_closed  36500.0\n",
              "...       ...           ...  ...              ...      ...\n",
              "56425  550075   Auto Equity  ...        no_closed  11000.0\n",
              "56479  579976   Auto Equity  ...        no_closed  37000.0\n",
              "56480  567716   Auto Equity  ...        no_closed  -3000.0\n",
              "56489  589513   Auto Equity  ...        no_closed -77500.0\n",
              "56561  596961   Auto Equity  ...        no_closed      0.0\n",
              "\n",
              "[4055 rows x 18 columns]"
            ]
          },
          "metadata": {
            "tags": []
          },
          "execution_count": 235
        }
      ]
    },
    {
      "cell_type": "code",
      "metadata": {
        "colab_type": "code",
        "id": "mm4XxaeZXRtr",
        "colab": {
          "base_uri": "https://localhost:8080/",
          "height": 70
        },
        "outputId": "68a2f76c-1677-44e2-998b-fcc2223f1ccc"
      },
      "source": [
        "q4_2014['operation_status'].value_counts()"
      ],
      "execution_count": null,
      "outputs": [
        {
          "output_type": "execute_result",
          "data": {
            "text/plain": [
              "no_closed    4010\n",
              "closed         45\n",
              "Name: operation_status, dtype: int64"
            ]
          },
          "metadata": {
            "tags": []
          },
          "execution_count": 236
        }
      ]
    },
    {
      "cell_type": "code",
      "metadata": {
        "colab_type": "code",
        "id": "asekrRlsXRtu",
        "colab": {
          "base_uri": "https://localhost:8080/",
          "height": 34
        },
        "outputId": "395ecab5-593c-4ccd-e929-85fe8185c8af"
      },
      "source": [
        "q4_2014['operation_status'].isnull().sum()"
      ],
      "execution_count": null,
      "outputs": [
        {
          "output_type": "execute_result",
          "data": {
            "text/plain": [
              "0"
            ]
          },
          "metadata": {
            "tags": []
          },
          "execution_count": 237
        }
      ]
    },
    {
      "cell_type": "code",
      "metadata": {
        "colab_type": "code",
        "id": "jjwixSrjXRtw",
        "colab": {
          "base_uri": "https://localhost:8080/",
          "height": 52
        },
        "outputId": "7076c674-9250-4799-c1c4-e4a307e5f544"
      },
      "source": [
        "q4_2014['registration_form_closed'].value_counts()"
      ],
      "execution_count": null,
      "outputs": [
        {
          "output_type": "execute_result",
          "data": {
            "text/plain": [
              "0    4055\n",
              "Name: registration_form_closed, dtype: int64"
            ]
          },
          "metadata": {
            "tags": []
          },
          "execution_count": 238
        }
      ]
    },
    {
      "cell_type": "code",
      "metadata": {
        "colab_type": "code",
        "id": "flJM7rh2XRty",
        "colab": {
          "base_uri": "https://localhost:8080/",
          "height": 34
        },
        "outputId": "ef0f5c75-cb4c-4c36-a7c7-3202dc8c788b"
      },
      "source": [
        "q4_2014['auto_debt'].sum()"
      ],
      "execution_count": null,
      "outputs": [
        {
          "output_type": "execute_result",
          "data": {
            "text/plain": [
              "12385315.0"
            ]
          },
          "metadata": {
            "tags": []
          },
          "execution_count": 239
        }
      ]
    },
    {
      "cell_type": "markdown",
      "metadata": {
        "colab_type": "text",
        "id": "0noQNCBcbMk9"
      },
      "source": [
        "#Q1 2015"
      ]
    },
    {
      "cell_type": "code",
      "metadata": {
        "colab_type": "code",
        "id": "cMu9jV83bMk-",
        "colab": {
          "base_uri": "https://localhost:8080/",
          "height": 443
        },
        "outputId": "bc4a9b58-67f9-406d-ba6d-0fc1614420d2"
      },
      "source": [
        "q1_2015 = df[(df['created_at'] >= '1-15-2015')&(df['created_at'] < '4-15-2015')]\n",
        "q1_2015"
      ],
      "execution_count": null,
      "outputs": [
        {
          "output_type": "execute_result",
          "data": {
            "text/html": [
              "<div>\n",
              "<style scoped>\n",
              "    .dataframe tbody tr th:only-of-type {\n",
              "        vertical-align: middle;\n",
              "    }\n",
              "\n",
              "    .dataframe tbody tr th {\n",
              "        vertical-align: top;\n",
              "    }\n",
              "\n",
              "    .dataframe thead th {\n",
              "        text-align: right;\n",
              "    }\n",
              "</style>\n",
              "<table border=\"1\" class=\"dataframe\">\n",
              "  <thead>\n",
              "    <tr style=\"text-align: right;\">\n",
              "      <th></th>\n",
              "      <th>id</th>\n",
              "      <th>specific_type</th>\n",
              "      <th>created_at</th>\n",
              "      <th>gender</th>\n",
              "      <th>birth_date</th>\n",
              "      <th>phone_code</th>\n",
              "      <th>monthly_income</th>\n",
              "      <th>state</th>\n",
              "      <th>cpf_restriction</th>\n",
              "      <th>registration_form_closed</th>\n",
              "      <th>brand</th>\n",
              "      <th>model_year</th>\n",
              "      <th>auto_value</th>\n",
              "      <th>auto_debt</th>\n",
              "      <th>loan_amount</th>\n",
              "      <th>declares_income_tax</th>\n",
              "      <th>operation_status</th>\n",
              "      <th>index</th>\n",
              "    </tr>\n",
              "  </thead>\n",
              "  <tbody>\n",
              "    <tr>\n",
              "      <th>2216</th>\n",
              "      <td>659836</td>\n",
              "      <td>Auto Equity</td>\n",
              "      <td>2015-03-12</td>\n",
              "      <td>male</td>\n",
              "      <td>2/5/1991</td>\n",
              "      <td>24.0</td>\n",
              "      <td>2500.0</td>\n",
              "      <td>RJ</td>\n",
              "      <td>1.0</td>\n",
              "      <td>0</td>\n",
              "      <td>VW - VolksWagen</td>\n",
              "      <td>2014.0</td>\n",
              "      <td>45000.0</td>\n",
              "      <td>0.0</td>\n",
              "      <td>5000.0</td>\n",
              "      <td>NaN</td>\n",
              "      <td>no_closed</td>\n",
              "      <td>42500.0</td>\n",
              "    </tr>\n",
              "    <tr>\n",
              "      <th>2223</th>\n",
              "      <td>631566</td>\n",
              "      <td>Auto Equity</td>\n",
              "      <td>2015-02-04</td>\n",
              "      <td>female</td>\n",
              "      <td>3/17/1971</td>\n",
              "      <td>21.0</td>\n",
              "      <td>8000.0</td>\n",
              "      <td>RJ</td>\n",
              "      <td>1.0</td>\n",
              "      <td>0</td>\n",
              "      <td>Peugeot</td>\n",
              "      <td>2009.0</td>\n",
              "      <td>40000.0</td>\n",
              "      <td>0.0</td>\n",
              "      <td>5000.0</td>\n",
              "      <td>NaN</td>\n",
              "      <td>no_closed</td>\n",
              "      <td>43000.0</td>\n",
              "    </tr>\n",
              "    <tr>\n",
              "      <th>2226</th>\n",
              "      <td>651851</td>\n",
              "      <td>Auto Equity</td>\n",
              "      <td>2015-03-03</td>\n",
              "      <td>male</td>\n",
              "      <td>3/23/1993</td>\n",
              "      <td>16.0</td>\n",
              "      <td>4000.0</td>\n",
              "      <td>SP</td>\n",
              "      <td>1.0</td>\n",
              "      <td>0</td>\n",
              "      <td>Citroën</td>\n",
              "      <td>2014.0</td>\n",
              "      <td>40000.0</td>\n",
              "      <td>0.0</td>\n",
              "      <td>5000.0</td>\n",
              "      <td>NaN</td>\n",
              "      <td>no_closed</td>\n",
              "      <td>39000.0</td>\n",
              "    </tr>\n",
              "    <tr>\n",
              "      <th>2233</th>\n",
              "      <td>720358</td>\n",
              "      <td>Auto Equity</td>\n",
              "      <td>2015-04-11</td>\n",
              "      <td>male</td>\n",
              "      <td>4/6/1974</td>\n",
              "      <td>41.0</td>\n",
              "      <td>2000.0</td>\n",
              "      <td>PR</td>\n",
              "      <td>1.0</td>\n",
              "      <td>0</td>\n",
              "      <td>Kia Motors</td>\n",
              "      <td>2010.0</td>\n",
              "      <td>38000.0</td>\n",
              "      <td>0.0</td>\n",
              "      <td>5000.0</td>\n",
              "      <td>NaN</td>\n",
              "      <td>no_closed</td>\n",
              "      <td>35000.0</td>\n",
              "    </tr>\n",
              "    <tr>\n",
              "      <th>2235</th>\n",
              "      <td>696644</td>\n",
              "      <td>Auto Equity</td>\n",
              "      <td>2015-03-27</td>\n",
              "      <td>male</td>\n",
              "      <td>1/11/1967</td>\n",
              "      <td>71.0</td>\n",
              "      <td>5000.0</td>\n",
              "      <td>BA</td>\n",
              "      <td>1.0</td>\n",
              "      <td>0</td>\n",
              "      <td>Fiat</td>\n",
              "      <td>2013.0</td>\n",
              "      <td>38000.0</td>\n",
              "      <td>0.0</td>\n",
              "      <td>5000.0</td>\n",
              "      <td>NaN</td>\n",
              "      <td>no_closed</td>\n",
              "      <td>38000.0</td>\n",
              "    </tr>\n",
              "    <tr>\n",
              "      <th>...</th>\n",
              "      <td>...</td>\n",
              "      <td>...</td>\n",
              "      <td>...</td>\n",
              "      <td>...</td>\n",
              "      <td>...</td>\n",
              "      <td>...</td>\n",
              "      <td>...</td>\n",
              "      <td>...</td>\n",
              "      <td>...</td>\n",
              "      <td>...</td>\n",
              "      <td>...</td>\n",
              "      <td>...</td>\n",
              "      <td>...</td>\n",
              "      <td>...</td>\n",
              "      <td>...</td>\n",
              "      <td>...</td>\n",
              "      <td>...</td>\n",
              "      <td>...</td>\n",
              "    </tr>\n",
              "    <tr>\n",
              "      <th>57094</th>\n",
              "      <td>643642</td>\n",
              "      <td>Auto Equity</td>\n",
              "      <td>2015-02-20</td>\n",
              "      <td>NaN</td>\n",
              "      <td>7/20/1988</td>\n",
              "      <td>85.0</td>\n",
              "      <td>0.0</td>\n",
              "      <td>SP</td>\n",
              "      <td>1.0</td>\n",
              "      <td>0</td>\n",
              "      <td>NaN</td>\n",
              "      <td>NaN</td>\n",
              "      <td>0.0</td>\n",
              "      <td>0.0</td>\n",
              "      <td>20000.0</td>\n",
              "      <td>NaN</td>\n",
              "      <td>no_closed</td>\n",
              "      <td>-20000.0</td>\n",
              "    </tr>\n",
              "    <tr>\n",
              "      <th>57176</th>\n",
              "      <td>637252</td>\n",
              "      <td>Auto Equity</td>\n",
              "      <td>2015-02-11</td>\n",
              "      <td>NaN</td>\n",
              "      <td>11/13/1949</td>\n",
              "      <td>19.0</td>\n",
              "      <td>0.0</td>\n",
              "      <td>SP</td>\n",
              "      <td>1.0</td>\n",
              "      <td>0</td>\n",
              "      <td>NaN</td>\n",
              "      <td>NaN</td>\n",
              "      <td>0.0</td>\n",
              "      <td>0.0</td>\n",
              "      <td>0.0</td>\n",
              "      <td>NaN</td>\n",
              "      <td>no_closed</td>\n",
              "      <td>0.0</td>\n",
              "    </tr>\n",
              "    <tr>\n",
              "      <th>57177</th>\n",
              "      <td>637329</td>\n",
              "      <td>Auto Equity</td>\n",
              "      <td>2015-02-11</td>\n",
              "      <td>NaN</td>\n",
              "      <td>5/27/1989</td>\n",
              "      <td>31.0</td>\n",
              "      <td>0.0</td>\n",
              "      <td>SP</td>\n",
              "      <td>1.0</td>\n",
              "      <td>0</td>\n",
              "      <td>NaN</td>\n",
              "      <td>NaN</td>\n",
              "      <td>0.0</td>\n",
              "      <td>0.0</td>\n",
              "      <td>0.0</td>\n",
              "      <td>NaN</td>\n",
              "      <td>no_closed</td>\n",
              "      <td>0.0</td>\n",
              "    </tr>\n",
              "    <tr>\n",
              "      <th>57178</th>\n",
              "      <td>637370</td>\n",
              "      <td>Auto Equity</td>\n",
              "      <td>2015-02-11</td>\n",
              "      <td>NaN</td>\n",
              "      <td>5/26/1952</td>\n",
              "      <td>41.0</td>\n",
              "      <td>0.0</td>\n",
              "      <td>PE</td>\n",
              "      <td>1.0</td>\n",
              "      <td>0</td>\n",
              "      <td>NaN</td>\n",
              "      <td>NaN</td>\n",
              "      <td>0.0</td>\n",
              "      <td>0.0</td>\n",
              "      <td>0.0</td>\n",
              "      <td>NaN</td>\n",
              "      <td>no_closed</td>\n",
              "      <td>0.0</td>\n",
              "    </tr>\n",
              "    <tr>\n",
              "      <th>57179</th>\n",
              "      <td>637375</td>\n",
              "      <td>Auto Equity</td>\n",
              "      <td>2015-02-11</td>\n",
              "      <td>NaN</td>\n",
              "      <td>11/22/1983</td>\n",
              "      <td>41.0</td>\n",
              "      <td>0.0</td>\n",
              "      <td>SP</td>\n",
              "      <td>1.0</td>\n",
              "      <td>0</td>\n",
              "      <td>NaN</td>\n",
              "      <td>NaN</td>\n",
              "      <td>0.0</td>\n",
              "      <td>0.0</td>\n",
              "      <td>0.0</td>\n",
              "      <td>NaN</td>\n",
              "      <td>no_closed</td>\n",
              "      <td>0.0</td>\n",
              "    </tr>\n",
              "  </tbody>\n",
              "</table>\n",
              "<p>5942 rows × 18 columns</p>\n",
              "</div>"
            ],
            "text/plain": [
              "           id specific_type  ... operation_status    index\n",
              "2216   659836   Auto Equity  ...        no_closed  42500.0\n",
              "2223   631566   Auto Equity  ...        no_closed  43000.0\n",
              "2226   651851   Auto Equity  ...        no_closed  39000.0\n",
              "2233   720358   Auto Equity  ...        no_closed  35000.0\n",
              "2235   696644   Auto Equity  ...        no_closed  38000.0\n",
              "...       ...           ...  ...              ...      ...\n",
              "57094  643642   Auto Equity  ...        no_closed -20000.0\n",
              "57176  637252   Auto Equity  ...        no_closed      0.0\n",
              "57177  637329   Auto Equity  ...        no_closed      0.0\n",
              "57178  637370   Auto Equity  ...        no_closed      0.0\n",
              "57179  637375   Auto Equity  ...        no_closed      0.0\n",
              "\n",
              "[5942 rows x 18 columns]"
            ]
          },
          "metadata": {
            "tags": []
          },
          "execution_count": 240
        }
      ]
    },
    {
      "cell_type": "code",
      "metadata": {
        "colab_type": "code",
        "id": "DPBUhUg9bMlC",
        "colab": {
          "base_uri": "https://localhost:8080/",
          "height": 70
        },
        "outputId": "976565c3-2acb-49d9-cd19-b28da6f29d92"
      },
      "source": [
        "q1_2015['operation_status'].value_counts()"
      ],
      "execution_count": null,
      "outputs": [
        {
          "output_type": "execute_result",
          "data": {
            "text/plain": [
              "no_closed    5863\n",
              "closed         79\n",
              "Name: operation_status, dtype: int64"
            ]
          },
          "metadata": {
            "tags": []
          },
          "execution_count": 241
        }
      ]
    },
    {
      "cell_type": "code",
      "metadata": {
        "colab_type": "code",
        "id": "CloXJKK8bMlH",
        "colab": {
          "base_uri": "https://localhost:8080/",
          "height": 34
        },
        "outputId": "9d882946-2b23-4637-aea3-a836e59f6376"
      },
      "source": [
        "q1_2015['operation_status'].isnull().sum()"
      ],
      "execution_count": null,
      "outputs": [
        {
          "output_type": "execute_result",
          "data": {
            "text/plain": [
              "0"
            ]
          },
          "metadata": {
            "tags": []
          },
          "execution_count": 242
        }
      ]
    },
    {
      "cell_type": "code",
      "metadata": {
        "colab_type": "code",
        "id": "KwkM2mqvbMlJ",
        "colab": {
          "base_uri": "https://localhost:8080/",
          "height": 52
        },
        "outputId": "8a0ec574-c4fe-4389-beda-dbe03d4418b8"
      },
      "source": [
        "q1_2015['registration_form_closed'].value_counts()"
      ],
      "execution_count": null,
      "outputs": [
        {
          "output_type": "execute_result",
          "data": {
            "text/plain": [
              "0    5942\n",
              "Name: registration_form_closed, dtype: int64"
            ]
          },
          "metadata": {
            "tags": []
          },
          "execution_count": 243
        }
      ]
    },
    {
      "cell_type": "code",
      "metadata": {
        "colab_type": "code",
        "id": "Z8kqF6FYbMlL",
        "colab": {
          "base_uri": "https://localhost:8080/",
          "height": 34
        },
        "outputId": "090040f3-0734-4569-9fd5-61ab742cdaf7"
      },
      "source": [
        "q1_2015['auto_debt'].sum()"
      ],
      "execution_count": null,
      "outputs": [
        {
          "output_type": "execute_result",
          "data": {
            "text/plain": [
              "15975250.0"
            ]
          },
          "metadata": {
            "tags": []
          },
          "execution_count": 188
        }
      ]
    },
    {
      "cell_type": "markdown",
      "metadata": {
        "colab_type": "text",
        "id": "wRDn2u4Xb_qr"
      },
      "source": [
        "#Q2 2015"
      ]
    },
    {
      "cell_type": "code",
      "metadata": {
        "colab_type": "code",
        "id": "PqaXnqAJb_qt",
        "colab": {
          "base_uri": "https://localhost:8080/",
          "height": 426
        },
        "outputId": "78f986d3-77e7-49f1-e0fb-3cabcb334d36"
      },
      "source": [
        "q2_2015 = df[(df['created_at'] >= '4-15-2015')&(df['created_at'] < '7-15-2015')]\n",
        "q2_2015"
      ],
      "execution_count": null,
      "outputs": [
        {
          "output_type": "execute_result",
          "data": {
            "text/html": [
              "<div>\n",
              "<style scoped>\n",
              "    .dataframe tbody tr th:only-of-type {\n",
              "        vertical-align: middle;\n",
              "    }\n",
              "\n",
              "    .dataframe tbody tr th {\n",
              "        vertical-align: top;\n",
              "    }\n",
              "\n",
              "    .dataframe thead th {\n",
              "        text-align: right;\n",
              "    }\n",
              "</style>\n",
              "<table border=\"1\" class=\"dataframe\">\n",
              "  <thead>\n",
              "    <tr style=\"text-align: right;\">\n",
              "      <th></th>\n",
              "      <th>id</th>\n",
              "      <th>specific_type</th>\n",
              "      <th>created_at</th>\n",
              "      <th>gender</th>\n",
              "      <th>birth_date</th>\n",
              "      <th>phone_code</th>\n",
              "      <th>monthly_income</th>\n",
              "      <th>state</th>\n",
              "      <th>cpf_restriction</th>\n",
              "      <th>registration_form_closed</th>\n",
              "      <th>brand</th>\n",
              "      <th>model_year</th>\n",
              "      <th>auto_value</th>\n",
              "      <th>auto_debt</th>\n",
              "      <th>loan_amount</th>\n",
              "      <th>declares_income_tax</th>\n",
              "      <th>operation_status</th>\n",
              "      <th>index</th>\n",
              "    </tr>\n",
              "  </thead>\n",
              "  <tbody>\n",
              "    <tr>\n",
              "      <th>2173</th>\n",
              "      <td>780948</td>\n",
              "      <td>Auto Equity</td>\n",
              "      <td>2015-05-17</td>\n",
              "      <td>male</td>\n",
              "      <td>7/19/1989</td>\n",
              "      <td>21.0</td>\n",
              "      <td>1200.0</td>\n",
              "      <td>RJ</td>\n",
              "      <td>1.0</td>\n",
              "      <td>0</td>\n",
              "      <td>fiat</td>\n",
              "      <td>1998.0</td>\n",
              "      <td>9000.0</td>\n",
              "      <td>2337.0</td>\n",
              "      <td>2500.0</td>\n",
              "      <td>0.0</td>\n",
              "      <td>no_closed</td>\n",
              "      <td>5363.0</td>\n",
              "    </tr>\n",
              "    <tr>\n",
              "      <th>2176</th>\n",
              "      <td>824908</td>\n",
              "      <td>Auto Equity</td>\n",
              "      <td>2015-07-13</td>\n",
              "      <td>male</td>\n",
              "      <td>11/16/1993</td>\n",
              "      <td>47.0</td>\n",
              "      <td>1800.0</td>\n",
              "      <td>SC</td>\n",
              "      <td>1.0</td>\n",
              "      <td>0</td>\n",
              "      <td>fam</td>\n",
              "      <td>2012.0</td>\n",
              "      <td>4000.0</td>\n",
              "      <td>700.0</td>\n",
              "      <td>3000.0</td>\n",
              "      <td>0.0</td>\n",
              "      <td>no_closed</td>\n",
              "      <td>2100.0</td>\n",
              "    </tr>\n",
              "    <tr>\n",
              "      <th>2201</th>\n",
              "      <td>757103</td>\n",
              "      <td>Auto Equity</td>\n",
              "      <td>2015-04-27</td>\n",
              "      <td>female</td>\n",
              "      <td>4/29/1977</td>\n",
              "      <td>51.0</td>\n",
              "      <td>0.0</td>\n",
              "      <td>RS</td>\n",
              "      <td>1.0</td>\n",
              "      <td>0</td>\n",
              "      <td>Hyundai</td>\n",
              "      <td>2010.0</td>\n",
              "      <td>50000.0</td>\n",
              "      <td>0.0</td>\n",
              "      <td>5000.0</td>\n",
              "      <td>NaN</td>\n",
              "      <td>no_closed</td>\n",
              "      <td>45000.0</td>\n",
              "    </tr>\n",
              "    <tr>\n",
              "      <th>2218</th>\n",
              "      <td>785513</td>\n",
              "      <td>Auto Equity</td>\n",
              "      <td>2015-05-22</td>\n",
              "      <td>male</td>\n",
              "      <td>11/6/1971</td>\n",
              "      <td>85.0</td>\n",
              "      <td>3200.0</td>\n",
              "      <td>CE</td>\n",
              "      <td>0.0</td>\n",
              "      <td>0</td>\n",
              "      <td>Volvo</td>\n",
              "      <td>1998.0</td>\n",
              "      <td>40000.0</td>\n",
              "      <td>0.0</td>\n",
              "      <td>5000.0</td>\n",
              "      <td>NaN</td>\n",
              "      <td>no_closed</td>\n",
              "      <td>38200.0</td>\n",
              "    </tr>\n",
              "    <tr>\n",
              "      <th>2225</th>\n",
              "      <td>800296</td>\n",
              "      <td>Auto Equity</td>\n",
              "      <td>2015-06-09</td>\n",
              "      <td>female</td>\n",
              "      <td>7/6/1925</td>\n",
              "      <td>71.0</td>\n",
              "      <td>4500.0</td>\n",
              "      <td>BA</td>\n",
              "      <td>1.0</td>\n",
              "      <td>0</td>\n",
              "      <td>Peugeot</td>\n",
              "      <td>2013.0</td>\n",
              "      <td>40000.0</td>\n",
              "      <td>0.0</td>\n",
              "      <td>5000.0</td>\n",
              "      <td>NaN</td>\n",
              "      <td>no_closed</td>\n",
              "      <td>39500.0</td>\n",
              "    </tr>\n",
              "    <tr>\n",
              "      <th>...</th>\n",
              "      <td>...</td>\n",
              "      <td>...</td>\n",
              "      <td>...</td>\n",
              "      <td>...</td>\n",
              "      <td>...</td>\n",
              "      <td>...</td>\n",
              "      <td>...</td>\n",
              "      <td>...</td>\n",
              "      <td>...</td>\n",
              "      <td>...</td>\n",
              "      <td>...</td>\n",
              "      <td>...</td>\n",
              "      <td>...</td>\n",
              "      <td>...</td>\n",
              "      <td>...</td>\n",
              "      <td>...</td>\n",
              "      <td>...</td>\n",
              "      <td>...</td>\n",
              "    </tr>\n",
              "    <tr>\n",
              "      <th>56537</th>\n",
              "      <td>826371</td>\n",
              "      <td>Auto Equity</td>\n",
              "      <td>2015-07-14</td>\n",
              "      <td>male</td>\n",
              "      <td>8/2/1987</td>\n",
              "      <td>11.0</td>\n",
              "      <td>15000.0</td>\n",
              "      <td>SP</td>\n",
              "      <td>0.0</td>\n",
              "      <td>0</td>\n",
              "      <td>Uno</td>\n",
              "      <td>2015.0</td>\n",
              "      <td>25000.0</td>\n",
              "      <td>20000.0</td>\n",
              "      <td>250000.0</td>\n",
              "      <td>0.0</td>\n",
              "      <td>no_closed</td>\n",
              "      <td>-230000.0</td>\n",
              "    </tr>\n",
              "    <tr>\n",
              "      <th>56539</th>\n",
              "      <td>825677</td>\n",
              "      <td>Auto Equity</td>\n",
              "      <td>2015-07-14</td>\n",
              "      <td>male</td>\n",
              "      <td>10/16/1985</td>\n",
              "      <td>33.0</td>\n",
              "      <td>0.0</td>\n",
              "      <td>MG</td>\n",
              "      <td>0.0</td>\n",
              "      <td>0</td>\n",
              "      <td>Volvo</td>\n",
              "      <td>2013.0</td>\n",
              "      <td>300000.0</td>\n",
              "      <td>2000.0</td>\n",
              "      <td>270000.0</td>\n",
              "      <td>NaN</td>\n",
              "      <td>no_closed</td>\n",
              "      <td>28000.0</td>\n",
              "    </tr>\n",
              "    <tr>\n",
              "      <th>56542</th>\n",
              "      <td>775431</td>\n",
              "      <td>Auto Equity</td>\n",
              "      <td>2015-05-11</td>\n",
              "      <td>NaN</td>\n",
              "      <td>7/2/1969</td>\n",
              "      <td>21.0</td>\n",
              "      <td>0.0</td>\n",
              "      <td>RJ</td>\n",
              "      <td>0.0</td>\n",
              "      <td>0</td>\n",
              "      <td>Volvo</td>\n",
              "      <td>2010.0</td>\n",
              "      <td>0.0</td>\n",
              "      <td>0.0</td>\n",
              "      <td>405000.0</td>\n",
              "      <td>NaN</td>\n",
              "      <td>no_closed</td>\n",
              "      <td>-405000.0</td>\n",
              "    </tr>\n",
              "    <tr>\n",
              "      <th>56543</th>\n",
              "      <td>816813</td>\n",
              "      <td>Auto Equity</td>\n",
              "      <td>2015-06-30</td>\n",
              "      <td>female</td>\n",
              "      <td>5/18/1984</td>\n",
              "      <td>65.0</td>\n",
              "      <td>0.0</td>\n",
              "      <td>MT</td>\n",
              "      <td>0.0</td>\n",
              "      <td>0</td>\n",
              "      <td>Porsche</td>\n",
              "      <td>2014.0</td>\n",
              "      <td>0.0</td>\n",
              "      <td>100000.0</td>\n",
              "      <td>450000.0</td>\n",
              "      <td>NaN</td>\n",
              "      <td>no_closed</td>\n",
              "      <td>-550000.0</td>\n",
              "    </tr>\n",
              "    <tr>\n",
              "      <th>56551</th>\n",
              "      <td>802001</td>\n",
              "      <td>Auto Equity</td>\n",
              "      <td>2015-06-10</td>\n",
              "      <td>male</td>\n",
              "      <td>10/3/1996</td>\n",
              "      <td>18.0</td>\n",
              "      <td>0.0</td>\n",
              "      <td>SP</td>\n",
              "      <td>0.0</td>\n",
              "      <td>0</td>\n",
              "      <td>Ferrari</td>\n",
              "      <td>2013.0</td>\n",
              "      <td>0.0</td>\n",
              "      <td>0.0</td>\n",
              "      <td>0.0</td>\n",
              "      <td>NaN</td>\n",
              "      <td>no_closed</td>\n",
              "      <td>0.0</td>\n",
              "    </tr>\n",
              "  </tbody>\n",
              "</table>\n",
              "<p>6948 rows × 18 columns</p>\n",
              "</div>"
            ],
            "text/plain": [
              "           id specific_type  ... operation_status     index\n",
              "2173   780948   Auto Equity  ...        no_closed    5363.0\n",
              "2176   824908   Auto Equity  ...        no_closed    2100.0\n",
              "2201   757103   Auto Equity  ...        no_closed   45000.0\n",
              "2218   785513   Auto Equity  ...        no_closed   38200.0\n",
              "2225   800296   Auto Equity  ...        no_closed   39500.0\n",
              "...       ...           ...  ...              ...       ...\n",
              "56537  826371   Auto Equity  ...        no_closed -230000.0\n",
              "56539  825677   Auto Equity  ...        no_closed   28000.0\n",
              "56542  775431   Auto Equity  ...        no_closed -405000.0\n",
              "56543  816813   Auto Equity  ...        no_closed -550000.0\n",
              "56551  802001   Auto Equity  ...        no_closed       0.0\n",
              "\n",
              "[6948 rows x 18 columns]"
            ]
          },
          "metadata": {
            "tags": []
          },
          "execution_count": 244
        }
      ]
    },
    {
      "cell_type": "code",
      "metadata": {
        "colab_type": "code",
        "id": "90qGgMsWb_q0",
        "colab": {
          "base_uri": "https://localhost:8080/",
          "height": 70
        },
        "outputId": "50357cb0-2067-4326-8748-faf9673b5a32"
      },
      "source": [
        "q2_2015['operation_status'].value_counts()"
      ],
      "execution_count": null,
      "outputs": [
        {
          "output_type": "execute_result",
          "data": {
            "text/plain": [
              "no_closed    6839\n",
              "closed        109\n",
              "Name: operation_status, dtype: int64"
            ]
          },
          "metadata": {
            "tags": []
          },
          "execution_count": 245
        }
      ]
    },
    {
      "cell_type": "code",
      "metadata": {
        "colab_type": "code",
        "id": "OJZxJ4mSb_q5",
        "colab": {
          "base_uri": "https://localhost:8080/",
          "height": 34
        },
        "outputId": "66e5a4f7-c059-4fd2-b52b-c990749508b6"
      },
      "source": [
        "q2_2015['operation_status'].isnull().sum()"
      ],
      "execution_count": null,
      "outputs": [
        {
          "output_type": "execute_result",
          "data": {
            "text/plain": [
              "0"
            ]
          },
          "metadata": {
            "tags": []
          },
          "execution_count": 246
        }
      ]
    },
    {
      "cell_type": "code",
      "metadata": {
        "colab_type": "code",
        "id": "60-21PFsb_q_",
        "colab": {
          "base_uri": "https://localhost:8080/",
          "height": 70
        },
        "outputId": "6be750f1-bd85-485d-cade-27a73a6dfae0"
      },
      "source": [
        "q2_2015['registration_form_closed'].value_counts()"
      ],
      "execution_count": null,
      "outputs": [
        {
          "output_type": "execute_result",
          "data": {
            "text/plain": [
              "0    6947\n",
              "1       1\n",
              "Name: registration_form_closed, dtype: int64"
            ]
          },
          "metadata": {
            "tags": []
          },
          "execution_count": 247
        }
      ]
    },
    {
      "cell_type": "code",
      "metadata": {
        "colab_type": "code",
        "id": "diVqE4Gib_rF",
        "colab": {
          "base_uri": "https://localhost:8080/",
          "height": 34
        },
        "outputId": "e0bc236e-a5a3-4c10-f96a-9f1b32d28c44"
      },
      "source": [
        "q2_2015['auto_debt'].sum()"
      ],
      "execution_count": null,
      "outputs": [
        {
          "output_type": "execute_result",
          "data": {
            "text/plain": [
              "22731166.0"
            ]
          },
          "metadata": {
            "tags": []
          },
          "execution_count": 263
        }
      ]
    },
    {
      "cell_type": "markdown",
      "metadata": {
        "colab_type": "text",
        "id": "FuNp2fDecCXf"
      },
      "source": [
        "#Q3 2015"
      ]
    },
    {
      "cell_type": "code",
      "metadata": {
        "colab_type": "code",
        "id": "FZ8QXO7vcCXh",
        "colab": {
          "base_uri": "https://localhost:8080/",
          "height": 460
        },
        "outputId": "6877131c-a196-46f1-ffe9-8b836aa4145b"
      },
      "source": [
        "q3_2015 = df[(df['created_at'] >= '7-15-2015')&(df['created_at'] < '10-15-2015')]\n",
        "q3_2015"
      ],
      "execution_count": null,
      "outputs": [
        {
          "output_type": "execute_result",
          "data": {
            "text/html": [
              "<div>\n",
              "<style scoped>\n",
              "    .dataframe tbody tr th:only-of-type {\n",
              "        vertical-align: middle;\n",
              "    }\n",
              "\n",
              "    .dataframe tbody tr th {\n",
              "        vertical-align: top;\n",
              "    }\n",
              "\n",
              "    .dataframe thead th {\n",
              "        text-align: right;\n",
              "    }\n",
              "</style>\n",
              "<table border=\"1\" class=\"dataframe\">\n",
              "  <thead>\n",
              "    <tr style=\"text-align: right;\">\n",
              "      <th></th>\n",
              "      <th>id</th>\n",
              "      <th>specific_type</th>\n",
              "      <th>created_at</th>\n",
              "      <th>gender</th>\n",
              "      <th>birth_date</th>\n",
              "      <th>phone_code</th>\n",
              "      <th>monthly_income</th>\n",
              "      <th>state</th>\n",
              "      <th>cpf_restriction</th>\n",
              "      <th>registration_form_closed</th>\n",
              "      <th>brand</th>\n",
              "      <th>model_year</th>\n",
              "      <th>auto_value</th>\n",
              "      <th>auto_debt</th>\n",
              "      <th>loan_amount</th>\n",
              "      <th>declares_income_tax</th>\n",
              "      <th>operation_status</th>\n",
              "      <th>index</th>\n",
              "    </tr>\n",
              "  </thead>\n",
              "  <tbody>\n",
              "    <tr>\n",
              "      <th>2194</th>\n",
              "      <td>844045</td>\n",
              "      <td>Auto Equity</td>\n",
              "      <td>2015-08-09</td>\n",
              "      <td>male</td>\n",
              "      <td>7/10/1959</td>\n",
              "      <td>43.0</td>\n",
              "      <td>2500.0</td>\n",
              "      <td>PR</td>\n",
              "      <td>0.0</td>\n",
              "      <td>1</td>\n",
              "      <td>VW - VolksWagen</td>\n",
              "      <td>2003.0</td>\n",
              "      <td>60000.0</td>\n",
              "      <td>0.0</td>\n",
              "      <td>5000.0</td>\n",
              "      <td>NaN</td>\n",
              "      <td>no_closed</td>\n",
              "      <td>57500.0</td>\n",
              "    </tr>\n",
              "    <tr>\n",
              "      <th>2196</th>\n",
              "      <td>898284</td>\n",
              "      <td>Auto Equity</td>\n",
              "      <td>2015-10-13</td>\n",
              "      <td>female</td>\n",
              "      <td>10/12/1976</td>\n",
              "      <td>11.0</td>\n",
              "      <td>10000.0</td>\n",
              "      <td>SP</td>\n",
              "      <td>1.0</td>\n",
              "      <td>0</td>\n",
              "      <td>Hyundai</td>\n",
              "      <td>2012.0</td>\n",
              "      <td>54000.0</td>\n",
              "      <td>0.0</td>\n",
              "      <td>5000.0</td>\n",
              "      <td>NaN</td>\n",
              "      <td>no_closed</td>\n",
              "      <td>59000.0</td>\n",
              "    </tr>\n",
              "    <tr>\n",
              "      <th>2205</th>\n",
              "      <td>829314</td>\n",
              "      <td>Auto Equity</td>\n",
              "      <td>2015-07-18</td>\n",
              "      <td>female</td>\n",
              "      <td>4/11/1977</td>\n",
              "      <td>62.0</td>\n",
              "      <td>2200.0</td>\n",
              "      <td>GO</td>\n",
              "      <td>1.0</td>\n",
              "      <td>0</td>\n",
              "      <td>Fiat</td>\n",
              "      <td>2014.0</td>\n",
              "      <td>48000.0</td>\n",
              "      <td>0.0</td>\n",
              "      <td>5000.0</td>\n",
              "      <td>NaN</td>\n",
              "      <td>no_closed</td>\n",
              "      <td>45200.0</td>\n",
              "    </tr>\n",
              "    <tr>\n",
              "      <th>2207</th>\n",
              "      <td>860825</td>\n",
              "      <td>Auto Equity</td>\n",
              "      <td>2015-08-29</td>\n",
              "      <td>male</td>\n",
              "      <td>12/29/1991</td>\n",
              "      <td>21.0</td>\n",
              "      <td>1800.0</td>\n",
              "      <td>RJ</td>\n",
              "      <td>1.0</td>\n",
              "      <td>0</td>\n",
              "      <td>Ferrari</td>\n",
              "      <td>2010.0</td>\n",
              "      <td>46000.0</td>\n",
              "      <td>0.0</td>\n",
              "      <td>5000.0</td>\n",
              "      <td>NaN</td>\n",
              "      <td>no_closed</td>\n",
              "      <td>42800.0</td>\n",
              "    </tr>\n",
              "    <tr>\n",
              "      <th>2220</th>\n",
              "      <td>894193</td>\n",
              "      <td>Auto Equity</td>\n",
              "      <td>2015-10-07</td>\n",
              "      <td>female</td>\n",
              "      <td>9/25/1954</td>\n",
              "      <td>11.0</td>\n",
              "      <td>2180.0</td>\n",
              "      <td>SP</td>\n",
              "      <td>1.0</td>\n",
              "      <td>0</td>\n",
              "      <td>Ford</td>\n",
              "      <td>2008.0</td>\n",
              "      <td>40000.0</td>\n",
              "      <td>0.0</td>\n",
              "      <td>5000.0</td>\n",
              "      <td>NaN</td>\n",
              "      <td>no_closed</td>\n",
              "      <td>37180.0</td>\n",
              "    </tr>\n",
              "    <tr>\n",
              "      <th>...</th>\n",
              "      <td>...</td>\n",
              "      <td>...</td>\n",
              "      <td>...</td>\n",
              "      <td>...</td>\n",
              "      <td>...</td>\n",
              "      <td>...</td>\n",
              "      <td>...</td>\n",
              "      <td>...</td>\n",
              "      <td>...</td>\n",
              "      <td>...</td>\n",
              "      <td>...</td>\n",
              "      <td>...</td>\n",
              "      <td>...</td>\n",
              "      <td>...</td>\n",
              "      <td>...</td>\n",
              "      <td>...</td>\n",
              "      <td>...</td>\n",
              "      <td>...</td>\n",
              "    </tr>\n",
              "    <tr>\n",
              "      <th>56510</th>\n",
              "      <td>888058</td>\n",
              "      <td>Auto Equity</td>\n",
              "      <td>2015-09-30</td>\n",
              "      <td>male</td>\n",
              "      <td>11/3/1979</td>\n",
              "      <td>71.0</td>\n",
              "      <td>25000.0</td>\n",
              "      <td>BA</td>\n",
              "      <td>0.0</td>\n",
              "      <td>1</td>\n",
              "      <td>VW - VolksWagen</td>\n",
              "      <td>2011.0</td>\n",
              "      <td>150000.0</td>\n",
              "      <td>0.0</td>\n",
              "      <td>135000.0</td>\n",
              "      <td>NaN</td>\n",
              "      <td>no_closed</td>\n",
              "      <td>40000.0</td>\n",
              "    </tr>\n",
              "    <tr>\n",
              "      <th>56514</th>\n",
              "      <td>836145</td>\n",
              "      <td>Auto Equity</td>\n",
              "      <td>2015-07-28</td>\n",
              "      <td>male</td>\n",
              "      <td>12/6/1959</td>\n",
              "      <td>11.0</td>\n",
              "      <td>0.0</td>\n",
              "      <td>SP</td>\n",
              "      <td>0.0</td>\n",
              "      <td>0</td>\n",
              "      <td>Mitsubishi</td>\n",
              "      <td>2014.0</td>\n",
              "      <td>158000.0</td>\n",
              "      <td>0.0</td>\n",
              "      <td>142200.0</td>\n",
              "      <td>NaN</td>\n",
              "      <td>closed</td>\n",
              "      <td>15800.0</td>\n",
              "    </tr>\n",
              "    <tr>\n",
              "      <th>56524</th>\n",
              "      <td>843570</td>\n",
              "      <td>Auto Equity</td>\n",
              "      <td>2015-08-08</td>\n",
              "      <td>male</td>\n",
              "      <td>7/4/1982</td>\n",
              "      <td>67.0</td>\n",
              "      <td>29000.0</td>\n",
              "      <td>MS</td>\n",
              "      <td>0.0</td>\n",
              "      <td>0</td>\n",
              "      <td>BMW</td>\n",
              "      <td>2014.0</td>\n",
              "      <td>182000.0</td>\n",
              "      <td>188000.0</td>\n",
              "      <td>163800.0</td>\n",
              "      <td>NaN</td>\n",
              "      <td>no_closed</td>\n",
              "      <td>-140800.0</td>\n",
              "    </tr>\n",
              "    <tr>\n",
              "      <th>56530</th>\n",
              "      <td>854343</td>\n",
              "      <td>Auto Equity</td>\n",
              "      <td>2015-08-21</td>\n",
              "      <td>male</td>\n",
              "      <td>9/23/1980</td>\n",
              "      <td>11.0</td>\n",
              "      <td>28000.0</td>\n",
              "      <td>SP</td>\n",
              "      <td>0.0</td>\n",
              "      <td>0</td>\n",
              "      <td>BMW</td>\n",
              "      <td>2014.0</td>\n",
              "      <td>335000.0</td>\n",
              "      <td>0.0</td>\n",
              "      <td>0.0</td>\n",
              "      <td>NaN</td>\n",
              "      <td>no_closed</td>\n",
              "      <td>363000.0</td>\n",
              "    </tr>\n",
              "    <tr>\n",
              "      <th>56544</th>\n",
              "      <td>884980</td>\n",
              "      <td>Auto Equity</td>\n",
              "      <td>2015-09-25</td>\n",
              "      <td>female</td>\n",
              "      <td>2/4/1986</td>\n",
              "      <td>67.0</td>\n",
              "      <td>0.0</td>\n",
              "      <td>MS</td>\n",
              "      <td>0.0</td>\n",
              "      <td>0</td>\n",
              "      <td>Honda</td>\n",
              "      <td>2014.0</td>\n",
              "      <td>0.0</td>\n",
              "      <td>0.0</td>\n",
              "      <td>450000.0</td>\n",
              "      <td>NaN</td>\n",
              "      <td>no_closed</td>\n",
              "      <td>-450000.0</td>\n",
              "    </tr>\n",
              "  </tbody>\n",
              "</table>\n",
              "<p>6426 rows × 18 columns</p>\n",
              "</div>"
            ],
            "text/plain": [
              "           id specific_type  ... operation_status     index\n",
              "2194   844045   Auto Equity  ...        no_closed   57500.0\n",
              "2196   898284   Auto Equity  ...        no_closed   59000.0\n",
              "2205   829314   Auto Equity  ...        no_closed   45200.0\n",
              "2207   860825   Auto Equity  ...        no_closed   42800.0\n",
              "2220   894193   Auto Equity  ...        no_closed   37180.0\n",
              "...       ...           ...  ...              ...       ...\n",
              "56510  888058   Auto Equity  ...        no_closed   40000.0\n",
              "56514  836145   Auto Equity  ...           closed   15800.0\n",
              "56524  843570   Auto Equity  ...        no_closed -140800.0\n",
              "56530  854343   Auto Equity  ...        no_closed  363000.0\n",
              "56544  884980   Auto Equity  ...        no_closed -450000.0\n",
              "\n",
              "[6426 rows x 18 columns]"
            ]
          },
          "metadata": {
            "tags": []
          },
          "execution_count": 248
        }
      ]
    },
    {
      "cell_type": "code",
      "metadata": {
        "colab_type": "code",
        "id": "eEhI5XC-cCXq",
        "colab": {
          "base_uri": "https://localhost:8080/",
          "height": 70
        },
        "outputId": "6bde1901-9b1c-4a23-bee1-d912a954a795"
      },
      "source": [
        "q3_2015['operation_status'].value_counts()"
      ],
      "execution_count": null,
      "outputs": [
        {
          "output_type": "execute_result",
          "data": {
            "text/plain": [
              "no_closed    6319\n",
              "closed        107\n",
              "Name: operation_status, dtype: int64"
            ]
          },
          "metadata": {
            "tags": []
          },
          "execution_count": 249
        }
      ]
    },
    {
      "cell_type": "code",
      "metadata": {
        "colab_type": "code",
        "id": "CKcL3t-0cCXy",
        "colab": {
          "base_uri": "https://localhost:8080/",
          "height": 34
        },
        "outputId": "9dbd2f59-f0ce-40f2-d314-92f0c38301fb"
      },
      "source": [
        "q3_2015['operation_status'].isnull().sum()"
      ],
      "execution_count": null,
      "outputs": [
        {
          "output_type": "execute_result",
          "data": {
            "text/plain": [
              "0"
            ]
          },
          "metadata": {
            "tags": []
          },
          "execution_count": 250
        }
      ]
    },
    {
      "cell_type": "code",
      "metadata": {
        "colab_type": "code",
        "id": "rSqrhpF_cCX6",
        "colab": {
          "base_uri": "https://localhost:8080/",
          "height": 70
        },
        "outputId": "e92365ce-52e0-4418-9704-2cfad93d8557"
      },
      "source": [
        "q3_2015['registration_form_closed'].value_counts()"
      ],
      "execution_count": null,
      "outputs": [
        {
          "output_type": "execute_result",
          "data": {
            "text/plain": [
              "0    5651\n",
              "1     775\n",
              "Name: registration_form_closed, dtype: int64"
            ]
          },
          "metadata": {
            "tags": []
          },
          "execution_count": 251
        }
      ]
    },
    {
      "cell_type": "code",
      "metadata": {
        "colab_type": "code",
        "id": "P5BOOLJJcCYA",
        "colab": {
          "base_uri": "https://localhost:8080/",
          "height": 34
        },
        "outputId": "974f0165-004e-4a36-8105-8fd2db206957"
      },
      "source": [
        "q3_2015['auto_debt'].sum()"
      ],
      "execution_count": null,
      "outputs": [
        {
          "output_type": "execute_result",
          "data": {
            "text/plain": [
              "19986501.0"
            ]
          },
          "metadata": {
            "tags": []
          },
          "execution_count": 252
        }
      ]
    },
    {
      "cell_type": "markdown",
      "metadata": {
        "colab_type": "text",
        "id": "pc5lu9UgcDnv"
      },
      "source": [
        "#Q4 2015"
      ]
    },
    {
      "cell_type": "code",
      "metadata": {
        "colab_type": "code",
        "id": "av4rOCPocDnw",
        "colab": {
          "base_uri": "https://localhost:8080/",
          "height": 476
        },
        "outputId": "7a625582-ce7b-4df3-8a30-308b56879fec"
      },
      "source": [
        "q4_2015 = df[(df['created_at'] >= '10-15-2015')&(df['created_at'] < '1-16-2016')]\n",
        "q4_2015"
      ],
      "execution_count": null,
      "outputs": [
        {
          "output_type": "execute_result",
          "data": {
            "text/html": [
              "<div>\n",
              "<style scoped>\n",
              "    .dataframe tbody tr th:only-of-type {\n",
              "        vertical-align: middle;\n",
              "    }\n",
              "\n",
              "    .dataframe tbody tr th {\n",
              "        vertical-align: top;\n",
              "    }\n",
              "\n",
              "    .dataframe thead th {\n",
              "        text-align: right;\n",
              "    }\n",
              "</style>\n",
              "<table border=\"1\" class=\"dataframe\">\n",
              "  <thead>\n",
              "    <tr style=\"text-align: right;\">\n",
              "      <th></th>\n",
              "      <th>id</th>\n",
              "      <th>specific_type</th>\n",
              "      <th>created_at</th>\n",
              "      <th>gender</th>\n",
              "      <th>birth_date</th>\n",
              "      <th>phone_code</th>\n",
              "      <th>monthly_income</th>\n",
              "      <th>state</th>\n",
              "      <th>cpf_restriction</th>\n",
              "      <th>registration_form_closed</th>\n",
              "      <th>brand</th>\n",
              "      <th>model_year</th>\n",
              "      <th>auto_value</th>\n",
              "      <th>auto_debt</th>\n",
              "      <th>loan_amount</th>\n",
              "      <th>declares_income_tax</th>\n",
              "      <th>operation_status</th>\n",
              "      <th>index</th>\n",
              "    </tr>\n",
              "  </thead>\n",
              "  <tbody>\n",
              "    <tr>\n",
              "      <th>2197</th>\n",
              "      <td>917049</td>\n",
              "      <td>Auto Equity</td>\n",
              "      <td>2015-11-10</td>\n",
              "      <td>male</td>\n",
              "      <td>7/27/1993</td>\n",
              "      <td>11.0</td>\n",
              "      <td>2500.0</td>\n",
              "      <td>SP</td>\n",
              "      <td>1.0</td>\n",
              "      <td>0</td>\n",
              "      <td>VW - VolksWagen</td>\n",
              "      <td>2014.0</td>\n",
              "      <td>53000.0</td>\n",
              "      <td>0.0</td>\n",
              "      <td>5000.0</td>\n",
              "      <td>NaN</td>\n",
              "      <td>no_closed</td>\n",
              "      <td>50500.0</td>\n",
              "    </tr>\n",
              "    <tr>\n",
              "      <th>2199</th>\n",
              "      <td>904337</td>\n",
              "      <td>Auto Equity</td>\n",
              "      <td>2015-10-22</td>\n",
              "      <td>male</td>\n",
              "      <td>10/25/1978</td>\n",
              "      <td>11.0</td>\n",
              "      <td>2000.0</td>\n",
              "      <td>SP</td>\n",
              "      <td>1.0</td>\n",
              "      <td>0</td>\n",
              "      <td>Peugeot</td>\n",
              "      <td>2008.0</td>\n",
              "      <td>50000.0</td>\n",
              "      <td>0.0</td>\n",
              "      <td>5000.0</td>\n",
              "      <td>NaN</td>\n",
              "      <td>no_closed</td>\n",
              "      <td>47000.0</td>\n",
              "    </tr>\n",
              "    <tr>\n",
              "      <th>2202</th>\n",
              "      <td>921462</td>\n",
              "      <td>Auto Equity</td>\n",
              "      <td>2015-11-17</td>\n",
              "      <td>male</td>\n",
              "      <td>3/21/1978</td>\n",
              "      <td>21.0</td>\n",
              "      <td>3000.0</td>\n",
              "      <td>RJ</td>\n",
              "      <td>1.0</td>\n",
              "      <td>0</td>\n",
              "      <td>Fiat</td>\n",
              "      <td>2012.0</td>\n",
              "      <td>50000.0</td>\n",
              "      <td>0.0</td>\n",
              "      <td>5000.0</td>\n",
              "      <td>NaN</td>\n",
              "      <td>no_closed</td>\n",
              "      <td>48000.0</td>\n",
              "    </tr>\n",
              "    <tr>\n",
              "      <th>2209</th>\n",
              "      <td>924497</td>\n",
              "      <td>Auto Equity</td>\n",
              "      <td>2015-11-21</td>\n",
              "      <td>female</td>\n",
              "      <td>7/27/1960</td>\n",
              "      <td>51.0</td>\n",
              "      <td>1500.0</td>\n",
              "      <td>RS</td>\n",
              "      <td>1.0</td>\n",
              "      <td>0</td>\n",
              "      <td>Fiat</td>\n",
              "      <td>1997.0</td>\n",
              "      <td>45000.0</td>\n",
              "      <td>0.0</td>\n",
              "      <td>5000.0</td>\n",
              "      <td>NaN</td>\n",
              "      <td>no_closed</td>\n",
              "      <td>41500.0</td>\n",
              "    </tr>\n",
              "    <tr>\n",
              "      <th>2254</th>\n",
              "      <td>902789</td>\n",
              "      <td>Auto Equity</td>\n",
              "      <td>2015-10-20</td>\n",
              "      <td>male</td>\n",
              "      <td>2/8/1984</td>\n",
              "      <td>31.0</td>\n",
              "      <td>3500.0</td>\n",
              "      <td>MG</td>\n",
              "      <td>1.0</td>\n",
              "      <td>0</td>\n",
              "      <td>GM - Chevrolet</td>\n",
              "      <td>2013.0</td>\n",
              "      <td>35000.0</td>\n",
              "      <td>0.0</td>\n",
              "      <td>5000.0</td>\n",
              "      <td>NaN</td>\n",
              "      <td>no_closed</td>\n",
              "      <td>33500.0</td>\n",
              "    </tr>\n",
              "    <tr>\n",
              "      <th>...</th>\n",
              "      <td>...</td>\n",
              "      <td>...</td>\n",
              "      <td>...</td>\n",
              "      <td>...</td>\n",
              "      <td>...</td>\n",
              "      <td>...</td>\n",
              "      <td>...</td>\n",
              "      <td>...</td>\n",
              "      <td>...</td>\n",
              "      <td>...</td>\n",
              "      <td>...</td>\n",
              "      <td>...</td>\n",
              "      <td>...</td>\n",
              "      <td>...</td>\n",
              "      <td>...</td>\n",
              "      <td>...</td>\n",
              "      <td>...</td>\n",
              "      <td>...</td>\n",
              "    </tr>\n",
              "    <tr>\n",
              "      <th>56840</th>\n",
              "      <td>904122</td>\n",
              "      <td>Auto Equity</td>\n",
              "      <td>2015-10-21</td>\n",
              "      <td>NaN</td>\n",
              "      <td>4/27/1989</td>\n",
              "      <td>85.0</td>\n",
              "      <td>2600.0</td>\n",
              "      <td>CE</td>\n",
              "      <td>0.0</td>\n",
              "      <td>0</td>\n",
              "      <td>Fiat</td>\n",
              "      <td>2008.0</td>\n",
              "      <td>10000.0</td>\n",
              "      <td>0.0</td>\n",
              "      <td>9000.0</td>\n",
              "      <td>NaN</td>\n",
              "      <td>no_closed</td>\n",
              "      <td>3600.0</td>\n",
              "    </tr>\n",
              "    <tr>\n",
              "      <th>57045</th>\n",
              "      <td>903224</td>\n",
              "      <td>Auto Equity</td>\n",
              "      <td>2015-10-20</td>\n",
              "      <td>male</td>\n",
              "      <td>7/28/1975</td>\n",
              "      <td>47.0</td>\n",
              "      <td>5000.0</td>\n",
              "      <td>SC</td>\n",
              "      <td>0.0</td>\n",
              "      <td>0</td>\n",
              "      <td>VW - VolksWagen</td>\n",
              "      <td>2012.0</td>\n",
              "      <td>30500.0</td>\n",
              "      <td>0.0</td>\n",
              "      <td>20000.0</td>\n",
              "      <td>NaN</td>\n",
              "      <td>no_closed</td>\n",
              "      <td>15500.0</td>\n",
              "    </tr>\n",
              "    <tr>\n",
              "      <th>57108</th>\n",
              "      <td>903213</td>\n",
              "      <td>Auto Equity</td>\n",
              "      <td>2015-10-20</td>\n",
              "      <td>male</td>\n",
              "      <td>11/20/1973</td>\n",
              "      <td>11.0</td>\n",
              "      <td>10000.0</td>\n",
              "      <td>SP</td>\n",
              "      <td>0.0</td>\n",
              "      <td>1</td>\n",
              "      <td>Toyota</td>\n",
              "      <td>2007.0</td>\n",
              "      <td>25000.0</td>\n",
              "      <td>0.0</td>\n",
              "      <td>22500.0</td>\n",
              "      <td>NaN</td>\n",
              "      <td>no_closed</td>\n",
              "      <td>12500.0</td>\n",
              "    </tr>\n",
              "    <tr>\n",
              "      <th>57154</th>\n",
              "      <td>904163</td>\n",
              "      <td>Auto Equity</td>\n",
              "      <td>2015-10-21</td>\n",
              "      <td>male</td>\n",
              "      <td>9/14/1953</td>\n",
              "      <td>22.0</td>\n",
              "      <td>6500.0</td>\n",
              "      <td>RJ</td>\n",
              "      <td>0.0</td>\n",
              "      <td>0</td>\n",
              "      <td>Ford</td>\n",
              "      <td>2014.0</td>\n",
              "      <td>42000.0</td>\n",
              "      <td>2650.0</td>\n",
              "      <td>37800.0</td>\n",
              "      <td>NaN</td>\n",
              "      <td>no_closed</td>\n",
              "      <td>8050.0</td>\n",
              "    </tr>\n",
              "    <tr>\n",
              "      <th>57170</th>\n",
              "      <td>903194</td>\n",
              "      <td>Auto Equity</td>\n",
              "      <td>2015-10-20</td>\n",
              "      <td>male</td>\n",
              "      <td>9/11/1970</td>\n",
              "      <td>47.0</td>\n",
              "      <td>15000.0</td>\n",
              "      <td>SC</td>\n",
              "      <td>0.0</td>\n",
              "      <td>0</td>\n",
              "      <td>Land Rover</td>\n",
              "      <td>2011.0</td>\n",
              "      <td>95000.0</td>\n",
              "      <td>0.0</td>\n",
              "      <td>85500.0</td>\n",
              "      <td>NaN</td>\n",
              "      <td>no_closed</td>\n",
              "      <td>24500.0</td>\n",
              "    </tr>\n",
              "  </tbody>\n",
              "</table>\n",
              "<p>7406 rows × 18 columns</p>\n",
              "</div>"
            ],
            "text/plain": [
              "           id specific_type  ... operation_status    index\n",
              "2197   917049   Auto Equity  ...        no_closed  50500.0\n",
              "2199   904337   Auto Equity  ...        no_closed  47000.0\n",
              "2202   921462   Auto Equity  ...        no_closed  48000.0\n",
              "2209   924497   Auto Equity  ...        no_closed  41500.0\n",
              "2254   902789   Auto Equity  ...        no_closed  33500.0\n",
              "...       ...           ...  ...              ...      ...\n",
              "56840  904122   Auto Equity  ...        no_closed   3600.0\n",
              "57045  903224   Auto Equity  ...        no_closed  15500.0\n",
              "57108  903213   Auto Equity  ...        no_closed  12500.0\n",
              "57154  904163   Auto Equity  ...        no_closed   8050.0\n",
              "57170  903194   Auto Equity  ...        no_closed  24500.0\n",
              "\n",
              "[7406 rows x 18 columns]"
            ]
          },
          "metadata": {
            "tags": []
          },
          "execution_count": 253
        }
      ]
    },
    {
      "cell_type": "code",
      "metadata": {
        "colab_type": "code",
        "id": "zOdCWEtCcDny",
        "colab": {
          "base_uri": "https://localhost:8080/",
          "height": 87
        },
        "outputId": "465bce38-bfb2-4c4f-86b8-1ee02837dc4e"
      },
      "source": [
        "q4_2015['operation_status'].value_counts()"
      ],
      "execution_count": null,
      "outputs": [
        {
          "output_type": "execute_result",
          "data": {
            "text/plain": [
              "no_closed    6979\n",
              "ongoing       359\n",
              "closed         68\n",
              "Name: operation_status, dtype: int64"
            ]
          },
          "metadata": {
            "tags": []
          },
          "execution_count": 254
        }
      ]
    },
    {
      "cell_type": "code",
      "metadata": {
        "colab_type": "code",
        "id": "d6Yux8RYcDn0",
        "colab": {
          "base_uri": "https://localhost:8080/",
          "height": 34
        },
        "outputId": "05342da4-fac5-4a5a-9676-375a147f234b"
      },
      "source": [
        "q4_2015['operation_status'].isnull().sum()"
      ],
      "execution_count": null,
      "outputs": [
        {
          "output_type": "execute_result",
          "data": {
            "text/plain": [
              "0"
            ]
          },
          "metadata": {
            "tags": []
          },
          "execution_count": 255
        }
      ]
    },
    {
      "cell_type": "code",
      "metadata": {
        "colab_type": "code",
        "id": "8Z4i44xgcDn4",
        "colab": {
          "base_uri": "https://localhost:8080/",
          "height": 70
        },
        "outputId": "0f1100f3-0cba-4ef7-d60a-7056756acb5b"
      },
      "source": [
        "q4_2015['registration_form_closed'].value_counts()"
      ],
      "execution_count": null,
      "outputs": [
        {
          "output_type": "execute_result",
          "data": {
            "text/plain": [
              "0    6235\n",
              "1    1171\n",
              "Name: registration_form_closed, dtype: int64"
            ]
          },
          "metadata": {
            "tags": []
          },
          "execution_count": 256
        }
      ]
    },
    {
      "cell_type": "code",
      "metadata": {
        "colab_type": "code",
        "id": "U94w05idcDn8",
        "colab": {
          "base_uri": "https://localhost:8080/",
          "height": 34
        },
        "outputId": "c5a62c5d-894b-4b7b-df96-6160ae82563c"
      },
      "source": [
        "q4_2015['auto_debt'].sum()"
      ],
      "execution_count": null,
      "outputs": [
        {
          "output_type": "execute_result",
          "data": {
            "text/plain": [
              "20095557.0"
            ]
          },
          "metadata": {
            "tags": []
          },
          "execution_count": 257
        }
      ]
    },
    {
      "cell_type": "markdown",
      "metadata": {
        "colab_type": "text",
        "id": "fYpPI8ZAcGTc"
      },
      "source": [
        "#Q1 2016"
      ]
    },
    {
      "cell_type": "code",
      "metadata": {
        "colab_type": "code",
        "id": "_mhPmfq5cGTg",
        "colab": {
          "base_uri": "https://localhost:8080/",
          "height": 526
        },
        "outputId": "c62644d0-2c6c-4835-858d-0a3af2e63f3a"
      },
      "source": [
        "q1_2016 = df[(df['created_at'] >= '1-16-2016')&(df['created_at'] < '4-16-2016')]\n",
        "q1_2016"
      ],
      "execution_count": null,
      "outputs": [
        {
          "output_type": "execute_result",
          "data": {
            "text/html": [
              "<div>\n",
              "<style scoped>\n",
              "    .dataframe tbody tr th:only-of-type {\n",
              "        vertical-align: middle;\n",
              "    }\n",
              "\n",
              "    .dataframe tbody tr th {\n",
              "        vertical-align: top;\n",
              "    }\n",
              "\n",
              "    .dataframe thead th {\n",
              "        text-align: right;\n",
              "    }\n",
              "</style>\n",
              "<table border=\"1\" class=\"dataframe\">\n",
              "  <thead>\n",
              "    <tr style=\"text-align: right;\">\n",
              "      <th></th>\n",
              "      <th>id</th>\n",
              "      <th>specific_type</th>\n",
              "      <th>created_at</th>\n",
              "      <th>gender</th>\n",
              "      <th>birth_date</th>\n",
              "      <th>phone_code</th>\n",
              "      <th>monthly_income</th>\n",
              "      <th>state</th>\n",
              "      <th>cpf_restriction</th>\n",
              "      <th>registration_form_closed</th>\n",
              "      <th>brand</th>\n",
              "      <th>model_year</th>\n",
              "      <th>auto_value</th>\n",
              "      <th>auto_debt</th>\n",
              "      <th>loan_amount</th>\n",
              "      <th>declares_income_tax</th>\n",
              "      <th>operation_status</th>\n",
              "      <th>index</th>\n",
              "    </tr>\n",
              "  </thead>\n",
              "  <tbody>\n",
              "    <tr>\n",
              "      <th>2180</th>\n",
              "      <td>1010551</td>\n",
              "      <td>Auto Equity</td>\n",
              "      <td>2016-02-21</td>\n",
              "      <td>male</td>\n",
              "      <td>8/4/1942</td>\n",
              "      <td>16.0</td>\n",
              "      <td>3000.0</td>\n",
              "      <td>SP</td>\n",
              "      <td>1.0</td>\n",
              "      <td>0</td>\n",
              "      <td>GM - Chevrolet</td>\n",
              "      <td>2004.0</td>\n",
              "      <td>0.0</td>\n",
              "      <td>0.0</td>\n",
              "      <td>5000.0</td>\n",
              "      <td>NaN</td>\n",
              "      <td>no_closed</td>\n",
              "      <td>-2000.0</td>\n",
              "    </tr>\n",
              "    <tr>\n",
              "      <th>2181</th>\n",
              "      <td>1022100</td>\n",
              "      <td>Auto Equity</td>\n",
              "      <td>2016-03-01</td>\n",
              "      <td>male</td>\n",
              "      <td>2/2/1980</td>\n",
              "      <td>47.0</td>\n",
              "      <td>1200.0</td>\n",
              "      <td>SC</td>\n",
              "      <td>1.0</td>\n",
              "      <td>0</td>\n",
              "      <td>GM - Chevrolet</td>\n",
              "      <td>1991.0</td>\n",
              "      <td>0.0</td>\n",
              "      <td>0.0</td>\n",
              "      <td>5000.0</td>\n",
              "      <td>NaN</td>\n",
              "      <td>no_closed</td>\n",
              "      <td>-3800.0</td>\n",
              "    </tr>\n",
              "    <tr>\n",
              "      <th>2182</th>\n",
              "      <td>1032825</td>\n",
              "      <td>Auto Equity</td>\n",
              "      <td>2016-03-09</td>\n",
              "      <td>male</td>\n",
              "      <td>8/17/1975</td>\n",
              "      <td>98.0</td>\n",
              "      <td>1300.0</td>\n",
              "      <td>MA</td>\n",
              "      <td>0.0</td>\n",
              "      <td>0</td>\n",
              "      <td>GM - Chevrolet</td>\n",
              "      <td>2014.0</td>\n",
              "      <td>200000.0</td>\n",
              "      <td>0.0</td>\n",
              "      <td>5000.0</td>\n",
              "      <td>NaN</td>\n",
              "      <td>no_closed</td>\n",
              "      <td>196300.0</td>\n",
              "    </tr>\n",
              "    <tr>\n",
              "      <th>2183</th>\n",
              "      <td>1032855</td>\n",
              "      <td>Auto Equity</td>\n",
              "      <td>2016-03-09</td>\n",
              "      <td>male</td>\n",
              "      <td>8/17/1975</td>\n",
              "      <td>98.0</td>\n",
              "      <td>1300.0</td>\n",
              "      <td>MA</td>\n",
              "      <td>0.0</td>\n",
              "      <td>0</td>\n",
              "      <td>GM - Chevrolet</td>\n",
              "      <td>2014.0</td>\n",
              "      <td>200000.0</td>\n",
              "      <td>0.0</td>\n",
              "      <td>5000.0</td>\n",
              "      <td>NaN</td>\n",
              "      <td>no_closed</td>\n",
              "      <td>196300.0</td>\n",
              "    </tr>\n",
              "    <tr>\n",
              "      <th>2184</th>\n",
              "      <td>985904</td>\n",
              "      <td>Auto Equity</td>\n",
              "      <td>2016-01-31</td>\n",
              "      <td>male</td>\n",
              "      <td>5/8/1974</td>\n",
              "      <td>27.0</td>\n",
              "      <td>1600.0</td>\n",
              "      <td>ES</td>\n",
              "      <td>1.0</td>\n",
              "      <td>1</td>\n",
              "      <td>VW - VolksWagen</td>\n",
              "      <td>2002.0</td>\n",
              "      <td>180000.0</td>\n",
              "      <td>0.0</td>\n",
              "      <td>5000.0</td>\n",
              "      <td>NaN</td>\n",
              "      <td>no_closed</td>\n",
              "      <td>176600.0</td>\n",
              "    </tr>\n",
              "    <tr>\n",
              "      <th>...</th>\n",
              "      <td>...</td>\n",
              "      <td>...</td>\n",
              "      <td>...</td>\n",
              "      <td>...</td>\n",
              "      <td>...</td>\n",
              "      <td>...</td>\n",
              "      <td>...</td>\n",
              "      <td>...</td>\n",
              "      <td>...</td>\n",
              "      <td>...</td>\n",
              "      <td>...</td>\n",
              "      <td>...</td>\n",
              "      <td>...</td>\n",
              "      <td>...</td>\n",
              "      <td>...</td>\n",
              "      <td>...</td>\n",
              "      <td>...</td>\n",
              "      <td>...</td>\n",
              "    </tr>\n",
              "    <tr>\n",
              "      <th>57172</th>\n",
              "      <td>1022736</td>\n",
              "      <td>Auto Equity</td>\n",
              "      <td>2016-03-01</td>\n",
              "      <td>female</td>\n",
              "      <td>3/30/1965</td>\n",
              "      <td>21.0</td>\n",
              "      <td>15000.0</td>\n",
              "      <td>RJ</td>\n",
              "      <td>0.0</td>\n",
              "      <td>0</td>\n",
              "      <td>Audi</td>\n",
              "      <td>2015.0</td>\n",
              "      <td>100000.0</td>\n",
              "      <td>0.0</td>\n",
              "      <td>90000.0</td>\n",
              "      <td>NaN</td>\n",
              "      <td>no_closed</td>\n",
              "      <td>25000.0</td>\n",
              "    </tr>\n",
              "    <tr>\n",
              "      <th>57173</th>\n",
              "      <td>1029882</td>\n",
              "      <td>Auto Equity</td>\n",
              "      <td>2016-03-07</td>\n",
              "      <td>NaN</td>\n",
              "      <td>1/26/1971</td>\n",
              "      <td>21.0</td>\n",
              "      <td>24000.0</td>\n",
              "      <td>RJ</td>\n",
              "      <td>1.0</td>\n",
              "      <td>0</td>\n",
              "      <td>Fiat</td>\n",
              "      <td>2013.0</td>\n",
              "      <td>39548.0</td>\n",
              "      <td>0.0</td>\n",
              "      <td>100000.0</td>\n",
              "      <td>NaN</td>\n",
              "      <td>no_closed</td>\n",
              "      <td>-36452.0</td>\n",
              "    </tr>\n",
              "    <tr>\n",
              "      <th>57174</th>\n",
              "      <td>1041250</td>\n",
              "      <td>Auto Equity</td>\n",
              "      <td>2016-03-15</td>\n",
              "      <td>NaN</td>\n",
              "      <td>5/8/1978</td>\n",
              "      <td>17.0</td>\n",
              "      <td>20000.0</td>\n",
              "      <td>SP</td>\n",
              "      <td>0.0</td>\n",
              "      <td>0</td>\n",
              "      <td>GM - Chevrolet</td>\n",
              "      <td>2011.0</td>\n",
              "      <td>130000.0</td>\n",
              "      <td>0.0</td>\n",
              "      <td>117000.0</td>\n",
              "      <td>NaN</td>\n",
              "      <td>no_closed</td>\n",
              "      <td>33000.0</td>\n",
              "    </tr>\n",
              "    <tr>\n",
              "      <th>57180</th>\n",
              "      <td>1025857</td>\n",
              "      <td>Auto Equity</td>\n",
              "      <td>2016-03-03</td>\n",
              "      <td>male</td>\n",
              "      <td>11/20/1954</td>\n",
              "      <td>11.0</td>\n",
              "      <td>1300.0</td>\n",
              "      <td>NO_STATE</td>\n",
              "      <td>1.0</td>\n",
              "      <td>1</td>\n",
              "      <td>Ford</td>\n",
              "      <td>2010.0</td>\n",
              "      <td>0.0</td>\n",
              "      <td>0.0</td>\n",
              "      <td>10000.0</td>\n",
              "      <td>NaN</td>\n",
              "      <td>no_closed</td>\n",
              "      <td>-8700.0</td>\n",
              "    </tr>\n",
              "    <tr>\n",
              "      <th>57181</th>\n",
              "      <td>998011</td>\n",
              "      <td>Auto Equity</td>\n",
              "      <td>2016-02-11</td>\n",
              "      <td>male</td>\n",
              "      <td>5/14/1988</td>\n",
              "      <td>54.0</td>\n",
              "      <td>5000.0</td>\n",
              "      <td>RS</td>\n",
              "      <td>0.0</td>\n",
              "      <td>1</td>\n",
              "      <td>Fiat</td>\n",
              "      <td>2012.0</td>\n",
              "      <td>28500.0</td>\n",
              "      <td>0.0</td>\n",
              "      <td>25000.0</td>\n",
              "      <td>NaN</td>\n",
              "      <td>no_closed</td>\n",
              "      <td>8500.0</td>\n",
              "    </tr>\n",
              "  </tbody>\n",
              "</table>\n",
              "<p>13527 rows × 18 columns</p>\n",
              "</div>"
            ],
            "text/plain": [
              "            id specific_type  ... operation_status     index\n",
              "2180   1010551   Auto Equity  ...        no_closed   -2000.0\n",
              "2181   1022100   Auto Equity  ...        no_closed   -3800.0\n",
              "2182   1032825   Auto Equity  ...        no_closed  196300.0\n",
              "2183   1032855   Auto Equity  ...        no_closed  196300.0\n",
              "2184    985904   Auto Equity  ...        no_closed  176600.0\n",
              "...        ...           ...  ...              ...       ...\n",
              "57172  1022736   Auto Equity  ...        no_closed   25000.0\n",
              "57173  1029882   Auto Equity  ...        no_closed  -36452.0\n",
              "57174  1041250   Auto Equity  ...        no_closed   33000.0\n",
              "57180  1025857   Auto Equity  ...        no_closed   -8700.0\n",
              "57181   998011   Auto Equity  ...        no_closed    8500.0\n",
              "\n",
              "[13527 rows x 18 columns]"
            ]
          },
          "metadata": {
            "tags": []
          },
          "execution_count": 258
        }
      ]
    },
    {
      "cell_type": "code",
      "metadata": {
        "colab_type": "code",
        "id": "XWbvLlUUcGTk",
        "colab": {
          "base_uri": "https://localhost:8080/",
          "height": 87
        },
        "outputId": "8073a989-9567-4cfd-f0a8-2f723d446fed"
      },
      "source": [
        "q1_2016['operation_status'].value_counts()"
      ],
      "execution_count": null,
      "outputs": [
        {
          "output_type": "execute_result",
          "data": {
            "text/plain": [
              "no_closed    11568\n",
              "ongoing       1873\n",
              "closed          86\n",
              "Name: operation_status, dtype: int64"
            ]
          },
          "metadata": {
            "tags": []
          },
          "execution_count": 259
        }
      ]
    },
    {
      "cell_type": "code",
      "metadata": {
        "colab_type": "code",
        "id": "6KGbdhJncGTr",
        "colab": {
          "base_uri": "https://localhost:8080/",
          "height": 34
        },
        "outputId": "5c83f1db-cf56-4e6a-d928-e1aca7776471"
      },
      "source": [
        "q1_2016['operation_status'].isnull().sum()"
      ],
      "execution_count": null,
      "outputs": [
        {
          "output_type": "execute_result",
          "data": {
            "text/plain": [
              "0"
            ]
          },
          "metadata": {
            "tags": []
          },
          "execution_count": 260
        }
      ]
    },
    {
      "cell_type": "code",
      "metadata": {
        "colab_type": "code",
        "id": "nHJ8pJP0cGTw",
        "colab": {
          "base_uri": "https://localhost:8080/",
          "height": 70
        },
        "outputId": "8b156e6a-d753-4ff9-a237-ea50523b88a8"
      },
      "source": [
        "q1_2016['registration_form_closed'].value_counts()"
      ],
      "execution_count": null,
      "outputs": [
        {
          "output_type": "execute_result",
          "data": {
            "text/plain": [
              "0    11529\n",
              "1     1998\n",
              "Name: registration_form_closed, dtype: int64"
            ]
          },
          "metadata": {
            "tags": []
          },
          "execution_count": 261
        }
      ]
    },
    {
      "cell_type": "code",
      "metadata": {
        "colab_type": "code",
        "id": "xEEDT-f5cGT0",
        "colab": {
          "base_uri": "https://localhost:8080/",
          "height": 34
        },
        "outputId": "6aa562e0-61d9-436e-f7bc-fa4c21c4e0a1"
      },
      "source": [
        "q1_2016['auto_debt'].sum()"
      ],
      "execution_count": null,
      "outputs": [
        {
          "output_type": "execute_result",
          "data": {
            "text/plain": [
              "49897344.0"
            ]
          },
          "metadata": {
            "tags": []
          },
          "execution_count": 262
        }
      ]
    },
    {
      "cell_type": "markdown",
      "metadata": {
        "id": "ClSAKe54Bvo2",
        "colab_type": "text"
      },
      "source": [
        "# Cálculos"
      ]
    },
    {
      "cell_type": "code",
      "metadata": {
        "id": "fJbXm4ul3sLL",
        "colab_type": "code",
        "colab": {
          "base_uri": "https://localhost:8080/",
          "height": 677
        },
        "outputId": "c48353b6-2390-4df1-ebbe-8947bb8d0458"
      },
      "source": [
        "true_close[['state','loan_amount']].groupby('state').sum()"
      ],
      "execution_count": null,
      "outputs": [
        {
          "output_type": "execute_result",
          "data": {
            "text/html": [
              "<div>\n",
              "<style scoped>\n",
              "    .dataframe tbody tr th:only-of-type {\n",
              "        vertical-align: middle;\n",
              "    }\n",
              "\n",
              "    .dataframe tbody tr th {\n",
              "        vertical-align: top;\n",
              "    }\n",
              "\n",
              "    .dataframe thead th {\n",
              "        text-align: right;\n",
              "    }\n",
              "</style>\n",
              "<table border=\"1\" class=\"dataframe\">\n",
              "  <thead>\n",
              "    <tr style=\"text-align: right;\">\n",
              "      <th></th>\n",
              "      <th>loan_amount</th>\n",
              "    </tr>\n",
              "    <tr>\n",
              "      <th>state</th>\n",
              "      <th></th>\n",
              "    </tr>\n",
              "  </thead>\n",
              "  <tbody>\n",
              "    <tr>\n",
              "      <th>AM</th>\n",
              "      <td>126300.0</td>\n",
              "    </tr>\n",
              "    <tr>\n",
              "      <th>BA</th>\n",
              "      <td>210556.0</td>\n",
              "    </tr>\n",
              "    <tr>\n",
              "      <th>CE</th>\n",
              "      <td>156750.0</td>\n",
              "    </tr>\n",
              "    <tr>\n",
              "      <th>DF</th>\n",
              "      <td>734260.0</td>\n",
              "    </tr>\n",
              "    <tr>\n",
              "      <th>ES</th>\n",
              "      <td>18000.0</td>\n",
              "    </tr>\n",
              "    <tr>\n",
              "      <th>GO</th>\n",
              "      <td>87500.0</td>\n",
              "    </tr>\n",
              "    <tr>\n",
              "      <th>MA</th>\n",
              "      <td>12000.0</td>\n",
              "    </tr>\n",
              "    <tr>\n",
              "      <th>MG</th>\n",
              "      <td>826423.0</td>\n",
              "    </tr>\n",
              "    <tr>\n",
              "      <th>MS</th>\n",
              "      <td>93900.0</td>\n",
              "    </tr>\n",
              "    <tr>\n",
              "      <th>PA</th>\n",
              "      <td>13000.0</td>\n",
              "    </tr>\n",
              "    <tr>\n",
              "      <th>PB</th>\n",
              "      <td>54000.0</td>\n",
              "    </tr>\n",
              "    <tr>\n",
              "      <th>PE</th>\n",
              "      <td>337900.0</td>\n",
              "    </tr>\n",
              "    <tr>\n",
              "      <th>PR</th>\n",
              "      <td>709813.0</td>\n",
              "    </tr>\n",
              "    <tr>\n",
              "      <th>RJ</th>\n",
              "      <td>653660.0</td>\n",
              "    </tr>\n",
              "    <tr>\n",
              "      <th>RN</th>\n",
              "      <td>69194.0</td>\n",
              "    </tr>\n",
              "    <tr>\n",
              "      <th>RS</th>\n",
              "      <td>326692.0</td>\n",
              "    </tr>\n",
              "    <tr>\n",
              "      <th>SC</th>\n",
              "      <td>40000.0</td>\n",
              "    </tr>\n",
              "    <tr>\n",
              "      <th>SE</th>\n",
              "      <td>5000.0</td>\n",
              "    </tr>\n",
              "    <tr>\n",
              "      <th>SP</th>\n",
              "      <td>7749148.0</td>\n",
              "    </tr>\n",
              "    <tr>\n",
              "      <th>TO</th>\n",
              "      <td>16000.0</td>\n",
              "    </tr>\n",
              "  </tbody>\n",
              "</table>\n",
              "</div>"
            ],
            "text/plain": [
              "       loan_amount\n",
              "state             \n",
              "AM        126300.0\n",
              "BA        210556.0\n",
              "CE        156750.0\n",
              "DF        734260.0\n",
              "ES         18000.0\n",
              "GO         87500.0\n",
              "MA         12000.0\n",
              "MG        826423.0\n",
              "MS         93900.0\n",
              "PA         13000.0\n",
              "PB         54000.0\n",
              "PE        337900.0\n",
              "PR        709813.0\n",
              "RJ        653660.0\n",
              "RN         69194.0\n",
              "RS        326692.0\n",
              "SC         40000.0\n",
              "SE          5000.0\n",
              "SP       7749148.0\n",
              "TO         16000.0"
            ]
          },
          "metadata": {
            "tags": []
          },
          "execution_count": 62
        }
      ]
    },
    {
      "cell_type": "code",
      "metadata": {
        "id": "at4skj5izsCP",
        "colab_type": "code",
        "colab": {
          "base_uri": "https://localhost:8080/",
          "height": 70
        },
        "outputId": "2cd054b8-7ac0-4789-e883-c3928c15fb93"
      },
      "source": [
        "#cpf limpo, não tem carro, não recebe salário\n",
        "X_1 = 'cpf_restriction'\n",
        "X_2 = 'car'\n",
        "X_3 = 'salary'\n",
        "X_000 = df[(df[X_1]==0) & (df[X_2]==0) & (df[X_3]==0)]\n",
        "print(X_000.shape)\n",
        "X_000['operation_status'].value_counts()"
      ],
      "execution_count": null,
      "outputs": [
        {
          "output_type": "stream",
          "text": [
            "(202, 20)\n"
          ],
          "name": "stdout"
        },
        {
          "output_type": "execute_result",
          "data": {
            "text/plain": [
              "no_closed    202\n",
              "Name: operation_status, dtype: int64"
            ]
          },
          "metadata": {
            "tags": []
          },
          "execution_count": 140
        }
      ]
    },
    {
      "cell_type": "code",
      "metadata": {
        "id": "k5jZ1NeB0eAK",
        "colab_type": "code",
        "colab": {
          "base_uri": "https://localhost:8080/",
          "height": 70
        },
        "outputId": "5c327122-c9de-46ba-8938-0345338d7419"
      },
      "source": [
        "#cpf sujo, não tem carro, não recebe salário\n",
        "X_100 = df[(df[X_1]==1) & (df[X_2]==0) & (df[X_3]==0)]\n",
        "print(X_100.shape)\n",
        "X_100['operation_status'].value_counts()"
      ],
      "execution_count": null,
      "outputs": [
        {
          "output_type": "stream",
          "text": [
            "(26, 20)\n"
          ],
          "name": "stdout"
        },
        {
          "output_type": "execute_result",
          "data": {
            "text/plain": [
              "no_closed    26\n",
              "Name: operation_status, dtype: int64"
            ]
          },
          "metadata": {
            "tags": []
          },
          "execution_count": 141
        }
      ]
    },
    {
      "cell_type": "code",
      "metadata": {
        "id": "8LvKBPX_1EtZ",
        "colab_type": "code",
        "colab": {
          "base_uri": "https://localhost:8080/",
          "height": 105
        },
        "outputId": "11f96217-1bdd-4f5b-cdeb-45f6179d20d7"
      },
      "source": [
        "#cpf limpo, tem carro, não recebe salário\n",
        "X_010 = df[(df[X_1]==0) & (df[X_2]==1) & (df[X_3]==0)]\n",
        "print(X_010.shape)\n",
        "X_010['operation_status'].value_counts()"
      ],
      "execution_count": null,
      "outputs": [
        {
          "output_type": "stream",
          "text": [
            "(189, 20)\n"
          ],
          "name": "stdout"
        },
        {
          "output_type": "execute_result",
          "data": {
            "text/plain": [
              "no_closed    168\n",
              "ongoing       15\n",
              "closed         6\n",
              "Name: operation_status, dtype: int64"
            ]
          },
          "metadata": {
            "tags": []
          },
          "execution_count": 142
        }
      ]
    },
    {
      "cell_type": "code",
      "metadata": {
        "id": "TEO_YnaG1OuZ",
        "colab_type": "code",
        "colab": {
          "base_uri": "https://localhost:8080/",
          "height": 52
        },
        "outputId": "49f69bfe-705e-4eda-9f1d-48c1fe2abd98"
      },
      "source": [
        "#cpf limpo, não tem carro, recebe salário\n",
        "X_001 = df[(df[X_1]==0) & (df[X_2]==0) & (df[X_3]==1)]\n",
        "print(X_001.shape)\n",
        "X_001['operation_status'].value_counts()"
      ],
      "execution_count": null,
      "outputs": [
        {
          "output_type": "stream",
          "text": [
            "(0, 20)\n"
          ],
          "name": "stdout"
        },
        {
          "output_type": "execute_result",
          "data": {
            "text/plain": [
              "Series([], Name: operation_status, dtype: int64)"
            ]
          },
          "metadata": {
            "tags": []
          },
          "execution_count": 143
        }
      ]
    },
    {
      "cell_type": "code",
      "metadata": {
        "id": "qG8RjLV81zy4",
        "colab_type": "code",
        "colab": {
          "base_uri": "https://localhost:8080/",
          "height": 123
        },
        "outputId": "7071deb6-2cee-4126-c2bc-7e0a0fb99ead"
      },
      "source": [
        "#cpf limpo, tem carro, recebe salário\n",
        "X_011 = df[(df[X_1]==0) & (df[X_2]==1) & (df[X_3]==1)]\n",
        "print(X_011.shape)\n",
        "print(X_011['operation_status'].value_counts())\n",
        "X_011['loan_amount'].sum()"
      ],
      "execution_count": null,
      "outputs": [
        {
          "output_type": "stream",
          "text": [
            "(25956, 20)\n",
            "no_closed    23509\n",
            "ongoing       1883\n",
            "closed         564\n",
            "Name: operation_status, dtype: int64\n"
          ],
          "name": "stdout"
        },
        {
          "output_type": "execute_result",
          "data": {
            "text/plain": [
              "313096534.0"
            ]
          },
          "metadata": {
            "tags": []
          },
          "execution_count": 160
        }
      ]
    },
    {
      "cell_type": "code",
      "metadata": {
        "id": "Bm-PDrI-2OwR",
        "colab_type": "code",
        "colab": {
          "base_uri": "https://localhost:8080/",
          "height": 70
        },
        "outputId": "0bb51f92-4a66-49bb-8d1f-b5223c2891fe"
      },
      "source": [
        "#cpf sujo, não tem carro, recebe salário\n",
        "X_101 = df[(df[X_1]==1) & (df[X_2]==0) & (df[X_3]==1)]\n",
        "print(X_101.shape)\n",
        "X_101['operation_status'].value_counts()"
      ],
      "execution_count": null,
      "outputs": [
        {
          "output_type": "stream",
          "text": [
            "(13, 20)\n"
          ],
          "name": "stdout"
        },
        {
          "output_type": "execute_result",
          "data": {
            "text/plain": [
              "no_closed    13\n",
              "Name: operation_status, dtype: int64"
            ]
          },
          "metadata": {
            "tags": []
          },
          "execution_count": 146
        }
      ]
    },
    {
      "cell_type": "code",
      "metadata": {
        "id": "VPA0yvt92_Fq",
        "colab_type": "code",
        "colab": {
          "base_uri": "https://localhost:8080/",
          "height": 70
        },
        "outputId": "57ebad90-d892-4e8b-b54f-146c69abfd35"
      },
      "source": [
        "#cpf sujo, tem carro, não recebe salário\n",
        "X_110 = df[(df[X_1]==1) & (df[X_2]==1) & (df[X_3]==0)]\n",
        "print(X_110.shape)\n",
        "X_110['operation_status'].value_counts()"
      ],
      "execution_count": null,
      "outputs": [
        {
          "output_type": "stream",
          "text": [
            "(348, 20)\n"
          ],
          "name": "stdout"
        },
        {
          "output_type": "execute_result",
          "data": {
            "text/plain": [
              "no_closed    348\n",
              "Name: operation_status, dtype: int64"
            ]
          },
          "metadata": {
            "tags": []
          },
          "execution_count": 147
        }
      ]
    },
    {
      "cell_type": "code",
      "metadata": {
        "id": "khM0fNWS3Pbp",
        "colab_type": "code",
        "colab": {
          "base_uri": "https://localhost:8080/",
          "height": 105
        },
        "outputId": "dd666ce3-8bb5-4823-e0a8-0a95f882bdb7"
      },
      "source": [
        "#cpf sujo, tem carro, recebe salário\n",
        "X_111 = df[(df[X_1]==1) & (df[X_2]==1) & (df[X_3]==1)]\n",
        "print(X_111.shape)\n",
        "X_111['operation_status'].value_counts()"
      ],
      "execution_count": null,
      "outputs": [
        {
          "output_type": "stream",
          "text": [
            "(30448, 20)\n"
          ],
          "name": "stdout"
        },
        {
          "output_type": "execute_result",
          "data": {
            "text/plain": [
              "no_closed    30045\n",
              "ongoing        334\n",
              "closed          69\n",
              "Name: operation_status, dtype: int64"
            ]
          },
          "metadata": {
            "tags": []
          },
          "execution_count": 148
        }
      ]
    },
    {
      "cell_type": "code",
      "metadata": {
        "id": "IyIDlm0R3edZ",
        "colab_type": "code",
        "colab": {
          "base_uri": "https://localhost:8080/",
          "height": 34
        },
        "outputId": "9ba16003-d8d6-47af-e673-ffbd9f22c462"
      },
      "source": [
        "6/189"
      ],
      "execution_count": null,
      "outputs": [
        {
          "output_type": "execute_result",
          "data": {
            "text/plain": [
              "0.031746031746031744"
            ]
          },
          "metadata": {
            "tags": []
          },
          "execution_count": 149
        }
      ]
    },
    {
      "cell_type": "code",
      "metadata": {
        "id": "iYy7rjN03lFK",
        "colab_type": "code",
        "colab": {
          "base_uri": "https://localhost:8080/",
          "height": 34
        },
        "outputId": "46fd8aad-58cf-47dc-fcce-e688f595cf2a"
      },
      "source": [
        "564/25956"
      ],
      "execution_count": null,
      "outputs": [
        {
          "output_type": "execute_result",
          "data": {
            "text/plain": [
              "0.021729079981507166"
            ]
          },
          "metadata": {
            "tags": []
          },
          "execution_count": 150
        }
      ]
    },
    {
      "cell_type": "code",
      "metadata": {
        "id": "1XU3yv-B3rg5",
        "colab_type": "code",
        "colab": {
          "base_uri": "https://localhost:8080/",
          "height": 34
        },
        "outputId": "e36a58e3-7a6c-4cc6-a222-0245a763c2b2"
      },
      "source": [
        "69/30448"
      ],
      "execution_count": null,
      "outputs": [
        {
          "output_type": "execute_result",
          "data": {
            "text/plain": [
              "0.002266158696794535"
            ]
          },
          "metadata": {
            "tags": []
          },
          "execution_count": 151
        }
      ]
    },
    {
      "cell_type": "code",
      "metadata": {
        "id": "LNcEpUAt3y-p",
        "colab_type": "code",
        "colab": {
          "base_uri": "https://localhost:8080/",
          "height": 34
        },
        "outputId": "bcff2738-9b36-477e-db18-3f9d689a1404"
      },
      "source": [
        "#cpf sujo, tem carro,  não recebe salário\n",
        "X = df[df[X_2]==1]\n",
        "X['loan_amount'].mean()"
      ],
      "execution_count": null,
      "outputs": [
        {
          "output_type": "execute_result",
          "data": {
            "text/plain": [
              "12757.624769498252"
            ]
          },
          "metadata": {
            "tags": []
          },
          "execution_count": 164
        }
      ]
    },
    {
      "cell_type": "code",
      "metadata": {
        "id": "IVjCZEEa7fhE",
        "colab_type": "code",
        "colab": {
          "base_uri": "https://localhost:8080/",
          "height": 87
        },
        "outputId": "9c76761f-3e87-4350-bd9d-a65b538b4bae"
      },
      "source": [
        "X[X[X_1] == 0]['operation_status'].value_counts() "
      ],
      "execution_count": null,
      "outputs": [
        {
          "output_type": "execute_result",
          "data": {
            "text/plain": [
              "no_closed    23677\n",
              "ongoing       1898\n",
              "closed         570\n",
              "Name: operation_status, dtype: int64"
            ]
          },
          "metadata": {
            "tags": []
          },
          "execution_count": 159
        }
      ]
    },
    {
      "cell_type": "code",
      "metadata": {
        "id": "0pkMEtst7gOz",
        "colab_type": "code",
        "colab": {}
      },
      "source": [
        "p = 639/56941"
      ],
      "execution_count": null,
      "outputs": []
    },
    {
      "cell_type": "code",
      "metadata": {
        "id": "scMpnT_E8PE6",
        "colab_type": "code",
        "colab": {
          "base_uri": "https://localhost:8080/",
          "height": 34
        },
        "outputId": "afc970e6-9fe8-4c55-d13f-efca6c99b90c"
      },
      "source": [
        "(X['loan_amount'].mean())*p - 10"
      ],
      "execution_count": null,
      "outputs": [
        {
          "output_type": "execute_result",
          "data": {
            "text/plain": [
              "133.1678795193162"
            ]
          },
          "metadata": {
            "tags": []
          },
          "execution_count": 170
        }
      ]
    },
    {
      "cell_type": "code",
      "metadata": {
        "id": "LHUcVm3I_AjK",
        "colab_type": "code",
        "colab": {
          "base_uri": "https://localhost:8080/",
          "height": 87
        },
        "outputId": "8a344a3b-f13e-4532-db1e-610d4c8399dc"
      },
      "source": [
        "X = df[(df[X_2]==1)&(df[X_3]==1)]\n",
        "X['operation_status'].value_counts()"
      ],
      "execution_count": null,
      "outputs": [
        {
          "output_type": "execute_result",
          "data": {
            "text/plain": [
              "no_closed    53554\n",
              "ongoing       2217\n",
              "closed         633\n",
              "Name: operation_status, dtype: int64"
            ]
          },
          "metadata": {
            "tags": []
          },
          "execution_count": 173
        }
      ]
    },
    {
      "cell_type": "code",
      "metadata": {
        "id": "azcZSrhuAYAz",
        "colab_type": "code",
        "colab": {
          "base_uri": "https://localhost:8080/",
          "height": 34
        },
        "outputId": "17dd9ee4-7027-46d5-b558-ae291d6d03bc"
      },
      "source": [
        "639/57182"
      ],
      "execution_count": null,
      "outputs": [
        {
          "output_type": "execute_result",
          "data": {
            "text/plain": [
              "0.011174845231016754"
            ]
          },
          "metadata": {
            "tags": []
          },
          "execution_count": 174
        }
      ]
    },
    {
      "cell_type": "code",
      "metadata": {
        "id": "GW38rQErE3Br",
        "colab_type": "code",
        "colab": {}
      },
      "source": [
        ""
      ],
      "execution_count": null,
      "outputs": []
    }
  ]
}